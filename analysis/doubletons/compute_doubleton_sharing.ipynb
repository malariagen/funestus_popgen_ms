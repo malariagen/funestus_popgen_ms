{
 "cells": [
  {
   "cell_type": "code",
   "execution_count": 1,
   "id": "25e901eb-e1ab-4fc8-9ac3-3148a8167805",
   "metadata": {},
   "outputs": [],
   "source": [
    "#Load modules\n",
    "import zarr\n",
    "import os\n",
    "import pandas as pd\n",
    "import numpy as np\n",
    "import matplotlib.pyplot as plt\n",
    "%matplotlib inline\n",
    "import seaborn as sns\n",
    "import yaml\n",
    "from pathlib import Path\n",
    "import allel\n",
    "\n",
    "from dask.distributed import Client\n",
    "import dask\n",
    "dask.config.set(**{'array.slicing.split_large_chunks': False}) # Silence large chunk warnings\n",
    "import dask.array as da\n",
    "from dask import delayed, compute\n",
    "from dask_gateway import Gateway\n",
    "import functools\n",
    "import numcodecs\n",
    "from fsspec.implementations.zip import ZipFileSystem\n",
    "from collections.abc import Mapping\n",
    "import gcsfs\n",
    "import numba\n",
    "import psutil\n",
    "from humanize import naturalsize\n",
    "\n",
    "import pickle\n",
    "import platform\n",
    "\n",
    "import traceback\n",
    "import logging\n",
    "\n",
    "from pyprojroot import here\n",
    "from bokeh.plotting import *\n",
    "import plotly.express as px\n",
    "import plotly.graph_objects as go\n",
    "from plotly.validators.scatter.marker import SymbolValidator"
   ]
  },
  {
   "cell_type": "markdown",
   "id": "fd01f658-cc9d-4af9-ad17-e7256258ea9d",
   "metadata": {},
   "source": [
    "### Connect to gcs"
   ]
  },
  {
   "cell_type": "code",
   "execution_count": 2,
   "id": "5112507b-08d0-49a3-b46f-39b9d70e1368",
   "metadata": {},
   "outputs": [
    {
     "name": "stderr",
     "output_type": "stream",
     "text": [
      "/home/conda/global/60d1d102327c6b963c52da1c248570d56dc2ebf066625a421ba924078e5d2fa7-20230228-170115-620472-19-binder-4.3.0/lib/python3.10/site-packages/google/auth/_default.py:83: UserWarning: Your application has authenticated using end user credentials from Google Cloud SDK without a quota project. You might receive a \"quota exceeded\" or \"API not enabled\" error. We recommend you rerun `gcloud auth application-default login` and make sure a quota project is added. Or you can use service accounts instead. For more information about service accounts, see https://cloud.google.com/docs/authentication/\n",
      "  warnings.warn(_CLOUD_SDK_CREDENTIALS_WARNING)\n"
     ]
    }
   ],
   "source": [
    "gcs = gcsfs.GCSFileSystem()"
   ]
  },
  {
   "cell_type": "code",
   "execution_count": 3,
   "id": "5ded9b92-0084-4456-a3e2-0326f4cc6a81",
   "metadata": {},
   "outputs": [
    {
     "data": {
      "text/plain": [
       "['vo_afun_release/reference',\n",
       " 'vo_afun_release/v1.0',\n",
       " 'vo_afun_release/v1.0-config.json']"
      ]
     },
     "execution_count": 3,
     "metadata": {},
     "output_type": "execute_result"
    }
   ],
   "source": [
    "gcs.ls('vo_afun_release')[:3]"
   ]
  },
  {
   "cell_type": "markdown",
   "id": "0907e16c-1cdf-4d00-9bd9-e3b1af2f0a76",
   "metadata": {},
   "source": [
    "### Set up data access"
   ]
  },
  {
   "cell_type": "code",
   "execution_count": 4,
   "id": "a0d00d95-8fb0-4d58-8f5d-20fa741d493a",
   "metadata": {},
   "outputs": [],
   "source": [
    "production_root = Path('vo_afun_release')\n",
    "vo_afun_staging = Path(production_root, 'v1.0')\n",
    "sampleset_staging_dir = Path(vo_afun_staging, 'snp_genotypes', 'all')\n",
    "\n",
    "#Decision tree or static filters\n",
    "genomic_positions_site_filter_dt_data_cloud_zarr_dir = 'vo_afun_release/v1.0/site_filters/dt_20200416/funestus'\n",
    "genomic_positions_site_filter_sc_data_cloud_zarr_dir = 'vo_afun_release/v1.0/site_filters/sc_20220908/funestus'\n",
    "\n",
    "repo_clone_path = here()\n",
    "release_config_path = repo_clone_path / 'tracking' / 'release' / 'v1.0' / 'config.yml'\n",
    "\n",
    "with open(release_config_path) as fh:\n",
    "    config = yaml.load(fh, Loader=yaml.BaseLoader)\n",
    "    \n",
    "samplesets = config[\"sample_sets\"]\n",
    "#Remove the sample set with no sample\n",
    "samplesets.remove(\"1242-VO-KE-TCHOUASSI-VMF00082\")"
   ]
  },
  {
   "cell_type": "code",
   "execution_count": 5,
   "id": "938e6748-a8fc-4b4a-b5d4-72b118c25b45",
   "metadata": {},
   "outputs": [
    {
     "data": {
      "text/plain": [
       "Index(['sample_id', 'geographic_cohort', 'geographic_cohort_colour',\n",
       "       'geographic_cohort_shape', 'PCA_cohort', 'PCA_cohort_colour',\n",
       "       'mitochondrial_id', 'karyotype_3La', 'karyotype_3Ra', 'karyotype_3Rb',\n",
       "       'karyotype_2Ra', 'karyotype_2Rh', 'median_coverage'],\n",
       "      dtype='object')"
      ]
     },
     "execution_count": 5,
     "metadata": {},
     "output_type": "execute_result"
    }
   ],
   "source": [
    "meta = pd.read_csv(\"../../metadata/supp1.csv\")\n",
    "meta.columns"
   ]
  },
  {
   "cell_type": "markdown",
   "id": "b1d3e46c-3855-42e8-8155-95a02f51a28b",
   "metadata": {},
   "source": [
    "### Functions"
   ]
  },
  {
   "cell_type": "code",
   "execution_count": 6,
   "id": "ebd35940-21f0-4fe9-ab8f-403d169fed3c",
   "metadata": {},
   "outputs": [],
   "source": [
    "# load a single array from field/chrom/sampleset\n",
    "# internal path for calldata is chrom/calldata/field\n",
    "# sampleset_calldata = sampleset_staging_dir / sset\n",
    "# sampleset is needed to load species spec.\n",
    "def load_single_field(zarr_path, internal_path, sset, exclude_males=False, samples=None):\n",
    "      \n",
    "    inz = zarr.group(is_gcloud(zarr_path), overwrite=False)\n",
    "    \n",
    "    oo = da.from_zarr(inz[internal_path])  \n",
    "    \n",
    "    if oo.ndim == 1:\n",
    "        oo = oo.reshape((1, -1))\n",
    "           \n",
    "    return oo"
   ]
  },
  {
   "cell_type": "code",
   "execution_count": 7,
   "id": "8a2d87e7-e90f-4ecc-8975-f89686b5ace2",
   "metadata": {},
   "outputs": [],
   "source": [
    "## General function to concatenate data.\n",
    "## Selected chunk size may be more appropriate for some than others.\n",
    "def concatenate_along_axis(base_dir, internal_path, req_samplesets):\n",
    "    \n",
    "    # work out shape\n",
    "    data = [load_single_field(base_dir / ss, internal_path, ss) for ss in req_samplesets]\n",
    "    \n",
    "    return da.concatenate(data, axis=1)"
   ]
  },
  {
   "cell_type": "code",
   "execution_count": 8,
   "id": "4af0f368-c3e5-4b4e-9481-f42730b63708",
   "metadata": {},
   "outputs": [],
   "source": [
    "def is_gcloud(path):\n",
    "    \n",
    "    try: \n",
    "        return gcs.get_mapper(path.as_posix())\n",
    "    except NameError as e:\n",
    "        return path.as_posix()"
   ]
  },
  {
   "cell_type": "code",
   "execution_count": 9,
   "id": "ed9ffc83-6894-4577-9ca3-a6ed36553fb0",
   "metadata": {},
   "outputs": [],
   "source": [
    "def load_filter(chrom, filter_dir = genomic_positions_site_filter_sc_data_cloud_zarr_dir):\n",
    "    gcsmap = gcs.get_mapper(filter_dir)\n",
    "    genomic_positions_site_filter_data = zarr.Group(gcsmap, read_only=True)\n",
    "    filter_pass = da.from_zarr(\n",
    "            genomic_positions_site_filter_data[chrom]['variants/filter_pass'])\n",
    "    return filter_pass"
   ]
  },
  {
   "cell_type": "code",
   "execution_count": 10,
   "id": "e30bca2e-58e4-4d13-bb07-38a08b23706a",
   "metadata": {
    "tags": []
   },
   "outputs": [],
   "source": [
    "def load_position(chrom):\n",
    "    store = gcs.get_mapper(\n",
    "        f'gs://vo_afun_release/v1.0/snp_genotypes/all/sites')\n",
    "    root = zarr.open(store, mode='r')\n",
    "    pos = root[chrom]['variants/POS'][:]\n",
    "    return pos"
   ]
  },
  {
   "cell_type": "code",
   "execution_count": 11,
   "id": "102d82b6-f549-43e6-ba9b-392c3204a216",
   "metadata": {},
   "outputs": [],
   "source": [
    "def read_in_genotypes_positions(chrom, samples_idx, samplesets, posl, posu, \\\n",
    "                                filter_dir = genomic_positions_site_filter_sc_data_cloud_zarr_dir):\n",
    "\n",
    "    # load the genotypes and positions\n",
    "    gt_d = concatenate_along_axis(sampleset_staging_dir, f\"{chrom}/calldata/GT\", samplesets)\n",
    "    gt = allel.GenotypeDaskArray(gt_d)\n",
    "    pos = load_position(chrom)\n",
    "    \n",
    "    if posu==-1:\n",
    "        posu = pos.max()+1\n",
    "        \n",
    "    if posl==-1:\n",
    "        posl = pos.min()\n",
    "    \n",
    "    #load the filter\n",
    "    loc_filt = load_filter(chrom, filter_dir)\n",
    "    \n",
    "    #filter by positions\n",
    "    pos_filt = (pos>=posl) & (pos<posu)\n",
    "    \n",
    "    #apply the filter to positions and genotypes\n",
    "    gt = gt.compress((loc_filt) & (pos_filt), axis=0)\n",
    "    pos = pos[(loc_filt) & (pos_filt)]\n",
    "    \n",
    "    #subset to desired samples \n",
    "    gt = da.take(gt, samples_idx, axis=1)\n",
    "    \n",
    "    \n",
    "    return gt, pos"
   ]
  },
  {
   "cell_type": "code",
   "execution_count": 12,
   "id": "5860bedf-20e3-48bb-971d-f862222118bf",
   "metadata": {
    "tags": []
   },
   "outputs": [],
   "source": [
    "def read_in_genotypes_at_doubleton_positions(chrom, doubleton_pos, samples_idx, samplesets, \\\n",
    "                                filter_dir = genomic_positions_site_filter_sc_data_cloud_zarr_dir):\n",
    "\n",
    "    # load the genotypes and positions\n",
    "    gt_d = concatenate_along_axis(sampleset_staging_dir, f\"{chrom}/calldata/GT\", samplesets)\n",
    "    gt = allel.GenotypeDaskArray(gt_d)\n",
    "    pos = load_position(chrom)\n",
    "    \n",
    "    #filter by positions\n",
    "    pos_filt = np.isin(pos, doubleton_pos)\n",
    "    \n",
    "    #apply the filter to positions and genotypes\n",
    "    gt = gt.compress((pos_filt), axis=0)\n",
    "    \n",
    "    #subset to desired samples \n",
    "    gt = da.take(gt, samples_idx, axis=1)\n",
    "    \n",
    "    \n",
    "    return gt"
   ]
  },
  {
   "cell_type": "code",
   "execution_count": 13,
   "id": "cbc3cfa8-7444-44e8-8835-5f24faab3978",
   "metadata": {
    "tags": []
   },
   "outputs": [],
   "source": [
    "def identify_doubletons_rf(chrom, samples_idx, posl, posu, samplesets):\n",
    "    \n",
    "    gt, pos = read_in_genotypes_positions(chrom, samples_idx, samplesets, posl, posu)\n",
    "    \n",
    "    #count allles\n",
    "    ac = gt.count_alleles(max_allele=3)\n",
    "    \n",
    "    #identify at which sites there are doubletons\n",
    "    doubleton_sites = (ac==2).any(axis=1)\n",
    "    \n",
    "    gt_doub = gt.compress(doubleton_sites, axis=0)\n",
    "    \n",
    "    return gt_doub\n",
    "    \n",
    "    "
   ]
  },
  {
   "cell_type": "code",
   "execution_count": 14,
   "id": "da38f0ed-5266-44b9-9bef-61452ebd39b4",
   "metadata": {
    "tags": []
   },
   "outputs": [],
   "source": [
    "def identify_doubletons_chrom(chrom, chromname, samples_idx, samplesets, posmin, posmax, reading_frame_size):\n",
    "    if posmax == -1:\n",
    "        posmax = load_position(chrom).max()\n",
    "        \n",
    "    rf_start = posmin\n",
    "    rf_end = min(rf_start + reading_frame_size, posmax)\n",
    "    gt_doub = identify_doubletons_rf(chrom, samples_idx, rf_start, rf_end, samplesets)\n",
    "    rf_start += reading_frame_size\n",
    "    while rf_end < posmax:\n",
    "        rf_end = min(rf_start + reading_frame_size, posmax)\n",
    "        gt_doub_rf = identify_doubletons_rf(chrom, samples_idx, rf_start, rf_end, \\\n",
    "                                    samplesets=samplesets)\n",
    "        gt_doub = gt_doub.concatenate([gt_doub_rf], axis=0)\n",
    "        rf_start += reading_frame_size\n",
    "        #print(f'identified {gt_doub.shape[0]} doubleton sites up to position {rf_end}')\n",
    "        \n",
    "    return  gt_doub\n"
   ]
  },
  {
   "cell_type": "code",
   "execution_count": 15,
   "id": "035e1b4e-f697-4382-ae3b-e8c2ffe3c388",
   "metadata": {
    "tags": []
   },
   "outputs": [],
   "source": [
    "def count_shared_doubletons(chrom, gt_doub, popdict, cohorts):\n",
    "    \n",
    "    #count alleles at doubleton sites\n",
    "    ac = gt_doub.count_alleles(max_allele=3)\n",
    "    print('finished counting alleles at doubleton sites')\n",
    "    \n",
    "    doubleton_counts = np.zeros((len(cohorts), len(cohorts)))\n",
    "    \n",
    "    #loop through alleles\n",
    "    for allele in np.arange(4):\n",
    "        doub = (ac[:,allele]==2)\n",
    "        #count alleles per cohort for sites with a doubleton at appropriate allele\n",
    "        gt_doub_allele = gt_doub.compress(doub, axis=0)\n",
    "        print(f'determined {gt_doub_allele.shape[0]} sites where allele {allele} is doubleton')\n",
    "        ac_subpop = gt_doub_allele.count_alleles_subpops(popdict, max_allele=3)\n",
    "        #count doubletons for each pair of cohorts\n",
    "        for r, cohort1 in enumerate(cohorts[:-1]):\n",
    "            #count doubletons shared within the cohort \n",
    "            doubleton_counts[r,r] += (ac_subpop[cohort1][:,allele]==2).sum().compute()\n",
    "            #count doubletons shared with every other cohort\n",
    "            for c, cohort2 in enumerate(cohorts[r+1:]):\n",
    "                doubleton_counts[r,r+1+c] += ((ac_subpop[cohort1][:,allele]==1) & \n",
    "                                         (ac_subpop[cohort2][:,allele]==1)).sum().compute()\n",
    "        r+=1\n",
    "        doubleton_counts[r,r] += (ac_subpop[cohorts[-1]][:,allele]==2).sum().compute()\n",
    "        print(f'allele {allele} done')\n",
    "        \n",
    "    return doubleton_counts\n",
    "    \n",
    "    "
   ]
  },
  {
   "cell_type": "code",
   "execution_count": 16,
   "id": "fdb929c0-14fe-48fa-8f67-b8150f76d21a",
   "metadata": {
    "tags": []
   },
   "outputs": [],
   "source": [
    "def compute_shared_doubletons(chrom, chromname, cohorts, meta, outdir, posmin=-1, posmax=-1, samplesets=samplesets, \\\n",
    "                          reading_frame_size=15_000_000):\n",
    "    \n",
    "    samples_idx = meta.loc[meta.subset_3=='Y'].index\n",
    "    meta = meta.loc[samples_idx].reset_index(drop=True)\n",
    "    popdict = dict()\n",
    "    for cohort in cohorts:\n",
    "        popdict[cohort] = meta.loc[meta.geographic_cohort==cohort].index\n",
    "    \n",
    "    gt_doub = identify_doubletons_chrom(chrom, chromname, samples_idx, samplesets, \\\n",
    "                                              posmin, posmax, reading_frame_size) \n",
    "    print(f'identified {gt_doub.shape[0]} doubleton sites on {chromname}')\n",
    "    doubleton_counts = count_shared_doubletons(chrom, gt_doub, popdict, cohorts)\n",
    "    pd.DataFrame(doubleton_counts, index=cohorts, columns=cohorts).to_csv(f'{outdir}/doubletons_{chromname}.tsv', sep='\\t')\n",
    "    \n",
    "    return doubleton_counts\n",
    "        \n",
    "    "
   ]
  },
  {
   "cell_type": "code",
   "execution_count": 17,
   "id": "8fbf678f-ea73-45ed-acef-9d086468808c",
   "metadata": {
    "tags": []
   },
   "outputs": [
    {
     "data": {
      "text/plain": [
       "Index(['sample_id', 'geographic_cohort', 'geographic_cohort_colour',\n",
       "       'geographic_cohort_shape', 'PCA_cohort', 'PCA_cohort_colour',\n",
       "       'mitochondrial_id', 'karyotype_3La', 'karyotype_3Ra', 'karyotype_3Rb',\n",
       "       'karyotype_2Ra', 'karyotype_2Rh', 'median_coverage'],\n",
       "      dtype='object')"
      ]
     },
     "execution_count": 17,
     "metadata": {},
     "output_type": "execute_result"
    }
   ],
   "source": [
    "meta.columns"
   ]
  },
  {
   "cell_type": "code",
   "execution_count": 18,
   "id": "68bab360-4f94-4948-a92f-f9c0ef5939de",
   "metadata": {
    "collapsed": true,
    "jupyter": {
     "outputs_hidden": true
    },
    "tags": []
   },
   "outputs": [
    {
     "data": {
      "text/plain": [
       "array(['VBS24195', 'VBS24199', 'VBS24225', 'VBS24201', 'VBS24218',\n",
       "       'VBS24240', 'VBS24202', 'VBS24233', 'VBS24196', 'VBS24242',\n",
       "       'VBS24213', 'VBS24236', 'VBS24227', 'VBS24216', 'VBS24230',\n",
       "       'VBS24232', 'VBS24234', 'VBS24231', 'VBS24239', 'VBS24200',\n",
       "       'VBS24197', 'VBS24203', 'VBS24222', 'VBS24235', 'VBS24226',\n",
       "       'VBS24204', 'VBS24243', 'VBS24238', 'VBS24228', 'VBS24229',\n",
       "       'VBS17757', 'VBS17756', 'VBS17759', 'VBS17761', 'VBS17755',\n",
       "       'VBS17735', 'VBS17733', 'VBS17766', 'VBS17762', 'VBS17753',\n",
       "       'VBS17740', 'VBS17750', 'VBS17746', 'VBS17742', 'VBS17747',\n",
       "       'VBS17749', 'VBS17764', 'VBS17765', 'VBS17763', 'VBS17737',\n",
       "       'VBS17754', 'VBS17758', 'VBS17768', 'VBS17734', 'VBS17760',\n",
       "       'VBS17752', 'VBS17732', 'VBS17743', 'VBS17745', 'VBS17751',\n",
       "       'VBS17196', 'VBS17206', 'VBS17239', 'VBS17222', 'VBS17236',\n",
       "       'VBS17235', 'VBS17214', 'VBS17205', 'VBS17220', 'VBS17203',\n",
       "       'VBS17197', 'VBS17192', 'VBS17215', 'VBS17212', 'VBS17218',\n",
       "       'VBS17199', 'VBS17231', 'VBS17190', 'VBS17229', 'VBS17230',\n",
       "       'VBS17238', 'VBS17234', 'VBS17193', 'VBS17224', 'VBS17226',\n",
       "       'VBS17200', 'VBS17221', 'VBS17217', 'VBS17202', 'VBS17216',\n",
       "       'VBS17253', 'VBS17286', 'VBS17247', 'VBS17250', 'VBS17278',\n",
       "       'VBS17248', 'VBS17256', 'VBS17242', 'VBS17249', 'VBS17270',\n",
       "       'VBS17282', 'VBS17244', 'VBS17267', 'VBS17288', 'VBS17240',\n",
       "       'VBS17241', 'VBS17245', 'VBS17255', 'VBS17275', 'VBS17289',\n",
       "       'VBS17243', 'VBS17251', 'VBS17258', 'VBS17246', 'VBS17252',\n",
       "       'VBS17265', 'VBS17273', 'VBS17277', 'VBS17259', 'VBS17283',\n",
       "       'VBS24126', 'VBS24164', 'VBS24176', 'VBS24118', 'VBS24135',\n",
       "       'VBS24129', 'VBS24187', 'VBS24181', 'VBS24130', 'VBS24141',\n",
       "       'VBS24147', 'VBS24191', 'VBS24165', 'VBS24184', 'VBS24119',\n",
       "       'VBS24128', 'VBS24174', 'VBS24132', 'VBS24193', 'VBS24125',\n",
       "       'VBS24185', 'VBS24143', 'VBS24138', 'VBS24167', 'VBS24120',\n",
       "       'VBS24173', 'VBS24168', 'VBS24182', 'VBS24171', 'VBS24188',\n",
       "       'VBS17443', 'VBS17419', 'VBS17395', 'VBS17414', 'VBS17418',\n",
       "       'VBS17408', 'VBS17428', 'VBS17410', 'VBS17404', 'VBS17396',\n",
       "       'VBS17437', 'VBS17409', 'VBS17421', 'VBS17420', 'VBS17399',\n",
       "       'VBS17432', 'VBS17405', 'VBS17398', 'VBS17439', 'VBS17406',\n",
       "       'VBS17413', 'VBS17425', 'VBS17402', 'VBS17424', 'VBS17423',\n",
       "       'VBS17394', 'VBS17407', 'VBS17436', 'VBS17435', 'VBS17411',\n",
       "       'VBS17457', 'VBS17469', 'VBS17473', 'VBS17484', 'VBS17453',\n",
       "       'VBS17476', 'VBS17483', 'VBS17454', 'VBS17489', 'VBS17465',\n",
       "       'VBS17452', 'VBS17470', 'VBS17451', 'VBS17474', 'VBS17455',\n",
       "       'VBS17477', 'VBS17472', 'VBS17480', 'VBS17467', 'VBS17471',\n",
       "       'VBS17475', 'VBS17468', 'VBS17481', 'VBS17462', 'VBS17456',\n",
       "       'VBS17460', 'VBS17486', 'VBS17478', 'VBS17459', 'VBS17458',\n",
       "       'VBS17495', 'VBS17534', 'VBS17509', 'VBS17496', 'VBS17506',\n",
       "       'VBS17527', 'VBS17517', 'VBS17505', 'VBS17520', 'VBS17522',\n",
       "       'VBS17499', 'VBS17529', 'VBS17490', 'VBS17514', 'VBS17491',\n",
       "       'VBS17512', 'VBS17515', 'VBS17516', 'VBS17528', 'VBS17526',\n",
       "       'VBS17502', 'VBS17523', 'VBS17497', 'VBS17508', 'VBS17494',\n",
       "       'VBS17511', 'VBS17492', 'VBS17524', 'VBS17503', 'VBS17532',\n",
       "       'VBS17580', 'VBS17554', 'VBS17571', 'VBS17563', 'VBS17561',\n",
       "       'VBS17556', 'VBS17564', 'VBS17573', 'VBS17575', 'VBS17565',\n",
       "       'VBS17566', 'VBS17562', 'VBS17553', 'VBS17574', 'VBS17582',\n",
       "       'VBS17550', 'VBS17570', 'VBS17549', 'VBS17546', 'VBS17577',\n",
       "       'VBS17557', 'VBS17581', 'VBS17547', 'VBS17568', 'VBS17555',\n",
       "       'VBS17552', 'VBS17576', 'VBS17551', 'VBS17567', 'VBS17545',\n",
       "       'VBS17592', 'VBS17586', 'VBS17620', 'VBS17594', 'VBS17615',\n",
       "       'VBS17628', 'VBS17601', 'VBS17598', 'VBS17609', 'VBS17619',\n",
       "       'VBS17630', 'VBS17605', 'VBS17600', 'VBS17629', 'VBS17607',\n",
       "       'VBS17618', 'VBS17627', 'VBS17624', 'VBS17597', 'VBS17603',\n",
       "       'VBS17585', 'VBS17625', 'VBS17608', 'VBS17604', 'VBS17602',\n",
       "       'VBS17606', 'VBS17599', 'VBS17623', 'VBS17616', 'VBS17610',\n",
       "       'VBS17642', 'VBS17676', 'VBS17680', 'VBS17660', 'VBS17681',\n",
       "       'VBS17692', 'VBS17697', 'VBS17636', 'VBS17648', 'VBS17699',\n",
       "       'VBS17690', 'VBS17722', 'VBS17725', 'VBS17685', 'VBS17686',\n",
       "       'VBS17691', 'VBS17695', 'VBS17687', 'VBS17693', 'VBS17698',\n",
       "       'VBS17654', 'VBS17635', 'VBS17726', 'VBS17696', 'VBS17666',\n",
       "       'VBS17665', 'VBS17653', 'VBS17694', 'VBS17683', 'VBS17638',\n",
       "       'VBS24432', 'VBS24434', 'VBS24435', 'VBS24424', 'VBS24431',\n",
       "       'VBS24416', 'VBS24426', 'VBS24427', 'VBS24430', 'VBS24433',\n",
       "       'VBS24417', 'VBS24429', 'VBS24397', 'VBS24414', 'VBS24425',\n",
       "       'VBS24401', 'VBS24428', 'VBS24403', 'VBS24402', 'VBS24390',\n",
       "       'VBS24413', 'VBS24409', 'VBS24420', 'VBS24423', 'VBS24421',\n",
       "       'VBS24406', 'VBS24412', 'VBS24393', 'VBS24410', 'VBS24389',\n",
       "       'VBS24514', 'VBS24521', 'VBS24534', 'VBS24509', 'VBS24510',\n",
       "       'VBS24518', 'VBS24527', 'VBS24519', 'VBS24525', 'VBS24536',\n",
       "       'VBS24531', 'VBS24522', 'VBS24532', 'VBS24517', 'VBS24524',\n",
       "       'VBS24535', 'VBS24512', 'VBS24507', 'VBS24499', 'VBS24516',\n",
       "       'VBS24529', 'VBS24523', 'VBS24493', 'VBS24515', 'VBS24539',\n",
       "       'VBS24492', 'VBS24537', 'VBS24489', 'VBS24513', 'VBS24520'],\n",
       "      dtype=object)"
      ]
     },
     "execution_count": 18,
     "metadata": {},
     "output_type": "execute_result"
    }
   ],
   "source": [
    "hic30 = pd.read_csv('../../meta/hicov_30_samples.csv', header=None)\n",
    "hic30 = hic30[0].values\n",
    "hic30"
   ]
  },
  {
   "cell_type": "markdown",
   "id": "dcc340e6-d6aa-420f-bb9a-95edd822b36e",
   "metadata": {},
   "source": [
    "### Set up dask cluster"
   ]
  },
  {
   "cell_type": "code",
   "execution_count": 25,
   "id": "bd257b6f-e8a7-4ea0-ac86-875ab39750a2",
   "metadata": {},
   "outputs": [
    {
     "data": {
      "text/plain": [
       "[ClusterReport<name=dev.cc530628979a4bd7950435ac155f99f2, status=RUNNING>]"
      ]
     },
     "execution_count": 25,
     "metadata": {},
     "output_type": "execute_result"
    }
   ],
   "source": [
    "gateway = Gateway()\n",
    "gateway.list_clusters()"
   ]
  },
  {
   "cell_type": "code",
   "execution_count": 20,
   "id": "7a362ed1-654d-4cc2-90ad-992ccb18dbd9",
   "metadata": {},
   "outputs": [
    {
     "data": {
      "application/vnd.jupyter.widget-view+json": {
       "model_id": "f8fb947ca702483fa7285991ccf291d3",
       "version_major": 2,
       "version_minor": 0
      },
      "text/plain": [
       "VBox(children=(HTML(value='<h2>GatewayCluster</h2>'), HBox(children=(HTML(value='\\n<div>\\n<style scoped>\\n    …"
      ]
     },
     "metadata": {},
     "output_type": "display_data"
    }
   ],
   "source": [
    "#gateway = Gateway()\n",
    "conda_prefix = os.environ[\"CONDA_PREFIX\"]\n",
    "current_environment = 'global/'+conda_prefix.split('/')[5]\n",
    "cluster = gateway.new_cluster(\n",
    "    profile='standard', \n",
    "    conda_environment = current_environment,\n",
    ")\n",
    "cluster"
   ]
  },
  {
   "cell_type": "code",
   "execution_count": 21,
   "id": "c3fcf660-b618-45aa-860e-a99aa3a865d8",
   "metadata": {},
   "outputs": [],
   "source": [
    "client=cluster.get_client()"
   ]
  },
  {
   "cell_type": "code",
   "execution_count": 22,
   "id": "6311c415-bbd9-4b32-8ef0-87c11afa668f",
   "metadata": {},
   "outputs": [],
   "source": [
    "cluster.scale(50)"
   ]
  },
  {
   "cell_type": "code",
   "execution_count": 23,
   "id": "cfc2a2b8-049f-4e92-a637-0227f44444bc",
   "metadata": {
    "tags": []
   },
   "outputs": [],
   "source": [
    "cohorts = ['Ghana_Northern-Region', 'Benin_Atlantique-Dept', 'Ghana_Ashanti-Region', \n",
    "                   'Nigeria_Ogun-State', 'Cameroon_Adamawa', 'CAR_Ombella-MPoko',\n",
    "                   'DRC_Haut-Uele', 'Uganda_Eastern-Region', 'Kenya_Western-Prov', \n",
    "                   'Kenya_Nyanza-Prov', 'Gabon_Haut-Ogooue', 'DRC_Kinshasa',\n",
    "                   'Tanzania_Morogoro-Region', 'Mozambique_Cabo-Delgado', \n",
    "                   'Zambia_Eastern-Prov', 'Malawi_Southern-Region', 'Mozambique_Maputo']"
   ]
  },
  {
   "cell_type": "code",
   "execution_count": 26,
   "id": "09b91ecd-b0f8-427e-a02e-f69d15e66a46",
   "metadata": {
    "tags": []
   },
   "outputs": [
    {
     "name": "stdout",
     "output_type": "stream",
     "text": [
      "identified 1079777 doubleton sites on 2R2\n",
      "finished counting alleles at doubleton sites\n",
      "determined 1121 sites where allele 0 is doubleton\n",
      "allele 0 done\n",
      "determined 398065 sites where allele 1 is doubleton\n",
      "allele 1 done\n",
      "determined 424807 sites where allele 2 is doubleton\n",
      "allele 2 done\n",
      "determined 277136 sites where allele 3 is doubleton\n",
      "allele 3 done\n"
     ]
    }
   ],
   "source": [
    "df2r = compute_shared_doubletons('2RL', '2R2', cohorts, meta, 'doubletons/hic30/', posmin = 29_000_000, posmax=57_350_000)"
   ]
  },
  {
   "cell_type": "code",
   "execution_count": 27,
   "id": "13520dcd-1f0c-4b55-a2e2-0dd984199174",
   "metadata": {
    "tags": []
   },
   "outputs": [
    {
     "data": {
      "text/plain": [
       "1101129.0"
      ]
     },
     "execution_count": 27,
     "metadata": {},
     "output_type": "execute_result"
    }
   ],
   "source": [
    "df2r.sum()"
   ]
  },
  {
   "cell_type": "code",
   "execution_count": 28,
   "id": "3d714679-4db0-499e-a665-4fc49994442b",
   "metadata": {
    "tags": []
   },
   "outputs": [
    {
     "name": "stdout",
     "output_type": "stream",
     "text": [
      "identified 1624993 doubleton sites on 2R1\n",
      "finished counting alleles at doubleton sites\n",
      "determined 1345 sites where allele 0 is doubleton\n",
      "allele 0 done\n",
      "determined 603563 sites where allele 1 is doubleton\n",
      "allele 1 done\n",
      "determined 642134 sites where allele 2 is doubleton\n",
      "allele 2 done\n",
      "determined 425578 sites where allele 3 is doubleton\n",
      "allele 3 done\n"
     ]
    }
   ],
   "source": [
    "df2r1 = compute_shared_doubletons('2RL', '2R1', cohorts, meta, 'doubletons/hic30/', posmax = 29_000_000)"
   ]
  },
  {
   "cell_type": "code",
   "execution_count": 29,
   "id": "6e55f4fb-1705-45bb-8c02-bf417460d9ab",
   "metadata": {
    "tags": []
   },
   "outputs": [
    {
     "data": {
      "text/plain": [
       "1672620.0"
      ]
     },
     "execution_count": 29,
     "metadata": {},
     "output_type": "execute_result"
    }
   ],
   "source": [
    "df2r1.sum()"
   ]
  },
  {
   "cell_type": "code",
   "execution_count": null,
   "id": "65af1e13-cd22-4862-af1c-6d8e10615ea9",
   "metadata": {
    "tags": []
   },
   "outputs": [
    {
     "name": "stdout",
     "output_type": "stream",
     "text": [
      "identified 2997380 doubleton sites on 2L\n",
      "finished counting alleles at doubleton sites\n",
      "determined 2321 sites where allele 0 is doubleton\n"
     ]
    }
   ],
   "source": [
    "df2l = compute_shared_doubletons('2RL', '2L', cohorts, meta, 'doubletons/hic30/', posmin = 57_350_000)"
   ]
  },
  {
   "cell_type": "code",
   "execution_count": null,
   "id": "77617803-680e-43cc-bf44-5373d09400f3",
   "metadata": {
    "tags": []
   },
   "outputs": [],
   "source": [
    "df2l.sum()"
   ]
  },
  {
   "cell_type": "code",
   "execution_count": 26,
   "id": "99774cbb-1070-4153-b43d-29c3c12e3627",
   "metadata": {
    "tags": []
   },
   "outputs": [
    {
     "name": "stdout",
     "output_type": "stream",
     "text": [
      "identified 2067676 doubleton sites on 3R\n",
      "finished counting alleles at doubleton sites\n",
      "determined 1645 sites where allele 0 is doubleton\n",
      "allele 0 done\n",
      "determined 765002 sites where allele 1 is doubleton\n",
      "allele 1 done\n",
      "determined 814761 sites where allele 2 is doubleton\n",
      "allele 2 done\n",
      "determined 537484 sites where allele 3 is doubleton\n",
      "allele 3 done\n"
     ]
    }
   ],
   "source": [
    "df3r = compute_shared_doubletons('3RL', '3R', cohorts, meta, 'doubletons/hic30/', posmax = 44_700_000)"
   ]
  },
  {
   "cell_type": "code",
   "execution_count": 27,
   "id": "d6ac9a93-9cd3-4a6f-b5bd-66ec99165191",
   "metadata": {
    "tags": []
   },
   "outputs": [
    {
     "data": {
      "text/plain": [
       "2118892.0"
      ]
     },
     "execution_count": 27,
     "metadata": {},
     "output_type": "execute_result"
    }
   ],
   "source": [
    "df3r.sum()"
   ]
  },
  {
   "cell_type": "code",
   "execution_count": 28,
   "id": "a66bdd60-9856-4f77-8dc0-335955b5bff9",
   "metadata": {
    "tags": []
   },
   "outputs": [
    {
     "name": "stdout",
     "output_type": "stream",
     "text": [
      "identified 1763527 doubleton sites on 3L\n",
      "finished counting alleles at doubleton sites\n",
      "determined 1654 sites where allele 0 is doubleton\n",
      "allele 0 done\n",
      "determined 653703 sites where allele 1 is doubleton\n",
      "allele 1 done\n",
      "determined 694537 sites where allele 2 is doubleton\n",
      "allele 2 done\n",
      "determined 459720 sites where allele 3 is doubleton\n",
      "allele 3 done\n"
     ]
    }
   ],
   "source": [
    "df3l = compute_shared_doubletons('3RL', '3L', cohorts, meta, 'doubletons/hic30/', posmin = 44_700_000)"
   ]
  },
  {
   "cell_type": "code",
   "execution_count": 29,
   "id": "0178955d-41bf-47d6-8e50-66ea58810c41",
   "metadata": {
    "tags": []
   },
   "outputs": [
    {
     "data": {
      "text/plain": [
       "1809614.0"
      ]
     },
     "execution_count": 29,
     "metadata": {},
     "output_type": "execute_result"
    }
   ],
   "source": [
    "df3l.sum()"
   ]
  },
  {
   "cell_type": "code",
   "execution_count": 30,
   "id": "39cbbf5a-3125-4677-9fc3-09badb6f966a",
   "metadata": {
    "tags": []
   },
   "outputs": [
    {
     "name": "stdout",
     "output_type": "stream",
     "text": [
      "identified 1034913 doubleton sites on X\n",
      "finished counting alleles at doubleton sites\n",
      "determined 539 sites where allele 0 is doubleton\n",
      "allele 0 done\n",
      "determined 388542 sites where allele 1 is doubleton\n",
      "allele 1 done\n",
      "determined 414850 sites where allele 2 is doubleton\n",
      "allele 2 done\n",
      "determined 267477 sites where allele 3 is doubleton\n",
      "allele 3 done\n"
     ]
    }
   ],
   "source": [
    "dfx = compute_shared_doubletons('X', 'X', cohorts, meta, 'doubletons/hic30/')"
   ]
  },
  {
   "cell_type": "code",
   "execution_count": 31,
   "id": "8968ce9b-d64f-49f8-9f7f-f4c938ff8409",
   "metadata": {
    "tags": []
   },
   "outputs": [
    {
     "data": {
      "text/plain": [
       "1071408.0"
      ]
     },
     "execution_count": 31,
     "metadata": {},
     "output_type": "execute_result"
    }
   ],
   "source": [
    "dfx.sum()"
   ]
  },
  {
   "cell_type": "code",
   "execution_count": null,
   "id": "76afe081-0f3f-4df5-bfb4-b637c5cfd263",
   "metadata": {},
   "outputs": [],
   "source": []
  },
  {
   "cell_type": "markdown",
   "id": "13b5c595-45e0-499f-9b4d-696d80d1fd6c",
   "metadata": {},
   "source": []
  },
  {
   "cell_type": "code",
   "execution_count": 32,
   "id": "75ebbf06-b2f7-4046-9372-3e1cae3050fb",
   "metadata": {},
   "outputs": [],
   "source": [
    "cluster.shutdown()"
   ]
  },
  {
   "cell_type": "code",
   "execution_count": 19,
   "id": "2f7c28a1-9e06-4ba0-b644-8f2ef96f7526",
   "metadata": {},
   "outputs": [],
   "source": [
    "for report in gateway.list_clusters():\n",
    "    gateway.connect(report.name).shutdown()"
   ]
  },
  {
   "cell_type": "code",
   "execution_count": null,
   "id": "57d242d8-2cdc-4d41-b081-2a27db589d90",
   "metadata": {},
   "outputs": [],
   "source": []
  }
 ],
 "metadata": {
  "kernelspec": {
   "display_name": "default *",
   "language": "python",
   "name": "conda-env-default-py"
  },
  "language_info": {
   "codemirror_mode": {
    "name": "ipython",
    "version": 3
   },
   "file_extension": ".py",
   "mimetype": "text/x-python",
   "name": "python",
   "nbconvert_exporter": "python",
   "pygments_lexer": "ipython3",
   "version": "3.10.11"
  }
 },
 "nbformat": 4,
 "nbformat_minor": 5
}
