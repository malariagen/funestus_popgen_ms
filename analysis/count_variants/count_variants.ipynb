{
 "cells": [
  {
   "cell_type": "code",
   "execution_count": 1,
   "id": "25e901eb-e1ab-4fc8-9ac3-3148a8167805",
   "metadata": {},
   "outputs": [],
   "source": [
    "#Load modules\n",
    "import zarr\n",
    "import os\n",
    "import pandas as pd\n",
    "import numpy as np\n",
    "import matplotlib.pyplot as plt\n",
    "%matplotlib inline\n",
    "import seaborn as sns\n",
    "import yaml\n",
    "from pathlib import Path\n",
    "import allel\n",
    "\n",
    "from dask.distributed import Client\n",
    "import dask\n",
    "dask.config.set(**{'array.slicing.split_large_chunks': False}) # Silence large chunk warnings\n",
    "import dask.array as da\n",
    "from dask import delayed, compute\n",
    "from dask_gateway import Gateway\n",
    "import functools\n",
    "import numcodecs\n",
    "from fsspec.implementations.zip import ZipFileSystem\n",
    "from collections.abc import Mapping\n",
    "import gcsfs\n",
    "import numba\n",
    "import psutil\n",
    "from humanize import naturalsize\n",
    "\n",
    "import pickle\n",
    "import platform\n",
    "\n",
    "import traceback\n",
    "import logging\n",
    "\n",
    "from pyprojroot import here\n",
    "from bokeh.plotting import *\n",
    "import plotly.express as px\n",
    "import plotly.graph_objects as go\n",
    "from plotly.validators.scatter.marker import SymbolValidator"
   ]
  },
  {
   "cell_type": "markdown",
   "id": "fd01f658-cc9d-4af9-ad17-e7256258ea9d",
   "metadata": {},
   "source": [
    "### Connect to gcs"
   ]
  },
  {
   "cell_type": "code",
   "execution_count": null,
   "id": "5112507b-08d0-49a3-b46f-39b9d70e1368",
   "metadata": {},
   "outputs": [],
   "source": [
    "gcs = gcsfs.GCSFileSystem()"
   ]
  },
  {
   "cell_type": "code",
   "execution_count": null,
   "id": "5ded9b92-0084-4456-a3e2-0326f4cc6a81",
   "metadata": {},
   "outputs": [],
   "source": [
    "gcs.ls('vo_afun_release_master_us_central1')[:3]"
   ]
  },
  {
   "cell_type": "markdown",
   "id": "0907e16c-1cdf-4d00-9bd9-e3b1af2f0a76",
   "metadata": {},
   "source": [
    "### Set up data access"
   ]
  },
  {
   "cell_type": "code",
   "execution_count": 4,
   "id": "a0d00d95-8fb0-4d58-8f5d-20fa741d493a",
   "metadata": {},
   "outputs": [],
   "source": [
    "production_root = Path('vo_afun_release_master_us_central1')\n",
    "vo_afun_staging = Path(production_root, 'v1.0')\n",
    "sampleset_staging_dir = Path(vo_afun_staging, 'snp_genotypes', 'all')\n",
    "\n",
    "#Decision tree or static filters\n",
    "genomic_positions_site_filter_dt_data_cloud_zarr_dir = 'vo_afun_release_master_us_central1/v1.0/site_filters/dt_20200416/funestus'\n",
    "genomic_positions_site_filter_sc_data_cloud_zarr_dir = 'vo_afun_release_master_us_central1/v1.0/site_filters/sc_20220908/funestus'\n",
    "\n",
    "repo_clone_path = here()\n",
    "release_config_path = repo_clone_path / 'analysis' / 'config.yml'\n",
    "\n",
    "with open(release_config_path) as fh:\n",
    "    config = yaml.load(fh, Loader=yaml.BaseLoader)\n",
    "    \n",
    "samplesets = config[\"sample_sets\"]"
   ]
  },
  {
   "cell_type": "code",
   "execution_count": null,
   "id": "938e6748-a8fc-4b4a-b5d4-72b118c25b45",
   "metadata": {},
   "outputs": [],
   "source": [
    "meta = pd.read_csv(\"../../metadata/supp1_tab2.csv\")\n",
    "meta.columns"
   ]
  },
  {
   "cell_type": "markdown",
   "id": "b1d3e46c-3855-42e8-8155-95a02f51a28b",
   "metadata": {},
   "source": [
    "### Functions"
   ]
  },
  {
   "cell_type": "code",
   "execution_count": 6,
   "id": "ebd35940-21f0-4fe9-ab8f-403d169fed3c",
   "metadata": {},
   "outputs": [],
   "source": [
    "# load a single array from field/chrom/sampleset\n",
    "# internal path for calldata is chrom/calldata/field\n",
    "# sampleset_calldata = sampleset_staging_dir / sset\n",
    "# sampleset is needed to load species spec.\n",
    "def load_single_field(zarr_path, internal_path, sset, exclude_males=False, samples=None):\n",
    "      \n",
    "    inz = zarr.group(is_gcloud(zarr_path), overwrite=False)\n",
    "    \n",
    "    oo = da.from_zarr(inz[internal_path])  \n",
    "    \n",
    "    if oo.ndim == 1:\n",
    "        oo = oo.reshape((1, -1))\n",
    "           \n",
    "    return oo"
   ]
  },
  {
   "cell_type": "code",
   "execution_count": 7,
   "id": "8a2d87e7-e90f-4ecc-8975-f89686b5ace2",
   "metadata": {},
   "outputs": [],
   "source": [
    "## General function to concatenate data.\n",
    "## Selected chunk size may be more appropriate for some than others.\n",
    "def concatenate_along_axis(base_dir, internal_path, req_samplesets):\n",
    "    \n",
    "    # work out shape\n",
    "    data = [load_single_field(base_dir / ss, internal_path, ss) for ss in req_samplesets]\n",
    "    \n",
    "    return da.concatenate(data, axis=1)"
   ]
  },
  {
   "cell_type": "code",
   "execution_count": 8,
   "id": "4af0f368-c3e5-4b4e-9481-f42730b63708",
   "metadata": {},
   "outputs": [],
   "source": [
    "def is_gcloud(path):\n",
    "    \n",
    "    try: \n",
    "        return gcs.get_mapper(path.as_posix())\n",
    "    except NameError as e:\n",
    "        return path.as_posix()"
   ]
  },
  {
   "cell_type": "code",
   "execution_count": 9,
   "id": "ed9ffc83-6894-4577-9ca3-a6ed36553fb0",
   "metadata": {},
   "outputs": [],
   "source": [
    "def load_filter(chrom, filter_dir = genomic_positions_site_filter_sc_data_cloud_zarr_dir):\n",
    "    gcsmap = gcs.get_mapper(filter_dir)\n",
    "    genomic_positions_site_filter_data = zarr.Group(gcsmap, read_only=True)\n",
    "    filter_pass = da.from_zarr(\n",
    "            genomic_positions_site_filter_data[chrom]['variants/filter_pass'])\n",
    "    return filter_pass"
   ]
  },
  {
   "cell_type": "code",
   "execution_count": 10,
   "id": "454cbeb4-d0bc-4532-8904-903685fac318",
   "metadata": {},
   "outputs": [],
   "source": [
    "def load_position(chrom):\n",
    "    store = gcs.get_mapper(\n",
    "        f'gs://vo_afun_release/v1.0/snp_genotypes/all/sites')\n",
    "    root = zarr.open(store, mode='r')\n",
    "    pos = root[chrom]['variants/POS'][:]\n",
    "    return pos"
   ]
  },
  {
   "cell_type": "code",
   "execution_count": 13,
   "id": "102d82b6-f549-43e6-ba9b-392c3204a216",
   "metadata": {},
   "outputs": [],
   "source": [
    "def read_in_genotypes(chrom, pos_min=None, pos_max=None, \\\n",
    "                      samples_idx = None, samplesets = samplesets, \\\n",
    "                      filter_dir = genomic_positions_site_filter_sc_data_cloud_zarr_dir):\n",
    "\n",
    "    # load the genotypes and positions\n",
    "    gt_d = concatenate_along_axis(sampleset_staging_dir, f\"{chrom}/calldata/GT\", samplesets)\n",
    "    gt = allel.GenotypeDaskArray(gt_d)\n",
    "    \n",
    "    #load the filter\n",
    "    is_accessible = load_filter(chrom, filter_dir)\n",
    "    \n",
    "    #load positions\n",
    "    pos = load_position(chrom)\n",
    "    if pos_min is None:\n",
    "        pos_min=pos.min()\n",
    "    if pos_max is None:\n",
    "        pos_max=pos.max()\n",
    "    is_in_pos = (pos>=pos_min) & (pos<=pos_max)\n",
    "    \n",
    "    #select samples if desired\n",
    "    if not samples_idx is None:\n",
    "        gt = gt.take(samples_idx, axis=1)\n",
    "    \n",
    "    #return accessible genotypes\n",
    "    \n",
    "    return gt.compress((is_accessible) & (is_in_pos), axis=0)"
   ]
  },
  {
   "cell_type": "code",
   "execution_count": 26,
   "id": "b3259575-efa6-411e-86e0-8d89c81971c6",
   "metadata": {},
   "outputs": [],
   "source": [
    "def compute_number_variants_reading_frame(chrom, arm, pos_min=None, pos_max=None, \\\n",
    "                      samples_idx = None, samplesets = samplesets, \\\n",
    "                      filter_dir = genomic_positions_site_filter_sc_data_cloud_zarr_dir):\n",
    "    \n",
    "    gt = read_in_genotypes(chrom, pos_min, pos_max, samples_idx, samplesets, \\\n",
    "                          filter_dir)\n",
    "    print(f\"read in genotypes on {arm}\")\n",
    "    #compute allele counts\n",
    "    ac = gt.count_alleles(max_allele=3)\n",
    "    seg = ac.count_segregating()\n",
    "    \n",
    "    return seg, gt.shape[0]\n",
    "    "
   ]
  },
  {
   "cell_type": "code",
   "execution_count": 41,
   "id": "5c8547c1-4f80-4f85-a3e9-c62e9d7ef523",
   "metadata": {
    "tags": []
   },
   "outputs": [],
   "source": [
    "def compute_number_multiallelic_reading_frame(chrom, arm, pos_min=None, pos_max=None, \\\n",
    "                      samples_idx = None, samplesets = samplesets, \\\n",
    "                      filter_dir = genomic_positions_site_filter_sc_data_cloud_zarr_dir):\n",
    "    \n",
    "    gt = read_in_genotypes(chrom, pos_min, pos_max, samples_idx, samplesets, \\\n",
    "                          filter_dir)\n",
    "    print(f\"read in genotypes on {arm}\")\n",
    "    #compute allele counts\n",
    "    ac = gt.count_alleles(max_allele=3)\n",
    "    allelism = ac.allelism()\n",
    "    \n",
    "    return np.sum(allelism.compute()>=3)"
   ]
  },
  {
   "cell_type": "code",
   "execution_count": 24,
   "id": "e8860f56-f6cc-4814-92f1-e0f7e3323602",
   "metadata": {
    "tags": []
   },
   "outputs": [],
   "source": [
    "def compute_number_variants(df, df_called, colname, samples_idx=None, samplesets=samplesets,\\\n",
    "                            filter_dir = genomic_positions_site_filter_sc_data_cloud_zarr_dir):\n",
    "    \n",
    "    for start,end in zip([1,20_000_001,40_000_001], [20_000_000,40_000_000,57_335_000]):\n",
    "        seg, called = compute_number_variants_reading_frame('2RL', '2R', pos_min=start,\\\n",
    "                                        pos_max=end,samples_idx=samples_idx, samplesets=samplesets,\\\n",
    "                                        filter_dir = filter_dir)\n",
    "        df.loc['2R',colname] += seg\n",
    "        df_called.loc['2R',colname]+=called\n",
    "    df.to_csv(\"total_number_of_variants.csv\")\n",
    "    df_called.to_csv(\"total_number_of_called_sites.csv\")\n",
    "    print(\"Arm 2R done\")\n",
    "    for start,end in zip([57_335_001, 80_000_001], [80_000_000, None]):\n",
    "        seg, called = compute_number_variants_reading_frame('2RL', '2L', pos_min=start,\\\n",
    "                                        pos_max=end,samples_idx=samples_idx, samplesets=samplesets,\\\n",
    "                                        filter_dir = filter_dir)\n",
    "        df.loc['2L',colname] += seg\n",
    "        df_called.loc['2L',colname] +=called\n",
    "    df.to_csv(\"total_number_of_variants.csv\")\n",
    "    df_called.to_csv(\"total_number_of_called_sites.csv\")\n",
    "    print(\"Arm 2L done\")\n",
    "    for start,end in zip([1,20_000_001], [20_000_000,44_700_000]):\n",
    "        seg, called = compute_number_variants_reading_frame('3RL', '3R', pos_min=start,\\\n",
    "                                        pos_max=end,samples_idx=samples_idx, samplesets=samplesets,\\\n",
    "                                        filter_dir = filter_dir)\n",
    "        df.loc['3R',colname] += seg\n",
    "        df_called.loc['3R',colname] +=called\n",
    "    df.to_csv(\"total_number_of_variants.csv\")\n",
    "    df_called.to_csv(\"total_number_of_called_sites.csv\")\n",
    "    print(\"Arm 3R done\")\n",
    "    for start,end in zip([44_700_001, 65_000_001], [65_000_000, None]):\n",
    "        seg, called = compute_number_variants_reading_frame('3RL', '3L', pos_min=start,\\\n",
    "                                        pos_max=end,samples_idx=samples_idx, samplesets=samplesets,\\\n",
    "                                        filter_dir = filter_dir)\n",
    "        df.loc['3L',colname] += seg\n",
    "        df_called.loc['3L',colname] +=called\n",
    "    df.to_csv(\"total_number_of_variants.csv\")\n",
    "    df_called.to_csv(\"total_number_of_called_sites.csv\")\n",
    "    print(\"Arm 3L done\")\n",
    "    for start,end in zip([1], [None]):\n",
    "        seg, called = compute_number_variants_reading_frame('X', 'X', pos_min=start,\\\n",
    "                                        pos_max=end,samples_idx=samples_idx, samplesets=samplesets,\\\n",
    "                                        filter_dir = filter_dir)\n",
    "        df.loc['X',colname] += seg\n",
    "        df_called.loc['X',colname] +=called\n",
    "    df.to_csv(\"total_number_of_variants.csv\")\n",
    "    df_called.to_csv(\"total_number_of_called_sites.csv\")\n",
    "    print(\"Arm X done\")\n",
    "    \n",
    "    return df, df_called\n",
    "    "
   ]
  },
  {
   "cell_type": "code",
   "execution_count": 45,
   "id": "76dd01cc-dc70-4499-883d-54e703efbeba",
   "metadata": {
    "tags": []
   },
   "outputs": [],
   "source": [
    "def compute_number_multiallelic(df, colname, samples_idx=None, samplesets=samplesets,\\\n",
    "                            filter_dir = genomic_positions_site_filter_sc_data_cloud_zarr_dir):\n",
    "    \n",
    "    for start,end in zip([1,20_000_001,40_000_001], [20_000_000,40_000_000,57_335_000]):\n",
    "        seg = compute_number_multiallelic_reading_frame('2RL', '2R', pos_min=start,\\\n",
    "                                        pos_max=end,samples_idx=samples_idx, samplesets=samplesets,\\\n",
    "                                        filter_dir = filter_dir)\n",
    "        df.loc['2R',colname] += seg\n",
    "    df.to_csv(\"number_of_multiallelic_variants.csv\")\n",
    "    print(\"Arm 2R done\")\n",
    "    for start,end in zip([57_335_001, 80_000_001], [80_000_000, None]):\n",
    "        seg = compute_number_multiallelic_reading_frame('2RL', '2L', pos_min=start,\\\n",
    "                                        pos_max=end,samples_idx=samples_idx, samplesets=samplesets,\\\n",
    "                                        filter_dir = filter_dir)\n",
    "        df.loc['2L',colname] += seg\n",
    "    df.to_csv(\"number_of_multiallelic_variants.csv\")\n",
    "    print(\"Arm 2L done\")\n",
    "    for start,end in zip([1,20_000_001], [20_000_000,44_700_000]):\n",
    "        seg = compute_number_multiallelic_reading_frame('3RL', '3R', pos_min=start,\\\n",
    "                                        pos_max=end,samples_idx=samples_idx, samplesets=samplesets,\\\n",
    "                                        filter_dir = filter_dir)\n",
    "        df.loc['3R',colname] += seg\n",
    "    df.to_csv(\"number_of_multiallelic_variants.csv\")\n",
    "    print(\"Arm 3R done\")\n",
    "    for start,end in zip([44_700_001, 65_000_001], [65_000_000, None]):\n",
    "        seg = compute_number_multiallelic_reading_frame('3RL', '3L', pos_min=start,\\\n",
    "                                        pos_max=end,samples_idx=samples_idx, samplesets=samplesets,\\\n",
    "                                        filter_dir = filter_dir)\n",
    "        df.loc['3L',colname] += seg\n",
    "    df.to_csv(\"number_of_multiallelic_variants.csv\")\n",
    "    print(\"Arm 3L done\")\n",
    "    for start,end in zip([1], [None]):\n",
    "        seg = compute_number_multiallelic_reading_frame('X', 'X', pos_min=start,\\\n",
    "                                        pos_max=end,samples_idx=samples_idx, samplesets=samplesets,\\\n",
    "                                        filter_dir = filter_dir)\n",
    "        df.loc['X',colname] += seg\n",
    "    df.to_csv(\"number_of_multiallelic_variants.csv\")\n",
    "    print(\"Arm X done\")\n",
    "    \n",
    "    return df"
   ]
  },
  {
   "cell_type": "code",
   "execution_count": null,
   "id": "411d6de2-356e-4f9b-a7e4-c0c04f275e00",
   "metadata": {},
   "outputs": [],
   "source": [
    "#put meta in order as dask is stored\n",
    "sample_order = concatenate_along_axis(sampleset_staging_dir, \"samples\", samplesets).compute()\n",
    "sample_order = (sample_order[0]).astype(str)\n",
    "meta.set_index('VBS_sample_id', inplace=True)\n",
    "meta = meta.loc[sample_order]\n",
    "meta.reset_index(inplace=True)\n",
    "meta.head()"
   ]
  },
  {
   "cell_type": "markdown",
   "id": "dcc340e6-d6aa-420f-bb9a-95edd822b36e",
   "metadata": {},
   "source": [
    "### Set up dask cluster"
   ]
  },
  {
   "cell_type": "code",
   "execution_count": 15,
   "id": "7a362ed1-654d-4cc2-90ad-992ccb18dbd9",
   "metadata": {},
   "outputs": [
    {
     "data": {
      "application/vnd.jupyter.widget-view+json": {
       "model_id": "741fe4e4d3854ffd8de6327f94ea157f",
       "version_major": 2,
       "version_minor": 0
      },
      "text/plain": [
       "VBox(children=(HTML(value='<h2>GatewayCluster</h2>'), HBox(children=(HTML(value='\\n<div>\\n<style scoped>\\n    …"
      ]
     },
     "metadata": {},
     "output_type": "display_data"
    }
   ],
   "source": [
    "gateway = Gateway()\n",
    "conda_prefix = os.environ[\"CONDA_PREFIX\"]\n",
    "current_environment = 'global/'+conda_prefix.split('/')[5]\n",
    "cluster = gateway.new_cluster(\n",
    "    profile='standard', \n",
    "    conda_environment = current_environment,\n",
    ")\n",
    "cluster"
   ]
  },
  {
   "cell_type": "code",
   "execution_count": 16,
   "id": "c3fcf660-b618-45aa-860e-a99aa3a865d8",
   "metadata": {},
   "outputs": [],
   "source": [
    "client=cluster.get_client()"
   ]
  },
  {
   "cell_type": "code",
   "execution_count": 17,
   "id": "6311c415-bbd9-4b32-8ef0-87c11afa668f",
   "metadata": {},
   "outputs": [],
   "source": [
    "cluster.scale(50)"
   ]
  },
  {
   "cell_type": "markdown",
   "id": "7638d95f-1c5c-4bd8-b84f-73d627c8f52f",
   "metadata": {},
   "source": [
    "### Compute"
   ]
  },
  {
   "cell_type": "code",
   "execution_count": 20,
   "id": "eef079ac-2719-4ea9-848e-6f7485446aaa",
   "metadata": {
    "tags": []
   },
   "outputs": [
    {
     "data": {
      "text/html": [
       "<div>\n",
       "<style scoped>\n",
       "    .dataframe tbody tr th:only-of-type {\n",
       "        vertical-align: middle;\n",
       "    }\n",
       "\n",
       "    .dataframe tbody tr th {\n",
       "        vertical-align: top;\n",
       "    }\n",
       "\n",
       "    .dataframe thead th {\n",
       "        text-align: right;\n",
       "    }\n",
       "</style>\n",
       "<table border=\"1\" class=\"dataframe\">\n",
       "  <thead>\n",
       "    <tr style=\"text-align: right;\">\n",
       "      <th></th>\n",
       "      <th>all_sc</th>\n",
       "      <th>all_dt</th>\n",
       "      <th>hicov_sc</th>\n",
       "      <th>hicov_dt</th>\n",
       "    </tr>\n",
       "  </thead>\n",
       "  <tbody>\n",
       "    <tr>\n",
       "      <th>2R</th>\n",
       "      <td>0.0</td>\n",
       "      <td>0.0</td>\n",
       "      <td>0.0</td>\n",
       "      <td>0.0</td>\n",
       "    </tr>\n",
       "    <tr>\n",
       "      <th>2L</th>\n",
       "      <td>0.0</td>\n",
       "      <td>0.0</td>\n",
       "      <td>0.0</td>\n",
       "      <td>0.0</td>\n",
       "    </tr>\n",
       "    <tr>\n",
       "      <th>3R</th>\n",
       "      <td>0.0</td>\n",
       "      <td>0.0</td>\n",
       "      <td>0.0</td>\n",
       "      <td>0.0</td>\n",
       "    </tr>\n",
       "    <tr>\n",
       "      <th>3L</th>\n",
       "      <td>0.0</td>\n",
       "      <td>0.0</td>\n",
       "      <td>0.0</td>\n",
       "      <td>0.0</td>\n",
       "    </tr>\n",
       "    <tr>\n",
       "      <th>X</th>\n",
       "      <td>0.0</td>\n",
       "      <td>0.0</td>\n",
       "      <td>0.0</td>\n",
       "      <td>0.0</td>\n",
       "    </tr>\n",
       "  </tbody>\n",
       "</table>\n",
       "</div>"
      ],
      "text/plain": [
       "    all_sc  all_dt  hicov_sc  hicov_dt\n",
       "2R     0.0     0.0       0.0       0.0\n",
       "2L     0.0     0.0       0.0       0.0\n",
       "3R     0.0     0.0       0.0       0.0\n",
       "3L     0.0     0.0       0.0       0.0\n",
       "X      0.0     0.0       0.0       0.0"
      ]
     },
     "execution_count": 20,
     "metadata": {},
     "output_type": "execute_result"
    }
   ],
   "source": [
    "df = pd.DataFrame(np.zeros((5,4)), index=['2R', '2L', '3R', '3L', 'X'], columns = [\n",
    "    'all_sc', 'all_dt', 'hicov_sc', 'hicov_dt'])\n",
    "df"
   ]
  },
  {
   "cell_type": "code",
   "execution_count": 22,
   "id": "8b3d417b-3896-4767-a967-d9692ecd5113",
   "metadata": {
    "tags": []
   },
   "outputs": [
    {
     "data": {
      "text/html": [
       "<div>\n",
       "<style scoped>\n",
       "    .dataframe tbody tr th:only-of-type {\n",
       "        vertical-align: middle;\n",
       "    }\n",
       "\n",
       "    .dataframe tbody tr th {\n",
       "        vertical-align: top;\n",
       "    }\n",
       "\n",
       "    .dataframe thead th {\n",
       "        text-align: right;\n",
       "    }\n",
       "</style>\n",
       "<table border=\"1\" class=\"dataframe\">\n",
       "  <thead>\n",
       "    <tr style=\"text-align: right;\">\n",
       "      <th></th>\n",
       "      <th>all_sc</th>\n",
       "      <th>all_dt</th>\n",
       "      <th>hicov_sc</th>\n",
       "      <th>hicov_dt</th>\n",
       "    </tr>\n",
       "  </thead>\n",
       "  <tbody>\n",
       "    <tr>\n",
       "      <th>2R</th>\n",
       "      <td>0.0</td>\n",
       "      <td>0.0</td>\n",
       "      <td>0.0</td>\n",
       "      <td>0.0</td>\n",
       "    </tr>\n",
       "    <tr>\n",
       "      <th>2L</th>\n",
       "      <td>0.0</td>\n",
       "      <td>0.0</td>\n",
       "      <td>0.0</td>\n",
       "      <td>0.0</td>\n",
       "    </tr>\n",
       "    <tr>\n",
       "      <th>3R</th>\n",
       "      <td>0.0</td>\n",
       "      <td>0.0</td>\n",
       "      <td>0.0</td>\n",
       "      <td>0.0</td>\n",
       "    </tr>\n",
       "    <tr>\n",
       "      <th>3L</th>\n",
       "      <td>0.0</td>\n",
       "      <td>0.0</td>\n",
       "      <td>0.0</td>\n",
       "      <td>0.0</td>\n",
       "    </tr>\n",
       "    <tr>\n",
       "      <th>X</th>\n",
       "      <td>0.0</td>\n",
       "      <td>0.0</td>\n",
       "      <td>0.0</td>\n",
       "      <td>0.0</td>\n",
       "    </tr>\n",
       "  </tbody>\n",
       "</table>\n",
       "</div>"
      ],
      "text/plain": [
       "    all_sc  all_dt  hicov_sc  hicov_dt\n",
       "2R     0.0     0.0       0.0       0.0\n",
       "2L     0.0     0.0       0.0       0.0\n",
       "3R     0.0     0.0       0.0       0.0\n",
       "3L     0.0     0.0       0.0       0.0\n",
       "X      0.0     0.0       0.0       0.0"
      ]
     },
     "execution_count": 22,
     "metadata": {},
     "output_type": "execute_result"
    }
   ],
   "source": [
    "df_called = pd.DataFrame(np.zeros((5,4)), index=['2R', '2L', '3R', '3L', 'X'], columns = [\n",
    "    'all_sc', 'all_dt', 'hicov_sc', 'hicov_dt'])\n",
    "df_called"
   ]
  },
  {
   "cell_type": "code",
   "execution_count": 27,
   "id": "e86c5ed8-6703-44f6-905b-209ce2356705",
   "metadata": {
    "tags": []
   },
   "outputs": [
    {
     "name": "stdout",
     "output_type": "stream",
     "text": [
      "read in genotypes on 2R\n",
      "read in genotypes on 2R\n",
      "read in genotypes on 2R\n",
      "Arm 2R done\n",
      "read in genotypes on 2L\n",
      "read in genotypes on 2L\n",
      "Arm 2L done\n",
      "read in genotypes on 3R\n",
      "read in genotypes on 3R\n",
      "Arm 3R done\n",
      "read in genotypes on 3L\n",
      "read in genotypes on 3L\n",
      "Arm 3L done\n",
      "read in genotypes on X\n",
      "Arm X done\n"
     ]
    }
   ],
   "source": [
    "df, df_called = compute_number_variants(df, df_called, 'all_sc')"
   ]
  },
  {
   "cell_type": "code",
   "execution_count": 31,
   "id": "7f3d504c-59fc-4679-baa2-20f6281af5f6",
   "metadata": {
    "tags": []
   },
   "outputs": [
    {
     "name": "stdout",
     "output_type": "stream",
     "text": [
      "read in genotypes on 2R\n",
      "read in genotypes on 2R\n",
      "read in genotypes on 2R\n",
      "Arm 2R done\n",
      "read in genotypes on 2L\n",
      "read in genotypes on 2L\n",
      "Arm 2L done\n",
      "read in genotypes on 3R\n",
      "read in genotypes on 3R\n",
      "Arm 3R done\n",
      "read in genotypes on 3L\n",
      "read in genotypes on 3L\n",
      "Arm 3L done\n",
      "read in genotypes on X\n",
      "Arm X done\n"
     ]
    }
   ],
   "source": [
    "df, df_called = compute_number_variants(df, df_called, 'all_dt', \n",
    "                                       filter_dir = genomic_positions_site_filter_dt_data_cloud_zarr_dir)"
   ]
  },
  {
   "cell_type": "code",
   "execution_count": 36,
   "id": "b1b19b58-c541-49c8-9a5b-ab09628200fe",
   "metadata": {
    "tags": []
   },
   "outputs": [
    {
     "data": {
      "text/plain": [
       "Int64Index([  0,   1,   2,   3,   4,   5,   6,   7,   8,   9,\n",
       "            ...\n",
       "            646, 647, 648, 649, 650, 651, 652, 653, 654, 655],\n",
       "           dtype='int64', length=619)"
      ]
     },
     "execution_count": 36,
     "metadata": {},
     "output_type": "execute_result"
    }
   ],
   "source": [
    "hi_cov_idx = meta.loc[meta.subset_2=='Y'].index\n",
    "hi_cov_idx"
   ]
  },
  {
   "cell_type": "code",
   "execution_count": 37,
   "id": "5693bae4-f8ca-4288-ad68-f91b242a53a4",
   "metadata": {
    "tags": []
   },
   "outputs": [
    {
     "name": "stdout",
     "output_type": "stream",
     "text": [
      "read in genotypes on 2R\n",
      "read in genotypes on 2R\n",
      "read in genotypes on 2R\n",
      "Arm 2R done\n",
      "read in genotypes on 2L\n",
      "read in genotypes on 2L\n",
      "Arm 2L done\n",
      "read in genotypes on 3R\n",
      "read in genotypes on 3R\n",
      "Arm 3R done\n",
      "read in genotypes on 3L\n",
      "read in genotypes on 3L\n",
      "Arm 3L done\n",
      "read in genotypes on X\n",
      "Arm X done\n"
     ]
    }
   ],
   "source": [
    "df, df_called = compute_number_variants(df, df_called, 'hicov_sc', samples_idx = hi_cov_idx)"
   ]
  },
  {
   "cell_type": "code",
   "execution_count": 38,
   "id": "c779de21-99eb-4ea8-93e5-323e48ef87d4",
   "metadata": {
    "tags": []
   },
   "outputs": [
    {
     "name": "stdout",
     "output_type": "stream",
     "text": [
      "read in genotypes on 2R\n",
      "read in genotypes on 2R\n",
      "read in genotypes on 2R\n",
      "Arm 2R done\n",
      "read in genotypes on 2L\n",
      "read in genotypes on 2L\n",
      "Arm 2L done\n",
      "read in genotypes on 3R\n",
      "read in genotypes on 3R\n",
      "Arm 3R done\n",
      "read in genotypes on 3L\n",
      "read in genotypes on 3L\n",
      "Arm 3L done\n",
      "read in genotypes on X\n",
      "Arm X done\n"
     ]
    }
   ],
   "source": [
    "df, df_called = compute_number_variants(df, df_called, 'hicov_dt',  samples_idx = hi_cov_idx,\n",
    "                                       filter_dir = genomic_positions_site_filter_dt_data_cloud_zarr_dir)"
   ]
  },
  {
   "cell_type": "code",
   "execution_count": 40,
   "id": "245c6f78-d14c-4ccd-8066-c856b4ef6471",
   "metadata": {
    "tags": []
   },
   "outputs": [
    {
     "data": {
      "text/html": [
       "<div>\n",
       "<style scoped>\n",
       "    .dataframe tbody tr th:only-of-type {\n",
       "        vertical-align: middle;\n",
       "    }\n",
       "\n",
       "    .dataframe tbody tr th {\n",
       "        vertical-align: top;\n",
       "    }\n",
       "\n",
       "    .dataframe thead th {\n",
       "        text-align: right;\n",
       "    }\n",
       "</style>\n",
       "<table border=\"1\" class=\"dataframe\">\n",
       "  <thead>\n",
       "    <tr style=\"text-align: right;\">\n",
       "      <th></th>\n",
       "      <th>all_sc</th>\n",
       "      <th>all_dt</th>\n",
       "      <th>hicov_sc</th>\n",
       "      <th>hicov_dt</th>\n",
       "    </tr>\n",
       "  </thead>\n",
       "  <tbody>\n",
       "    <tr>\n",
       "      <th>2R</th>\n",
       "      <td>21690522.0</td>\n",
       "      <td>14399188.0</td>\n",
       "      <td>19665129.0</td>\n",
       "      <td>12915499.0</td>\n",
       "    </tr>\n",
       "    <tr>\n",
       "      <th>2L</th>\n",
       "      <td>20184975.0</td>\n",
       "      <td>13313064.0</td>\n",
       "      <td>18787274.0</td>\n",
       "      <td>12305596.0</td>\n",
       "    </tr>\n",
       "    <tr>\n",
       "      <th>3R</th>\n",
       "      <td>16819330.0</td>\n",
       "      <td>11190408.0</td>\n",
       "      <td>15293287.0</td>\n",
       "      <td>10075676.0</td>\n",
       "    </tr>\n",
       "    <tr>\n",
       "      <th>3L</th>\n",
       "      <td>13932157.0</td>\n",
       "      <td>9282280.0</td>\n",
       "      <td>12786616.0</td>\n",
       "      <td>8452756.0</td>\n",
       "    </tr>\n",
       "    <tr>\n",
       "      <th>X</th>\n",
       "      <td>7019229.0</td>\n",
       "      <td>5069166.0</td>\n",
       "      <td>6478461.0</td>\n",
       "      <td>4652724.0</td>\n",
       "    </tr>\n",
       "  </tbody>\n",
       "</table>\n",
       "</div>"
      ],
      "text/plain": [
       "        all_sc      all_dt    hicov_sc    hicov_dt\n",
       "2R  21690522.0  14399188.0  19665129.0  12915499.0\n",
       "2L  20184975.0  13313064.0  18787274.0  12305596.0\n",
       "3R  16819330.0  11190408.0  15293287.0  10075676.0\n",
       "3L  13932157.0   9282280.0  12786616.0   8452756.0\n",
       "X    7019229.0   5069166.0   6478461.0   4652724.0"
      ]
     },
     "execution_count": 40,
     "metadata": {},
     "output_type": "execute_result"
    }
   ],
   "source": [
    "df"
   ]
  },
  {
   "cell_type": "code",
   "execution_count": 42,
   "id": "75ff99ea-cca1-4315-b909-c47d5d34cf0f",
   "metadata": {
    "tags": []
   },
   "outputs": [],
   "source": [
    "df_mult = pd.DataFrame(np.zeros((5,4)), index=['2R', '2L', '3R', '3L', 'X'], columns = [\n",
    "    'all_sc', 'all_dt', 'hicov_sc', 'hicov_dt'])"
   ]
  },
  {
   "cell_type": "code",
   "execution_count": 43,
   "id": "8d95788c-a0ea-4b59-aeff-271d74ad9188",
   "metadata": {
    "tags": []
   },
   "outputs": [
    {
     "name": "stdout",
     "output_type": "stream",
     "text": [
      "read in genotypes on 2R\n",
      "read in genotypes on 2R\n",
      "read in genotypes on 2R\n",
      "Arm 2R done\n",
      "read in genotypes on 2L\n",
      "read in genotypes on 2L\n",
      "Arm 2L done\n",
      "read in genotypes on 3R\n",
      "read in genotypes on 3R\n",
      "Arm 3R done\n",
      "read in genotypes on 3L\n",
      "read in genotypes on 3L\n",
      "Arm 3L done\n",
      "read in genotypes on X\n",
      "Arm X done\n"
     ]
    }
   ],
   "source": [
    "df_mult = compute_number_multiallelic(df_mult, 'all_sc')"
   ]
  },
  {
   "cell_type": "code",
   "execution_count": 48,
   "id": "5b7cc7c1-293a-4bbb-9d4f-0b231ab6843c",
   "metadata": {
    "tags": []
   },
   "outputs": [
    {
     "name": "stdout",
     "output_type": "stream",
     "text": [
      "read in genotypes on 2R\n",
      "read in genotypes on 2R\n",
      "read in genotypes on 2R\n",
      "Arm 2R done\n",
      "read in genotypes on 2L\n",
      "read in genotypes on 2L\n",
      "Arm 2L done\n",
      "read in genotypes on 3R\n",
      "read in genotypes on 3R\n",
      "Arm 3R done\n",
      "read in genotypes on 3L\n",
      "read in genotypes on 3L\n",
      "Arm 3L done\n",
      "read in genotypes on X\n",
      "Arm X done\n"
     ]
    }
   ],
   "source": [
    "df_mult = compute_number_multiallelic(df_mult, 'all_dt', \n",
    "                                      filter_dir = genomic_positions_site_filter_dt_data_cloud_zarr_dir)"
   ]
  },
  {
   "cell_type": "code",
   "execution_count": 49,
   "id": "2585d71d-35d7-4c7d-b1aa-14084d7a7b89",
   "metadata": {
    "tags": []
   },
   "outputs": [
    {
     "name": "stdout",
     "output_type": "stream",
     "text": [
      "read in genotypes on 2R\n",
      "read in genotypes on 2R\n",
      "read in genotypes on 2R\n",
      "Arm 2R done\n",
      "read in genotypes on 2L\n",
      "read in genotypes on 2L\n",
      "Arm 2L done\n",
      "read in genotypes on 3R\n",
      "read in genotypes on 3R\n",
      "Arm 3R done\n",
      "read in genotypes on 3L\n",
      "read in genotypes on 3L\n",
      "Arm 3L done\n",
      "read in genotypes on X\n",
      "Arm X done\n"
     ]
    }
   ],
   "source": [
    "df_mult = compute_number_multiallelic(df_mult, 'hicov_sc', samples_idx = hi_cov_idx)"
   ]
  },
  {
   "cell_type": "code",
   "execution_count": 50,
   "id": "3cca805c-adde-4224-a972-aee8b6ddf2d3",
   "metadata": {
    "tags": []
   },
   "outputs": [
    {
     "name": "stdout",
     "output_type": "stream",
     "text": [
      "read in genotypes on 2R\n",
      "read in genotypes on 2R\n",
      "read in genotypes on 2R\n",
      "Arm 2R done\n",
      "read in genotypes on 2L\n",
      "read in genotypes on 2L\n",
      "Arm 2L done\n",
      "read in genotypes on 3R\n",
      "read in genotypes on 3R\n",
      "Arm 3R done\n",
      "read in genotypes on 3L\n",
      "read in genotypes on 3L\n",
      "Arm 3L done\n",
      "read in genotypes on X\n",
      "Arm X done\n"
     ]
    }
   ],
   "source": [
    "df_mult = compute_number_multiallelic(df_mult, 'hicov_dt', samples_idx = hi_cov_idx,\n",
    "                                      filter_dir = genomic_positions_site_filter_dt_data_cloud_zarr_dir)"
   ]
  },
  {
   "cell_type": "code",
   "execution_count": null,
   "id": "95f045ae-c1e2-4ed4-a5e9-5725703c4858",
   "metadata": {},
   "outputs": [],
   "source": []
  },
  {
   "cell_type": "code",
   "execution_count": null,
   "id": "085779af-0728-442a-874a-db9b9415cf60",
   "metadata": {},
   "outputs": [],
   "source": []
  },
  {
   "cell_type": "code",
   "execution_count": 51,
   "id": "75ebbf06-b2f7-4046-9372-3e1cae3050fb",
   "metadata": {},
   "outputs": [],
   "source": [
    "cluster.shutdown()"
   ]
  },
  {
   "cell_type": "code",
   "execution_count": 14,
   "id": "1fedc35f-dbe4-4a4c-b116-ee5eedd2e85f",
   "metadata": {
    "tags": []
   },
   "outputs": [],
   "source": [
    "gateway = Gateway()"
   ]
  },
  {
   "cell_type": "code",
   "execution_count": 15,
   "id": "2f7c28a1-9e06-4ba0-b644-8f2ef96f7526",
   "metadata": {},
   "outputs": [],
   "source": [
    "for report in gateway.list_clusters():\n",
    "    gateway.connect(report.name).shutdown()"
   ]
  },
  {
   "cell_type": "code",
   "execution_count": null,
   "id": "69e0418e-7626-4776-9f38-22b08f3e4336",
   "metadata": {},
   "outputs": [],
   "source": []
  },
  {
   "cell_type": "code",
   "execution_count": 36,
   "id": "2342a5a2-d83b-44b3-9eff-d558a74516d3",
   "metadata": {
    "tags": []
   },
   "outputs": [],
   "source": [
    "df.loc['total'] = df.sum(axis=0)"
   ]
  },
  {
   "cell_type": "code",
   "execution_count": 59,
   "id": "bcde62fe-7ef5-405c-b5e0-fa880bb4f6df",
   "metadata": {
    "tags": []
   },
   "outputs": [],
   "source": [
    "df_mult.loc['total'] = df_mult.sum(axis=0)"
   ]
  },
  {
   "cell_type": "code",
   "execution_count": 37,
   "id": "c7142295-0fcc-4de8-a52b-13c3bcaacc54",
   "metadata": {
    "tags": []
   },
   "outputs": [],
   "source": [
    "df_called.loc['total'] = df_called.sum(axis=0)"
   ]
  },
  {
   "cell_type": "code",
   "execution_count": 38,
   "id": "2b8da3e9-ab12-4582-b138-7f150b2e0a21",
   "metadata": {
    "tags": []
   },
   "outputs": [
    {
     "data": {
      "text/html": [
       "<div>\n",
       "<style scoped>\n",
       "    .dataframe tbody tr th:only-of-type {\n",
       "        vertical-align: middle;\n",
       "    }\n",
       "\n",
       "    .dataframe tbody tr th {\n",
       "        vertical-align: top;\n",
       "    }\n",
       "\n",
       "    .dataframe thead th {\n",
       "        text-align: right;\n",
       "    }\n",
       "</style>\n",
       "<table border=\"1\" class=\"dataframe\">\n",
       "  <thead>\n",
       "    <tr style=\"text-align: right;\">\n",
       "      <th></th>\n",
       "      <th>all_sc</th>\n",
       "      <th>all_dt</th>\n",
       "      <th>hicov_sc</th>\n",
       "      <th>hicov_dt</th>\n",
       "    </tr>\n",
       "  </thead>\n",
       "  <tbody>\n",
       "    <tr>\n",
       "      <th>2R</th>\n",
       "      <td>21690522.0</td>\n",
       "      <td>14399188.0</td>\n",
       "      <td>19665129.0</td>\n",
       "      <td>12915499.0</td>\n",
       "    </tr>\n",
       "    <tr>\n",
       "      <th>2L</th>\n",
       "      <td>20184975.0</td>\n",
       "      <td>13313064.0</td>\n",
       "      <td>18787274.0</td>\n",
       "      <td>12305596.0</td>\n",
       "    </tr>\n",
       "    <tr>\n",
       "      <th>3R</th>\n",
       "      <td>16819330.0</td>\n",
       "      <td>11190408.0</td>\n",
       "      <td>15293287.0</td>\n",
       "      <td>10075676.0</td>\n",
       "    </tr>\n",
       "    <tr>\n",
       "      <th>3L</th>\n",
       "      <td>13932157.0</td>\n",
       "      <td>9282280.0</td>\n",
       "      <td>12786616.0</td>\n",
       "      <td>8452756.0</td>\n",
       "    </tr>\n",
       "    <tr>\n",
       "      <th>X</th>\n",
       "      <td>7019229.0</td>\n",
       "      <td>5069166.0</td>\n",
       "      <td>6478461.0</td>\n",
       "      <td>4652724.0</td>\n",
       "    </tr>\n",
       "    <tr>\n",
       "      <th>total</th>\n",
       "      <td>79646213.0</td>\n",
       "      <td>53254106.0</td>\n",
       "      <td>73010767.0</td>\n",
       "      <td>48402251.0</td>\n",
       "    </tr>\n",
       "  </tbody>\n",
       "</table>\n",
       "</div>"
      ],
      "text/plain": [
       "           all_sc      all_dt    hicov_sc    hicov_dt\n",
       "2R     21690522.0  14399188.0  19665129.0  12915499.0\n",
       "2L     20184975.0  13313064.0  18787274.0  12305596.0\n",
       "3R     16819330.0  11190408.0  15293287.0  10075676.0\n",
       "3L     13932157.0   9282280.0  12786616.0   8452756.0\n",
       "X       7019229.0   5069166.0   6478461.0   4652724.0\n",
       "total  79646213.0  53254106.0  73010767.0  48402251.0"
      ]
     },
     "execution_count": 38,
     "metadata": {},
     "output_type": "execute_result"
    }
   ],
   "source": [
    "df"
   ]
  },
  {
   "cell_type": "code",
   "execution_count": 64,
   "id": "787dbeae-5488-48a9-943b-24d4bfd8854f",
   "metadata": {
    "tags": []
   },
   "outputs": [
    {
     "data": {
      "text/html": [
       "<div>\n",
       "<style scoped>\n",
       "    .dataframe tbody tr th:only-of-type {\n",
       "        vertical-align: middle;\n",
       "    }\n",
       "\n",
       "    .dataframe tbody tr th {\n",
       "        vertical-align: top;\n",
       "    }\n",
       "\n",
       "    .dataframe thead th {\n",
       "        text-align: right;\n",
       "    }\n",
       "</style>\n",
       "<table border=\"1\" class=\"dataframe\">\n",
       "  <thead>\n",
       "    <tr style=\"text-align: right;\">\n",
       "      <th></th>\n",
       "      <th>all_sc</th>\n",
       "      <th>all_dt</th>\n",
       "      <th>hicov_sc</th>\n",
       "      <th>hicov_dt</th>\n",
       "    </tr>\n",
       "  </thead>\n",
       "  <tbody>\n",
       "    <tr>\n",
       "      <th>2R</th>\n",
       "      <td>5257496.0</td>\n",
       "      <td>3178357.0</td>\n",
       "      <td>4453829.0</td>\n",
       "      <td>2653757.0</td>\n",
       "    </tr>\n",
       "    <tr>\n",
       "      <th>2L</th>\n",
       "      <td>6406145.0</td>\n",
       "      <td>3898523.0</td>\n",
       "      <td>5670264.0</td>\n",
       "      <td>3422477.0</td>\n",
       "    </tr>\n",
       "    <tr>\n",
       "      <th>3R</th>\n",
       "      <td>4075774.0</td>\n",
       "      <td>2449219.0</td>\n",
       "      <td>3463523.0</td>\n",
       "      <td>2053152.0</td>\n",
       "    </tr>\n",
       "    <tr>\n",
       "      <th>3L</th>\n",
       "      <td>3629627.0</td>\n",
       "      <td>2176746.0</td>\n",
       "      <td>3125074.0</td>\n",
       "      <td>1853371.0</td>\n",
       "    </tr>\n",
       "    <tr>\n",
       "      <th>X</th>\n",
       "      <td>2125512.0</td>\n",
       "      <td>1410230.0</td>\n",
       "      <td>1858582.0</td>\n",
       "      <td>1226107.0</td>\n",
       "    </tr>\n",
       "    <tr>\n",
       "      <th>total</th>\n",
       "      <td>21494554.0</td>\n",
       "      <td>13113075.0</td>\n",
       "      <td>18571272.0</td>\n",
       "      <td>11208864.0</td>\n",
       "    </tr>\n",
       "  </tbody>\n",
       "</table>\n",
       "</div>"
      ],
      "text/plain": [
       "           all_sc      all_dt    hicov_sc    hicov_dt\n",
       "2R      5257496.0   3178357.0   4453829.0   2653757.0\n",
       "2L      6406145.0   3898523.0   5670264.0   3422477.0\n",
       "3R      4075774.0   2449219.0   3463523.0   2053152.0\n",
       "3L      3629627.0   2176746.0   3125074.0   1853371.0\n",
       "X       2125512.0   1410230.0   1858582.0   1226107.0\n",
       "total  21494554.0  13113075.0  18571272.0  11208864.0"
      ]
     },
     "execution_count": 64,
     "metadata": {},
     "output_type": "execute_result"
    }
   ],
   "source": [
    "df_mult"
   ]
  },
  {
   "cell_type": "code",
   "execution_count": 39,
   "id": "38f5f21f-7612-4057-b653-aa28a4a42f94",
   "metadata": {
    "tags": []
   },
   "outputs": [
    {
     "data": {
      "text/html": [
       "<div>\n",
       "<style scoped>\n",
       "    .dataframe tbody tr th:only-of-type {\n",
       "        vertical-align: middle;\n",
       "    }\n",
       "\n",
       "    .dataframe tbody tr th {\n",
       "        vertical-align: top;\n",
       "    }\n",
       "\n",
       "    .dataframe thead th {\n",
       "        text-align: right;\n",
       "    }\n",
       "</style>\n",
       "<table border=\"1\" class=\"dataframe\">\n",
       "  <thead>\n",
       "    <tr style=\"text-align: right;\">\n",
       "      <th></th>\n",
       "      <th>all_sc</th>\n",
       "      <th>all_dt</th>\n",
       "      <th>hicov_sc</th>\n",
       "      <th>hicov_dt</th>\n",
       "    </tr>\n",
       "  </thead>\n",
       "  <tbody>\n",
       "    <tr>\n",
       "      <th>2R</th>\n",
       "      <td>47266449.0</td>\n",
       "      <td>33181056.0</td>\n",
       "      <td>47266449.0</td>\n",
       "      <td>33181056.0</td>\n",
       "    </tr>\n",
       "    <tr>\n",
       "      <th>2L</th>\n",
       "      <td>37066332.0</td>\n",
       "      <td>25648309.0</td>\n",
       "      <td>37066332.0</td>\n",
       "      <td>25648309.0</td>\n",
       "    </tr>\n",
       "    <tr>\n",
       "      <th>3R</th>\n",
       "      <td>36351913.0</td>\n",
       "      <td>25731711.0</td>\n",
       "      <td>36351913.0</td>\n",
       "      <td>25731711.0</td>\n",
       "    </tr>\n",
       "    <tr>\n",
       "      <th>3L</th>\n",
       "      <td>28367188.0</td>\n",
       "      <td>20105966.0</td>\n",
       "      <td>28367188.0</td>\n",
       "      <td>20105966.0</td>\n",
       "    </tr>\n",
       "    <tr>\n",
       "      <th>X</th>\n",
       "      <td>13331835.0</td>\n",
       "      <td>10094797.0</td>\n",
       "      <td>13331835.0</td>\n",
       "      <td>10094797.0</td>\n",
       "    </tr>\n",
       "    <tr>\n",
       "      <th>total</th>\n",
       "      <td>162383717.0</td>\n",
       "      <td>114761839.0</td>\n",
       "      <td>162383717.0</td>\n",
       "      <td>114761839.0</td>\n",
       "    </tr>\n",
       "  </tbody>\n",
       "</table>\n",
       "</div>"
      ],
      "text/plain": [
       "            all_sc       all_dt     hicov_sc     hicov_dt\n",
       "2R      47266449.0   33181056.0   47266449.0   33181056.0\n",
       "2L      37066332.0   25648309.0   37066332.0   25648309.0\n",
       "3R      36351913.0   25731711.0   36351913.0   25731711.0\n",
       "3L      28367188.0   20105966.0   28367188.0   20105966.0\n",
       "X       13331835.0   10094797.0   13331835.0   10094797.0\n",
       "total  162383717.0  114761839.0  162383717.0  114761839.0"
      ]
     },
     "execution_count": 39,
     "metadata": {},
     "output_type": "execute_result"
    }
   ],
   "source": [
    "df_called"
   ]
  },
  {
   "cell_type": "code",
   "execution_count": 73,
   "id": "2ec81db6-1e6b-4036-81bd-210369d7405e",
   "metadata": {
    "tags": []
   },
   "outputs": [
    {
     "data": {
      "text/plain": [
       "0.0632378176151201"
      ]
     },
     "execution_count": 73,
     "metadata": {},
     "output_type": "execute_result"
    }
   ],
   "source": [
    "df.loc['total', 'all_sc'] / np.sum(1/np.arange(1,656*2)) / df_called.loc['total', 'all_sc']"
   ]
  },
  {
   "cell_type": "code",
   "execution_count": 74,
   "id": "c2aafa9b-274a-4651-aae0-8356df64c1a1",
   "metadata": {
    "tags": []
   },
   "outputs": [
    {
     "data": {
      "text/plain": [
       "0.058406731673569384"
      ]
     },
     "execution_count": 74,
     "metadata": {},
     "output_type": "execute_result"
    }
   ],
   "source": [
    "df.loc['total', 'hicov_sc'] / np.sum(1/np.arange(1,619*2))/ df_called.loc['total', 'all_sc']"
   ]
  },
  {
   "cell_type": "code",
   "execution_count": 75,
   "id": "56e2d8aa-a48a-45b8-98cb-e51384151ca6",
   "metadata": {
    "tags": []
   },
   "outputs": [
    {
     "data": {
      "text/plain": [
       "0.059828735018907855"
      ]
     },
     "execution_count": 75,
     "metadata": {},
     "output_type": "execute_result"
    }
   ],
   "source": [
    "df.loc['total', 'all_dt'] / np.sum(1/np.arange(1,656*2)) / df_called.loc['total', 'all_dt']"
   ]
  },
  {
   "cell_type": "code",
   "execution_count": 76,
   "id": "ff4a2db2-5320-4c94-8245-be639de141cc",
   "metadata": {
    "tags": []
   },
   "outputs": [
    {
     "data": {
      "text/plain": [
       "0.05478813693590849"
      ]
     },
     "execution_count": 76,
     "metadata": {},
     "output_type": "execute_result"
    }
   ],
   "source": [
    "df.loc['total', 'hicov_dt'] / np.sum(1/np.arange(1,619*2))/ df_called.loc['total', 'all_dt']"
   ]
  },
  {
   "cell_type": "code",
   "execution_count": 79,
   "id": "d9cf35b3-d8f5-4f12-adb3-9de1073bb323",
   "metadata": {
    "tags": []
   },
   "outputs": [
    {
     "data": {
      "text/plain": [
       "all_sc      0.132369\n",
       "all_dt      0.114263\n",
       "hicov_sc    0.114367\n",
       "hicov_dt    0.097671\n",
       "Name: total, dtype: float64"
      ]
     },
     "execution_count": 79,
     "metadata": {},
     "output_type": "execute_result"
    }
   ],
   "source": [
    "df_mult.loc['total'] / df_called.loc['total']"
   ]
  },
  {
   "cell_type": "code",
   "execution_count": 40,
   "id": "cebcd653-b75d-4b56-bce0-8652d2a6c7ba",
   "metadata": {
    "tags": []
   },
   "outputs": [
    {
     "data": {
      "text/plain": [
       "all_sc      0.490482\n",
       "all_dt      0.464040\n",
       "hicov_sc    0.449619\n",
       "hicov_dt    0.421763\n",
       "Name: total, dtype: float64"
      ]
     },
     "execution_count": 40,
     "metadata": {},
     "output_type": "execute_result"
    }
   ],
   "source": [
    "df.loc['total'] / df_called.loc['total']"
   ]
  },
  {
   "cell_type": "code",
   "execution_count": null,
   "id": "5b8b24c2-4cb2-494e-8640-1ba7a5b3529d",
   "metadata": {},
   "outputs": [],
   "source": []
  },
  {
   "cell_type": "code",
   "execution_count": null,
   "id": "63b9c569-efc5-4d4d-9790-051f80d843c6",
   "metadata": {},
   "outputs": [],
   "source": []
  },
  {
   "cell_type": "code",
   "execution_count": 34,
   "id": "f8a158f7-5b0b-4935-b119-aecde94aa61f",
   "metadata": {
    "tags": []
   },
   "outputs": [],
   "source": [
    "df_called = pd.read_csv(\"total_number_of_called_sites.csv\", index_col=0)"
   ]
  },
  {
   "cell_type": "code",
   "execution_count": 35,
   "id": "71a6c035-6ae6-4d9d-af1f-446defd4277a",
   "metadata": {
    "tags": []
   },
   "outputs": [],
   "source": [
    "df = pd.read_csv(\"total_number_of_variants.csv\", index_col=0)"
   ]
  },
  {
   "cell_type": "code",
   "execution_count": 30,
   "id": "b3314c96-0523-442a-ba14-60798e9f8a37",
   "metadata": {
    "tags": []
   },
   "outputs": [],
   "source": [
    "df_mult = pd.read_csv(\"number_of_multiallelic_variants.csv\", index_col=0)"
   ]
  },
  {
   "cell_type": "code",
   "execution_count": 13,
   "id": "d9244f9f-1d33-4150-80b4-a58319346b89",
   "metadata": {
    "tags": []
   },
   "outputs": [
    {
     "data": {
      "text/plain": [
       "(22263624,)"
      ]
     },
     "execution_count": 13,
     "metadata": {},
     "output_type": "execute_result"
    }
   ],
   "source": [
    "px.shape"
   ]
  },
  {
   "cell_type": "code",
   "execution_count": 15,
   "id": "7047b06a-b5b5-4abd-aab9-b70af04f115d",
   "metadata": {
    "tags": []
   },
   "outputs": [
    {
     "data": {
      "text/plain": [
       "(84634641,)"
      ]
     },
     "execution_count": 15,
     "metadata": {},
     "output_type": "execute_result"
    }
   ],
   "source": [
    "p3.shape"
   ]
  },
  {
   "cell_type": "code",
   "execution_count": 17,
   "id": "82d45d22-6e13-47fc-83ec-846aa0c15f55",
   "metadata": {
    "tags": []
   },
   "outputs": [
    {
     "data": {
      "text/plain": [
       "(102882611,)"
      ]
     },
     "execution_count": 17,
     "metadata": {},
     "output_type": "execute_result"
    }
   ],
   "source": [
    "p2.shape"
   ]
  },
  {
   "cell_type": "code",
   "execution_count": 19,
   "id": "86da4880-858d-4777-a9dc-6245a8ff744d",
   "metadata": {
    "tags": []
   },
   "outputs": [],
   "source": [
    "callab = px.shape[0]+p2.shape[0]+p3.shape[0]"
   ]
  },
  {
   "cell_type": "code",
   "execution_count": 42,
   "id": "c806ff18-dc3a-42aa-bc6e-7eae21fbeaf8",
   "metadata": {
    "tags": []
   },
   "outputs": [
    {
     "data": {
      "text/plain": [
       "45.29442283385259"
      ]
     },
     "execution_count": 42,
     "metadata": {},
     "output_type": "execute_result"
    }
   ],
   "source": [
    "(callab - df_called.loc['total', 'hicov_dt'])/callab*100"
   ]
  },
  {
   "cell_type": "code",
   "execution_count": 41,
   "id": "40301c3a-a467-4823-adbf-0d16c4b6e9f1",
   "metadata": {
    "tags": []
   },
   "outputs": [
    {
     "data": {
      "text/plain": [
       "0.4217625947942504"
      ]
     },
     "execution_count": 41,
     "metadata": {},
     "output_type": "execute_result"
    }
   ],
   "source": [
    "df.loc['total', 'hicov_dt']/ df_called.loc['total', 'hicov_dt']"
   ]
  },
  {
   "cell_type": "code",
   "execution_count": 33,
   "id": "6d9bc3c2-ca8d-4606-adac-48faa6b4bcc0",
   "metadata": {
    "tags": []
   },
   "outputs": [
    {
     "data": {
      "text/html": [
       "<div>\n",
       "<style scoped>\n",
       "    .dataframe tbody tr th:only-of-type {\n",
       "        vertical-align: middle;\n",
       "    }\n",
       "\n",
       "    .dataframe tbody tr th {\n",
       "        vertical-align: top;\n",
       "    }\n",
       "\n",
       "    .dataframe thead th {\n",
       "        text-align: right;\n",
       "    }\n",
       "</style>\n",
       "<table border=\"1\" class=\"dataframe\">\n",
       "  <thead>\n",
       "    <tr style=\"text-align: right;\">\n",
       "      <th></th>\n",
       "      <th>all_sc</th>\n",
       "      <th>all_dt</th>\n",
       "      <th>hicov_sc</th>\n",
       "      <th>hicov_dt</th>\n",
       "    </tr>\n",
       "  </thead>\n",
       "  <tbody>\n",
       "    <tr>\n",
       "      <th>2R</th>\n",
       "      <td>21690522.0</td>\n",
       "      <td>14399188.0</td>\n",
       "      <td>19665129.0</td>\n",
       "      <td>12915499.0</td>\n",
       "    </tr>\n",
       "    <tr>\n",
       "      <th>2L</th>\n",
       "      <td>20184975.0</td>\n",
       "      <td>13313064.0</td>\n",
       "      <td>18787274.0</td>\n",
       "      <td>12305596.0</td>\n",
       "    </tr>\n",
       "    <tr>\n",
       "      <th>3R</th>\n",
       "      <td>16819330.0</td>\n",
       "      <td>11190408.0</td>\n",
       "      <td>15293287.0</td>\n",
       "      <td>10075676.0</td>\n",
       "    </tr>\n",
       "    <tr>\n",
       "      <th>3L</th>\n",
       "      <td>13932157.0</td>\n",
       "      <td>9282280.0</td>\n",
       "      <td>12786616.0</td>\n",
       "      <td>8452756.0</td>\n",
       "    </tr>\n",
       "    <tr>\n",
       "      <th>X</th>\n",
       "      <td>7019229.0</td>\n",
       "      <td>5069166.0</td>\n",
       "      <td>6478461.0</td>\n",
       "      <td>4652724.0</td>\n",
       "    </tr>\n",
       "    <tr>\n",
       "      <th>total</th>\n",
       "      <td>79646213.0</td>\n",
       "      <td>53254106.0</td>\n",
       "      <td>73010767.0</td>\n",
       "      <td>48402251.0</td>\n",
       "    </tr>\n",
       "  </tbody>\n",
       "</table>\n",
       "</div>"
      ],
      "text/plain": [
       "           all_sc      all_dt    hicov_sc    hicov_dt\n",
       "2R     21690522.0  14399188.0  19665129.0  12915499.0\n",
       "2L     20184975.0  13313064.0  18787274.0  12305596.0\n",
       "3R     16819330.0  11190408.0  15293287.0  10075676.0\n",
       "3L     13932157.0   9282280.0  12786616.0   8452756.0\n",
       "X       7019229.0   5069166.0   6478461.0   4652724.0\n",
       "total  79646213.0  53254106.0  73010767.0  48402251.0"
      ]
     },
     "execution_count": 33,
     "metadata": {},
     "output_type": "execute_result"
    }
   ],
   "source": [
    "df"
   ]
  },
  {
   "cell_type": "code",
   "execution_count": null,
   "id": "90117dd4-0d50-4334-9b65-151c1dc2a126",
   "metadata": {},
   "outputs": [],
   "source": []
  }
 ],
 "metadata": {
  "kernelspec": {
   "display_name": "default *",
   "language": "python",
   "name": "conda-env-default-py"
  },
  "language_info": {
   "codemirror_mode": {
    "name": "ipython",
    "version": 3
   },
   "file_extension": ".py",
   "mimetype": "text/x-python",
   "name": "python",
   "nbconvert_exporter": "python",
   "pygments_lexer": "ipython3",
   "version": "3.10.11"
  }
 },
 "nbformat": 4,
 "nbformat_minor": 5
}
