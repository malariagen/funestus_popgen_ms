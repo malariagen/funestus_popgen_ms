{
 "cells": [
  {
   "cell_type": "code",
   "execution_count": 1,
   "id": "c98f0518-34c6-4962-8e2c-d0c37c8b13e7",
   "metadata": {
    "tags": []
   },
   "outputs": [],
   "source": [
    "import malariagen_data\n",
    "import pandas as pd"
   ]
  },
  {
   "cell_type": "code",
   "execution_count": 2,
   "id": "9699be9b-017e-4a56-8654-3d9d91a3692d",
   "metadata": {
    "tags": []
   },
   "outputs": [],
   "source": [
    "import numpy as np"
   ]
  },
  {
   "cell_type": "code",
   "execution_count": 3,
   "id": "c836d31a-e33e-44e2-9ed2-9fca2b8eca74",
   "metadata": {
    "tags": []
   },
   "outputs": [
    {
     "data": {
      "application/javascript": [
       "(function(root) {\n",
       "  function now() {\n",
       "    return new Date();\n",
       "  }\n",
       "\n",
       "  const force = true;\n",
       "\n",
       "  if (typeof root._bokeh_onload_callbacks === \"undefined\" || force === true) {\n",
       "    root._bokeh_onload_callbacks = [];\n",
       "    root._bokeh_is_loading = undefined;\n",
       "  }\n",
       "\n",
       "const JS_MIME_TYPE = 'application/javascript';\n",
       "  const HTML_MIME_TYPE = 'text/html';\n",
       "  const EXEC_MIME_TYPE = 'application/vnd.bokehjs_exec.v0+json';\n",
       "  const CLASS_NAME = 'output_bokeh rendered_html';\n",
       "\n",
       "  /**\n",
       "   * Render data to the DOM node\n",
       "   */\n",
       "  function render(props, node) {\n",
       "    const script = document.createElement(\"script\");\n",
       "    node.appendChild(script);\n",
       "  }\n",
       "\n",
       "  /**\n",
       "   * Handle when an output is cleared or removed\n",
       "   */\n",
       "  function handleClearOutput(event, handle) {\n",
       "    const cell = handle.cell;\n",
       "\n",
       "    const id = cell.output_area._bokeh_element_id;\n",
       "    const server_id = cell.output_area._bokeh_server_id;\n",
       "    // Clean up Bokeh references\n",
       "    if (id != null && id in Bokeh.index) {\n",
       "      Bokeh.index[id].model.document.clear();\n",
       "      delete Bokeh.index[id];\n",
       "    }\n",
       "\n",
       "    if (server_id !== undefined) {\n",
       "      // Clean up Bokeh references\n",
       "      const cmd_clean = \"from bokeh.io.state import curstate; print(curstate().uuid_to_server['\" + server_id + \"'].get_sessions()[0].document.roots[0]._id)\";\n",
       "      cell.notebook.kernel.execute(cmd_clean, {\n",
       "        iopub: {\n",
       "          output: function(msg) {\n",
       "            const id = msg.content.text.trim();\n",
       "            if (id in Bokeh.index) {\n",
       "              Bokeh.index[id].model.document.clear();\n",
       "              delete Bokeh.index[id];\n",
       "            }\n",
       "          }\n",
       "        }\n",
       "      });\n",
       "      // Destroy server and session\n",
       "      const cmd_destroy = \"import bokeh.io.notebook as ion; ion.destroy_server('\" + server_id + \"')\";\n",
       "      cell.notebook.kernel.execute(cmd_destroy);\n",
       "    }\n",
       "  }\n",
       "\n",
       "  /**\n",
       "   * Handle when a new output is added\n",
       "   */\n",
       "  function handleAddOutput(event, handle) {\n",
       "    const output_area = handle.output_area;\n",
       "    const output = handle.output;\n",
       "\n",
       "    // limit handleAddOutput to display_data with EXEC_MIME_TYPE content only\n",
       "    if ((output.output_type != \"display_data\") || (!Object.prototype.hasOwnProperty.call(output.data, EXEC_MIME_TYPE))) {\n",
       "      return\n",
       "    }\n",
       "\n",
       "    const toinsert = output_area.element.find(\".\" + CLASS_NAME.split(' ')[0]);\n",
       "\n",
       "    if (output.metadata[EXEC_MIME_TYPE][\"id\"] !== undefined) {\n",
       "      toinsert[toinsert.length - 1].firstChild.textContent = output.data[JS_MIME_TYPE];\n",
       "      // store reference to embed id on output_area\n",
       "      output_area._bokeh_element_id = output.metadata[EXEC_MIME_TYPE][\"id\"];\n",
       "    }\n",
       "    if (output.metadata[EXEC_MIME_TYPE][\"server_id\"] !== undefined) {\n",
       "      const bk_div = document.createElement(\"div\");\n",
       "      bk_div.innerHTML = output.data[HTML_MIME_TYPE];\n",
       "      const script_attrs = bk_div.children[0].attributes;\n",
       "      for (let i = 0; i < script_attrs.length; i++) {\n",
       "        toinsert[toinsert.length - 1].firstChild.setAttribute(script_attrs[i].name, script_attrs[i].value);\n",
       "        toinsert[toinsert.length - 1].firstChild.textContent = bk_div.children[0].textContent\n",
       "      }\n",
       "      // store reference to server id on output_area\n",
       "      output_area._bokeh_server_id = output.metadata[EXEC_MIME_TYPE][\"server_id\"];\n",
       "    }\n",
       "  }\n",
       "\n",
       "  function register_renderer(events, OutputArea) {\n",
       "\n",
       "    function append_mime(data, metadata, element) {\n",
       "      // create a DOM node to render to\n",
       "      const toinsert = this.create_output_subarea(\n",
       "        metadata,\n",
       "        CLASS_NAME,\n",
       "        EXEC_MIME_TYPE\n",
       "      );\n",
       "      this.keyboard_manager.register_events(toinsert);\n",
       "      // Render to node\n",
       "      const props = {data: data, metadata: metadata[EXEC_MIME_TYPE]};\n",
       "      render(props, toinsert[toinsert.length - 1]);\n",
       "      element.append(toinsert);\n",
       "      return toinsert\n",
       "    }\n",
       "\n",
       "    /* Handle when an output is cleared or removed */\n",
       "    events.on('clear_output.CodeCell', handleClearOutput);\n",
       "    events.on('delete.Cell', handleClearOutput);\n",
       "\n",
       "    /* Handle when a new output is added */\n",
       "    events.on('output_added.OutputArea', handleAddOutput);\n",
       "\n",
       "    /**\n",
       "     * Register the mime type and append_mime function with output_area\n",
       "     */\n",
       "    OutputArea.prototype.register_mime_type(EXEC_MIME_TYPE, append_mime, {\n",
       "      /* Is output safe? */\n",
       "      safe: true,\n",
       "      /* Index of renderer in `output_area.display_order` */\n",
       "      index: 0\n",
       "    });\n",
       "  }\n",
       "\n",
       "  // register the mime type if in Jupyter Notebook environment and previously unregistered\n",
       "  if (root.Jupyter !== undefined) {\n",
       "    const events = require('base/js/events');\n",
       "    const OutputArea = require('notebook/js/outputarea').OutputArea;\n",
       "\n",
       "    if (OutputArea.prototype.mime_types().indexOf(EXEC_MIME_TYPE) == -1) {\n",
       "      register_renderer(events, OutputArea);\n",
       "    }\n",
       "  }\n",
       "  if (typeof (root._bokeh_timeout) === \"undefined\" || force === true) {\n",
       "    root._bokeh_timeout = Date.now() + 5000;\n",
       "    root._bokeh_failed_load = false;\n",
       "  }\n",
       "\n",
       "  const NB_LOAD_WARNING = {'data': {'text/html':\n",
       "     \"<div style='background-color: #fdd'>\\n\"+\n",
       "     \"<p>\\n\"+\n",
       "     \"BokehJS does not appear to have successfully loaded. If loading BokehJS from CDN, this \\n\"+\n",
       "     \"may be due to a slow or bad network connection. Possible fixes:\\n\"+\n",
       "     \"</p>\\n\"+\n",
       "     \"<ul>\\n\"+\n",
       "     \"<li>re-rerun `output_notebook()` to attempt to load from CDN again, or</li>\\n\"+\n",
       "     \"<li>use INLINE resources instead, as so:</li>\\n\"+\n",
       "     \"</ul>\\n\"+\n",
       "     \"<code>\\n\"+\n",
       "     \"from bokeh.resources import INLINE\\n\"+\n",
       "     \"output_notebook(resources=INLINE)\\n\"+\n",
       "     \"</code>\\n\"+\n",
       "     \"</div>\"}};\n",
       "\n",
       "  function display_loaded() {\n",
       "    const el = document.getElementById(null);\n",
       "    if (el != null) {\n",
       "      el.textContent = \"BokehJS is loading...\";\n",
       "    }\n",
       "    if (root.Bokeh !== undefined) {\n",
       "      if (el != null) {\n",
       "        el.textContent = \"BokehJS \" + root.Bokeh.version + \" successfully loaded.\";\n",
       "      }\n",
       "    } else if (Date.now() < root._bokeh_timeout) {\n",
       "      setTimeout(display_loaded, 100)\n",
       "    }\n",
       "  }\n",
       "\n",
       "  function run_callbacks() {\n",
       "    try {\n",
       "      root._bokeh_onload_callbacks.forEach(function(callback) {\n",
       "        if (callback != null)\n",
       "          callback();\n",
       "      });\n",
       "    } finally {\n",
       "      delete root._bokeh_onload_callbacks\n",
       "    }\n",
       "    console.debug(\"Bokeh: all callbacks have finished\");\n",
       "  }\n",
       "\n",
       "  function load_libs(css_urls, js_urls, callback) {\n",
       "    if (css_urls == null) css_urls = [];\n",
       "    if (js_urls == null) js_urls = [];\n",
       "\n",
       "    root._bokeh_onload_callbacks.push(callback);\n",
       "    if (root._bokeh_is_loading > 0) {\n",
       "      console.debug(\"Bokeh: BokehJS is being loaded, scheduling callback at\", now());\n",
       "      return null;\n",
       "    }\n",
       "    if (js_urls == null || js_urls.length === 0) {\n",
       "      run_callbacks();\n",
       "      return null;\n",
       "    }\n",
       "    console.debug(\"Bokeh: BokehJS not loaded, scheduling load and callback at\", now());\n",
       "    root._bokeh_is_loading = css_urls.length + js_urls.length;\n",
       "\n",
       "    function on_load() {\n",
       "      root._bokeh_is_loading--;\n",
       "      if (root._bokeh_is_loading === 0) {\n",
       "        console.debug(\"Bokeh: all BokehJS libraries/stylesheets loaded\");\n",
       "        run_callbacks()\n",
       "      }\n",
       "    }\n",
       "\n",
       "    function on_error(url) {\n",
       "      console.error(\"failed to load \" + url);\n",
       "    }\n",
       "\n",
       "    for (let i = 0; i < css_urls.length; i++) {\n",
       "      const url = css_urls[i];\n",
       "      const element = document.createElement(\"link\");\n",
       "      element.onload = on_load;\n",
       "      element.onerror = on_error.bind(null, url);\n",
       "      element.rel = \"stylesheet\";\n",
       "      element.type = \"text/css\";\n",
       "      element.href = url;\n",
       "      console.debug(\"Bokeh: injecting link tag for BokehJS stylesheet: \", url);\n",
       "      document.body.appendChild(element);\n",
       "    }\n",
       "\n",
       "    for (let i = 0; i < js_urls.length; i++) {\n",
       "      const url = js_urls[i];\n",
       "      const element = document.createElement('script');\n",
       "      element.onload = on_load;\n",
       "      element.onerror = on_error.bind(null, url);\n",
       "      element.async = false;\n",
       "      element.src = url;\n",
       "      console.debug(\"Bokeh: injecting script tag for BokehJS library: \", url);\n",
       "      document.head.appendChild(element);\n",
       "    }\n",
       "  };\n",
       "\n",
       "  function inject_raw_css(css) {\n",
       "    const element = document.createElement(\"style\");\n",
       "    element.appendChild(document.createTextNode(css));\n",
       "    document.body.appendChild(element);\n",
       "  }\n",
       "\n",
       "  const js_urls = [\"https://cdn.bokeh.org/bokeh/release/bokeh-3.2.1.min.js\", \"https://cdn.bokeh.org/bokeh/release/bokeh-gl-3.2.1.min.js\", \"https://cdn.bokeh.org/bokeh/release/bokeh-widgets-3.2.1.min.js\", \"https://cdn.bokeh.org/bokeh/release/bokeh-tables-3.2.1.min.js\", \"https://cdn.bokeh.org/bokeh/release/bokeh-mathjax-3.2.1.min.js\"];\n",
       "  const css_urls = [];\n",
       "\n",
       "  const inline_js = [    function(Bokeh) {\n",
       "      Bokeh.set_log_level(\"info\");\n",
       "    },\n",
       "function(Bokeh) {\n",
       "    }\n",
       "  ];\n",
       "\n",
       "  function run_inline_js() {\n",
       "    if (root.Bokeh !== undefined || force === true) {\n",
       "          for (let i = 0; i < inline_js.length; i++) {\n",
       "      inline_js[i].call(root, root.Bokeh);\n",
       "    }\n",
       "} else if (Date.now() < root._bokeh_timeout) {\n",
       "      setTimeout(run_inline_js, 100);\n",
       "    } else if (!root._bokeh_failed_load) {\n",
       "      console.log(\"Bokeh: BokehJS failed to load within specified timeout.\");\n",
       "      root._bokeh_failed_load = true;\n",
       "    } else if (force !== true) {\n",
       "      const cell = $(document.getElementById(null)).parents('.cell').data().cell;\n",
       "      cell.output_area.append_execute_result(NB_LOAD_WARNING)\n",
       "    }\n",
       "  }\n",
       "\n",
       "  if (root._bokeh_is_loading === 0) {\n",
       "    console.debug(\"Bokeh: BokehJS loaded, going straight to plotting\");\n",
       "    run_inline_js();\n",
       "  } else {\n",
       "    load_libs(css_urls, js_urls, function() {\n",
       "      console.debug(\"Bokeh: BokehJS plotting callback run at\", now());\n",
       "      run_inline_js();\n",
       "    });\n",
       "  }\n",
       "}(window));"
      ],
      "application/vnd.bokehjs_load.v0+json": "(function(root) {\n  function now() {\n    return new Date();\n  }\n\n  const force = true;\n\n  if (typeof root._bokeh_onload_callbacks === \"undefined\" || force === true) {\n    root._bokeh_onload_callbacks = [];\n    root._bokeh_is_loading = undefined;\n  }\n\n\n  if (typeof (root._bokeh_timeout) === \"undefined\" || force === true) {\n    root._bokeh_timeout = Date.now() + 5000;\n    root._bokeh_failed_load = false;\n  }\n\n  const NB_LOAD_WARNING = {'data': {'text/html':\n     \"<div style='background-color: #fdd'>\\n\"+\n     \"<p>\\n\"+\n     \"BokehJS does not appear to have successfully loaded. If loading BokehJS from CDN, this \\n\"+\n     \"may be due to a slow or bad network connection. Possible fixes:\\n\"+\n     \"</p>\\n\"+\n     \"<ul>\\n\"+\n     \"<li>re-rerun `output_notebook()` to attempt to load from CDN again, or</li>\\n\"+\n     \"<li>use INLINE resources instead, as so:</li>\\n\"+\n     \"</ul>\\n\"+\n     \"<code>\\n\"+\n     \"from bokeh.resources import INLINE\\n\"+\n     \"output_notebook(resources=INLINE)\\n\"+\n     \"</code>\\n\"+\n     \"</div>\"}};\n\n  function display_loaded() {\n    const el = document.getElementById(null);\n    if (el != null) {\n      el.textContent = \"BokehJS is loading...\";\n    }\n    if (root.Bokeh !== undefined) {\n      if (el != null) {\n        el.textContent = \"BokehJS \" + root.Bokeh.version + \" successfully loaded.\";\n      }\n    } else if (Date.now() < root._bokeh_timeout) {\n      setTimeout(display_loaded, 100)\n    }\n  }\n\n  function run_callbacks() {\n    try {\n      root._bokeh_onload_callbacks.forEach(function(callback) {\n        if (callback != null)\n          callback();\n      });\n    } finally {\n      delete root._bokeh_onload_callbacks\n    }\n    console.debug(\"Bokeh: all callbacks have finished\");\n  }\n\n  function load_libs(css_urls, js_urls, callback) {\n    if (css_urls == null) css_urls = [];\n    if (js_urls == null) js_urls = [];\n\n    root._bokeh_onload_callbacks.push(callback);\n    if (root._bokeh_is_loading > 0) {\n      console.debug(\"Bokeh: BokehJS is being loaded, scheduling callback at\", now());\n      return null;\n    }\n    if (js_urls == null || js_urls.length === 0) {\n      run_callbacks();\n      return null;\n    }\n    console.debug(\"Bokeh: BokehJS not loaded, scheduling load and callback at\", now());\n    root._bokeh_is_loading = css_urls.length + js_urls.length;\n\n    function on_load() {\n      root._bokeh_is_loading--;\n      if (root._bokeh_is_loading === 0) {\n        console.debug(\"Bokeh: all BokehJS libraries/stylesheets loaded\");\n        run_callbacks()\n      }\n    }\n\n    function on_error(url) {\n      console.error(\"failed to load \" + url);\n    }\n\n    for (let i = 0; i < css_urls.length; i++) {\n      const url = css_urls[i];\n      const element = document.createElement(\"link\");\n      element.onload = on_load;\n      element.onerror = on_error.bind(null, url);\n      element.rel = \"stylesheet\";\n      element.type = \"text/css\";\n      element.href = url;\n      console.debug(\"Bokeh: injecting link tag for BokehJS stylesheet: \", url);\n      document.body.appendChild(element);\n    }\n\n    for (let i = 0; i < js_urls.length; i++) {\n      const url = js_urls[i];\n      const element = document.createElement('script');\n      element.onload = on_load;\n      element.onerror = on_error.bind(null, url);\n      element.async = false;\n      element.src = url;\n      console.debug(\"Bokeh: injecting script tag for BokehJS library: \", url);\n      document.head.appendChild(element);\n    }\n  };\n\n  function inject_raw_css(css) {\n    const element = document.createElement(\"style\");\n    element.appendChild(document.createTextNode(css));\n    document.body.appendChild(element);\n  }\n\n  const js_urls = [\"https://cdn.bokeh.org/bokeh/release/bokeh-3.2.1.min.js\", \"https://cdn.bokeh.org/bokeh/release/bokeh-gl-3.2.1.min.js\", \"https://cdn.bokeh.org/bokeh/release/bokeh-widgets-3.2.1.min.js\", \"https://cdn.bokeh.org/bokeh/release/bokeh-tables-3.2.1.min.js\", \"https://cdn.bokeh.org/bokeh/release/bokeh-mathjax-3.2.1.min.js\"];\n  const css_urls = [];\n\n  const inline_js = [    function(Bokeh) {\n      Bokeh.set_log_level(\"info\");\n    },\nfunction(Bokeh) {\n    }\n  ];\n\n  function run_inline_js() {\n    if (root.Bokeh !== undefined || force === true) {\n          for (let i = 0; i < inline_js.length; i++) {\n      inline_js[i].call(root, root.Bokeh);\n    }\n} else if (Date.now() < root._bokeh_timeout) {\n      setTimeout(run_inline_js, 100);\n    } else if (!root._bokeh_failed_load) {\n      console.log(\"Bokeh: BokehJS failed to load within specified timeout.\");\n      root._bokeh_failed_load = true;\n    } else if (force !== true) {\n      const cell = $(document.getElementById(null)).parents('.cell').data().cell;\n      cell.output_area.append_execute_result(NB_LOAD_WARNING)\n    }\n  }\n\n  if (root._bokeh_is_loading === 0) {\n    console.debug(\"Bokeh: BokehJS loaded, going straight to plotting\");\n    run_inline_js();\n  } else {\n    load_libs(css_urls, js_urls, function() {\n      console.debug(\"Bokeh: BokehJS plotting callback run at\", now());\n      run_inline_js();\n    });\n  }\n}(window));"
     },
     "metadata": {},
     "output_type": "display_data"
    },
    {
     "data": {
      "text/html": [
       "\n",
       "            <table class=\"malariagen-af1\">\n",
       "                <thead>\n",
       "                    <tr>\n",
       "                        <th style=\"text-align: left\" colspan=\"2\">MalariaGEN Af1 API client</th>\n",
       "                    </tr>\n",
       "                    <tr><td colspan=\"2\" style=\"text-align: left\">\n",
       "                        Please note that data are subject to terms of use,\n",
       "                        for more information see <a href=\"https://www.malariagen.net/data\">\n",
       "                        the MalariaGEN website</a> or contact support@malariagen.net.\n",
       "                        See also the <a href=\"https://malariagen.github.io/malariagen-data-python/v10.0.0/Af1.html\">Af1 API docs</a>.\n",
       "                    </td></tr>\n",
       "                </thead>\n",
       "                <tbody>\n",
       "                    <tr>\n",
       "                        <th style=\"text-align: left\">\n",
       "                            Storage URL\n",
       "                        </th>\n",
       "                        <td>gs://vo_afun_release_master_us_central1</td>\n",
       "                    </tr>\n",
       "                    <tr>\n",
       "                        <th style=\"text-align: left\">\n",
       "                            Data releases available\n",
       "                        </th>\n",
       "                        <td>1.0</td>\n",
       "                    </tr>\n",
       "                    <tr>\n",
       "                        <th style=\"text-align: left\">\n",
       "                            Results cache\n",
       "                        </th>\n",
       "                        <td>None</td>\n",
       "                    </tr>\n",
       "                    <tr>\n",
       "                        <th style=\"text-align: left\">\n",
       "                            Cohorts analysis\n",
       "                        </th>\n",
       "                        <td>20240515</td>\n",
       "                    </tr>\n",
       "                    <tr>\n",
       "                        <th style=\"text-align: left\">\n",
       "                            Site filters analysis\n",
       "                        </th>\n",
       "                        <td>sc_20220908</td>\n",
       "                    </tr>\n",
       "                    <tr>\n",
       "                        <th style=\"text-align: left\">\n",
       "                            Software version\n",
       "                        </th>\n",
       "                        <td>malariagen_data 10.0.0</td>\n",
       "                    </tr>\n",
       "                    <tr>\n",
       "                        <th style=\"text-align: left\">\n",
       "                            Client location\n",
       "                        </th>\n",
       "                        <td>Iowa, United States (Google Cloud us-central1)</td>\n",
       "                    </tr>\n",
       "                </tbody>\n",
       "            </table>\n",
       "        "
      ],
      "text/plain": [
       "<MalariaGEN Af1 API client>\n",
       "Storage URL             : gs://vo_afun_release_master_us_central1\n",
       "Data releases available : 1.0\n",
       "Results cache           : None\n",
       "Cohorts analysis        : 20240515\n",
       "Site filters analysis   : sc_20220908\n",
       "Software version        : malariagen_data 10.0.0\n",
       "Client location         : Iowa, United States (Google Cloud us-central1)\n",
       "---\n",
       "Please note that data are subject to terms of use,\n",
       "for more information see https://www.malariagen.net/data\n",
       "or contact support@malariagen.net. For API documentation see \n",
       "https://malariagen.github.io/malariagen-data-python/v10.0.0/Af1.html"
      ]
     },
     "execution_count": 3,
     "metadata": {},
     "output_type": "execute_result"
    }
   ],
   "source": [
    "af1 = malariagen_data.Af1(site_filters_analysis=\"sc_20220908\")\n",
    "af1"
   ]
  },
  {
   "cell_type": "code",
   "execution_count": 4,
   "id": "ccefb201-f64f-4d4c-a12d-b17ade35f9aa",
   "metadata": {
    "tags": []
   },
   "outputs": [
    {
     "name": "stdout",
     "output_type": "stream",
     "text": [
      "                                     \r"
     ]
    },
    {
     "data": {
      "text/html": [
       "<div>\n",
       "<style scoped>\n",
       "    .dataframe tbody tr th:only-of-type {\n",
       "        vertical-align: middle;\n",
       "    }\n",
       "\n",
       "    .dataframe tbody tr th {\n",
       "        vertical-align: top;\n",
       "    }\n",
       "\n",
       "    .dataframe thead th {\n",
       "        text-align: right;\n",
       "    }\n",
       "</style>\n",
       "<table border=\"1\" class=\"dataframe\">\n",
       "  <thead>\n",
       "    <tr style=\"text-align: right;\">\n",
       "      <th></th>\n",
       "      <th>sample_id</th>\n",
       "      <th>partner_sample_id</th>\n",
       "      <th>contributor</th>\n",
       "      <th>country</th>\n",
       "      <th>location</th>\n",
       "      <th>year</th>\n",
       "      <th>month</th>\n",
       "      <th>latitude</th>\n",
       "      <th>longitude</th>\n",
       "      <th>sex_call</th>\n",
       "      <th>...</th>\n",
       "      <th>geographic_cohort_shape</th>\n",
       "      <th>PCA_cohort</th>\n",
       "      <th>PCA_cohort_colour</th>\n",
       "      <th>mitochondrial_id</th>\n",
       "      <th>karyotype_3La</th>\n",
       "      <th>karyotype_3Ra</th>\n",
       "      <th>karyotype_3Rb</th>\n",
       "      <th>karyotype_2Ra</th>\n",
       "      <th>karyotype_2Rh</th>\n",
       "      <th>median_coverage</th>\n",
       "    </tr>\n",
       "  </thead>\n",
       "  <tbody>\n",
       "    <tr>\n",
       "      <th>0</th>\n",
       "      <td>VBS24195</td>\n",
       "      <td>1229-GH-A-GH01</td>\n",
       "      <td>Samuel Dadzie</td>\n",
       "      <td>Ghana</td>\n",
       "      <td>Dimabi</td>\n",
       "      <td>2017</td>\n",
       "      <td>8</td>\n",
       "      <td>9.420</td>\n",
       "      <td>-1.083</td>\n",
       "      <td>F</td>\n",
       "      <td>...</td>\n",
       "      <td>triangle-up</td>\n",
       "      <td>N_Ghana</td>\n",
       "      <td>#2ca02c</td>\n",
       "      <td>funestus-lineageI-clusterB</td>\n",
       "      <td>NaN</td>\n",
       "      <td>3R+/a</td>\n",
       "      <td>3Rb/b</td>\n",
       "      <td>2Ra/a</td>\n",
       "      <td>2R+/+</td>\n",
       "      <td>36</td>\n",
       "    </tr>\n",
       "    <tr>\n",
       "      <th>1</th>\n",
       "      <td>VBS24196</td>\n",
       "      <td>1229-GH-A-GH02</td>\n",
       "      <td>Samuel Dadzie</td>\n",
       "      <td>Ghana</td>\n",
       "      <td>Gbullung</td>\n",
       "      <td>2017</td>\n",
       "      <td>7</td>\n",
       "      <td>9.488</td>\n",
       "      <td>-1.009</td>\n",
       "      <td>F</td>\n",
       "      <td>...</td>\n",
       "      <td>triangle-up</td>\n",
       "      <td>N_Ghana</td>\n",
       "      <td>#2ca02c</td>\n",
       "      <td>funestus-lineageI-clusterB</td>\n",
       "      <td>NaN</td>\n",
       "      <td>3Ra/a</td>\n",
       "      <td>3Rb/b</td>\n",
       "      <td>2Ra/a</td>\n",
       "      <td>2R+/+</td>\n",
       "      <td>30</td>\n",
       "    </tr>\n",
       "    <tr>\n",
       "      <th>2</th>\n",
       "      <td>VBS24197</td>\n",
       "      <td>1229-GH-A-GH03</td>\n",
       "      <td>Samuel Dadzie</td>\n",
       "      <td>Ghana</td>\n",
       "      <td>Dimabi</td>\n",
       "      <td>2017</td>\n",
       "      <td>7</td>\n",
       "      <td>9.420</td>\n",
       "      <td>-1.083</td>\n",
       "      <td>F</td>\n",
       "      <td>...</td>\n",
       "      <td>triangle-up</td>\n",
       "      <td>N_Ghana</td>\n",
       "      <td>#2ca02c</td>\n",
       "      <td>funestus-lineageI-clusterB</td>\n",
       "      <td>NaN</td>\n",
       "      <td>3R+/a</td>\n",
       "      <td>3Rb/b</td>\n",
       "      <td>2Ra/a</td>\n",
       "      <td>2R+/+</td>\n",
       "      <td>36</td>\n",
       "    </tr>\n",
       "    <tr>\n",
       "      <th>3</th>\n",
       "      <td>VBS24198</td>\n",
       "      <td>1229-GH-A-GH04</td>\n",
       "      <td>Samuel Dadzie</td>\n",
       "      <td>Ghana</td>\n",
       "      <td>Dimabi</td>\n",
       "      <td>2017</td>\n",
       "      <td>8</td>\n",
       "      <td>9.420</td>\n",
       "      <td>-1.083</td>\n",
       "      <td>F</td>\n",
       "      <td>...</td>\n",
       "      <td>triangle-up</td>\n",
       "      <td>N_Ghana</td>\n",
       "      <td>#2ca02c</td>\n",
       "      <td>funestus-lineageI-clusterB</td>\n",
       "      <td>NaN</td>\n",
       "      <td>3R+/a</td>\n",
       "      <td>3Rb/b</td>\n",
       "      <td>2Ra/a</td>\n",
       "      <td>2R+/+</td>\n",
       "      <td>21</td>\n",
       "    </tr>\n",
       "    <tr>\n",
       "      <th>4</th>\n",
       "      <td>VBS24199</td>\n",
       "      <td>1229-GH-A-GH05</td>\n",
       "      <td>Samuel Dadzie</td>\n",
       "      <td>Ghana</td>\n",
       "      <td>Gupanarigu</td>\n",
       "      <td>2017</td>\n",
       "      <td>8</td>\n",
       "      <td>9.497</td>\n",
       "      <td>-0.952</td>\n",
       "      <td>F</td>\n",
       "      <td>...</td>\n",
       "      <td>triangle-up</td>\n",
       "      <td>N_Ghana</td>\n",
       "      <td>#2ca02c</td>\n",
       "      <td>funestus-lineageI-clusterB</td>\n",
       "      <td>NaN</td>\n",
       "      <td>3Ra/a</td>\n",
       "      <td>3Rb/b</td>\n",
       "      <td>2Ra/a</td>\n",
       "      <td>2R+/+</td>\n",
       "      <td>34</td>\n",
       "    </tr>\n",
       "    <tr>\n",
       "      <th>...</th>\n",
       "      <td>...</td>\n",
       "      <td>...</td>\n",
       "      <td>...</td>\n",
       "      <td>...</td>\n",
       "      <td>...</td>\n",
       "      <td>...</td>\n",
       "      <td>...</td>\n",
       "      <td>...</td>\n",
       "      <td>...</td>\n",
       "      <td>...</td>\n",
       "      <td>...</td>\n",
       "      <td>...</td>\n",
       "      <td>...</td>\n",
       "      <td>...</td>\n",
       "      <td>...</td>\n",
       "      <td>...</td>\n",
       "      <td>...</td>\n",
       "      <td>...</td>\n",
       "      <td>...</td>\n",
       "      <td>...</td>\n",
       "      <td>...</td>\n",
       "    </tr>\n",
       "    <tr>\n",
       "      <th>651</th>\n",
       "      <td>VBS24534</td>\n",
       "      <td>1240-MZ-A-MozF_1314</td>\n",
       "      <td>Lizette Koekemoer</td>\n",
       "      <td>Mozambique</td>\n",
       "      <td>Motinho</td>\n",
       "      <td>2015</td>\n",
       "      <td>8</td>\n",
       "      <td>-10.851</td>\n",
       "      <td>40.594</td>\n",
       "      <td>F</td>\n",
       "      <td>...</td>\n",
       "      <td>triangle-up</td>\n",
       "      <td>S_east</td>\n",
       "      <td>#1f77b4</td>\n",
       "      <td>funestus-lineageI-clusterA</td>\n",
       "      <td>3L+/a</td>\n",
       "      <td>3R+/a</td>\n",
       "      <td>3R+/+</td>\n",
       "      <td>2R+/+</td>\n",
       "      <td>2R+/+</td>\n",
       "      <td>45</td>\n",
       "    </tr>\n",
       "    <tr>\n",
       "      <th>652</th>\n",
       "      <td>VBS24535</td>\n",
       "      <td>1240-MZ-A-MozF_1315</td>\n",
       "      <td>Lizette Koekemoer</td>\n",
       "      <td>Mozambique</td>\n",
       "      <td>Motinho</td>\n",
       "      <td>2015</td>\n",
       "      <td>8</td>\n",
       "      <td>-10.851</td>\n",
       "      <td>40.594</td>\n",
       "      <td>F</td>\n",
       "      <td>...</td>\n",
       "      <td>triangle-up</td>\n",
       "      <td>S_east</td>\n",
       "      <td>#1f77b4</td>\n",
       "      <td>funestus-lineageI-clusterA</td>\n",
       "      <td>3L+/a</td>\n",
       "      <td>3R+/a</td>\n",
       "      <td>3R+/+</td>\n",
       "      <td>2R+/+</td>\n",
       "      <td>2R+/+</td>\n",
       "      <td>50</td>\n",
       "    </tr>\n",
       "    <tr>\n",
       "      <th>653</th>\n",
       "      <td>VBS24536</td>\n",
       "      <td>1240-MZ-A-MozF_1317</td>\n",
       "      <td>Lizette Koekemoer</td>\n",
       "      <td>Mozambique</td>\n",
       "      <td>Motinho</td>\n",
       "      <td>2015</td>\n",
       "      <td>8</td>\n",
       "      <td>-10.851</td>\n",
       "      <td>40.594</td>\n",
       "      <td>F</td>\n",
       "      <td>...</td>\n",
       "      <td>triangle-up</td>\n",
       "      <td>S_east</td>\n",
       "      <td>#1f77b4</td>\n",
       "      <td>funestus-lineageI-clusterA</td>\n",
       "      <td>3La/a</td>\n",
       "      <td>3R+/+</td>\n",
       "      <td>3R+/b</td>\n",
       "      <td>2R+/+</td>\n",
       "      <td>2R+/+</td>\n",
       "      <td>43</td>\n",
       "    </tr>\n",
       "    <tr>\n",
       "      <th>654</th>\n",
       "      <td>VBS24537</td>\n",
       "      <td>1240-MZ-A-MozF_1319</td>\n",
       "      <td>Lizette Koekemoer</td>\n",
       "      <td>Mozambique</td>\n",
       "      <td>Motinho</td>\n",
       "      <td>2015</td>\n",
       "      <td>8</td>\n",
       "      <td>-10.851</td>\n",
       "      <td>40.594</td>\n",
       "      <td>F</td>\n",
       "      <td>...</td>\n",
       "      <td>triangle-up</td>\n",
       "      <td>S_east</td>\n",
       "      <td>#1f77b4</td>\n",
       "      <td>funestus-lineageI-clusterA</td>\n",
       "      <td>3L+/a</td>\n",
       "      <td>3R+/a</td>\n",
       "      <td>3R+/b</td>\n",
       "      <td>2R+/+</td>\n",
       "      <td>2R+/+</td>\n",
       "      <td>45</td>\n",
       "    </tr>\n",
       "    <tr>\n",
       "      <th>655</th>\n",
       "      <td>VBS24539</td>\n",
       "      <td>1240-MZ-A-MozF_1323</td>\n",
       "      <td>Lizette Koekemoer</td>\n",
       "      <td>Mozambique</td>\n",
       "      <td>Motinho</td>\n",
       "      <td>2015</td>\n",
       "      <td>8</td>\n",
       "      <td>-10.851</td>\n",
       "      <td>40.594</td>\n",
       "      <td>F</td>\n",
       "      <td>...</td>\n",
       "      <td>triangle-up</td>\n",
       "      <td>S_east</td>\n",
       "      <td>#1f77b4</td>\n",
       "      <td>funestus-lineageI-clusterA</td>\n",
       "      <td>3La/a</td>\n",
       "      <td>3R+/a</td>\n",
       "      <td>3R+/b</td>\n",
       "      <td>2R+/+</td>\n",
       "      <td>2R+/+</td>\n",
       "      <td>37</td>\n",
       "    </tr>\n",
       "  </tbody>\n",
       "</table>\n",
       "<p>656 rows × 38 columns</p>\n",
       "</div>"
      ],
      "text/plain": [
       "    sample_id    partner_sample_id        contributor     country    location  \\\n",
       "0    VBS24195       1229-GH-A-GH01      Samuel Dadzie       Ghana      Dimabi   \n",
       "1    VBS24196       1229-GH-A-GH02      Samuel Dadzie       Ghana    Gbullung   \n",
       "2    VBS24197       1229-GH-A-GH03      Samuel Dadzie       Ghana      Dimabi   \n",
       "3    VBS24198       1229-GH-A-GH04      Samuel Dadzie       Ghana      Dimabi   \n",
       "4    VBS24199       1229-GH-A-GH05      Samuel Dadzie       Ghana  Gupanarigu   \n",
       "..        ...                  ...                ...         ...         ...   \n",
       "651  VBS24534  1240-MZ-A-MozF_1314  Lizette Koekemoer  Mozambique     Motinho   \n",
       "652  VBS24535  1240-MZ-A-MozF_1315  Lizette Koekemoer  Mozambique     Motinho   \n",
       "653  VBS24536  1240-MZ-A-MozF_1317  Lizette Koekemoer  Mozambique     Motinho   \n",
       "654  VBS24537  1240-MZ-A-MozF_1319  Lizette Koekemoer  Mozambique     Motinho   \n",
       "655  VBS24539  1240-MZ-A-MozF_1323  Lizette Koekemoer  Mozambique     Motinho   \n",
       "\n",
       "     year  month  latitude  longitude sex_call  ... geographic_cohort_shape  \\\n",
       "0    2017      8     9.420     -1.083        F  ...             triangle-up   \n",
       "1    2017      7     9.488     -1.009        F  ...             triangle-up   \n",
       "2    2017      7     9.420     -1.083        F  ...             triangle-up   \n",
       "3    2017      8     9.420     -1.083        F  ...             triangle-up   \n",
       "4    2017      8     9.497     -0.952        F  ...             triangle-up   \n",
       "..    ...    ...       ...        ...      ...  ...                     ...   \n",
       "651  2015      8   -10.851     40.594        F  ...             triangle-up   \n",
       "652  2015      8   -10.851     40.594        F  ...             triangle-up   \n",
       "653  2015      8   -10.851     40.594        F  ...             triangle-up   \n",
       "654  2015      8   -10.851     40.594        F  ...             triangle-up   \n",
       "655  2015      8   -10.851     40.594        F  ...             triangle-up   \n",
       "\n",
       "    PCA_cohort  PCA_cohort_colour            mitochondrial_id karyotype_3La  \\\n",
       "0      N_Ghana            #2ca02c  funestus-lineageI-clusterB           NaN   \n",
       "1      N_Ghana            #2ca02c  funestus-lineageI-clusterB           NaN   \n",
       "2      N_Ghana            #2ca02c  funestus-lineageI-clusterB           NaN   \n",
       "3      N_Ghana            #2ca02c  funestus-lineageI-clusterB           NaN   \n",
       "4      N_Ghana            #2ca02c  funestus-lineageI-clusterB           NaN   \n",
       "..         ...                ...                         ...           ...   \n",
       "651     S_east            #1f77b4  funestus-lineageI-clusterA         3L+/a   \n",
       "652     S_east            #1f77b4  funestus-lineageI-clusterA         3L+/a   \n",
       "653     S_east            #1f77b4  funestus-lineageI-clusterA         3La/a   \n",
       "654     S_east            #1f77b4  funestus-lineageI-clusterA         3L+/a   \n",
       "655     S_east            #1f77b4  funestus-lineageI-clusterA         3La/a   \n",
       "\n",
       "    karyotype_3Ra karyotype_3Rb karyotype_2Ra karyotype_2Rh median_coverage  \n",
       "0           3R+/a         3Rb/b         2Ra/a         2R+/+              36  \n",
       "1           3Ra/a         3Rb/b         2Ra/a         2R+/+              30  \n",
       "2           3R+/a         3Rb/b         2Ra/a         2R+/+              36  \n",
       "3           3R+/a         3Rb/b         2Ra/a         2R+/+              21  \n",
       "4           3Ra/a         3Rb/b         2Ra/a         2R+/+              34  \n",
       "..            ...           ...           ...           ...             ...  \n",
       "651         3R+/a         3R+/+         2R+/+         2R+/+              45  \n",
       "652         3R+/a         3R+/+         2R+/+         2R+/+              50  \n",
       "653         3R+/+         3R+/b         2R+/+         2R+/+              43  \n",
       "654         3R+/a         3R+/b         2R+/+         2R+/+              45  \n",
       "655         3R+/a         3R+/b         2R+/+         2R+/+              37  \n",
       "\n",
       "[656 rows x 38 columns]"
      ]
     },
     "execution_count": 4,
     "metadata": {},
     "output_type": "execute_result"
    }
   ],
   "source": [
    "af1.add_extra_metadata(pd.read_csv(\"../../metadata/supp1.csv\"))\n",
    "meta = af1.sample_metadata()\n",
    "meta"
   ]
  },
  {
   "cell_type": "code",
   "execution_count": 5,
   "id": "dac716d6-74bd-4a65-8c73-4056d40fc0e5",
   "metadata": {
    "tags": []
   },
   "outputs": [
    {
     "data": {
      "text/plain": [
       "Index(['sample_id', 'partner_sample_id', 'contributor', 'country', 'location',\n",
       "       'year', 'month', 'latitude', 'longitude', 'sex_call', 'sample_set',\n",
       "       'release', 'quarter', 'study_id', 'study_url', 'country_iso',\n",
       "       'admin1_name', 'admin1_iso', 'admin2_name', 'taxon',\n",
       "       'cohort_admin1_year', 'cohort_admin1_month', 'cohort_admin1_quarter',\n",
       "       'cohort_admin2_year', 'cohort_admin2_month', 'cohort_admin2_quarter',\n",
       "       'geographic_cohort', 'geographic_cohort_colour',\n",
       "       'geographic_cohort_shape', 'PCA_cohort', 'PCA_cohort_colour',\n",
       "       'mitochondrial_id', 'karyotype_3La', 'karyotype_3Ra', 'karyotype_3Rb',\n",
       "       'karyotype_2Ra', 'karyotype_2Rh', 'median_coverage'],\n",
       "      dtype='object')"
      ]
     },
     "execution_count": 5,
     "metadata": {},
     "output_type": "execute_result"
    }
   ],
   "source": [
    "meta.columns"
   ]
  },
  {
   "cell_type": "code",
   "execution_count": 6,
   "id": "b1de3eb0-57e6-4578-a95c-dbe4c63ec3c0",
   "metadata": {
    "tags": []
   },
   "outputs": [
    {
     "data": {
      "text/plain": [
       "array(['1.0'], dtype=object)"
      ]
     },
     "execution_count": 6,
     "metadata": {},
     "output_type": "execute_result"
    }
   ],
   "source": [
    "meta.release.unique()"
   ]
  },
  {
   "cell_type": "code",
   "execution_count": 7,
   "id": "7a5b9976-bdd8-4631-8336-3c89f40cca4e",
   "metadata": {
    "tags": []
   },
   "outputs": [
    {
     "data": {
      "text/plain": [
       "(656, 38)"
      ]
     },
     "execution_count": 7,
     "metadata": {},
     "output_type": "execute_result"
    }
   ],
   "source": [
    "meta.query('release == \"1.0\"').shape"
   ]
  },
  {
   "cell_type": "code",
   "execution_count": 20,
   "id": "5682af56-5b03-4382-b4b6-621b29b3dbdb",
   "metadata": {},
   "outputs": [
    {
     "data": {
      "application/vnd.jupyter.widget-view+json": {
       "model_id": "bd7cf59fcd5240939f19b3db778690d1",
       "version_major": 2,
       "version_minor": 0
      },
      "text/plain": [
       "Compute SNP allele counts:   0%|          | 0/8140 [00:00<?, ?it/s]"
      ]
     },
     "metadata": {},
     "output_type": "display_data"
    },
    {
     "data": {
      "application/vnd.jupyter.widget-view+json": {
       "model_id": "5cb13410d9ce4e2daa563061f814c408",
       "version_major": 2,
       "version_minor": 0
      },
      "text/plain": [
       "Load SNP genotypes:   0%|          | 0/9768 [00:00<?, ?it/s]"
      ]
     },
     "metadata": {},
     "output_type": "display_data"
    }
   ],
   "source": [
    "df_pca, evr = af1.pca(\n",
    "    region = '2RL:57604655-102000000', \n",
    "    n_snps = 200_000, \n",
    "    sample_sets = '1.0', \n",
    "    site_mask = 'funestus', \n",
    "    min_minor_ac = int(0.01 * 656 * 2),\n",
    "    max_missing_an = int(0.05 * 656 *2), \n",
    "    n_components = 16)\n",
    "    "
   ]
  },
  {
   "cell_type": "code",
   "execution_count": 21,
   "id": "5082e221-563e-4208-b837-0a38654c24da",
   "metadata": {
    "tags": []
   },
   "outputs": [
    {
     "data": {
      "text/html": [
       "<div>\n",
       "<style scoped>\n",
       "    .dataframe tbody tr th:only-of-type {\n",
       "        vertical-align: middle;\n",
       "    }\n",
       "\n",
       "    .dataframe tbody tr th {\n",
       "        vertical-align: top;\n",
       "    }\n",
       "\n",
       "    .dataframe thead th {\n",
       "        text-align: right;\n",
       "    }\n",
       "</style>\n",
       "<table border=\"1\" class=\"dataframe\">\n",
       "  <thead>\n",
       "    <tr style=\"text-align: right;\">\n",
       "      <th></th>\n",
       "      <th>sample_id</th>\n",
       "      <th>partner_sample_id</th>\n",
       "      <th>contributor</th>\n",
       "      <th>country</th>\n",
       "      <th>location</th>\n",
       "      <th>year</th>\n",
       "      <th>month</th>\n",
       "      <th>latitude</th>\n",
       "      <th>longitude</th>\n",
       "      <th>sex_call</th>\n",
       "      <th>...</th>\n",
       "      <th>PC7</th>\n",
       "      <th>PC8</th>\n",
       "      <th>PC9</th>\n",
       "      <th>PC10</th>\n",
       "      <th>PC11</th>\n",
       "      <th>PC12</th>\n",
       "      <th>PC13</th>\n",
       "      <th>PC14</th>\n",
       "      <th>PC15</th>\n",
       "      <th>PC16</th>\n",
       "    </tr>\n",
       "  </thead>\n",
       "  <tbody>\n",
       "    <tr>\n",
       "      <th>0</th>\n",
       "      <td>VBS24195</td>\n",
       "      <td>1229-GH-A-GH01</td>\n",
       "      <td>Samuel Dadzie</td>\n",
       "      <td>Ghana</td>\n",
       "      <td>Dimabi</td>\n",
       "      <td>2017</td>\n",
       "      <td>8</td>\n",
       "      <td>9.420</td>\n",
       "      <td>-1.083</td>\n",
       "      <td>F</td>\n",
       "      <td>...</td>\n",
       "      <td>17.335978</td>\n",
       "      <td>392.170563</td>\n",
       "      <td>-4.828117</td>\n",
       "      <td>13.167892</td>\n",
       "      <td>-3.358658</td>\n",
       "      <td>-0.943239</td>\n",
       "      <td>1.265007</td>\n",
       "      <td>-4.080645</td>\n",
       "      <td>4.194095</td>\n",
       "      <td>0.036339</td>\n",
       "    </tr>\n",
       "    <tr>\n",
       "      <th>1</th>\n",
       "      <td>VBS24196</td>\n",
       "      <td>1229-GH-A-GH02</td>\n",
       "      <td>Samuel Dadzie</td>\n",
       "      <td>Ghana</td>\n",
       "      <td>Gbullung</td>\n",
       "      <td>2017</td>\n",
       "      <td>7</td>\n",
       "      <td>9.488</td>\n",
       "      <td>-1.009</td>\n",
       "      <td>F</td>\n",
       "      <td>...</td>\n",
       "      <td>-16.785383</td>\n",
       "      <td>-51.545383</td>\n",
       "      <td>15.093560</td>\n",
       "      <td>1.192991</td>\n",
       "      <td>4.927580</td>\n",
       "      <td>3.884033</td>\n",
       "      <td>5.483262</td>\n",
       "      <td>26.366415</td>\n",
       "      <td>-4.769647</td>\n",
       "      <td>44.781597</td>\n",
       "    </tr>\n",
       "    <tr>\n",
       "      <th>2</th>\n",
       "      <td>VBS24197</td>\n",
       "      <td>1229-GH-A-GH03</td>\n",
       "      <td>Samuel Dadzie</td>\n",
       "      <td>Ghana</td>\n",
       "      <td>Dimabi</td>\n",
       "      <td>2017</td>\n",
       "      <td>7</td>\n",
       "      <td>9.420</td>\n",
       "      <td>-1.083</td>\n",
       "      <td>F</td>\n",
       "      <td>...</td>\n",
       "      <td>-16.187029</td>\n",
       "      <td>-40.041401</td>\n",
       "      <td>-13.127802</td>\n",
       "      <td>-6.924955</td>\n",
       "      <td>2.936363</td>\n",
       "      <td>3.502536</td>\n",
       "      <td>-3.644072</td>\n",
       "      <td>-6.529322</td>\n",
       "      <td>3.272416</td>\n",
       "      <td>-3.818514</td>\n",
       "    </tr>\n",
       "    <tr>\n",
       "      <th>3</th>\n",
       "      <td>VBS24198</td>\n",
       "      <td>1229-GH-A-GH04</td>\n",
       "      <td>Samuel Dadzie</td>\n",
       "      <td>Ghana</td>\n",
       "      <td>Dimabi</td>\n",
       "      <td>2017</td>\n",
       "      <td>8</td>\n",
       "      <td>9.420</td>\n",
       "      <td>-1.083</td>\n",
       "      <td>F</td>\n",
       "      <td>...</td>\n",
       "      <td>22.296328</td>\n",
       "      <td>488.883270</td>\n",
       "      <td>-73.554466</td>\n",
       "      <td>13.587123</td>\n",
       "      <td>0.199960</td>\n",
       "      <td>1.625081</td>\n",
       "      <td>-3.416288</td>\n",
       "      <td>-8.516673</td>\n",
       "      <td>2.985849</td>\n",
       "      <td>-5.431977</td>\n",
       "    </tr>\n",
       "    <tr>\n",
       "      <th>4</th>\n",
       "      <td>VBS24199</td>\n",
       "      <td>1229-GH-A-GH05</td>\n",
       "      <td>Samuel Dadzie</td>\n",
       "      <td>Ghana</td>\n",
       "      <td>Gupanarigu</td>\n",
       "      <td>2017</td>\n",
       "      <td>8</td>\n",
       "      <td>9.497</td>\n",
       "      <td>-0.952</td>\n",
       "      <td>F</td>\n",
       "      <td>...</td>\n",
       "      <td>16.134296</td>\n",
       "      <td>411.618591</td>\n",
       "      <td>-47.044487</td>\n",
       "      <td>6.901426</td>\n",
       "      <td>7.276990</td>\n",
       "      <td>-0.292836</td>\n",
       "      <td>1.513046</td>\n",
       "      <td>-6.161454</td>\n",
       "      <td>0.945428</td>\n",
       "      <td>-10.674298</td>\n",
       "    </tr>\n",
       "    <tr>\n",
       "      <th>...</th>\n",
       "      <td>...</td>\n",
       "      <td>...</td>\n",
       "      <td>...</td>\n",
       "      <td>...</td>\n",
       "      <td>...</td>\n",
       "      <td>...</td>\n",
       "      <td>...</td>\n",
       "      <td>...</td>\n",
       "      <td>...</td>\n",
       "      <td>...</td>\n",
       "      <td>...</td>\n",
       "      <td>...</td>\n",
       "      <td>...</td>\n",
       "      <td>...</td>\n",
       "      <td>...</td>\n",
       "      <td>...</td>\n",
       "      <td>...</td>\n",
       "      <td>...</td>\n",
       "      <td>...</td>\n",
       "      <td>...</td>\n",
       "      <td>...</td>\n",
       "    </tr>\n",
       "    <tr>\n",
       "      <th>651</th>\n",
       "      <td>VBS24534</td>\n",
       "      <td>1240-MZ-A-MozF_1314</td>\n",
       "      <td>Lizette Koekemoer</td>\n",
       "      <td>Mozambique</td>\n",
       "      <td>Motinho</td>\n",
       "      <td>2015</td>\n",
       "      <td>8</td>\n",
       "      <td>-10.851</td>\n",
       "      <td>40.594</td>\n",
       "      <td>F</td>\n",
       "      <td>...</td>\n",
       "      <td>6.169640</td>\n",
       "      <td>1.079013</td>\n",
       "      <td>0.424434</td>\n",
       "      <td>0.145886</td>\n",
       "      <td>-5.594067</td>\n",
       "      <td>4.779331</td>\n",
       "      <td>-0.155642</td>\n",
       "      <td>-1.669077</td>\n",
       "      <td>-0.540451</td>\n",
       "      <td>-1.546405</td>\n",
       "    </tr>\n",
       "    <tr>\n",
       "      <th>652</th>\n",
       "      <td>VBS24535</td>\n",
       "      <td>1240-MZ-A-MozF_1315</td>\n",
       "      <td>Lizette Koekemoer</td>\n",
       "      <td>Mozambique</td>\n",
       "      <td>Motinho</td>\n",
       "      <td>2015</td>\n",
       "      <td>8</td>\n",
       "      <td>-10.851</td>\n",
       "      <td>40.594</td>\n",
       "      <td>F</td>\n",
       "      <td>...</td>\n",
       "      <td>4.688753</td>\n",
       "      <td>0.017673</td>\n",
       "      <td>-0.881347</td>\n",
       "      <td>-0.566143</td>\n",
       "      <td>-5.427140</td>\n",
       "      <td>6.012718</td>\n",
       "      <td>-0.941359</td>\n",
       "      <td>-0.295899</td>\n",
       "      <td>0.132659</td>\n",
       "      <td>1.329740</td>\n",
       "    </tr>\n",
       "    <tr>\n",
       "      <th>653</th>\n",
       "      <td>VBS24536</td>\n",
       "      <td>1240-MZ-A-MozF_1317</td>\n",
       "      <td>Lizette Koekemoer</td>\n",
       "      <td>Mozambique</td>\n",
       "      <td>Motinho</td>\n",
       "      <td>2015</td>\n",
       "      <td>8</td>\n",
       "      <td>-10.851</td>\n",
       "      <td>40.594</td>\n",
       "      <td>F</td>\n",
       "      <td>...</td>\n",
       "      <td>4.721905</td>\n",
       "      <td>-0.981295</td>\n",
       "      <td>-0.535010</td>\n",
       "      <td>-0.348968</td>\n",
       "      <td>-0.080653</td>\n",
       "      <td>0.951462</td>\n",
       "      <td>0.875835</td>\n",
       "      <td>-1.358237</td>\n",
       "      <td>1.293014</td>\n",
       "      <td>0.819938</td>\n",
       "    </tr>\n",
       "    <tr>\n",
       "      <th>654</th>\n",
       "      <td>VBS24537</td>\n",
       "      <td>1240-MZ-A-MozF_1319</td>\n",
       "      <td>Lizette Koekemoer</td>\n",
       "      <td>Mozambique</td>\n",
       "      <td>Motinho</td>\n",
       "      <td>2015</td>\n",
       "      <td>8</td>\n",
       "      <td>-10.851</td>\n",
       "      <td>40.594</td>\n",
       "      <td>F</td>\n",
       "      <td>...</td>\n",
       "      <td>4.080131</td>\n",
       "      <td>0.982331</td>\n",
       "      <td>1.217957</td>\n",
       "      <td>-0.864140</td>\n",
       "      <td>-2.886994</td>\n",
       "      <td>2.308711</td>\n",
       "      <td>0.598099</td>\n",
       "      <td>-0.546990</td>\n",
       "      <td>-1.888905</td>\n",
       "      <td>0.037255</td>\n",
       "    </tr>\n",
       "    <tr>\n",
       "      <th>655</th>\n",
       "      <td>VBS24539</td>\n",
       "      <td>1240-MZ-A-MozF_1323</td>\n",
       "      <td>Lizette Koekemoer</td>\n",
       "      <td>Mozambique</td>\n",
       "      <td>Motinho</td>\n",
       "      <td>2015</td>\n",
       "      <td>8</td>\n",
       "      <td>-10.851</td>\n",
       "      <td>40.594</td>\n",
       "      <td>F</td>\n",
       "      <td>...</td>\n",
       "      <td>4.727406</td>\n",
       "      <td>-0.463620</td>\n",
       "      <td>1.364048</td>\n",
       "      <td>-1.494500</td>\n",
       "      <td>-4.822278</td>\n",
       "      <td>6.531233</td>\n",
       "      <td>0.907630</td>\n",
       "      <td>-0.408496</td>\n",
       "      <td>-0.760222</td>\n",
       "      <td>-0.996812</td>\n",
       "    </tr>\n",
       "  </tbody>\n",
       "</table>\n",
       "<p>656 rows × 52 columns</p>\n",
       "</div>"
      ],
      "text/plain": [
       "    sample_id    partner_sample_id        contributor     country    location  \\\n",
       "0    VBS24195       1229-GH-A-GH01      Samuel Dadzie       Ghana      Dimabi   \n",
       "1    VBS24196       1229-GH-A-GH02      Samuel Dadzie       Ghana    Gbullung   \n",
       "2    VBS24197       1229-GH-A-GH03      Samuel Dadzie       Ghana      Dimabi   \n",
       "3    VBS24198       1229-GH-A-GH04      Samuel Dadzie       Ghana      Dimabi   \n",
       "4    VBS24199       1229-GH-A-GH05      Samuel Dadzie       Ghana  Gupanarigu   \n",
       "..        ...                  ...                ...         ...         ...   \n",
       "651  VBS24534  1240-MZ-A-MozF_1314  Lizette Koekemoer  Mozambique     Motinho   \n",
       "652  VBS24535  1240-MZ-A-MozF_1315  Lizette Koekemoer  Mozambique     Motinho   \n",
       "653  VBS24536  1240-MZ-A-MozF_1317  Lizette Koekemoer  Mozambique     Motinho   \n",
       "654  VBS24537  1240-MZ-A-MozF_1319  Lizette Koekemoer  Mozambique     Motinho   \n",
       "655  VBS24539  1240-MZ-A-MozF_1323  Lizette Koekemoer  Mozambique     Motinho   \n",
       "\n",
       "     year  month  latitude  longitude sex_call  ...        PC7         PC8  \\\n",
       "0    2017      8     9.420     -1.083        F  ...  17.335978  392.170563   \n",
       "1    2017      7     9.488     -1.009        F  ... -16.785383  -51.545383   \n",
       "2    2017      7     9.420     -1.083        F  ... -16.187029  -40.041401   \n",
       "3    2017      8     9.420     -1.083        F  ...  22.296328  488.883270   \n",
       "4    2017      8     9.497     -0.952        F  ...  16.134296  411.618591   \n",
       "..    ...    ...       ...        ...      ...  ...        ...         ...   \n",
       "651  2015      8   -10.851     40.594        F  ...   6.169640    1.079013   \n",
       "652  2015      8   -10.851     40.594        F  ...   4.688753    0.017673   \n",
       "653  2015      8   -10.851     40.594        F  ...   4.721905   -0.981295   \n",
       "654  2015      8   -10.851     40.594        F  ...   4.080131    0.982331   \n",
       "655  2015      8   -10.851     40.594        F  ...   4.727406   -0.463620   \n",
       "\n",
       "           PC9       PC10      PC11      PC12      PC13       PC14      PC15  \\\n",
       "0    -4.828117  13.167892 -3.358658 -0.943239  1.265007  -4.080645  4.194095   \n",
       "1    15.093560   1.192991  4.927580  3.884033  5.483262  26.366415 -4.769647   \n",
       "2   -13.127802  -6.924955  2.936363  3.502536 -3.644072  -6.529322  3.272416   \n",
       "3   -73.554466  13.587123  0.199960  1.625081 -3.416288  -8.516673  2.985849   \n",
       "4   -47.044487   6.901426  7.276990 -0.292836  1.513046  -6.161454  0.945428   \n",
       "..         ...        ...       ...       ...       ...        ...       ...   \n",
       "651   0.424434   0.145886 -5.594067  4.779331 -0.155642  -1.669077 -0.540451   \n",
       "652  -0.881347  -0.566143 -5.427140  6.012718 -0.941359  -0.295899  0.132659   \n",
       "653  -0.535010  -0.348968 -0.080653  0.951462  0.875835  -1.358237  1.293014   \n",
       "654   1.217957  -0.864140 -2.886994  2.308711  0.598099  -0.546990 -1.888905   \n",
       "655   1.364048  -1.494500 -4.822278  6.531233  0.907630  -0.408496 -0.760222   \n",
       "\n",
       "          PC16  \n",
       "0     0.036339  \n",
       "1    44.781597  \n",
       "2    -3.818514  \n",
       "3    -5.431977  \n",
       "4   -10.674298  \n",
       "..         ...  \n",
       "651  -1.546405  \n",
       "652   1.329740  \n",
       "653   0.819938  \n",
       "654   0.037255  \n",
       "655  -0.996812  \n",
       "\n",
       "[656 rows x 52 columns]"
      ]
     },
     "execution_count": 21,
     "metadata": {},
     "output_type": "execute_result"
    }
   ],
   "source": [
    "df_pca"
   ]
  },
  {
   "cell_type": "code",
   "execution_count": 24,
   "id": "11856e4d-9d43-4571-ab4b-6d85d721fe6a",
   "metadata": {
    "tags": []
   },
   "outputs": [],
   "source": [
    "df_pca.to_csv(\"pcas/PCA_all.tsv\", sep='\\t')"
   ]
  },
  {
   "cell_type": "code",
   "execution_count": 25,
   "id": "de557c93-fd33-4d96-9803-770cb2532223",
   "metadata": {
    "tags": []
   },
   "outputs": [
    {
     "data": {
      "text/plain": [
       "array([0.03898313, 0.01638699, 0.01409051, 0.00857328, 0.00809698,\n",
       "       0.00613308, 0.00413281, 0.00368473, 0.00316996, 0.00306626,\n",
       "       0.00278303, 0.00277136, 0.00270294, 0.00262676, 0.00250468,\n",
       "       0.00237115], dtype=float32)"
      ]
     },
     "execution_count": 25,
     "metadata": {},
     "output_type": "execute_result"
    }
   ],
   "source": [
    "evr"
   ]
  },
  {
   "cell_type": "code",
   "execution_count": 28,
   "id": "4d70e206-86ef-498e-9ed4-742ccb300cbb",
   "metadata": {
    "tags": []
   },
   "outputs": [],
   "source": [
    "np.save(\"pcas/evr_all.npy\", evr)"
   ]
  },
  {
   "cell_type": "code",
   "execution_count": 31,
   "id": "59fc17e5-1dca-45dd-b2dd-f1dd22043277",
   "metadata": {
    "tags": []
   },
   "outputs": [
    {
     "data": {
      "text/plain": [
       "(300, 36)"
      ]
     },
     "execution_count": 31,
     "metadata": {},
     "output_type": "execute_result"
    }
   ],
   "source": [
    "meta.query('PCA_cohort in [\"EQ_central\", \"EQ_CAR\", \"EQ_east\"]').shape"
   ]
  },
  {
   "cell_type": "code",
   "execution_count": 32,
   "id": "30cb5281-fd9d-441c-ac94-6142de18850b",
   "metadata": {
    "tags": []
   },
   "outputs": [
    {
     "data": {
      "application/vnd.jupyter.widget-view+json": {
       "model_id": "e1ffca213f4449d7bcc6ec7c95355022",
       "version_major": 2,
       "version_minor": 0
      },
      "text/plain": [
       "Compute SNP allele counts:   0%|          | 0/6808 [00:00<?, ?it/s]"
      ]
     },
     "metadata": {},
     "output_type": "display_data"
    },
    {
     "data": {
      "application/vnd.jupyter.widget-view+json": {
       "model_id": "26a444e5527f4ff385d220d39c856446",
       "version_major": 2,
       "version_minor": 0
      },
      "text/plain": [
       "Load SNP genotypes:   0%|          | 0/6216 [00:00<?, ?it/s]"
      ]
     },
     "metadata": {},
     "output_type": "display_data"
    }
   ],
   "source": [
    "df_pca, evr = af1.pca(\n",
    "    region = '2RL:57604655-102000000', \n",
    "    n_snps = 200_000, \n",
    "    sample_sets = '1.0', \n",
    "    sample_query = 'PCA_cohort in [\"EQ_central\", \"EQ_CAR\", \"EQ_east\"]',\n",
    "    site_mask = 'funestus', \n",
    "    min_minor_ac = int(0.01 * 300 * 2),\n",
    "    max_missing_an = int(0.05 * 300 *2), \n",
    "    n_components = 4)\n",
    "    "
   ]
  },
  {
   "cell_type": "code",
   "execution_count": 33,
   "id": "85cf19e9-b3be-4cbf-b80c-77f50d72e0aa",
   "metadata": {
    "tags": []
   },
   "outputs": [
    {
     "data": {
      "text/html": [
       "<div>\n",
       "<style scoped>\n",
       "    .dataframe tbody tr th:only-of-type {\n",
       "        vertical-align: middle;\n",
       "    }\n",
       "\n",
       "    .dataframe tbody tr th {\n",
       "        vertical-align: top;\n",
       "    }\n",
       "\n",
       "    .dataframe thead th {\n",
       "        text-align: right;\n",
       "    }\n",
       "</style>\n",
       "<table border=\"1\" class=\"dataframe\">\n",
       "  <thead>\n",
       "    <tr style=\"text-align: right;\">\n",
       "      <th></th>\n",
       "      <th>sample_id</th>\n",
       "      <th>partner_sample_id</th>\n",
       "      <th>contributor</th>\n",
       "      <th>country</th>\n",
       "      <th>location</th>\n",
       "      <th>year</th>\n",
       "      <th>month</th>\n",
       "      <th>latitude</th>\n",
       "      <th>longitude</th>\n",
       "      <th>sex_call</th>\n",
       "      <th>...</th>\n",
       "      <th>karyotype_3La</th>\n",
       "      <th>karyotype_3Ra</th>\n",
       "      <th>karyotype_3Rb</th>\n",
       "      <th>karyotype_2Ra</th>\n",
       "      <th>karyotype_2Rh</th>\n",
       "      <th>median_coverage</th>\n",
       "      <th>PC1</th>\n",
       "      <th>PC2</th>\n",
       "      <th>PC3</th>\n",
       "      <th>PC4</th>\n",
       "    </tr>\n",
       "  </thead>\n",
       "  <tbody>\n",
       "    <tr>\n",
       "      <th>0</th>\n",
       "      <td>VBS17770</td>\n",
       "      <td>1230_CAF_D0260A_B06</td>\n",
       "      <td>Diego Ayala</td>\n",
       "      <td>Central African Republic</td>\n",
       "      <td>Bangui</td>\n",
       "      <td>2016</td>\n",
       "      <td>6</td>\n",
       "      <td>4.377</td>\n",
       "      <td>18.608</td>\n",
       "      <td>F</td>\n",
       "      <td>...</td>\n",
       "      <td>3La/a</td>\n",
       "      <td>3R+/a</td>\n",
       "      <td>3Rb/b</td>\n",
       "      <td>2R+/+</td>\n",
       "      <td>2R+/+</td>\n",
       "      <td>46</td>\n",
       "      <td>11.148461</td>\n",
       "      <td>8.128965</td>\n",
       "      <td>-2.483076</td>\n",
       "      <td>-10.851022</td>\n",
       "    </tr>\n",
       "    <tr>\n",
       "      <th>1</th>\n",
       "      <td>VBS17772</td>\n",
       "      <td>1230_CAF_D0260A_D06</td>\n",
       "      <td>Diego Ayala</td>\n",
       "      <td>Central African Republic</td>\n",
       "      <td>Bangui</td>\n",
       "      <td>2016</td>\n",
       "      <td>6</td>\n",
       "      <td>4.377</td>\n",
       "      <td>18.608</td>\n",
       "      <td>F</td>\n",
       "      <td>...</td>\n",
       "      <td>3La/a</td>\n",
       "      <td>3R+/a</td>\n",
       "      <td>3R+/b</td>\n",
       "      <td>2R+/a</td>\n",
       "      <td>2R+/+</td>\n",
       "      <td>48</td>\n",
       "      <td>12.542040</td>\n",
       "      <td>10.734422</td>\n",
       "      <td>-6.082462</td>\n",
       "      <td>-8.569851</td>\n",
       "    </tr>\n",
       "    <tr>\n",
       "      <th>2</th>\n",
       "      <td>VBS17777</td>\n",
       "      <td>1230_CAF_D0260A_A07</td>\n",
       "      <td>Diego Ayala</td>\n",
       "      <td>Central African Republic</td>\n",
       "      <td>Bangui</td>\n",
       "      <td>2016</td>\n",
       "      <td>6</td>\n",
       "      <td>4.377</td>\n",
       "      <td>18.608</td>\n",
       "      <td>F</td>\n",
       "      <td>...</td>\n",
       "      <td>3La/a</td>\n",
       "      <td>3R+/a</td>\n",
       "      <td>3R+/b</td>\n",
       "      <td>2R+/a</td>\n",
       "      <td>2R+/+</td>\n",
       "      <td>50</td>\n",
       "      <td>11.947596</td>\n",
       "      <td>10.533842</td>\n",
       "      <td>-6.340686</td>\n",
       "      <td>-7.545574</td>\n",
       "    </tr>\n",
       "    <tr>\n",
       "      <th>3</th>\n",
       "      <td>VBS17778</td>\n",
       "      <td>1230_CAF_D0260A_B07</td>\n",
       "      <td>Diego Ayala</td>\n",
       "      <td>Central African Republic</td>\n",
       "      <td>Bangui</td>\n",
       "      <td>2016</td>\n",
       "      <td>6</td>\n",
       "      <td>4.377</td>\n",
       "      <td>18.608</td>\n",
       "      <td>F</td>\n",
       "      <td>...</td>\n",
       "      <td>3L+/a</td>\n",
       "      <td>3Ra/a</td>\n",
       "      <td>3R+/b</td>\n",
       "      <td>2R+/+</td>\n",
       "      <td>2R+/h</td>\n",
       "      <td>66</td>\n",
       "      <td>13.470466</td>\n",
       "      <td>4.660756</td>\n",
       "      <td>2.361057</td>\n",
       "      <td>-6.508411</td>\n",
       "    </tr>\n",
       "    <tr>\n",
       "      <th>4</th>\n",
       "      <td>VBS17780</td>\n",
       "      <td>1230_CAF_D0260A_D07</td>\n",
       "      <td>Diego Ayala</td>\n",
       "      <td>Central African Republic</td>\n",
       "      <td>Bangui</td>\n",
       "      <td>2016</td>\n",
       "      <td>6</td>\n",
       "      <td>4.377</td>\n",
       "      <td>18.608</td>\n",
       "      <td>F</td>\n",
       "      <td>...</td>\n",
       "      <td>3L+/a</td>\n",
       "      <td>3R+/a</td>\n",
       "      <td>3R+/b</td>\n",
       "      <td>2R+/+</td>\n",
       "      <td>2R+/+</td>\n",
       "      <td>36</td>\n",
       "      <td>12.332030</td>\n",
       "      <td>4.606054</td>\n",
       "      <td>-5.827848</td>\n",
       "      <td>-9.774414</td>\n",
       "    </tr>\n",
       "    <tr>\n",
       "      <th>...</th>\n",
       "      <td>...</td>\n",
       "      <td>...</td>\n",
       "      <td>...</td>\n",
       "      <td>...</td>\n",
       "      <td>...</td>\n",
       "      <td>...</td>\n",
       "      <td>...</td>\n",
       "      <td>...</td>\n",
       "      <td>...</td>\n",
       "      <td>...</td>\n",
       "      <td>...</td>\n",
       "      <td>...</td>\n",
       "      <td>...</td>\n",
       "      <td>...</td>\n",
       "      <td>...</td>\n",
       "      <td>...</td>\n",
       "      <td>...</td>\n",
       "      <td>...</td>\n",
       "      <td>...</td>\n",
       "      <td>...</td>\n",
       "      <td>...</td>\n",
       "    </tr>\n",
       "    <tr>\n",
       "      <th>295</th>\n",
       "      <td>VBS24431</td>\n",
       "      <td>1240-CD-A-DrcF1286</td>\n",
       "      <td>Lizette Koekemoer</td>\n",
       "      <td>Democratic Republic of the Congo</td>\n",
       "      <td>Watsa Moke</td>\n",
       "      <td>2017</td>\n",
       "      <td>10</td>\n",
       "      <td>3.094</td>\n",
       "      <td>29.548</td>\n",
       "      <td>F</td>\n",
       "      <td>...</td>\n",
       "      <td>3La/a</td>\n",
       "      <td>3Ra/a</td>\n",
       "      <td>3R+/b</td>\n",
       "      <td>2R+/+</td>\n",
       "      <td>2R+/+</td>\n",
       "      <td>50</td>\n",
       "      <td>-41.680645</td>\n",
       "      <td>-2.146915</td>\n",
       "      <td>-2.249878</td>\n",
       "      <td>2.811263</td>\n",
       "    </tr>\n",
       "    <tr>\n",
       "      <th>296</th>\n",
       "      <td>VBS24432</td>\n",
       "      <td>1240-CD-A-DrcF1287</td>\n",
       "      <td>Lizette Koekemoer</td>\n",
       "      <td>Democratic Republic of the Congo</td>\n",
       "      <td>Watsa Moke</td>\n",
       "      <td>2017</td>\n",
       "      <td>10</td>\n",
       "      <td>3.094</td>\n",
       "      <td>29.548</td>\n",
       "      <td>F</td>\n",
       "      <td>...</td>\n",
       "      <td>3La/a</td>\n",
       "      <td>3Ra/a</td>\n",
       "      <td>3R+/b</td>\n",
       "      <td>2R+/a</td>\n",
       "      <td>2R+/+</td>\n",
       "      <td>37</td>\n",
       "      <td>-35.909813</td>\n",
       "      <td>-6.835762</td>\n",
       "      <td>-0.867795</td>\n",
       "      <td>-1.810072</td>\n",
       "    </tr>\n",
       "    <tr>\n",
       "      <th>297</th>\n",
       "      <td>VBS24433</td>\n",
       "      <td>1240-CD-A-DrcF1288</td>\n",
       "      <td>Lizette Koekemoer</td>\n",
       "      <td>Democratic Republic of the Congo</td>\n",
       "      <td>Watsa Moke</td>\n",
       "      <td>2017</td>\n",
       "      <td>10</td>\n",
       "      <td>3.094</td>\n",
       "      <td>29.548</td>\n",
       "      <td>F</td>\n",
       "      <td>...</td>\n",
       "      <td>3La/a</td>\n",
       "      <td>3Ra/a</td>\n",
       "      <td>3R+/b</td>\n",
       "      <td>2R+/a</td>\n",
       "      <td>2R+/+</td>\n",
       "      <td>41</td>\n",
       "      <td>-35.709251</td>\n",
       "      <td>-4.721379</td>\n",
       "      <td>-0.450000</td>\n",
       "      <td>0.477401</td>\n",
       "    </tr>\n",
       "    <tr>\n",
       "      <th>298</th>\n",
       "      <td>VBS24434</td>\n",
       "      <td>1240-CD-A-DrcF1289</td>\n",
       "      <td>Lizette Koekemoer</td>\n",
       "      <td>Democratic Republic of the Congo</td>\n",
       "      <td>Watsa Moke</td>\n",
       "      <td>2017</td>\n",
       "      <td>10</td>\n",
       "      <td>3.094</td>\n",
       "      <td>29.548</td>\n",
       "      <td>F</td>\n",
       "      <td>...</td>\n",
       "      <td>3La/a</td>\n",
       "      <td>3Ra/a</td>\n",
       "      <td>3Rb/b</td>\n",
       "      <td>2R+/a</td>\n",
       "      <td>2R+/+</td>\n",
       "      <td>39</td>\n",
       "      <td>-32.181328</td>\n",
       "      <td>-4.921843</td>\n",
       "      <td>4.826025</td>\n",
       "      <td>-0.941272</td>\n",
       "    </tr>\n",
       "    <tr>\n",
       "      <th>299</th>\n",
       "      <td>VBS24435</td>\n",
       "      <td>1240-CD-A-DrcF1338</td>\n",
       "      <td>Lizette Koekemoer</td>\n",
       "      <td>Democratic Republic of the Congo</td>\n",
       "      <td>Watsa Moke</td>\n",
       "      <td>2017</td>\n",
       "      <td>10</td>\n",
       "      <td>3.094</td>\n",
       "      <td>29.548</td>\n",
       "      <td>F</td>\n",
       "      <td>...</td>\n",
       "      <td>3La/a</td>\n",
       "      <td>3Ra/a</td>\n",
       "      <td>3Rb/b</td>\n",
       "      <td>2R+/+</td>\n",
       "      <td>2R+/h</td>\n",
       "      <td>35</td>\n",
       "      <td>-34.253300</td>\n",
       "      <td>-4.578283</td>\n",
       "      <td>-1.517633</td>\n",
       "      <td>-6.465927</td>\n",
       "    </tr>\n",
       "  </tbody>\n",
       "</table>\n",
       "<p>300 rows × 40 columns</p>\n",
       "</div>"
      ],
      "text/plain": [
       "    sample_id    partner_sample_id        contributor  \\\n",
       "0    VBS17770  1230_CAF_D0260A_B06        Diego Ayala   \n",
       "1    VBS17772  1230_CAF_D0260A_D06        Diego Ayala   \n",
       "2    VBS17777  1230_CAF_D0260A_A07        Diego Ayala   \n",
       "3    VBS17778  1230_CAF_D0260A_B07        Diego Ayala   \n",
       "4    VBS17780  1230_CAF_D0260A_D07        Diego Ayala   \n",
       "..        ...                  ...                ...   \n",
       "295  VBS24431   1240-CD-A-DrcF1286  Lizette Koekemoer   \n",
       "296  VBS24432   1240-CD-A-DrcF1287  Lizette Koekemoer   \n",
       "297  VBS24433   1240-CD-A-DrcF1288  Lizette Koekemoer   \n",
       "298  VBS24434   1240-CD-A-DrcF1289  Lizette Koekemoer   \n",
       "299  VBS24435   1240-CD-A-DrcF1338  Lizette Koekemoer   \n",
       "\n",
       "                              country    location  year  month  latitude  \\\n",
       "0            Central African Republic      Bangui  2016      6     4.377   \n",
       "1            Central African Republic      Bangui  2016      6     4.377   \n",
       "2            Central African Republic      Bangui  2016      6     4.377   \n",
       "3            Central African Republic      Bangui  2016      6     4.377   \n",
       "4            Central African Republic      Bangui  2016      6     4.377   \n",
       "..                                ...         ...   ...    ...       ...   \n",
       "295  Democratic Republic of the Congo  Watsa Moke  2017     10     3.094   \n",
       "296  Democratic Republic of the Congo  Watsa Moke  2017     10     3.094   \n",
       "297  Democratic Republic of the Congo  Watsa Moke  2017     10     3.094   \n",
       "298  Democratic Republic of the Congo  Watsa Moke  2017     10     3.094   \n",
       "299  Democratic Republic of the Congo  Watsa Moke  2017     10     3.094   \n",
       "\n",
       "     longitude sex_call  ... karyotype_3La karyotype_3Ra  karyotype_3Rb  \\\n",
       "0       18.608        F  ...         3La/a         3R+/a          3Rb/b   \n",
       "1       18.608        F  ...         3La/a         3R+/a          3R+/b   \n",
       "2       18.608        F  ...         3La/a         3R+/a          3R+/b   \n",
       "3       18.608        F  ...         3L+/a         3Ra/a          3R+/b   \n",
       "4       18.608        F  ...         3L+/a         3R+/a          3R+/b   \n",
       "..         ...      ...  ...           ...           ...            ...   \n",
       "295     29.548        F  ...         3La/a         3Ra/a          3R+/b   \n",
       "296     29.548        F  ...         3La/a         3Ra/a          3R+/b   \n",
       "297     29.548        F  ...         3La/a         3Ra/a          3R+/b   \n",
       "298     29.548        F  ...         3La/a         3Ra/a          3Rb/b   \n",
       "299     29.548        F  ...         3La/a         3Ra/a          3Rb/b   \n",
       "\n",
       "    karyotype_2Ra karyotype_2Rh median_coverage        PC1        PC2  \\\n",
       "0           2R+/+         2R+/+              46  11.148461   8.128965   \n",
       "1           2R+/a         2R+/+              48  12.542040  10.734422   \n",
       "2           2R+/a         2R+/+              50  11.947596  10.533842   \n",
       "3           2R+/+         2R+/h              66  13.470466   4.660756   \n",
       "4           2R+/+         2R+/+              36  12.332030   4.606054   \n",
       "..            ...           ...             ...        ...        ...   \n",
       "295         2R+/+         2R+/+              50 -41.680645  -2.146915   \n",
       "296         2R+/a         2R+/+              37 -35.909813  -6.835762   \n",
       "297         2R+/a         2R+/+              41 -35.709251  -4.721379   \n",
       "298         2R+/a         2R+/+              39 -32.181328  -4.921843   \n",
       "299         2R+/+         2R+/h              35 -34.253300  -4.578283   \n",
       "\n",
       "          PC3        PC4  \n",
       "0   -2.483076 -10.851022  \n",
       "1   -6.082462  -8.569851  \n",
       "2   -6.340686  -7.545574  \n",
       "3    2.361057  -6.508411  \n",
       "4   -5.827848  -9.774414  \n",
       "..        ...        ...  \n",
       "295 -2.249878   2.811263  \n",
       "296 -0.867795  -1.810072  \n",
       "297 -0.450000   0.477401  \n",
       "298  4.826025  -0.941272  \n",
       "299 -1.517633  -6.465927  \n",
       "\n",
       "[300 rows x 40 columns]"
      ]
     },
     "execution_count": 33,
     "metadata": {},
     "output_type": "execute_result"
    }
   ],
   "source": [
    "df_pca"
   ]
  },
  {
   "cell_type": "code",
   "execution_count": 34,
   "id": "6b641f40-9b0b-4124-9868-ecf2ee065f72",
   "metadata": {
    "tags": []
   },
   "outputs": [],
   "source": [
    "df_pca.to_csv(\"pcas/PCA_equatorial.tsv\", sep='\\t')"
   ]
  },
  {
   "cell_type": "code",
   "execution_count": 35,
   "id": "caadacc2-01da-4000-b323-42ba358fcfd9",
   "metadata": {
    "tags": []
   },
   "outputs": [],
   "source": [
    "np.save(\"pcas/evr_equatorial.npy\", evr)"
   ]
  },
  {
   "cell_type": "markdown",
   "id": "fda5c142-d0fd-4475-84df-ec793c063b50",
   "metadata": {},
   "source": [
    "### Other arms"
   ]
  },
  {
   "cell_type": "code",
   "execution_count": 38,
   "id": "2b2306ee-5554-47c8-980c-a403249ad71d",
   "metadata": {
    "tags": []
   },
   "outputs": [
    {
     "data": {
      "application/vnd.jupyter.widget-view+json": {
       "model_id": "05f266c353a64356b94a36b2c19494e7",
       "version_major": 2,
       "version_minor": 0
      },
      "text/plain": [
       "Compute SNP allele counts:   0%|          | 0/10505 [00:00<?, ?it/s]"
      ]
     },
     "metadata": {},
     "output_type": "display_data"
    },
    {
     "data": {
      "application/vnd.jupyter.widget-view+json": {
       "model_id": "eff0eee89c284e1aa3034ea4f1e308bc",
       "version_major": 2,
       "version_minor": 0
      },
      "text/plain": [
       "Load SNP genotypes:   0%|          | 0/12606 [00:00<?, ?it/s]"
      ]
     },
     "metadata": {},
     "output_type": "display_data"
    },
    {
     "name": "stderr",
     "output_type": "stream",
     "text": [
      "IOPub message rate exceeded.\n",
      "The notebook server will temporarily stop sending output\n",
      "to the client in order to avoid crashing it.\n",
      "To change this limit, set the config variable\n",
      "`--NotebookApp.iopub_msg_rate_limit`.\n",
      "\n",
      "Current values:\n",
      "NotebookApp.iopub_msg_rate_limit=1000.0 (msgs/sec)\n",
      "NotebookApp.rate_limit_window=3.0 (secs)\n",
      "\n"
     ]
    }
   ],
   "source": [
    "df_pca, evr = af1.pca(\n",
    "    region = '2RL:1-57114943', \n",
    "    n_snps = 200_000, \n",
    "    sample_sets = '1.0', \n",
    "    site_mask = 'funestus', \n",
    "    min_minor_ac = int(0.01 * 656 * 2),\n",
    "    max_missing_an = int(0.05 * 656 *2), \n",
    "    n_components = 4)"
   ]
  },
  {
   "cell_type": "code",
   "execution_count": 39,
   "id": "fb68b254-571f-40ab-b47e-12001f149a6b",
   "metadata": {
    "tags": []
   },
   "outputs": [],
   "source": [
    "df_pca.to_csv(\"pcas/PCA_2R.tsv\", sep='\\t')\n",
    "np.save(\"pcas/evr_2R.npy\", evr)"
   ]
  },
  {
   "cell_type": "code",
   "execution_count": null,
   "id": "1492ef3f-8fe7-459d-b079-289b49eba71b",
   "metadata": {
    "tags": []
   },
   "outputs": [
    {
     "data": {
      "application/vnd.jupyter.widget-view+json": {
       "model_id": "26d000820682429cbde437b24d9c6c65",
       "version_major": 2,
       "version_minor": 0
      },
      "text/plain": [
       "Compute SNP allele counts:   0%|          | 0/8250 [00:00<?, ?it/s]"
      ]
     },
     "metadata": {},
     "output_type": "display_data"
    },
    {
     "name": "stderr",
     "output_type": "stream",
     "text": [
      "IOPub message rate exceeded.\n",
      "The notebook server will temporarily stop sending output\n",
      "to the client in order to avoid crashing it.\n",
      "To change this limit, set the config variable\n",
      "`--NotebookApp.iopub_msg_rate_limit`.\n",
      "\n",
      "Current values:\n",
      "NotebookApp.iopub_msg_rate_limit=1000.0 (msgs/sec)\n",
      "NotebookApp.rate_limit_window=3.0 (secs)\n",
      "\n"
     ]
    }
   ],
   "source": [
    "df_pca, evr = af1.pca(\n",
    "    region = '3RL:1-44752159', \n",
    "    n_snps = 200_000, \n",
    "    sample_sets = '1.0', \n",
    "    site_mask = 'funestus', \n",
    "    min_minor_ac = int(0.01 * 656 * 2),\n",
    "    max_missing_an = int(0.05 * 656 *2), \n",
    "    n_components = 4)"
   ]
  },
  {
   "cell_type": "code",
   "execution_count": null,
   "id": "2d9bd1bd-bc9f-441a-bda9-a8e81a87f4eb",
   "metadata": {
    "tags": []
   },
   "outputs": [],
   "source": [
    "df_pca.to_csv(\"pcas/PCA_3R.tsv\", sep='\\t')\n",
    "np.save(\"pcas/evr_3R.npy\", evr)"
   ]
  },
  {
   "cell_type": "code",
   "execution_count": null,
   "id": "e88c04f4-9e97-4c3b-bbfc-f9691b4ed0da",
   "metadata": {
    "tags": []
   },
   "outputs": [],
   "source": [
    "df_pca, evr = af1.pca(\n",
    "    region = '3RL:45028052-84000000', \n",
    "    n_snps = 200_000, \n",
    "    sample_sets = '1.0', \n",
    "    site_mask = 'funestus', \n",
    "    min_minor_ac = int(0.01 * 656 * 2),\n",
    "    max_missing_an = int(0.05 * 656 *2), \n",
    "    n_components = 4)"
   ]
  },
  {
   "cell_type": "code",
   "execution_count": null,
   "id": "5eded2ec-fa75-45d6-8c33-59689d844eb6",
   "metadata": {
    "tags": []
   },
   "outputs": [],
   "source": [
    "df_pca.to_csv(\"pcas/PCA_3L.tsv\", sep='\\t')\n",
    "np.save(\"pcas/evr_3L.npy\", evr)"
   ]
  },
  {
   "cell_type": "code",
   "execution_count": null,
   "id": "d9463a9c-d66b-4c61-b4ab-d623fa77a038",
   "metadata": {
    "tags": []
   },
   "outputs": [],
   "source": [
    "df_pca, evr = af1.pca(\n",
    "    region = 'X', \n",
    "    n_snps = 200_000, \n",
    "    sample_sets = '1.0', \n",
    "    site_mask = 'funestus', \n",
    "    min_minor_ac = int(0.01 * 656 * 2),\n",
    "    max_missing_an = int(0.05 * 656 *2), \n",
    "    n_components = 4)"
   ]
  },
  {
   "cell_type": "code",
   "execution_count": null,
   "id": "6a8515af-aa87-47bf-a503-913259fa3b5a",
   "metadata": {
    "tags": []
   },
   "outputs": [],
   "source": [
    "df_pca.to_csv(\"pcas/PCA_X.tsv\", sep='\\t')\n",
    "np.save(\"pcas/evr_X.npy\", evr)"
   ]
  },
  {
   "cell_type": "markdown",
   "id": "291196b5-9087-4379-b3b4-561fb16bba86",
   "metadata": {
    "tags": []
   },
   "source": [
    "### For inversion regions"
   ]
  },
  {
   "cell_type": "code",
   "execution_count": 49,
   "id": "00232526-dfe0-4561-b72a-d1e8d1514aaa",
   "metadata": {},
   "outputs": [
    {
     "data": {
      "application/vnd.jupyter.widget-view+json": {
       "model_id": "09b2447b7a7a46c8954fa0f520bd7189",
       "version_major": 2,
       "version_minor": 0
      },
      "text/plain": [
       "Compute SNP allele counts:   0%|          | 0/1705 [00:00<?, ?it/s]"
      ]
     },
     "metadata": {},
     "output_type": "display_data"
    },
    {
     "data": {
      "application/vnd.jupyter.widget-view+json": {
       "model_id": "8afaba4042b74d898d1d361b1a341c08",
       "version_major": 2,
       "version_minor": 0
      },
      "text/plain": [
       "Load SNP genotypes:   0%|          | 0/2046 [00:00<?, ?it/s]"
      ]
     },
     "metadata": {},
     "output_type": "display_data"
    }
   ],
   "source": [
    "df_pca, evr = af1.pca(\n",
    "    region = ['2RL:25458000-29454000', \n",
    "              '2RL:34940000-39360000'],\n",
    "    n_snps = 200_000, \n",
    "    sample_sets = '1.0', \n",
    "    site_mask = 'funestus', \n",
    "    min_minor_ac = int(0.01 * 656 * 2),\n",
    "    max_missing_an = int(0.05 * 656 *2), \n",
    "    n_components = 4)"
   ]
  },
  {
   "cell_type": "code",
   "execution_count": 50,
   "id": "86e310a3-4f84-4af6-96ce-38d92bc640ce",
   "metadata": {
    "tags": []
   },
   "outputs": [],
   "source": [
    "df_pca.to_csv(\"pcas/PCA_2Ra.tsv\", sep='\\t')\n",
    "np.save(\"pcas/evr_2Ra.npy\", evr)"
   ]
  },
  {
   "cell_type": "code",
   "execution_count": null,
   "id": "18020672-6a72-4efd-84e0-bb37a1beec3d",
   "metadata": {
    "tags": []
   },
   "outputs": [
    {
     "data": {
      "application/vnd.jupyter.widget-view+json": {
       "model_id": "b97306b63daa42bfbd8cf567ebcd790a",
       "version_major": 2,
       "version_minor": 0
      },
      "text/plain": [
       "Compute SNP allele counts:   0%|          | 0/1870 [00:00<?, ?it/s]"
      ]
     },
     "metadata": {},
     "output_type": "display_data"
    },
    {
     "data": {
      "application/vnd.jupyter.widget-view+json": {
       "model_id": "5b68206023fc4d62ae77d1d6ab617af6",
       "version_major": 2,
       "version_minor": 0
      },
      "text/plain": [
       "Load SNP genotypes:   0%|          | 0/2244 [00:00<?, ?it/s]"
      ]
     },
     "metadata": {},
     "output_type": "display_data"
    }
   ],
   "source": [
    "df_pca, evr = af1.pca(\n",
    "    region = '2RL:29517507-39362207',\n",
    "    n_snps = 200_000, \n",
    "    sample_sets = '1.0', \n",
    "    site_mask = 'funestus', \n",
    "    min_minor_ac = int(0.01 * 656 * 2),\n",
    "    max_missing_an = int(0.05 * 656 *2), \n",
    "    n_components = 4)"
   ]
  },
  {
   "cell_type": "code",
   "execution_count": null,
   "id": "a1157ae0-e3fb-4fc0-821d-a592ab1b10bc",
   "metadata": {
    "tags": []
   },
   "outputs": [],
   "source": [
    "df_pca.to_csv(\"pcas/PCA_2Rh.tsv\", sep='\\t')\n",
    "np.save(\"pcas/evr_2Rh.npy\", evr)"
   ]
  },
  {
   "cell_type": "code",
   "execution_count": null,
   "id": "3331eb62-54bf-4352-93da-97df6f77f00b",
   "metadata": {
    "tags": []
   },
   "outputs": [],
   "source": [
    "df_pca, evr = af1.pca(\n",
    "    region = '3RL:2219305-12234590',\n",
    "    n_snps = 200_000, \n",
    "    sample_sets = '1.0', \n",
    "    site_mask = 'funestus', \n",
    "    min_minor_ac = int(0.01 * 656 * 2),\n",
    "    max_missing_an = int(0.05 * 656 *2), \n",
    "    n_components = 4)"
   ]
  },
  {
   "cell_type": "code",
   "execution_count": null,
   "id": "7cd52c61-23b9-4b40-bf62-ab9b75384d4e",
   "metadata": {
    "tags": []
   },
   "outputs": [],
   "source": [
    "df_pca.to_csv(\"pcas/PCA_3Ra.tsv\", sep='\\t')\n",
    "np.save(\"pcas/evr_3Ra.npy\", evr)"
   ]
  },
  {
   "cell_type": "code",
   "execution_count": 8,
   "id": "88b40fda-f78c-4005-a9ba-a297feafd3c5",
   "metadata": {
    "tags": []
   },
   "outputs": [
    {
     "data": {
      "application/vnd.jupyter.widget-view+json": {
       "model_id": "e1b1ebe85e1e464a9f0d6115086ab030",
       "version_major": 2,
       "version_minor": 0
      },
      "text/plain": [
       "Compute SNP allele counts:   0%|          | 0/2365 [00:00<?, ?it/s]"
      ]
     },
     "metadata": {},
     "output_type": "display_data"
    },
    {
     "data": {
      "application/vnd.jupyter.widget-view+json": {
       "model_id": "1ee072e1ba744d6597bd53b4f0c69ccb",
       "version_major": 2,
       "version_minor": 0
      },
      "text/plain": [
       "Load SNP genotypes:   0%|          | 0/2838 [00:00<?, ?it/s]"
      ]
     },
     "metadata": {},
     "output_type": "display_data"
    }
   ],
   "source": [
    "df_pca, evr = af1.pca(\n",
    "    region = '3RL:21361107-34095918',\n",
    "    n_snps = 200_000, \n",
    "    sample_sets = '1.0', \n",
    "    site_mask = 'funestus', \n",
    "    min_minor_ac = int(0.01 * 656 * 2),\n",
    "    max_missing_an = int(0.05 * 656 *2), \n",
    "    n_components = 4)"
   ]
  },
  {
   "cell_type": "code",
   "execution_count": 9,
   "id": "415eb265-863f-421b-807a-8ba84474de0a",
   "metadata": {
    "tags": []
   },
   "outputs": [],
   "source": [
    "df_pca.to_csv(\"pcas/PCA_3Rb.tsv\", sep='\\t')\n",
    "np.save(\"pcas/evr_3Rb.npy\", evr)"
   ]
  },
  {
   "cell_type": "code",
   "execution_count": 10,
   "id": "a94e210b-f196-46c2-bfc4-73ba4cc6e506",
   "metadata": {},
   "outputs": [
    {
     "data": {
      "application/vnd.jupyter.widget-view+json": {
       "model_id": "e91d68a093a64310936d91609ccbaf2a",
       "version_major": 2,
       "version_minor": 0
      },
      "text/plain": [
       "Compute SNP allele counts:   0%|          | 0/3685 [00:00<?, ?it/s]"
      ]
     },
     "metadata": {},
     "output_type": "display_data"
    },
    {
     "data": {
      "application/vnd.jupyter.widget-view+json": {
       "model_id": "a5072cc47fc84c1999f4d6b1087ed408",
       "version_major": 2,
       "version_minor": 0
      },
      "text/plain": [
       "Load SNP genotypes:   0%|          | 0/4422 [00:00<?, ?it/s]"
      ]
     },
     "metadata": {},
     "output_type": "display_data"
    }
   ],
   "source": [
    "df_pca, evr = af1.pca(\n",
    "    region = '3RL:57224763-76882000',\n",
    "    n_snps = 200_000, \n",
    "    sample_sets = '1.0', \n",
    "    site_mask = 'funestus', \n",
    "    min_minor_ac = int(0.01 * 656 * 2),\n",
    "    max_missing_an = int(0.05 * 656 *2), \n",
    "    n_components = 4)"
   ]
  },
  {
   "cell_type": "code",
   "execution_count": 11,
   "id": "e4a72d99-9104-41a6-94cb-487b6b823063",
   "metadata": {},
   "outputs": [],
   "source": [
    "df_pca.to_csv(\"pcas/PCA_3La.tsv\", sep='\\t')\n",
    "np.save(\"pcas/evr_3La.npy\", evr)"
   ]
  },
  {
   "cell_type": "code",
   "execution_count": 8,
   "id": "ef0d10ea-ff41-477e-a135-768a8bcbe7f0",
   "metadata": {},
   "outputs": [
    {
     "data": {
      "application/vnd.jupyter.widget-view+json": {
       "model_id": "0bccd821c25d4de491500dcaa7726961",
       "version_major": 2,
       "version_minor": 0
      },
      "text/plain": [
       "Compute SNP allele counts:   0%|          | 0/2200 [00:00<?, ?it/s]"
      ]
     },
     "metadata": {},
     "output_type": "display_data"
    },
    {
     "data": {
      "application/vnd.jupyter.widget-view+json": {
       "model_id": "b0117c1408fe43c7bb7f5c97f321f3ec",
       "version_major": 2,
       "version_minor": 0
      },
      "text/plain": [
       "Load SNP genotypes:   0%|          | 0/2574 [00:00<?, ?it/s]"
      ]
     },
     "metadata": {},
     "output_type": "display_data"
    }
   ],
   "source": [
    "df_pca, evr = af1.pca(\n",
    "    region = '2RL:18000000-29450000',\n",
    "    n_snps = 200_000, \n",
    "    sample_sets = '1.0', \n",
    "    site_mask = 'funestus', \n",
    "    min_minor_ac = int(0.01 * 656 * 2),\n",
    "    max_missing_an = int(0.05 * 656 *2), \n",
    "    n_components = 11)"
   ]
  },
  {
   "cell_type": "code",
   "execution_count": 9,
   "id": "8197da86-8f59-465f-9c51-2e482658757e",
   "metadata": {
    "tags": []
   },
   "outputs": [],
   "source": [
    "df_pca.to_csv(\"pcas/PCA_2Rt.tsv\", sep='\\t')\n",
    "np.save(\"pcas/evr_2Rt.npy\", evr)"
   ]
  },
  {
   "cell_type": "markdown",
   "id": "1bcaed64-6c6a-4c72-9be2-25939de6227d",
   "metadata": {},
   "source": [
    "## Double recombinants"
   ]
  },
  {
   "cell_type": "code",
   "execution_count": 12,
   "id": "9c3fe423-e08b-4d53-82c4-d8e8b8e42400",
   "metadata": {
    "tags": []
   },
   "outputs": [
    {
     "data": {
      "application/vnd.jupyter.widget-view+json": {
       "model_id": "a6fa489f42d64380852a9b6870862a43",
       "version_major": 2,
       "version_minor": 0
      },
      "text/plain": [
       "Compute SNP allele counts:   0%|          | 0/275 [00:00<?, ?it/s]"
      ]
     },
     "metadata": {},
     "output_type": "display_data"
    },
    {
     "data": {
      "application/vnd.jupyter.widget-view+json": {
       "model_id": "ab88feda19144bbf9c66f648e1b154bd",
       "version_major": 2,
       "version_minor": 0
      },
      "text/plain": [
       "Load SNP genotypes:   0%|          | 0/264 [00:00<?, ?it/s]"
      ]
     },
     "metadata": {},
     "output_type": "display_data"
    }
   ],
   "source": [
    "df_pca, evr = af1.pca(\n",
    "    region = '3RL:30000000-31000000',\n",
    "    n_snps = 20_000, \n",
    "    sample_sets = '1.0', \n",
    "    site_mask = 'funestus', \n",
    "    min_minor_ac = int(0.01 * 656 * 2),\n",
    "    max_missing_an = int(0.05 * 656 *2), \n",
    "    n_components = 4)"
   ]
  },
  {
   "cell_type": "code",
   "execution_count": 13,
   "id": "b4e8b5aa-27b9-494a-9ab1-2e094767ae7d",
   "metadata": {
    "tags": []
   },
   "outputs": [],
   "source": [
    "df_pca.to_csv(\"pcas/PCA_dr_300_310.tsv\", sep='\\t')\n",
    "np.save(\"pcas/evr_dr_300_310.npy\", evr)"
   ]
  },
  {
   "cell_type": "code",
   "execution_count": 14,
   "id": "39dc2d6b-b426-4409-a4fd-4e3547d033fc",
   "metadata": {
    "tags": []
   },
   "outputs": [
    {
     "data": {
      "application/vnd.jupyter.widget-view+json": {
       "model_id": "756180e334444dbab49b0f0c56831278",
       "version_major": 2,
       "version_minor": 0
      },
      "text/plain": [
       "Compute SNP allele counts:   0%|          | 0/220 [00:00<?, ?it/s]"
      ]
     },
     "metadata": {},
     "output_type": "display_data"
    },
    {
     "data": {
      "application/vnd.jupyter.widget-view+json": {
       "model_id": "b5ade6253a1c4454af453085cda7e57e",
       "version_major": 2,
       "version_minor": 0
      },
      "text/plain": [
       "Load SNP genotypes:   0%|          | 0/264 [00:00<?, ?it/s]"
      ]
     },
     "metadata": {},
     "output_type": "display_data"
    }
   ],
   "source": [
    "df_pca, evr = af1.pca(\n",
    "    region = '3RL:25900000-26900000',\n",
    "    n_snps = 20_000, \n",
    "    sample_sets = '1.0', \n",
    "    site_mask = 'funestus', \n",
    "    min_minor_ac = int(0.01 * 656 * 2),\n",
    "    max_missing_an = int(0.05 * 656 *2), \n",
    "    n_components = 4)"
   ]
  },
  {
   "cell_type": "code",
   "execution_count": 15,
   "id": "b83f2e63-c6b3-4b8a-9848-3365446db113",
   "metadata": {
    "tags": []
   },
   "outputs": [],
   "source": [
    "df_pca.to_csv(\"pcas/PCA_dr_259_269.tsv\", sep='\\t')\n",
    "np.save(\"pcas/evr_dr_259_269.npy\", evr)"
   ]
  },
  {
   "cell_type": "code",
   "execution_count": 16,
   "id": "23f806e3-6e27-45af-a9c7-0a357b728b45",
   "metadata": {
    "tags": []
   },
   "outputs": [
    {
     "data": {
      "application/vnd.jupyter.widget-view+json": {
       "model_id": "d0d012a6944f4b208b56869a0114e4b6",
       "version_major": 2,
       "version_minor": 0
      },
      "text/plain": [
       "Compute SNP allele counts:   0%|          | 0/220 [00:00<?, ?it/s]"
      ]
     },
     "metadata": {},
     "output_type": "display_data"
    },
    {
     "data": {
      "application/vnd.jupyter.widget-view+json": {
       "model_id": "db701305bd5247d7b1f5362e22db986b",
       "version_major": 2,
       "version_minor": 0
      },
      "text/plain": [
       "Load SNP genotypes:   0%|          | 0/264 [00:00<?, ?it/s]"
      ]
     },
     "metadata": {},
     "output_type": "display_data"
    }
   ],
   "source": [
    "df_pca, evr = af1.pca(\n",
    "    region = '3RL:31900000-32900000',\n",
    "    n_snps = 20_000, \n",
    "    sample_sets = '1.0', \n",
    "    site_mask = 'funestus', \n",
    "    min_minor_ac = int(0.01 * 656 * 2),\n",
    "    max_missing_an = int(0.05 * 656 *2), \n",
    "    n_components = 4)"
   ]
  },
  {
   "cell_type": "code",
   "execution_count": 17,
   "id": "5a1e7c74-076f-4ad6-97c6-32e8fa57c898",
   "metadata": {
    "tags": []
   },
   "outputs": [],
   "source": [
    "df_pca.to_csv(\"pcas/PCA_dr_319_329.tsv\", sep='\\t')\n",
    "np.save(\"pcas/evr_dr_319_329.npy\", evr)"
   ]
  },
  {
   "cell_type": "code",
   "execution_count": 18,
   "id": "ae4976d4-d3ce-4a12-867b-c6448ab05c76",
   "metadata": {
    "tags": []
   },
   "outputs": [
    {
     "data": {
      "application/vnd.jupyter.widget-view+json": {
       "model_id": "dd7f1ab076784e6082d7078a1d43430b",
       "version_major": 2,
       "version_minor": 0
      },
      "text/plain": [
       "Compute SNP allele counts:   0%|          | 0/275 [00:00<?, ?it/s]"
      ]
     },
     "metadata": {},
     "output_type": "display_data"
    },
    {
     "data": {
      "application/vnd.jupyter.widget-view+json": {
       "model_id": "8a51cc0fbd7b4188b090d76f0e7f6034",
       "version_major": 2,
       "version_minor": 0
      },
      "text/plain": [
       "Load SNP genotypes:   0%|          | 0/330 [00:00<?, ?it/s]"
      ]
     },
     "metadata": {},
     "output_type": "display_data"
    }
   ],
   "source": [
    "df_pca, evr = af1.pca(\n",
    "    region = '3RL:24300000-25300000',\n",
    "    n_snps = 20_000, \n",
    "    sample_sets = '1.0', \n",
    "    site_mask = 'funestus', \n",
    "    min_minor_ac = int(0.01 * 656 * 2),\n",
    "    max_missing_an = int(0.05 * 656 *2), \n",
    "    n_components = 4)"
   ]
  },
  {
   "cell_type": "code",
   "execution_count": 19,
   "id": "2b1ea563-bb8f-4e2d-8915-49335af8b0b6",
   "metadata": {
    "tags": []
   },
   "outputs": [],
   "source": [
    "df_pca.to_csv(\"pcas/PCA_dr_243_253.tsv\", sep='\\t')\n",
    "np.save(\"pcas/evr_dr_243_253.npy\", evr)"
   ]
  },
  {
   "cell_type": "code",
   "execution_count": 22,
   "id": "351f0ae8-abf6-4328-8b63-30621db7dcba",
   "metadata": {
    "tags": []
   },
   "outputs": [
    {
     "data": {
      "application/vnd.jupyter.widget-view+json": {
       "model_id": "19089fedd2044a12aa24ee767cd62989",
       "version_major": 2,
       "version_minor": 0
      },
      "text/plain": [
       "Compute SNP allele counts:   0%|          | 0/165 [00:00<?, ?it/s]"
      ]
     },
     "metadata": {},
     "output_type": "display_data"
    },
    {
     "data": {
      "application/vnd.jupyter.widget-view+json": {
       "model_id": "ad5df89cd85949fa976688997815f9a8",
       "version_major": 2,
       "version_minor": 0
      },
      "text/plain": [
       "Load SNP genotypes:   0%|          | 0/198 [00:00<?, ?it/s]"
      ]
     },
     "metadata": {},
     "output_type": "display_data"
    }
   ],
   "source": [
    "df_pca, evr = af1.pca(\n",
    "    region = '3RL:23500000-24100000',\n",
    "    n_snps = 20_000, \n",
    "    sample_sets = '1.0', \n",
    "    site_mask = 'funestus', \n",
    "    min_minor_ac = int(0.01 * 656 * 2),\n",
    "    max_missing_an = int(0.05 * 656 *2), \n",
    "    n_components = 4)"
   ]
  },
  {
   "cell_type": "code",
   "execution_count": 23,
   "id": "4bc2b030-3b4b-4ebc-b311-570c89e4685b",
   "metadata": {
    "tags": []
   },
   "outputs": [],
   "source": [
    "df_pca.to_csv(\"pcas/PCA_dr_233_243.tsv\", sep='\\t')\n",
    "np.save(\"pcas/evr_dr_233_243.npy\", evr)"
   ]
  },
  {
   "cell_type": "markdown",
   "id": "fb4f2293-66b7-4fc3-b0ce-01266c44b267",
   "metadata": {},
   "source": [
    "### 3La"
   ]
  },
  {
   "cell_type": "code",
   "execution_count": 8,
   "id": "eb606728-e3af-4358-8ac8-5af9e6a09de0",
   "metadata": {
    "tags": []
   },
   "outputs": [
    {
     "name": "stdout",
     "output_type": "stream",
     "text": [
      "                                   \r"
     ]
    },
    {
     "data": {
      "application/vnd.jupyter.widget-view+json": {
       "model_id": "",
       "version_major": 2,
       "version_minor": 0
      },
      "text/plain": [
       "Compute SNP allele counts:   0%|          | 0/220 [00:00<?, ?it/s]"
      ]
     },
     "metadata": {},
     "output_type": "display_data"
    },
    {
     "name": "stdout",
     "output_type": "stream",
     "text": [
      "                                            \r"
     ]
    },
    {
     "data": {
      "application/vnd.jupyter.widget-view+json": {
       "model_id": "",
       "version_major": 2,
       "version_minor": 0
      },
      "text/plain": [
       "Compute biallelic diplotypes:   0%|          | 0/396 [00:00<?, ?it/s]"
      ]
     },
     "metadata": {},
     "output_type": "display_data"
    },
    {
     "name": "stdout",
     "output_type": "stream",
     "text": [
      "                            \r"
     ]
    }
   ],
   "source": [
    "df_pca, evr = af1.pca(\n",
    "    region = '3RL:59300000-60300000',\n",
    "    n_snps = 20_000, \n",
    "    sample_sets = '1.0', \n",
    "    site_mask = 'funestus', \n",
    "    min_minor_ac = int(0.01 * 656 * 2),\n",
    "    max_missing_an = int(0.05 * 656 *2), \n",
    "    n_components = 4)"
   ]
  },
  {
   "cell_type": "code",
   "execution_count": 9,
   "id": "e6af9747-6d07-4359-b44e-9da0d874763b",
   "metadata": {
    "tags": []
   },
   "outputs": [],
   "source": [
    "df_pca.to_csv(\"pcas/PCA_dr_593_603.tsv\", sep='\\t')\n",
    "np.save(\"pcas/evr_dr_593_603.npy\", evr)"
   ]
  },
  {
   "cell_type": "code",
   "execution_count": 10,
   "id": "b6c6f206-7574-4447-8a73-cf5287157d69",
   "metadata": {
    "tags": []
   },
   "outputs": [
    {
     "name": "stdout",
     "output_type": "stream",
     "text": [
      "                                   \r"
     ]
    },
    {
     "data": {
      "application/vnd.jupyter.widget-view+json": {
       "model_id": "",
       "version_major": 2,
       "version_minor": 0
      },
      "text/plain": [
       "Compute SNP allele counts:   0%|          | 0/275 [00:00<?, ?it/s]"
      ]
     },
     "metadata": {},
     "output_type": "display_data"
    },
    {
     "name": "stdout",
     "output_type": "stream",
     "text": [
      "                                            \r"
     ]
    },
    {
     "data": {
      "application/vnd.jupyter.widget-view+json": {
       "model_id": "",
       "version_major": 2,
       "version_minor": 0
      },
      "text/plain": [
       "Compute biallelic diplotypes:   0%|          | 0/495 [00:00<?, ?it/s]"
      ]
     },
     "metadata": {},
     "output_type": "display_data"
    },
    {
     "name": "stdout",
     "output_type": "stream",
     "text": [
      "                            \r"
     ]
    }
   ],
   "source": [
    "df_pca, evr = af1.pca(\n",
    "    region = '3RL:61200000-62200000',\n",
    "    n_snps = 20_000, \n",
    "    sample_sets = '1.0', \n",
    "    site_mask = 'funestus', \n",
    "    min_minor_ac = int(0.01 * 656 * 2),\n",
    "    max_missing_an = int(0.05 * 656 *2), \n",
    "    n_components = 4)"
   ]
  },
  {
   "cell_type": "code",
   "execution_count": 11,
   "id": "20dd3ca3-04ad-4c27-97e7-c18fb9ba3c64",
   "metadata": {
    "tags": []
   },
   "outputs": [],
   "source": [
    "df_pca.to_csv(\"pcas/PCA_dr_612_622.tsv\", sep='\\t')\n",
    "np.save(\"pcas/evr_dr_612_622.npy\", evr)"
   ]
  },
  {
   "cell_type": "code",
   "execution_count": 14,
   "id": "b029e070-81a4-4e4a-a26f-94facb8e794b",
   "metadata": {
    "tags": []
   },
   "outputs": [
    {
     "name": "stdout",
     "output_type": "stream",
     "text": [
      "                                   \r"
     ]
    },
    {
     "data": {
      "application/vnd.jupyter.widget-view+json": {
       "model_id": "",
       "version_major": 2,
       "version_minor": 0
      },
      "text/plain": [
       "Compute SNP allele counts:   0%|          | 0/275 [00:00<?, ?it/s]"
      ]
     },
     "metadata": {},
     "output_type": "display_data"
    },
    {
     "name": "stdout",
     "output_type": "stream",
     "text": [
      "                                            \r"
     ]
    },
    {
     "data": {
      "application/vnd.jupyter.widget-view+json": {
       "model_id": "",
       "version_major": 2,
       "version_minor": 0
      },
      "text/plain": [
       "Compute biallelic diplotypes:   0%|          | 0/495 [00:00<?, ?it/s]"
      ]
     },
     "metadata": {},
     "output_type": "display_data"
    },
    {
     "name": "stdout",
     "output_type": "stream",
     "text": [
      "                            \r"
     ]
    }
   ],
   "source": [
    "df_pca, evr = af1.pca(\n",
    "    region = '3RL:73200000-74200000',\n",
    "    n_snps = 20_000, \n",
    "    sample_sets = '1.0', \n",
    "    site_mask = 'funestus', \n",
    "    min_minor_ac = int(0.01 * 656 * 2),\n",
    "    max_missing_an = int(0.05 * 656 *2), \n",
    "    n_components = 4)"
   ]
  },
  {
   "cell_type": "code",
   "execution_count": 15,
   "id": "1922e350-82eb-4abe-b3b7-61bc77ac794f",
   "metadata": {
    "tags": []
   },
   "outputs": [],
   "source": [
    "df_pca.to_csv(\"pcas/PCA_dr_732_742.tsv\", sep='\\t')\n",
    "np.save(\"pcas/evr_dr_732_742.npy\", evr)"
   ]
  },
  {
   "cell_type": "code",
   "execution_count": 12,
   "id": "047051b7-fa17-4fa5-894e-7dde5092ec2b",
   "metadata": {
    "tags": []
   },
   "outputs": [
    {
     "name": "stdout",
     "output_type": "stream",
     "text": [
      "                                   \r"
     ]
    },
    {
     "data": {
      "application/vnd.jupyter.widget-view+json": {
       "model_id": "",
       "version_major": 2,
       "version_minor": 0
      },
      "text/plain": [
       "Compute SNP allele counts:   0%|          | 0/220 [00:00<?, ?it/s]"
      ]
     },
     "metadata": {},
     "output_type": "display_data"
    },
    {
     "name": "stdout",
     "output_type": "stream",
     "text": [
      "                                            \r"
     ]
    },
    {
     "data": {
      "application/vnd.jupyter.widget-view+json": {
       "model_id": "",
       "version_major": 2,
       "version_minor": 0
      },
      "text/plain": [
       "Compute biallelic diplotypes:   0%|          | 0/396 [00:00<?, ?it/s]"
      ]
     },
     "metadata": {},
     "output_type": "display_data"
    },
    {
     "name": "stdout",
     "output_type": "stream",
     "text": [
      "                            \r"
     ]
    }
   ],
   "source": [
    "df_pca, evr = af1.pca(\n",
    "    region = '3RL:61900000-62900000',\n",
    "    n_snps = 20_000, \n",
    "    sample_sets = '1.0', \n",
    "    site_mask = 'funestus', \n",
    "    min_minor_ac = int(0.01 * 656 * 2),\n",
    "    max_missing_an = int(0.05 * 656 *2), \n",
    "    n_components = 4)"
   ]
  },
  {
   "cell_type": "code",
   "execution_count": 13,
   "id": "549826de-81a1-48e6-9462-dd06413d82d7",
   "metadata": {
    "tags": []
   },
   "outputs": [],
   "source": [
    "df_pca.to_csv(\"pcas/PCA_dr_619_629.tsv\", sep='\\t')\n",
    "np.save(\"pcas/evr_dr_619_629.npy\", evr)"
   ]
  },
  {
   "cell_type": "code",
   "execution_count": 16,
   "id": "c2efa015-0721-4a28-a983-1411823ee5fb",
   "metadata": {
    "tags": []
   },
   "outputs": [
    {
     "name": "stdout",
     "output_type": "stream",
     "text": [
      "                                   \r"
     ]
    },
    {
     "data": {
      "application/vnd.jupyter.widget-view+json": {
       "model_id": "",
       "version_major": 2,
       "version_minor": 0
      },
      "text/plain": [
       "Compute SNP allele counts:   0%|          | 0/220 [00:00<?, ?it/s]"
      ]
     },
     "metadata": {},
     "output_type": "display_data"
    },
    {
     "name": "stdout",
     "output_type": "stream",
     "text": [
      "                                            \r"
     ]
    },
    {
     "data": {
      "application/vnd.jupyter.widget-view+json": {
       "model_id": "",
       "version_major": 2,
       "version_minor": 0
      },
      "text/plain": [
       "Compute biallelic diplotypes:   0%|          | 0/396 [00:00<?, ?it/s]"
      ]
     },
     "metadata": {},
     "output_type": "display_data"
    },
    {
     "name": "stdout",
     "output_type": "stream",
     "text": [
      "                            \r"
     ]
    }
   ],
   "source": [
    "df_pca, evr = af1.pca(\n",
    "    region = '3RL:62300000-63300000',\n",
    "    n_snps = 20_000, \n",
    "    sample_sets = '1.0', \n",
    "    site_mask = 'funestus', \n",
    "    min_minor_ac = int(0.01 * 656 * 2),\n",
    "    max_missing_an = int(0.05 * 656 *2), \n",
    "    n_components = 4)"
   ]
  },
  {
   "cell_type": "code",
   "execution_count": 17,
   "id": "18dbd0c2-b81b-457e-8c57-29deb853f6f9",
   "metadata": {
    "tags": []
   },
   "outputs": [],
   "source": [
    "df_pca.to_csv(\"pcas/PCA_dr_623_633.tsv\", sep='\\t')\n",
    "np.save(\"pcas/evr_dr_623_633.npy\", evr)"
   ]
  },
  {
   "cell_type": "code",
   "execution_count": 20,
   "id": "666d6ac0-ab5d-423d-96b3-187abda99106",
   "metadata": {
    "tags": []
   },
   "outputs": [
    {
     "name": "stdout",
     "output_type": "stream",
     "text": [
      "                                   \r"
     ]
    },
    {
     "data": {
      "application/vnd.jupyter.widget-view+json": {
       "model_id": "",
       "version_major": 2,
       "version_minor": 0
      },
      "text/plain": [
       "Compute SNP allele counts:   0%|          | 0/220 [00:00<?, ?it/s]"
      ]
     },
     "metadata": {},
     "output_type": "display_data"
    },
    {
     "name": "stdout",
     "output_type": "stream",
     "text": [
      "                                            \r"
     ]
    },
    {
     "data": {
      "application/vnd.jupyter.widget-view+json": {
       "model_id": "",
       "version_major": 2,
       "version_minor": 0
      },
      "text/plain": [
       "Compute biallelic diplotypes:   0%|          | 0/396 [00:00<?, ?it/s]"
      ]
     },
     "metadata": {},
     "output_type": "display_data"
    },
    {
     "name": "stdout",
     "output_type": "stream",
     "text": [
      "                            \r"
     ]
    }
   ],
   "source": [
    "df_pca, evr = af1.pca(\n",
    "    region = '3RL:58300000-59300000',\n",
    "    n_snps = 20_000, \n",
    "    sample_sets = '1.0', \n",
    "    site_mask = 'funestus', \n",
    "    min_minor_ac = int(0.01 * 656 * 2),\n",
    "    max_missing_an = int(0.05 * 656 *2), \n",
    "    n_components = 4)"
   ]
  },
  {
   "cell_type": "code",
   "execution_count": 21,
   "id": "a1a7b4ad-0da8-48ab-a4f1-c0d31b097483",
   "metadata": {
    "tags": []
   },
   "outputs": [],
   "source": [
    "df_pca.to_csv(\"pcas/PCA_dr_583_593.tsv\", sep='\\t')\n",
    "np.save(\"pcas/evr_dr_583_593.npy\", evr)"
   ]
  },
  {
   "cell_type": "code",
   "execution_count": 18,
   "id": "9f0ae263-18d3-499b-a767-9e6ca94a80eb",
   "metadata": {
    "tags": []
   },
   "outputs": [
    {
     "name": "stdout",
     "output_type": "stream",
     "text": [
      "                                   \r"
     ]
    },
    {
     "data": {
      "application/vnd.jupyter.widget-view+json": {
       "model_id": "",
       "version_major": 2,
       "version_minor": 0
      },
      "text/plain": [
       "Compute SNP allele counts:   0%|          | 0/220 [00:00<?, ?it/s]"
      ]
     },
     "metadata": {},
     "output_type": "display_data"
    },
    {
     "name": "stdout",
     "output_type": "stream",
     "text": [
      "                                            \r"
     ]
    },
    {
     "data": {
      "application/vnd.jupyter.widget-view+json": {
       "model_id": "",
       "version_major": 2,
       "version_minor": 0
      },
      "text/plain": [
       "Compute biallelic diplotypes:   0%|          | 0/396 [00:00<?, ?it/s]"
      ]
     },
     "metadata": {},
     "output_type": "display_data"
    },
    {
     "name": "stdout",
     "output_type": "stream",
     "text": [
      "                            \r"
     ]
    }
   ],
   "source": [
    "#random window in 3Ra to show separation of karyotypes\n",
    "df_pca, evr = af1.pca(\n",
    "    region = '3RL:5000000-6000000',\n",
    "    n_snps = 20_000, \n",
    "    sample_sets = '1.0', \n",
    "    site_mask = 'funestus', \n",
    "    min_minor_ac = int(0.01 * 656 * 2),\n",
    "    max_missing_an = int(0.05 * 656 *2), \n",
    "    n_components = 4)"
   ]
  },
  {
   "cell_type": "code",
   "execution_count": 19,
   "id": "c84364dd-26c7-4e5a-9ca9-c28171346a6d",
   "metadata": {
    "tags": []
   },
   "outputs": [],
   "source": [
    "df_pca.to_csv(\"pcas/PCA_3Ra_5_6.tsv\", sep='\\t')\n",
    "np.save(\"pcas/evr_3Ra_5_6.npy\", evr)"
   ]
  },
  {
   "cell_type": "markdown",
   "id": "ce3dbf17-a9ae-493f-9f85-66b2a7a546bf",
   "metadata": {},
   "source": [
    "### With Kiribina and Folonzo"
   ]
  },
  {
   "cell_type": "code",
   "execution_count": 5,
   "id": "d3aa9e72-23b7-4a33-9410-f9ee8d963e87",
   "metadata": {
    "tags": []
   },
   "outputs": [
    {
     "data": {
      "application/javascript": [
       "(function(root) {\n",
       "  function now() {\n",
       "    return new Date();\n",
       "  }\n",
       "\n",
       "  const force = true;\n",
       "\n",
       "  if (typeof root._bokeh_onload_callbacks === \"undefined\" || force === true) {\n",
       "    root._bokeh_onload_callbacks = [];\n",
       "    root._bokeh_is_loading = undefined;\n",
       "  }\n",
       "\n",
       "const JS_MIME_TYPE = 'application/javascript';\n",
       "  const HTML_MIME_TYPE = 'text/html';\n",
       "  const EXEC_MIME_TYPE = 'application/vnd.bokehjs_exec.v0+json';\n",
       "  const CLASS_NAME = 'output_bokeh rendered_html';\n",
       "\n",
       "  /**\n",
       "   * Render data to the DOM node\n",
       "   */\n",
       "  function render(props, node) {\n",
       "    const script = document.createElement(\"script\");\n",
       "    node.appendChild(script);\n",
       "  }\n",
       "\n",
       "  /**\n",
       "   * Handle when an output is cleared or removed\n",
       "   */\n",
       "  function handleClearOutput(event, handle) {\n",
       "    const cell = handle.cell;\n",
       "\n",
       "    const id = cell.output_area._bokeh_element_id;\n",
       "    const server_id = cell.output_area._bokeh_server_id;\n",
       "    // Clean up Bokeh references\n",
       "    if (id != null && id in Bokeh.index) {\n",
       "      Bokeh.index[id].model.document.clear();\n",
       "      delete Bokeh.index[id];\n",
       "    }\n",
       "\n",
       "    if (server_id !== undefined) {\n",
       "      // Clean up Bokeh references\n",
       "      const cmd_clean = \"from bokeh.io.state import curstate; print(curstate().uuid_to_server['\" + server_id + \"'].get_sessions()[0].document.roots[0]._id)\";\n",
       "      cell.notebook.kernel.execute(cmd_clean, {\n",
       "        iopub: {\n",
       "          output: function(msg) {\n",
       "            const id = msg.content.text.trim();\n",
       "            if (id in Bokeh.index) {\n",
       "              Bokeh.index[id].model.document.clear();\n",
       "              delete Bokeh.index[id];\n",
       "            }\n",
       "          }\n",
       "        }\n",
       "      });\n",
       "      // Destroy server and session\n",
       "      const cmd_destroy = \"import bokeh.io.notebook as ion; ion.destroy_server('\" + server_id + \"')\";\n",
       "      cell.notebook.kernel.execute(cmd_destroy);\n",
       "    }\n",
       "  }\n",
       "\n",
       "  /**\n",
       "   * Handle when a new output is added\n",
       "   */\n",
       "  function handleAddOutput(event, handle) {\n",
       "    const output_area = handle.output_area;\n",
       "    const output = handle.output;\n",
       "\n",
       "    // limit handleAddOutput to display_data with EXEC_MIME_TYPE content only\n",
       "    if ((output.output_type != \"display_data\") || (!Object.prototype.hasOwnProperty.call(output.data, EXEC_MIME_TYPE))) {\n",
       "      return\n",
       "    }\n",
       "\n",
       "    const toinsert = output_area.element.find(\".\" + CLASS_NAME.split(' ')[0]);\n",
       "\n",
       "    if (output.metadata[EXEC_MIME_TYPE][\"id\"] !== undefined) {\n",
       "      toinsert[toinsert.length - 1].firstChild.textContent = output.data[JS_MIME_TYPE];\n",
       "      // store reference to embed id on output_area\n",
       "      output_area._bokeh_element_id = output.metadata[EXEC_MIME_TYPE][\"id\"];\n",
       "    }\n",
       "    if (output.metadata[EXEC_MIME_TYPE][\"server_id\"] !== undefined) {\n",
       "      const bk_div = document.createElement(\"div\");\n",
       "      bk_div.innerHTML = output.data[HTML_MIME_TYPE];\n",
       "      const script_attrs = bk_div.children[0].attributes;\n",
       "      for (let i = 0; i < script_attrs.length; i++) {\n",
       "        toinsert[toinsert.length - 1].firstChild.setAttribute(script_attrs[i].name, script_attrs[i].value);\n",
       "        toinsert[toinsert.length - 1].firstChild.textContent = bk_div.children[0].textContent\n",
       "      }\n",
       "      // store reference to server id on output_area\n",
       "      output_area._bokeh_server_id = output.metadata[EXEC_MIME_TYPE][\"server_id\"];\n",
       "    }\n",
       "  }\n",
       "\n",
       "  function register_renderer(events, OutputArea) {\n",
       "\n",
       "    function append_mime(data, metadata, element) {\n",
       "      // create a DOM node to render to\n",
       "      const toinsert = this.create_output_subarea(\n",
       "        metadata,\n",
       "        CLASS_NAME,\n",
       "        EXEC_MIME_TYPE\n",
       "      );\n",
       "      this.keyboard_manager.register_events(toinsert);\n",
       "      // Render to node\n",
       "      const props = {data: data, metadata: metadata[EXEC_MIME_TYPE]};\n",
       "      render(props, toinsert[toinsert.length - 1]);\n",
       "      element.append(toinsert);\n",
       "      return toinsert\n",
       "    }\n",
       "\n",
       "    /* Handle when an output is cleared or removed */\n",
       "    events.on('clear_output.CodeCell', handleClearOutput);\n",
       "    events.on('delete.Cell', handleClearOutput);\n",
       "\n",
       "    /* Handle when a new output is added */\n",
       "    events.on('output_added.OutputArea', handleAddOutput);\n",
       "\n",
       "    /**\n",
       "     * Register the mime type and append_mime function with output_area\n",
       "     */\n",
       "    OutputArea.prototype.register_mime_type(EXEC_MIME_TYPE, append_mime, {\n",
       "      /* Is output safe? */\n",
       "      safe: true,\n",
       "      /* Index of renderer in `output_area.display_order` */\n",
       "      index: 0\n",
       "    });\n",
       "  }\n",
       "\n",
       "  // register the mime type if in Jupyter Notebook environment and previously unregistered\n",
       "  if (root.Jupyter !== undefined) {\n",
       "    const events = require('base/js/events');\n",
       "    const OutputArea = require('notebook/js/outputarea').OutputArea;\n",
       "\n",
       "    if (OutputArea.prototype.mime_types().indexOf(EXEC_MIME_TYPE) == -1) {\n",
       "      register_renderer(events, OutputArea);\n",
       "    }\n",
       "  }\n",
       "  if (typeof (root._bokeh_timeout) === \"undefined\" || force === true) {\n",
       "    root._bokeh_timeout = Date.now() + 5000;\n",
       "    root._bokeh_failed_load = false;\n",
       "  }\n",
       "\n",
       "  const NB_LOAD_WARNING = {'data': {'text/html':\n",
       "     \"<div style='background-color: #fdd'>\\n\"+\n",
       "     \"<p>\\n\"+\n",
       "     \"BokehJS does not appear to have successfully loaded. If loading BokehJS from CDN, this \\n\"+\n",
       "     \"may be due to a slow or bad network connection. Possible fixes:\\n\"+\n",
       "     \"</p>\\n\"+\n",
       "     \"<ul>\\n\"+\n",
       "     \"<li>re-rerun `output_notebook()` to attempt to load from CDN again, or</li>\\n\"+\n",
       "     \"<li>use INLINE resources instead, as so:</li>\\n\"+\n",
       "     \"</ul>\\n\"+\n",
       "     \"<code>\\n\"+\n",
       "     \"from bokeh.resources import INLINE\\n\"+\n",
       "     \"output_notebook(resources=INLINE)\\n\"+\n",
       "     \"</code>\\n\"+\n",
       "     \"</div>\"}};\n",
       "\n",
       "  function display_loaded() {\n",
       "    const el = document.getElementById(null);\n",
       "    if (el != null) {\n",
       "      el.textContent = \"BokehJS is loading...\";\n",
       "    }\n",
       "    if (root.Bokeh !== undefined) {\n",
       "      if (el != null) {\n",
       "        el.textContent = \"BokehJS \" + root.Bokeh.version + \" successfully loaded.\";\n",
       "      }\n",
       "    } else if (Date.now() < root._bokeh_timeout) {\n",
       "      setTimeout(display_loaded, 100)\n",
       "    }\n",
       "  }\n",
       "\n",
       "  function run_callbacks() {\n",
       "    try {\n",
       "      root._bokeh_onload_callbacks.forEach(function(callback) {\n",
       "        if (callback != null)\n",
       "          callback();\n",
       "      });\n",
       "    } finally {\n",
       "      delete root._bokeh_onload_callbacks\n",
       "    }\n",
       "    console.debug(\"Bokeh: all callbacks have finished\");\n",
       "  }\n",
       "\n",
       "  function load_libs(css_urls, js_urls, callback) {\n",
       "    if (css_urls == null) css_urls = [];\n",
       "    if (js_urls == null) js_urls = [];\n",
       "\n",
       "    root._bokeh_onload_callbacks.push(callback);\n",
       "    if (root._bokeh_is_loading > 0) {\n",
       "      console.debug(\"Bokeh: BokehJS is being loaded, scheduling callback at\", now());\n",
       "      return null;\n",
       "    }\n",
       "    if (js_urls == null || js_urls.length === 0) {\n",
       "      run_callbacks();\n",
       "      return null;\n",
       "    }\n",
       "    console.debug(\"Bokeh: BokehJS not loaded, scheduling load and callback at\", now());\n",
       "    root._bokeh_is_loading = css_urls.length + js_urls.length;\n",
       "\n",
       "    function on_load() {\n",
       "      root._bokeh_is_loading--;\n",
       "      if (root._bokeh_is_loading === 0) {\n",
       "        console.debug(\"Bokeh: all BokehJS libraries/stylesheets loaded\");\n",
       "        run_callbacks()\n",
       "      }\n",
       "    }\n",
       "\n",
       "    function on_error(url) {\n",
       "      console.error(\"failed to load \" + url);\n",
       "    }\n",
       "\n",
       "    for (let i = 0; i < css_urls.length; i++) {\n",
       "      const url = css_urls[i];\n",
       "      const element = document.createElement(\"link\");\n",
       "      element.onload = on_load;\n",
       "      element.onerror = on_error.bind(null, url);\n",
       "      element.rel = \"stylesheet\";\n",
       "      element.type = \"text/css\";\n",
       "      element.href = url;\n",
       "      console.debug(\"Bokeh: injecting link tag for BokehJS stylesheet: \", url);\n",
       "      document.body.appendChild(element);\n",
       "    }\n",
       "\n",
       "    for (let i = 0; i < js_urls.length; i++) {\n",
       "      const url = js_urls[i];\n",
       "      const element = document.createElement('script');\n",
       "      element.onload = on_load;\n",
       "      element.onerror = on_error.bind(null, url);\n",
       "      element.async = false;\n",
       "      element.src = url;\n",
       "      console.debug(\"Bokeh: injecting script tag for BokehJS library: \", url);\n",
       "      document.head.appendChild(element);\n",
       "    }\n",
       "  };\n",
       "\n",
       "  function inject_raw_css(css) {\n",
       "    const element = document.createElement(\"style\");\n",
       "    element.appendChild(document.createTextNode(css));\n",
       "    document.body.appendChild(element);\n",
       "  }\n",
       "\n",
       "  const js_urls = [\"https://cdn.bokeh.org/bokeh/release/bokeh-3.2.1.min.js\", \"https://cdn.bokeh.org/bokeh/release/bokeh-gl-3.2.1.min.js\", \"https://cdn.bokeh.org/bokeh/release/bokeh-widgets-3.2.1.min.js\", \"https://cdn.bokeh.org/bokeh/release/bokeh-tables-3.2.1.min.js\", \"https://cdn.bokeh.org/bokeh/release/bokeh-mathjax-3.2.1.min.js\"];\n",
       "  const css_urls = [];\n",
       "\n",
       "  const inline_js = [    function(Bokeh) {\n",
       "      Bokeh.set_log_level(\"info\");\n",
       "    },\n",
       "function(Bokeh) {\n",
       "    }\n",
       "  ];\n",
       "\n",
       "  function run_inline_js() {\n",
       "    if (root.Bokeh !== undefined || force === true) {\n",
       "          for (let i = 0; i < inline_js.length; i++) {\n",
       "      inline_js[i].call(root, root.Bokeh);\n",
       "    }\n",
       "} else if (Date.now() < root._bokeh_timeout) {\n",
       "      setTimeout(run_inline_js, 100);\n",
       "    } else if (!root._bokeh_failed_load) {\n",
       "      console.log(\"Bokeh: BokehJS failed to load within specified timeout.\");\n",
       "      root._bokeh_failed_load = true;\n",
       "    } else if (force !== true) {\n",
       "      const cell = $(document.getElementById(null)).parents('.cell').data().cell;\n",
       "      cell.output_area.append_execute_result(NB_LOAD_WARNING)\n",
       "    }\n",
       "  }\n",
       "\n",
       "  if (root._bokeh_is_loading === 0) {\n",
       "    console.debug(\"Bokeh: BokehJS loaded, going straight to plotting\");\n",
       "    run_inline_js();\n",
       "  } else {\n",
       "    load_libs(css_urls, js_urls, function() {\n",
       "      console.debug(\"Bokeh: BokehJS plotting callback run at\", now());\n",
       "      run_inline_js();\n",
       "    });\n",
       "  }\n",
       "}(window));"
      ],
      "application/vnd.bokehjs_load.v0+json": "(function(root) {\n  function now() {\n    return new Date();\n  }\n\n  const force = true;\n\n  if (typeof root._bokeh_onload_callbacks === \"undefined\" || force === true) {\n    root._bokeh_onload_callbacks = [];\n    root._bokeh_is_loading = undefined;\n  }\n\n\n  if (typeof (root._bokeh_timeout) === \"undefined\" || force === true) {\n    root._bokeh_timeout = Date.now() + 5000;\n    root._bokeh_failed_load = false;\n  }\n\n  const NB_LOAD_WARNING = {'data': {'text/html':\n     \"<div style='background-color: #fdd'>\\n\"+\n     \"<p>\\n\"+\n     \"BokehJS does not appear to have successfully loaded. If loading BokehJS from CDN, this \\n\"+\n     \"may be due to a slow or bad network connection. Possible fixes:\\n\"+\n     \"</p>\\n\"+\n     \"<ul>\\n\"+\n     \"<li>re-rerun `output_notebook()` to attempt to load from CDN again, or</li>\\n\"+\n     \"<li>use INLINE resources instead, as so:</li>\\n\"+\n     \"</ul>\\n\"+\n     \"<code>\\n\"+\n     \"from bokeh.resources import INLINE\\n\"+\n     \"output_notebook(resources=INLINE)\\n\"+\n     \"</code>\\n\"+\n     \"</div>\"}};\n\n  function display_loaded() {\n    const el = document.getElementById(null);\n    if (el != null) {\n      el.textContent = \"BokehJS is loading...\";\n    }\n    if (root.Bokeh !== undefined) {\n      if (el != null) {\n        el.textContent = \"BokehJS \" + root.Bokeh.version + \" successfully loaded.\";\n      }\n    } else if (Date.now() < root._bokeh_timeout) {\n      setTimeout(display_loaded, 100)\n    }\n  }\n\n  function run_callbacks() {\n    try {\n      root._bokeh_onload_callbacks.forEach(function(callback) {\n        if (callback != null)\n          callback();\n      });\n    } finally {\n      delete root._bokeh_onload_callbacks\n    }\n    console.debug(\"Bokeh: all callbacks have finished\");\n  }\n\n  function load_libs(css_urls, js_urls, callback) {\n    if (css_urls == null) css_urls = [];\n    if (js_urls == null) js_urls = [];\n\n    root._bokeh_onload_callbacks.push(callback);\n    if (root._bokeh_is_loading > 0) {\n      console.debug(\"Bokeh: BokehJS is being loaded, scheduling callback at\", now());\n      return null;\n    }\n    if (js_urls == null || js_urls.length === 0) {\n      run_callbacks();\n      return null;\n    }\n    console.debug(\"Bokeh: BokehJS not loaded, scheduling load and callback at\", now());\n    root._bokeh_is_loading = css_urls.length + js_urls.length;\n\n    function on_load() {\n      root._bokeh_is_loading--;\n      if (root._bokeh_is_loading === 0) {\n        console.debug(\"Bokeh: all BokehJS libraries/stylesheets loaded\");\n        run_callbacks()\n      }\n    }\n\n    function on_error(url) {\n      console.error(\"failed to load \" + url);\n    }\n\n    for (let i = 0; i < css_urls.length; i++) {\n      const url = css_urls[i];\n      const element = document.createElement(\"link\");\n      element.onload = on_load;\n      element.onerror = on_error.bind(null, url);\n      element.rel = \"stylesheet\";\n      element.type = \"text/css\";\n      element.href = url;\n      console.debug(\"Bokeh: injecting link tag for BokehJS stylesheet: \", url);\n      document.body.appendChild(element);\n    }\n\n    for (let i = 0; i < js_urls.length; i++) {\n      const url = js_urls[i];\n      const element = document.createElement('script');\n      element.onload = on_load;\n      element.onerror = on_error.bind(null, url);\n      element.async = false;\n      element.src = url;\n      console.debug(\"Bokeh: injecting script tag for BokehJS library: \", url);\n      document.head.appendChild(element);\n    }\n  };\n\n  function inject_raw_css(css) {\n    const element = document.createElement(\"style\");\n    element.appendChild(document.createTextNode(css));\n    document.body.appendChild(element);\n  }\n\n  const js_urls = [\"https://cdn.bokeh.org/bokeh/release/bokeh-3.2.1.min.js\", \"https://cdn.bokeh.org/bokeh/release/bokeh-gl-3.2.1.min.js\", \"https://cdn.bokeh.org/bokeh/release/bokeh-widgets-3.2.1.min.js\", \"https://cdn.bokeh.org/bokeh/release/bokeh-tables-3.2.1.min.js\", \"https://cdn.bokeh.org/bokeh/release/bokeh-mathjax-3.2.1.min.js\"];\n  const css_urls = [];\n\n  const inline_js = [    function(Bokeh) {\n      Bokeh.set_log_level(\"info\");\n    },\nfunction(Bokeh) {\n    }\n  ];\n\n  function run_inline_js() {\n    if (root.Bokeh !== undefined || force === true) {\n          for (let i = 0; i < inline_js.length; i++) {\n      inline_js[i].call(root, root.Bokeh);\n    }\n} else if (Date.now() < root._bokeh_timeout) {\n      setTimeout(run_inline_js, 100);\n    } else if (!root._bokeh_failed_load) {\n      console.log(\"Bokeh: BokehJS failed to load within specified timeout.\");\n      root._bokeh_failed_load = true;\n    } else if (force !== true) {\n      const cell = $(document.getElementById(null)).parents('.cell').data().cell;\n      cell.output_area.append_execute_result(NB_LOAD_WARNING)\n    }\n  }\n\n  if (root._bokeh_is_loading === 0) {\n    console.debug(\"Bokeh: BokehJS loaded, going straight to plotting\");\n    run_inline_js();\n  } else {\n    load_libs(css_urls, js_urls, function() {\n      console.debug(\"Bokeh: BokehJS plotting callback run at\", now());\n      run_inline_js();\n    });\n  }\n}(window));"
     },
     "metadata": {},
     "output_type": "display_data"
    },
    {
     "data": {
      "text/html": [
       "\n",
       "            <table class=\"malariagen-af1\">\n",
       "                <thead>\n",
       "                    <tr>\n",
       "                        <th style=\"text-align: left\" colspan=\"2\">MalariaGEN Af1 API client</th>\n",
       "                    </tr>\n",
       "                    <tr><td colspan=\"2\" style=\"text-align: left\">\n",
       "                        Please note that data are subject to terms of use,\n",
       "                        for more information see <a href=\"https://www.malariagen.net/data\">\n",
       "                        the MalariaGEN website</a> or contact support@malariagen.net.\n",
       "                        See also the <a href=\"https://malariagen.github.io/malariagen-data-python/v10.0.0/Af1.html\">Af1 API docs</a>.\n",
       "                    </td></tr>\n",
       "                </thead>\n",
       "                <tbody>\n",
       "                    <tr>\n",
       "                        <th style=\"text-align: left\">\n",
       "                            Storage URL\n",
       "                        </th>\n",
       "                        <td>gs://vo_afun_release_master_us_central1</td>\n",
       "                    </tr>\n",
       "                    <tr>\n",
       "                        <th style=\"text-align: left\">\n",
       "                            Data releases available\n",
       "                        </th>\n",
       "                        <td>1.0, 1.1, 1.2, 1.3, 1.4</td>\n",
       "                    </tr>\n",
       "                    <tr>\n",
       "                        <th style=\"text-align: left\">\n",
       "                            Results cache\n",
       "                        </th>\n",
       "                        <td>None</td>\n",
       "                    </tr>\n",
       "                    <tr>\n",
       "                        <th style=\"text-align: left\">\n",
       "                            Cohorts analysis\n",
       "                        </th>\n",
       "                        <td>20231215</td>\n",
       "                    </tr>\n",
       "                    <tr>\n",
       "                        <th style=\"text-align: left\">\n",
       "                            Site filters analysis\n",
       "                        </th>\n",
       "                        <td>sc_20220908</td>\n",
       "                    </tr>\n",
       "                    <tr>\n",
       "                        <th style=\"text-align: left\">\n",
       "                            Software version\n",
       "                        </th>\n",
       "                        <td>malariagen_data 10.0.0</td>\n",
       "                    </tr>\n",
       "                    <tr>\n",
       "                        <th style=\"text-align: left\">\n",
       "                            Client location\n",
       "                        </th>\n",
       "                        <td>Iowa, United States (Google Cloud us-central1)</td>\n",
       "                    </tr>\n",
       "                </tbody>\n",
       "            </table>\n",
       "        "
      ],
      "text/plain": [
       "<MalariaGEN Af1 API client>\n",
       "Storage URL             : gs://vo_afun_release_master_us_central1\n",
       "Data releases available : 1.0, 1.1, 1.2, 1.3, 1.4\n",
       "Results cache           : None\n",
       "Cohorts analysis        : 20231215\n",
       "Site filters analysis   : sc_20220908\n",
       "Software version        : malariagen_data 10.0.0\n",
       "Client location         : Iowa, United States (Google Cloud us-central1)\n",
       "---\n",
       "Please note that data are subject to terms of use,\n",
       "for more information see https://www.malariagen.net/data\n",
       "or contact support@malariagen.net. For API documentation see \n",
       "https://malariagen.github.io/malariagen-data-python/v10.0.0/Af1.html"
      ]
     },
     "execution_count": 5,
     "metadata": {},
     "output_type": "execute_result"
    }
   ],
   "source": [
    "af1 = malariagen_data.Af1(site_filters_analysis=\"sc_20220908\", pre=True)\n",
    "af1"
   ]
  },
  {
   "cell_type": "code",
   "execution_count": 6,
   "id": "88ca3a30-1d71-4fae-a277-7c7e4ee35bd1",
   "metadata": {
    "tags": []
   },
   "outputs": [
    {
     "name": "stdout",
     "output_type": "stream",
     "text": [
      "                                     \r"
     ]
    },
    {
     "data": {
      "text/html": [
       "<div>\n",
       "<style scoped>\n",
       "    .dataframe tbody tr th:only-of-type {\n",
       "        vertical-align: middle;\n",
       "    }\n",
       "\n",
       "    .dataframe tbody tr th {\n",
       "        vertical-align: top;\n",
       "    }\n",
       "\n",
       "    .dataframe thead th {\n",
       "        text-align: right;\n",
       "    }\n",
       "</style>\n",
       "<table border=\"1\" class=\"dataframe\">\n",
       "  <thead>\n",
       "    <tr style=\"text-align: right;\">\n",
       "      <th></th>\n",
       "      <th>sample_id</th>\n",
       "      <th>partner_sample_id</th>\n",
       "      <th>contributor</th>\n",
       "      <th>country</th>\n",
       "      <th>location</th>\n",
       "      <th>year</th>\n",
       "      <th>month</th>\n",
       "      <th>latitude</th>\n",
       "      <th>longitude</th>\n",
       "      <th>sex_call</th>\n",
       "      <th>...</th>\n",
       "      <th>geographic_cohort_shape</th>\n",
       "      <th>PCA_cohort</th>\n",
       "      <th>PCA_cohort_colour</th>\n",
       "      <th>mitochondrial_id</th>\n",
       "      <th>karyotype_3La</th>\n",
       "      <th>karyotype_3Ra</th>\n",
       "      <th>karyotype_3Rb</th>\n",
       "      <th>karyotype_2Ra</th>\n",
       "      <th>karyotype_2Rh</th>\n",
       "      <th>median_coverage</th>\n",
       "    </tr>\n",
       "  </thead>\n",
       "  <tbody>\n",
       "    <tr>\n",
       "      <th>0</th>\n",
       "      <td>VBS10123-4954STDY7089651</td>\n",
       "      <td>UG4A2016A2_88</td>\n",
       "      <td>Mara Lawniczak</td>\n",
       "      <td>Uganda</td>\n",
       "      <td>Busia</td>\n",
       "      <td>2016</td>\n",
       "      <td>6</td>\n",
       "      <td>0.466</td>\n",
       "      <td>34.089</td>\n",
       "      <td>F</td>\n",
       "      <td>...</td>\n",
       "      <td>NaN</td>\n",
       "      <td>NaN</td>\n",
       "      <td>NaN</td>\n",
       "      <td>NaN</td>\n",
       "      <td>NaN</td>\n",
       "      <td>NaN</td>\n",
       "      <td>NaN</td>\n",
       "      <td>NaN</td>\n",
       "      <td>NaN</td>\n",
       "      <td>NaN</td>\n",
       "    </tr>\n",
       "    <tr>\n",
       "      <th>1</th>\n",
       "      <td>VBS10132-4954STDY7089660</td>\n",
       "      <td>UG4A2016B4_66</td>\n",
       "      <td>Mara Lawniczak</td>\n",
       "      <td>Uganda</td>\n",
       "      <td>Busia</td>\n",
       "      <td>2016</td>\n",
       "      <td>6</td>\n",
       "      <td>0.466</td>\n",
       "      <td>34.089</td>\n",
       "      <td>F</td>\n",
       "      <td>...</td>\n",
       "      <td>NaN</td>\n",
       "      <td>NaN</td>\n",
       "      <td>NaN</td>\n",
       "      <td>NaN</td>\n",
       "      <td>NaN</td>\n",
       "      <td>NaN</td>\n",
       "      <td>NaN</td>\n",
       "      <td>NaN</td>\n",
       "      <td>NaN</td>\n",
       "      <td>NaN</td>\n",
       "    </tr>\n",
       "    <tr>\n",
       "      <th>2</th>\n",
       "      <td>VBS10154-4954STDY7089682</td>\n",
       "      <td>GS5</td>\n",
       "      <td>Mara Lawniczak</td>\n",
       "      <td>Kenya</td>\n",
       "      <td>Nyawiya</td>\n",
       "      <td>2017</td>\n",
       "      <td>4</td>\n",
       "      <td>-0.466</td>\n",
       "      <td>34.319</td>\n",
       "      <td>F</td>\n",
       "      <td>...</td>\n",
       "      <td>NaN</td>\n",
       "      <td>NaN</td>\n",
       "      <td>NaN</td>\n",
       "      <td>NaN</td>\n",
       "      <td>NaN</td>\n",
       "      <td>NaN</td>\n",
       "      <td>NaN</td>\n",
       "      <td>NaN</td>\n",
       "      <td>NaN</td>\n",
       "      <td>NaN</td>\n",
       "    </tr>\n",
       "    <tr>\n",
       "      <th>3</th>\n",
       "      <td>VBS10156-4954STDY7089684</td>\n",
       "      <td>UG10201710A1_1</td>\n",
       "      <td>Mara Lawniczak</td>\n",
       "      <td>Uganda</td>\n",
       "      <td>Busia</td>\n",
       "      <td>2017</td>\n",
       "      <td>3</td>\n",
       "      <td>0.466</td>\n",
       "      <td>34.089</td>\n",
       "      <td>F</td>\n",
       "      <td>...</td>\n",
       "      <td>NaN</td>\n",
       "      <td>NaN</td>\n",
       "      <td>NaN</td>\n",
       "      <td>NaN</td>\n",
       "      <td>NaN</td>\n",
       "      <td>NaN</td>\n",
       "      <td>NaN</td>\n",
       "      <td>NaN</td>\n",
       "      <td>NaN</td>\n",
       "      <td>NaN</td>\n",
       "    </tr>\n",
       "    <tr>\n",
       "      <th>4</th>\n",
       "      <td>VBS10195-4954STDY7089723</td>\n",
       "      <td>UG17201717H2_16</td>\n",
       "      <td>Mara Lawniczak</td>\n",
       "      <td>Uganda</td>\n",
       "      <td>Mayuge</td>\n",
       "      <td>2017</td>\n",
       "      <td>6</td>\n",
       "      <td>0.458</td>\n",
       "      <td>33.481</td>\n",
       "      <td>F</td>\n",
       "      <td>...</td>\n",
       "      <td>NaN</td>\n",
       "      <td>NaN</td>\n",
       "      <td>NaN</td>\n",
       "      <td>NaN</td>\n",
       "      <td>NaN</td>\n",
       "      <td>NaN</td>\n",
       "      <td>NaN</td>\n",
       "      <td>NaN</td>\n",
       "      <td>NaN</td>\n",
       "      <td>NaN</td>\n",
       "    </tr>\n",
       "    <tr>\n",
       "      <th>...</th>\n",
       "      <td>...</td>\n",
       "      <td>...</td>\n",
       "      <td>...</td>\n",
       "      <td>...</td>\n",
       "      <td>...</td>\n",
       "      <td>...</td>\n",
       "      <td>...</td>\n",
       "      <td>...</td>\n",
       "      <td>...</td>\n",
       "      <td>...</td>\n",
       "      <td>...</td>\n",
       "      <td>...</td>\n",
       "      <td>...</td>\n",
       "      <td>...</td>\n",
       "      <td>...</td>\n",
       "      <td>...</td>\n",
       "      <td>...</td>\n",
       "      <td>...</td>\n",
       "      <td>...</td>\n",
       "      <td>...</td>\n",
       "      <td>...</td>\n",
       "    </tr>\n",
       "    <tr>\n",
       "      <th>3959</th>\n",
       "      <td>SAMN27766214</td>\n",
       "      <td>Dirze_02-06897_Kiribina</td>\n",
       "      <td>Scott Small</td>\n",
       "      <td>Burkina Faso</td>\n",
       "      <td>Dirze</td>\n",
       "      <td>2002</td>\n",
       "      <td>12</td>\n",
       "      <td>11.400</td>\n",
       "      <td>-0.600</td>\n",
       "      <td>F</td>\n",
       "      <td>...</td>\n",
       "      <td>NaN</td>\n",
       "      <td>NaN</td>\n",
       "      <td>NaN</td>\n",
       "      <td>NaN</td>\n",
       "      <td>NaN</td>\n",
       "      <td>NaN</td>\n",
       "      <td>NaN</td>\n",
       "      <td>NaN</td>\n",
       "      <td>NaN</td>\n",
       "      <td>NaN</td>\n",
       "    </tr>\n",
       "    <tr>\n",
       "      <th>3960</th>\n",
       "      <td>SAMN27766216</td>\n",
       "      <td>Dirze_02-07231_Kiribina</td>\n",
       "      <td>Scott Small</td>\n",
       "      <td>Burkina Faso</td>\n",
       "      <td>Dirze</td>\n",
       "      <td>2002</td>\n",
       "      <td>12</td>\n",
       "      <td>11.400</td>\n",
       "      <td>-0.600</td>\n",
       "      <td>F</td>\n",
       "      <td>...</td>\n",
       "      <td>NaN</td>\n",
       "      <td>NaN</td>\n",
       "      <td>NaN</td>\n",
       "      <td>NaN</td>\n",
       "      <td>NaN</td>\n",
       "      <td>NaN</td>\n",
       "      <td>NaN</td>\n",
       "      <td>NaN</td>\n",
       "      <td>NaN</td>\n",
       "      <td>NaN</td>\n",
       "    </tr>\n",
       "    <tr>\n",
       "      <th>3961</th>\n",
       "      <td>SAMN27766217</td>\n",
       "      <td>Kuiti_00-01518_Kiribina</td>\n",
       "      <td>Scott Small</td>\n",
       "      <td>Burkina Faso</td>\n",
       "      <td>Kuiti</td>\n",
       "      <td>2000</td>\n",
       "      <td>9</td>\n",
       "      <td>12.280</td>\n",
       "      <td>-1.410</td>\n",
       "      <td>F</td>\n",
       "      <td>...</td>\n",
       "      <td>NaN</td>\n",
       "      <td>NaN</td>\n",
       "      <td>NaN</td>\n",
       "      <td>NaN</td>\n",
       "      <td>NaN</td>\n",
       "      <td>NaN</td>\n",
       "      <td>NaN</td>\n",
       "      <td>NaN</td>\n",
       "      <td>NaN</td>\n",
       "      <td>NaN</td>\n",
       "    </tr>\n",
       "    <tr>\n",
       "      <th>3962</th>\n",
       "      <td>SAMN27766218</td>\n",
       "      <td>Pehele_02-06339_Kiribina</td>\n",
       "      <td>Scott Small</td>\n",
       "      <td>Burkina Faso</td>\n",
       "      <td>Pehele</td>\n",
       "      <td>2002</td>\n",
       "      <td>11</td>\n",
       "      <td>12.250</td>\n",
       "      <td>-1.180</td>\n",
       "      <td>F</td>\n",
       "      <td>...</td>\n",
       "      <td>NaN</td>\n",
       "      <td>NaN</td>\n",
       "      <td>NaN</td>\n",
       "      <td>NaN</td>\n",
       "      <td>NaN</td>\n",
       "      <td>NaN</td>\n",
       "      <td>NaN</td>\n",
       "      <td>NaN</td>\n",
       "      <td>NaN</td>\n",
       "      <td>NaN</td>\n",
       "    </tr>\n",
       "    <tr>\n",
       "      <th>3963</th>\n",
       "      <td>SAMN27766219</td>\n",
       "      <td>Pehele_02-06365_Kiribina</td>\n",
       "      <td>Scott Small</td>\n",
       "      <td>Burkina Faso</td>\n",
       "      <td>Pehele</td>\n",
       "      <td>2002</td>\n",
       "      <td>12</td>\n",
       "      <td>12.250</td>\n",
       "      <td>-1.180</td>\n",
       "      <td>F</td>\n",
       "      <td>...</td>\n",
       "      <td>NaN</td>\n",
       "      <td>NaN</td>\n",
       "      <td>NaN</td>\n",
       "      <td>NaN</td>\n",
       "      <td>NaN</td>\n",
       "      <td>NaN</td>\n",
       "      <td>NaN</td>\n",
       "      <td>NaN</td>\n",
       "      <td>NaN</td>\n",
       "      <td>NaN</td>\n",
       "    </tr>\n",
       "  </tbody>\n",
       "</table>\n",
       "<p>3964 rows × 38 columns</p>\n",
       "</div>"
      ],
      "text/plain": [
       "                     sample_id         partner_sample_id     contributor  \\\n",
       "0     VBS10123-4954STDY7089651             UG4A2016A2_88  Mara Lawniczak   \n",
       "1     VBS10132-4954STDY7089660             UG4A2016B4_66  Mara Lawniczak   \n",
       "2     VBS10154-4954STDY7089682                       GS5  Mara Lawniczak   \n",
       "3     VBS10156-4954STDY7089684            UG10201710A1_1  Mara Lawniczak   \n",
       "4     VBS10195-4954STDY7089723           UG17201717H2_16  Mara Lawniczak   \n",
       "...                        ...                       ...             ...   \n",
       "3959              SAMN27766214   Dirze_02-06897_Kiribina     Scott Small   \n",
       "3960              SAMN27766216   Dirze_02-07231_Kiribina     Scott Small   \n",
       "3961              SAMN27766217   Kuiti_00-01518_Kiribina     Scott Small   \n",
       "3962              SAMN27766218  Pehele_02-06339_Kiribina     Scott Small   \n",
       "3963              SAMN27766219  Pehele_02-06365_Kiribina     Scott Small   \n",
       "\n",
       "           country location  year  month  latitude  longitude sex_call  ...  \\\n",
       "0           Uganda    Busia  2016      6     0.466     34.089        F  ...   \n",
       "1           Uganda    Busia  2016      6     0.466     34.089        F  ...   \n",
       "2            Kenya  Nyawiya  2017      4    -0.466     34.319        F  ...   \n",
       "3           Uganda    Busia  2017      3     0.466     34.089        F  ...   \n",
       "4           Uganda   Mayuge  2017      6     0.458     33.481        F  ...   \n",
       "...            ...      ...   ...    ...       ...        ...      ...  ...   \n",
       "3959  Burkina Faso    Dirze  2002     12    11.400     -0.600        F  ...   \n",
       "3960  Burkina Faso    Dirze  2002     12    11.400     -0.600        F  ...   \n",
       "3961  Burkina Faso    Kuiti  2000      9    12.280     -1.410        F  ...   \n",
       "3962  Burkina Faso   Pehele  2002     11    12.250     -1.180        F  ...   \n",
       "3963  Burkina Faso   Pehele  2002     12    12.250     -1.180        F  ...   \n",
       "\n",
       "     geographic_cohort_shape PCA_cohort  PCA_cohort_colour mitochondrial_id  \\\n",
       "0                        NaN        NaN                NaN              NaN   \n",
       "1                        NaN        NaN                NaN              NaN   \n",
       "2                        NaN        NaN                NaN              NaN   \n",
       "3                        NaN        NaN                NaN              NaN   \n",
       "4                        NaN        NaN                NaN              NaN   \n",
       "...                      ...        ...                ...              ...   \n",
       "3959                     NaN        NaN                NaN              NaN   \n",
       "3960                     NaN        NaN                NaN              NaN   \n",
       "3961                     NaN        NaN                NaN              NaN   \n",
       "3962                     NaN        NaN                NaN              NaN   \n",
       "3963                     NaN        NaN                NaN              NaN   \n",
       "\n",
       "     karyotype_3La karyotype_3Ra karyotype_3Rb karyotype_2Ra karyotype_2Rh  \\\n",
       "0              NaN           NaN           NaN           NaN           NaN   \n",
       "1              NaN           NaN           NaN           NaN           NaN   \n",
       "2              NaN           NaN           NaN           NaN           NaN   \n",
       "3              NaN           NaN           NaN           NaN           NaN   \n",
       "4              NaN           NaN           NaN           NaN           NaN   \n",
       "...            ...           ...           ...           ...           ...   \n",
       "3959           NaN           NaN           NaN           NaN           NaN   \n",
       "3960           NaN           NaN           NaN           NaN           NaN   \n",
       "3961           NaN           NaN           NaN           NaN           NaN   \n",
       "3962           NaN           NaN           NaN           NaN           NaN   \n",
       "3963           NaN           NaN           NaN           NaN           NaN   \n",
       "\n",
       "     median_coverage  \n",
       "0                NaN  \n",
       "1                NaN  \n",
       "2                NaN  \n",
       "3                NaN  \n",
       "4                NaN  \n",
       "...              ...  \n",
       "3959             NaN  \n",
       "3960             NaN  \n",
       "3961             NaN  \n",
       "3962             NaN  \n",
       "3963             NaN  \n",
       "\n",
       "[3964 rows x 38 columns]"
      ]
     },
     "execution_count": 6,
     "metadata": {},
     "output_type": "execute_result"
    }
   ],
   "source": [
    "af1.add_extra_metadata(pd.read_csv(\"../../meta/additional_sample_metadata.csv\"))\n",
    "meta = af1.sample_metadata()\n",
    "meta"
   ]
  },
  {
   "cell_type": "code",
   "execution_count": 7,
   "id": "eeda043d-1073-4150-a5ae-ec4562004b6a",
   "metadata": {
    "tags": []
   },
   "outputs": [
    {
     "data": {
      "text/plain": [
       "release  contributor           \n",
       "1.0      Charles Wondji             320\n",
       "         Diego Ayala                 50\n",
       "         Eric Ochomo                 81\n",
       "         Fredros Okumu               10\n",
       "         Krijn Paaijmans             76\n",
       "         Lizette Koekemoer           83\n",
       "         Samuel Dadzie               36\n",
       "1.1      Alexander Egyir-Yawson       8\n",
       "         Austin Burt                  1\n",
       "         Bilali Kabula                3\n",
       "         Diego Ayala                 50\n",
       "         Francis Watsenga            55\n",
       "         Fredros Okumu               43\n",
       "         Janet Midega                28\n",
       "         Joel Odero                  29\n",
       "         Jonathan Kayondo             4\n",
       "         Luc Djogbenou                1\n",
       "         Lucas Amenga-Etego           2\n",
       "         Mara Lawniczak               7\n",
       "         Martin Donnelly           1177\n",
       "         Mbanga Muleba              344\n",
       "         Olaitan Omitola            263\n",
       "         Scott Small                 50\n",
       "1.2      Antonio Christophe          81\n",
       "         Joel Odero                  59\n",
       "         Scott Small                177\n",
       "1.3      Joel Odero                 193\n",
       "1.4      Alfred Amambua-Ngwa        196\n",
       "         El Hadji Amadou Niang       71\n",
       "         Harun Njoroge Nganga       466\n",
       "dtype: int64"
      ]
     },
     "execution_count": 7,
     "metadata": {},
     "output_type": "execute_result"
    }
   ],
   "source": [
    "meta.groupby(['release', 'contributor'],dropna=False).size()"
   ]
  },
  {
   "cell_type": "code",
   "execution_count": 13,
   "id": "56b4038b-fd31-47ae-8f86-f6eb4b462f45",
   "metadata": {
    "tags": []
   },
   "outputs": [
    {
     "data": {
      "text/plain": [
       "country\n",
       "Burkina Faso    177\n",
       "dtype: int64"
      ]
     },
     "execution_count": 13,
     "metadata": {},
     "output_type": "execute_result"
    }
   ],
   "source": [
    "meta.query('release == \"1.2\" and contributor == \"Scott Small\"').groupby(['country'], dropna=False).size()"
   ]
  },
  {
   "cell_type": "code",
   "execution_count": 12,
   "id": "a03eacc4-f482-4b15-8d38-1e64d9e34573",
   "metadata": {
    "tags": []
   },
   "outputs": [
    {
     "data": {
      "text/plain": [
       "(549, 38)"
      ]
     },
     "execution_count": 12,
     "metadata": {},
     "output_type": "execute_result"
    }
   ],
   "source": [
    "meta.query('(release == \"1.0\" and PCA_cohort in [\"EQ_central\", \"EQ_CAR\", \"EQ_east\", \"EQ_Benin\", \"N_Ghana\"]) \\\n",
    "           or (release == \"1.2\" and contributor == \"Scott Small\")').shape"
   ]
  },
  {
   "cell_type": "code",
   "execution_count": 14,
   "id": "ca9f0337-cbc7-48e0-ba58-fd12a39082c9",
   "metadata": {
    "tags": []
   },
   "outputs": [
    {
     "name": "stdout",
     "output_type": "stream",
     "text": [
      "                                   \r"
     ]
    },
    {
     "data": {
      "application/vnd.jupyter.widget-view+json": {
       "model_id": "",
       "version_major": 2,
       "version_minor": 0
      },
      "text/plain": [
       "Compute SNP allele counts:   0%|          | 0/9916 [00:00<?, ?it/s]"
      ]
     },
     "metadata": {},
     "output_type": "display_data"
    },
    {
     "name": "stdout",
     "output_type": "stream",
     "text": [
      "                                            \r"
     ]
    },
    {
     "data": {
      "application/vnd.jupyter.widget-view+json": {
       "model_id": "",
       "version_major": 2,
       "version_minor": 0
      },
      "text/plain": [
       "Compute biallelic diplotypes:   0%|          | 0/13764 [00:00<?, ?it/s]"
      ]
     },
     "metadata": {},
     "output_type": "display_data"
    },
    {
     "name": "stdout",
     "output_type": "stream",
     "text": [
      "                            \r"
     ]
    }
   ],
   "source": [
    "df_pca, evr = af1.pca(\n",
    "    region = '2RL:57604655-102000000', \n",
    "    n_snps = 200_000,\n",
    "    sample_query = '(release == \"1.0\" and PCA_cohort in [\"EQ_central\", \"EQ_CAR\", \"EQ_east\", \"EQ_Benin\", \"N_Ghana\"]) \\\n",
    "           or (release == \"1.2\" and contributor == \"Scott Small\")',\n",
    "    site_mask = 'funestus', \n",
    "    min_minor_ac = int(0.01 * 549 * 2),\n",
    "    max_missing_an = int(0.05 * 549 *2), \n",
    "    n_components = 11)"
   ]
  },
  {
   "cell_type": "code",
   "execution_count": 15,
   "id": "58879d3e-cf25-4d8c-b023-e57dc860463d",
   "metadata": {
    "tags": []
   },
   "outputs": [
    {
     "data": {
      "text/html": [
       "<div>\n",
       "<style scoped>\n",
       "    .dataframe tbody tr th:only-of-type {\n",
       "        vertical-align: middle;\n",
       "    }\n",
       "\n",
       "    .dataframe tbody tr th {\n",
       "        vertical-align: top;\n",
       "    }\n",
       "\n",
       "    .dataframe thead th {\n",
       "        text-align: right;\n",
       "    }\n",
       "</style>\n",
       "<table border=\"1\" class=\"dataframe\">\n",
       "  <thead>\n",
       "    <tr style=\"text-align: right;\">\n",
       "      <th></th>\n",
       "      <th>sample_id</th>\n",
       "      <th>partner_sample_id</th>\n",
       "      <th>contributor</th>\n",
       "      <th>country</th>\n",
       "      <th>location</th>\n",
       "      <th>year</th>\n",
       "      <th>month</th>\n",
       "      <th>latitude</th>\n",
       "      <th>longitude</th>\n",
       "      <th>sex_call</th>\n",
       "      <th>...</th>\n",
       "      <th>PC2</th>\n",
       "      <th>PC3</th>\n",
       "      <th>PC4</th>\n",
       "      <th>PC5</th>\n",
       "      <th>PC6</th>\n",
       "      <th>PC7</th>\n",
       "      <th>PC8</th>\n",
       "      <th>PC9</th>\n",
       "      <th>PC10</th>\n",
       "      <th>PC11</th>\n",
       "    </tr>\n",
       "  </thead>\n",
       "  <tbody>\n",
       "    <tr>\n",
       "      <th>544</th>\n",
       "      <td>SAMN27766214</td>\n",
       "      <td>Dirze_02-06897_Kiribina</td>\n",
       "      <td>Scott Small</td>\n",
       "      <td>Burkina Faso</td>\n",
       "      <td>Dirze</td>\n",
       "      <td>2002</td>\n",
       "      <td>12</td>\n",
       "      <td>11.40</td>\n",
       "      <td>-0.60</td>\n",
       "      <td>F</td>\n",
       "      <td>...</td>\n",
       "      <td>-25.138987</td>\n",
       "      <td>-2.366282</td>\n",
       "      <td>105.690170</td>\n",
       "      <td>-73.991295</td>\n",
       "      <td>7.491354</td>\n",
       "      <td>1.006034</td>\n",
       "      <td>5.499476</td>\n",
       "      <td>0.774882</td>\n",
       "      <td>7.561816</td>\n",
       "      <td>-7.225705</td>\n",
       "    </tr>\n",
       "    <tr>\n",
       "      <th>545</th>\n",
       "      <td>SAMN27766216</td>\n",
       "      <td>Dirze_02-07231_Kiribina</td>\n",
       "      <td>Scott Small</td>\n",
       "      <td>Burkina Faso</td>\n",
       "      <td>Dirze</td>\n",
       "      <td>2002</td>\n",
       "      <td>12</td>\n",
       "      <td>11.40</td>\n",
       "      <td>-0.60</td>\n",
       "      <td>F</td>\n",
       "      <td>...</td>\n",
       "      <td>-24.556654</td>\n",
       "      <td>0.045212</td>\n",
       "      <td>110.259766</td>\n",
       "      <td>-86.795616</td>\n",
       "      <td>7.441431</td>\n",
       "      <td>-2.016650</td>\n",
       "      <td>8.620908</td>\n",
       "      <td>0.405719</td>\n",
       "      <td>13.569082</td>\n",
       "      <td>4.559518</td>\n",
       "    </tr>\n",
       "    <tr>\n",
       "      <th>546</th>\n",
       "      <td>SAMN27766217</td>\n",
       "      <td>Kuiti_00-01518_Kiribina</td>\n",
       "      <td>Scott Small</td>\n",
       "      <td>Burkina Faso</td>\n",
       "      <td>Kuiti</td>\n",
       "      <td>2000</td>\n",
       "      <td>9</td>\n",
       "      <td>12.28</td>\n",
       "      <td>-1.41</td>\n",
       "      <td>F</td>\n",
       "      <td>...</td>\n",
       "      <td>-24.335123</td>\n",
       "      <td>-0.599774</td>\n",
       "      <td>105.234825</td>\n",
       "      <td>-73.159660</td>\n",
       "      <td>5.580729</td>\n",
       "      <td>-1.453090</td>\n",
       "      <td>-0.648889</td>\n",
       "      <td>-0.153309</td>\n",
       "      <td>-5.973322</td>\n",
       "      <td>-3.356497</td>\n",
       "    </tr>\n",
       "    <tr>\n",
       "      <th>547</th>\n",
       "      <td>SAMN27766218</td>\n",
       "      <td>Pehele_02-06339_Kiribina</td>\n",
       "      <td>Scott Small</td>\n",
       "      <td>Burkina Faso</td>\n",
       "      <td>Pehele</td>\n",
       "      <td>2002</td>\n",
       "      <td>11</td>\n",
       "      <td>12.25</td>\n",
       "      <td>-1.18</td>\n",
       "      <td>F</td>\n",
       "      <td>...</td>\n",
       "      <td>6.993385</td>\n",
       "      <td>1.128940</td>\n",
       "      <td>17.418486</td>\n",
       "      <td>17.062027</td>\n",
       "      <td>0.198453</td>\n",
       "      <td>-0.944619</td>\n",
       "      <td>-31.301001</td>\n",
       "      <td>-11.287724</td>\n",
       "      <td>-85.186798</td>\n",
       "      <td>2.031017</td>\n",
       "    </tr>\n",
       "    <tr>\n",
       "      <th>548</th>\n",
       "      <td>SAMN27766219</td>\n",
       "      <td>Pehele_02-06365_Kiribina</td>\n",
       "      <td>Scott Small</td>\n",
       "      <td>Burkina Faso</td>\n",
       "      <td>Pehele</td>\n",
       "      <td>2002</td>\n",
       "      <td>12</td>\n",
       "      <td>12.25</td>\n",
       "      <td>-1.18</td>\n",
       "      <td>F</td>\n",
       "      <td>...</td>\n",
       "      <td>10.131152</td>\n",
       "      <td>1.545775</td>\n",
       "      <td>15.659729</td>\n",
       "      <td>18.461815</td>\n",
       "      <td>-3.372104</td>\n",
       "      <td>1.345890</td>\n",
       "      <td>-33.097424</td>\n",
       "      <td>-13.284008</td>\n",
       "      <td>-87.941902</td>\n",
       "      <td>-9.148831</td>\n",
       "    </tr>\n",
       "  </tbody>\n",
       "</table>\n",
       "<p>5 rows × 49 columns</p>\n",
       "</div>"
      ],
      "text/plain": [
       "        sample_id         partner_sample_id  contributor       country  \\\n",
       "544  SAMN27766214   Dirze_02-06897_Kiribina  Scott Small  Burkina Faso   \n",
       "545  SAMN27766216   Dirze_02-07231_Kiribina  Scott Small  Burkina Faso   \n",
       "546  SAMN27766217   Kuiti_00-01518_Kiribina  Scott Small  Burkina Faso   \n",
       "547  SAMN27766218  Pehele_02-06339_Kiribina  Scott Small  Burkina Faso   \n",
       "548  SAMN27766219  Pehele_02-06365_Kiribina  Scott Small  Burkina Faso   \n",
       "\n",
       "    location  year  month  latitude  longitude sex_call  ...        PC2  \\\n",
       "544    Dirze  2002     12     11.40      -0.60        F  ... -25.138987   \n",
       "545    Dirze  2002     12     11.40      -0.60        F  ... -24.556654   \n",
       "546    Kuiti  2000      9     12.28      -1.41        F  ... -24.335123   \n",
       "547   Pehele  2002     11     12.25      -1.18        F  ...   6.993385   \n",
       "548   Pehele  2002     12     12.25      -1.18        F  ...  10.131152   \n",
       "\n",
       "          PC3         PC4        PC5       PC6       PC7        PC8  \\\n",
       "544 -2.366282  105.690170 -73.991295  7.491354  1.006034   5.499476   \n",
       "545  0.045212  110.259766 -86.795616  7.441431 -2.016650   8.620908   \n",
       "546 -0.599774  105.234825 -73.159660  5.580729 -1.453090  -0.648889   \n",
       "547  1.128940   17.418486  17.062027  0.198453 -0.944619 -31.301001   \n",
       "548  1.545775   15.659729  18.461815 -3.372104  1.345890 -33.097424   \n",
       "\n",
       "           PC9       PC10      PC11  \n",
       "544   0.774882   7.561816 -7.225705  \n",
       "545   0.405719  13.569082  4.559518  \n",
       "546  -0.153309  -5.973322 -3.356497  \n",
       "547 -11.287724 -85.186798  2.031017  \n",
       "548 -13.284008 -87.941902 -9.148831  \n",
       "\n",
       "[5 rows x 49 columns]"
      ]
     },
     "execution_count": 15,
     "metadata": {},
     "output_type": "execute_result"
    }
   ],
   "source": [
    "df_pca.tail()"
   ]
  },
  {
   "cell_type": "code",
   "execution_count": 44,
   "id": "ff5a961c-e636-421d-89cb-ae6aada33013",
   "metadata": {
    "tags": []
   },
   "outputs": [],
   "source": [
    "marker_dict = dict({'BurkinaFaso_Folonzo': 'circle', 'BurkinaFaso_Kiribina': 'triangle-up', \n",
    "                    'BurkinaFaso_untyped': 'cross'})"
   ]
  },
  {
   "cell_type": "code",
   "execution_count": 18,
   "id": "0cc3f1fb-a531-41f2-94fa-866813254ad7",
   "metadata": {
    "tags": []
   },
   "outputs": [],
   "source": [
    "meta2 = pd.read_csv(\"kiribina_folonzo_meta.tsv\", sep='\\t', index_col=0)\n",
    "cohortdict = dict(meta2.geographic_cohort)\n",
    "df_pca.loc[df_pca.country=='Burkina Faso', 'geographic_cohort'] = df_pca.loc[df_pca.country=='Burkina Faso', \n",
    "                                                                             'sample_id'].map(cohortdict)\n",
    "df_pca.loc[df_pca.country=='Burkina Faso', 'geographic_cohort_colour'] = '#98df8a'\n",
    "df_pca.loc[df_pca.country=='Burkina Faso', 'geographic_cohort_shape'] = df_pca.loc[df_pca.country=='Burkina Faso', \n",
    "                                                                    'geographic_cohort'].map(marker_dict)\n"
   ]
  },
  {
   "cell_type": "code",
   "execution_count": 47,
   "id": "5ec8898b-dc61-4e0e-a249-d7f0b8b7c922",
   "metadata": {
    "tags": []
   },
   "outputs": [
    {
     "data": {
      "text/plain": [
       "geographic_cohort      geographic_cohort_colour  geographic_cohort_shape\n",
       "Benin_Atlantique-Dept  #d1985a                   circle                     37\n",
       "BurkinaFaso_Folonzo    #98df8a                   circle                     93\n",
       "BurkinaFaso_Kiribina   #98df8a                   triangle-up                75\n",
       "BurkinaFaso_untyped    #98df8a                   cross                       9\n",
       "CAR_Ombella-MPoko      #ff9896                   circle                     10\n",
       "Cameroon_Adamawa       #d62728                   circle                     45\n",
       "DRC_Haut-Uele          #e377c2                   triangle-up                43\n",
       "Ghana_Ashanti-Region   #2ca02c                   circle                     31\n",
       "Ghana_Northern-Region  #2ca02c                   triangle-up                35\n",
       "Kenya_Nyanza-Prov      #9467bd                   circle                     60\n",
       "Kenya_Western-Prov     #9467bd                   triangle-up                21\n",
       "Nigeria_Ogun-State     #d2691e                   circle                     41\n",
       "Uganda_Eastern-Region  #c5b0d5                   circle                     49\n",
       "dtype: int64"
      ]
     },
     "execution_count": 47,
     "metadata": {},
     "output_type": "execute_result"
    }
   ],
   "source": [
    "df_pca.groupby(['geographic_cohort', 'geographic_cohort_colour', 'geographic_cohort_shape'],dropna=False).size()"
   ]
  },
  {
   "cell_type": "code",
   "execution_count": 48,
   "id": "0c7321d1-f956-43c2-95f7-2841a1d1540b",
   "metadata": {
    "tags": []
   },
   "outputs": [],
   "source": [
    "df_pca.to_csv(\"pcas/PCA_Fol_Kir_EQ_BJ_GH.tsv\", sep='\\t')\n",
    "np.save(\"pcas/evr_Fol_Kir_EQ_BJ_GH.npy\", evr)"
   ]
  },
  {
   "cell_type": "code",
   "execution_count": 49,
   "id": "d2f6308a-6f00-41fc-b38c-fab38ff71407",
   "metadata": {
    "tags": []
   },
   "outputs": [
    {
     "data": {
      "text/plain": [
       "(477, 38)"
      ]
     },
     "execution_count": 49,
     "metadata": {},
     "output_type": "execute_result"
    }
   ],
   "source": [
    "meta.query('(release == \"1.0\" and PCA_cohort in [\"EQ_central\", \"EQ_CAR\", \"EQ_east\"]) \\\n",
    "           or (release == \"1.2\" and contributor == \"Scott Small\")').shape"
   ]
  },
  {
   "cell_type": "code",
   "execution_count": 53,
   "id": "d2437177-13dc-45fe-b92c-f327b8c26321",
   "metadata": {
    "tags": []
   },
   "outputs": [
    {
     "name": "stdout",
     "output_type": "stream",
     "text": [
      "                                   \r"
     ]
    },
    {
     "data": {
      "application/vnd.jupyter.widget-view+json": {
       "model_id": "",
       "version_major": 2,
       "version_minor": 0
      },
      "text/plain": [
       "Compute SNP allele counts:   0%|          | 0/9324 [00:00<?, ?it/s]"
      ]
     },
     "metadata": {},
     "output_type": "display_data"
    },
    {
     "name": "stdout",
     "output_type": "stream",
     "text": [
      "                                            \r"
     ]
    },
    {
     "data": {
      "application/vnd.jupyter.widget-view+json": {
       "model_id": "",
       "version_major": 2,
       "version_minor": 0
      },
      "text/plain": [
       "Compute biallelic diplotypes:   0%|          | 0/12876 [00:00<?, ?it/s]"
      ]
     },
     "metadata": {},
     "output_type": "display_data"
    },
    {
     "name": "stdout",
     "output_type": "stream",
     "text": [
      "                            \r"
     ]
    }
   ],
   "source": [
    "df_pca, evr = af1.pca(\n",
    "    region = '2RL:57604655-102000000', \n",
    "    n_snps = 200_000,\n",
    "    sample_query = '(release == \"1.0\" and PCA_cohort in [\"EQ_central\", \"EQ_CAR\", \"EQ_east\"]) \\\n",
    "           or (release == \"1.2\" and contributor == \"Scott Small\")',\n",
    "    site_mask = 'funestus', \n",
    "    min_minor_ac = int(0.01 * 477 * 2),\n",
    "    max_missing_an = int(0.05 * 477 *2), \n",
    "    n_components = 11)"
   ]
  },
  {
   "cell_type": "code",
   "execution_count": 54,
   "id": "70c33b8d-063e-46a2-95ff-c7a3e447478c",
   "metadata": {
    "tags": []
   },
   "outputs": [
    {
     "data": {
      "text/plain": [
       "(477, 49)"
      ]
     },
     "execution_count": 54,
     "metadata": {},
     "output_type": "execute_result"
    }
   ],
   "source": [
    "df_pca.shape"
   ]
  },
  {
   "cell_type": "code",
   "execution_count": 55,
   "id": "55eb9825-05a3-42fc-96c8-d9bacbfb5d40",
   "metadata": {
    "tags": []
   },
   "outputs": [],
   "source": [
    "meta2 = pd.read_csv(\"kiribina_folonzo_meta.tsv\", sep='\\t', index_col=0)\n",
    "cohortdict = dict(meta2.geographic_cohort)\n",
    "df_pca.loc[df_pca.country=='Burkina Faso', 'geographic_cohort'] = df_pca.loc[df_pca.country=='Burkina Faso', \n",
    "                                                                             'sample_id'].map(cohortdict)\n",
    "df_pca.loc[df_pca.country=='Burkina Faso', 'geographic_cohort_colour'] = '#98df8a'\n",
    "df_pca.loc[df_pca.country=='Burkina Faso', 'geographic_cohort_shape'] = df_pca.loc[df_pca.country=='Burkina Faso', \n",
    "                                                                    'geographic_cohort'].map(marker_dict)\n"
   ]
  },
  {
   "cell_type": "code",
   "execution_count": 56,
   "id": "31368ab9-5c38-46ad-b1b5-43ba8a837240",
   "metadata": {
    "tags": []
   },
   "outputs": [
    {
     "data": {
      "text/plain": [
       "geographic_cohort      geographic_cohort_colour  geographic_cohort_shape\n",
       "BurkinaFaso_Folonzo    #98df8a                   circle                     93\n",
       "BurkinaFaso_Kiribina   #98df8a                   triangle-up                75\n",
       "BurkinaFaso_untyped    #98df8a                   cross                       9\n",
       "CAR_Ombella-MPoko      #ff9896                   circle                     10\n",
       "Cameroon_Adamawa       #d62728                   circle                     45\n",
       "DRC_Haut-Uele          #e377c2                   triangle-up                43\n",
       "Ghana_Ashanti-Region   #2ca02c                   circle                     31\n",
       "Kenya_Nyanza-Prov      #9467bd                   circle                     60\n",
       "Kenya_Western-Prov     #9467bd                   triangle-up                21\n",
       "Nigeria_Ogun-State     #d2691e                   circle                     41\n",
       "Uganda_Eastern-Region  #c5b0d5                   circle                     49\n",
       "dtype: int64"
      ]
     },
     "execution_count": 56,
     "metadata": {},
     "output_type": "execute_result"
    }
   ],
   "source": [
    "df_pca.groupby(['geographic_cohort', 'geographic_cohort_colour', 'geographic_cohort_shape'],dropna=False).size()"
   ]
  },
  {
   "cell_type": "code",
   "execution_count": 57,
   "id": "915ee016-17ff-4591-b6e6-2b5d4f9e3b12",
   "metadata": {
    "tags": []
   },
   "outputs": [],
   "source": [
    "df_pca.to_csv(\"pcas/PCA_Fol_Kir_EQ.tsv\", sep='\\t')\n",
    "np.save(\"pcas/evr_Fol_Kir_EQ.npy\", evr)"
   ]
  },
  {
   "cell_type": "code",
   "execution_count": null,
   "id": "de98aca1-63e6-414b-8c7a-3e929790db20",
   "metadata": {},
   "outputs": [],
   "source": []
  }
 ],
 "metadata": {
  "kernelspec": {
   "display_name": "global-global-mgenv-6.0.6",
   "language": "python",
   "name": "conda-env-global-global-mgenv-6.0.6-py"
  },
  "language_info": {
   "codemirror_mode": {
    "name": "ipython",
    "version": 3
   },
   "file_extension": ".py",
   "mimetype": "text/x-python",
   "name": "python",
   "nbconvert_exporter": "python",
   "pygments_lexer": "ipython3",
   "version": "3.12.7"
  }
 },
 "nbformat": 4,
 "nbformat_minor": 5
}
