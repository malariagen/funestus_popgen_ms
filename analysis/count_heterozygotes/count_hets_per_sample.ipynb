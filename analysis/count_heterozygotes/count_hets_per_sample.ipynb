{
 "cells": [
  {
   "cell_type": "code",
   "execution_count": 1,
   "id": "25e901eb-e1ab-4fc8-9ac3-3148a8167805",
   "metadata": {},
   "outputs": [],
   "source": [
    "#Load modules\n",
    "import zarr\n",
    "import os\n",
    "import pandas as pd\n",
    "import numpy as np\n",
    "import matplotlib.pyplot as plt\n",
    "%matplotlib inline\n",
    "import seaborn as sns\n",
    "import yaml\n",
    "from pathlib import Path\n",
    "import allel\n",
    "\n",
    "from dask.distributed import Client\n",
    "import dask\n",
    "dask.config.set(**{'array.slicing.split_large_chunks': False}) # Silence large chunk warnings\n",
    "import dask.array as da\n",
    "from dask import delayed, compute\n",
    "from dask_gateway import Gateway\n",
    "import functools\n",
    "import numcodecs\n",
    "from fsspec.implementations.zip import ZipFileSystem\n",
    "from collections.abc import Mapping\n",
    "import gcsfs\n",
    "import numba\n",
    "import psutil\n",
    "from humanize import naturalsize\n",
    "\n",
    "import pickle\n",
    "import platform\n",
    "\n",
    "import traceback\n",
    "import logging\n",
    "\n",
    "from pyprojroot import here\n",
    "from bokeh.plotting import *\n",
    "import plotly.express as px\n",
    "import plotly.graph_objects as go\n",
    "from plotly.validators.scatter.marker import SymbolValidator"
   ]
  },
  {
   "cell_type": "markdown",
   "id": "fd01f658-cc9d-4af9-ad17-e7256258ea9d",
   "metadata": {},
   "source": [
    "### Connect to gcs"
   ]
  },
  {
   "cell_type": "code",
   "execution_count": null,
   "id": "5112507b-08d0-49a3-b46f-39b9d70e1368",
   "metadata": {},
   "outputs": [],
   "source": [
    "gcs = gcsfs.GCSFileSystem()"
   ]
  },
  {
   "cell_type": "code",
   "execution_count": null,
   "id": "5ded9b92-0084-4456-a3e2-0326f4cc6a81",
   "metadata": {},
   "outputs": [],
   "source": [
    "gcs.ls('vo_afun_release_master_us_central1')[:3]"
   ]
  },
  {
   "cell_type": "markdown",
   "id": "0907e16c-1cdf-4d00-9bd9-e3b1af2f0a76",
   "metadata": {},
   "source": [
    "### Set up data access"
   ]
  },
  {
   "cell_type": "code",
   "execution_count": 4,
   "id": "a0d00d95-8fb0-4d58-8f5d-20fa741d493a",
   "metadata": {},
   "outputs": [],
   "source": [
    "production_root = Path('vo_afun_release_master_us_central1')\n",
    "vo_afun_staging = Path(production_root, 'v1.0')\n",
    "sampleset_staging_dir = Path(vo_afun_staging, 'snp_genotypes', 'all')\n",
    "\n",
    "#Decision tree or static filters\n",
    "genomic_positions_site_filter_dt_data_cloud_zarr_dir = 'vo_afun_release_master_us_central1/v1.0/site_filters/dt_20200416/funestus'\n",
    "genomic_positions_site_filter_sc_data_cloud_zarr_dir = 'vo_afun_release_master_us_central1/v1.0/site_filters/sc_20220908/funestus'\n",
    "\n",
    "repo_clone_path = here()\n",
    "release_config_path = repo_clone_path / 'analysis' / 'config.yml'\n",
    "\n",
    "with open(release_config_path) as fh:\n",
    "    config = yaml.load(fh, Loader=yaml.BaseLoader)\n",
    "    \n",
    "samplesets = config[\"sample_sets\"]"
   ]
  },
  {
   "cell_type": "code",
   "execution_count": null,
   "id": "938e6748-a8fc-4b4a-b5d4-72b118c25b45",
   "metadata": {},
   "outputs": [],
   "source": [
    "meta = pd.read_csv(\"../../metadata/supp1_tab2.csv\")\n",
    "meta.columns"
   ]
  },
  {
   "cell_type": "markdown",
   "id": "b1d3e46c-3855-42e8-8155-95a02f51a28b",
   "metadata": {},
   "source": [
    "### Functions"
   ]
  },
  {
   "cell_type": "code",
   "execution_count": 6,
   "id": "ebd35940-21f0-4fe9-ab8f-403d169fed3c",
   "metadata": {},
   "outputs": [],
   "source": [
    "# load a single array from field/chrom/sampleset\n",
    "# internal path for calldata is chrom/calldata/field\n",
    "# sampleset_calldata = sampleset_staging_dir / sset\n",
    "# sampleset is needed to load species spec.\n",
    "def load_single_field(zarr_path, internal_path, sset, exclude_males=False, samples=None):\n",
    "      \n",
    "    inz = zarr.group(is_gcloud(zarr_path), overwrite=False)\n",
    "    \n",
    "    oo = da.from_zarr(inz[internal_path])  \n",
    "    \n",
    "    if oo.ndim == 1:\n",
    "        oo = oo.reshape((1, -1))\n",
    "           \n",
    "    return oo"
   ]
  },
  {
   "cell_type": "code",
   "execution_count": 7,
   "id": "8a2d87e7-e90f-4ecc-8975-f89686b5ace2",
   "metadata": {},
   "outputs": [],
   "source": [
    "## General function to concatenate data.\n",
    "## Selected chunk size may be more appropriate for some than others.\n",
    "def concatenate_along_axis(base_dir, internal_path, req_samplesets):\n",
    "    \n",
    "    # work out shape\n",
    "    data = [load_single_field(base_dir / ss, internal_path, ss) for ss in req_samplesets]\n",
    "    \n",
    "    return da.concatenate(data, axis=1)"
   ]
  },
  {
   "cell_type": "code",
   "execution_count": 8,
   "id": "4af0f368-c3e5-4b4e-9481-f42730b63708",
   "metadata": {},
   "outputs": [],
   "source": [
    "def is_gcloud(path):\n",
    "    \n",
    "    try: \n",
    "        return gcs.get_mapper(path.as_posix())\n",
    "    except NameError as e:\n",
    "        return path.as_posix()"
   ]
  },
  {
   "cell_type": "code",
   "execution_count": 9,
   "id": "ed9ffc83-6894-4577-9ca3-a6ed36553fb0",
   "metadata": {},
   "outputs": [],
   "source": [
    "def load_filter(chrom, filter_dir = genomic_positions_site_filter_sc_data_cloud_zarr_dir):\n",
    "    gcsmap = gcs.get_mapper(filter_dir)\n",
    "    genomic_positions_site_filter_data = zarr.Group(gcsmap, read_only=True)\n",
    "    filter_pass = da.from_zarr(\n",
    "            genomic_positions_site_filter_data[chrom]['variants/filter_pass'])\n",
    "    return filter_pass"
   ]
  },
  {
   "cell_type": "code",
   "execution_count": 10,
   "id": "454cbeb4-d0bc-4532-8904-903685fac318",
   "metadata": {},
   "outputs": [],
   "source": [
    "def load_position(chrom):\n",
    "    store = gcs.get_mapper(\n",
    "        f'gs://vo_afun_release/v1.0/snp_genotypes/all/sites')\n",
    "    root = zarr.open(store, mode='r')\n",
    "    pos = root[chrom]['variants/POS'][:]\n",
    "    return pos"
   ]
  },
  {
   "cell_type": "code",
   "execution_count": 11,
   "id": "102d82b6-f549-43e6-ba9b-392c3204a216",
   "metadata": {},
   "outputs": [],
   "source": [
    "def read_in_genotypes(chrom, pos_min=None, pos_max=None, \\\n",
    "                      samplesets = samplesets, \\\n",
    "                      filter_dir = genomic_positions_site_filter_sc_data_cloud_zarr_dir):\n",
    "\n",
    "    # load the genotypes and positions\n",
    "    gt_d = concatenate_along_axis(sampleset_staging_dir, f\"{chrom}/calldata/GT\", samplesets)\n",
    "    gt = allel.GenotypeDaskArray(gt_d)\n",
    "    \n",
    "    #load the filter\n",
    "    is_accessible = load_filter(chrom, filter_dir)\n",
    "    \n",
    "    #load positions\n",
    "    pos = load_position(chrom)\n",
    "    if pos_min is None:\n",
    "        pos_min=pos.min()\n",
    "    if pos_max is None:\n",
    "        pos_max=pos.max()\n",
    "    is_in_pos = (pos>=pos_min) & (pos<=pos_max)\n",
    "    \n",
    "    #return accessible genotypes\n",
    "    \n",
    "    return gt.compress((is_accessible) & (is_in_pos), axis=0)"
   ]
  },
  {
   "cell_type": "code",
   "execution_count": 12,
   "id": "b3259575-efa6-411e-86e0-8d89c81971c6",
   "metadata": {},
   "outputs": [],
   "source": [
    "def compute_number_of_hets(meta, chrom, arm, pos_min=None, pos_max=None):\n",
    "    \n",
    "    gt = read_in_genotypes(chrom, pos_min, pos_max)\n",
    "    print(f\"read in genotypes on {arm}\")\n",
    "    n_het = gt.count_het(axis=0)\n",
    "    print(f'computed number of hets on {arm}')\n",
    "    n_called = gt.count_called(axis=0)\n",
    "    print(f'computed number of called sites on {arm}')\n",
    "    \n",
    "    meta[f'n_het_{arm}'] = n_het.compute()\n",
    "    meta[f'n_called_{arm}'] = n_called.compute()\n",
    "    \n",
    "    return meta\n",
    "    "
   ]
  },
  {
   "cell_type": "code",
   "execution_count": 13,
   "id": "e8860f56-f6cc-4814-92f1-e0f7e3323602",
   "metadata": {
    "tags": []
   },
   "outputs": [],
   "source": [
    "def compute_number_of_hets_additional(meta, chrom, arm, pos_min=None, pos_max=None):\n",
    "    \n",
    "    gt = read_in_genotypes(chrom, pos_min, pos_max)\n",
    "    print(f\"read in genotypes on {arm}\")\n",
    "    n_het = gt.count_het(axis=0)\n",
    "    print(f'computed number of hets on {arm}')\n",
    "    n_called = gt.count_called(axis=0)\n",
    "    print(f'computed number of called sites on {arm}')\n",
    "    \n",
    "    meta[f'n_het_{arm}'] += n_het.compute()\n",
    "    meta[f'n_called_{arm}'] += n_called.compute()\n",
    "    \n",
    "    return meta"
   ]
  },
  {
   "cell_type": "code",
   "execution_count": null,
   "id": "56179825-931f-47ac-8e87-1112a50b9133",
   "metadata": {},
   "outputs": [],
   "source": [
    "#put meta in order as dask is stored\n",
    "sample_order = concatenate_along_axis(sampleset_staging_dir, \"samples\", samplesets).compute()\n",
    "sample_order = (sample_order[0]).astype(str)\n",
    "meta.set_index('VBS_sample_id', inplace=True)\n",
    "meta = meta.loc[sample_order]\n",
    "meta.reset_index(inplace=True)\n",
    "meta.head()"
   ]
  },
  {
   "cell_type": "markdown",
   "id": "dcc340e6-d6aa-420f-bb9a-95edd822b36e",
   "metadata": {},
   "source": [
    "### Set up dask cluster"
   ]
  },
  {
   "cell_type": "code",
   "execution_count": 36,
   "id": "7a362ed1-654d-4cc2-90ad-992ccb18dbd9",
   "metadata": {},
   "outputs": [
    {
     "data": {
      "application/vnd.jupyter.widget-view+json": {
       "model_id": "c9f7bd4d7f824feb9bae638d40982ce5",
       "version_major": 2,
       "version_minor": 0
      },
      "text/plain": [
       "VBox(children=(HTML(value='<h2>GatewayCluster</h2>'), HBox(children=(HTML(value='\\n<div>\\n<style scoped>\\n    …"
      ]
     },
     "metadata": {},
     "output_type": "display_data"
    }
   ],
   "source": [
    "gateway = Gateway()\n",
    "conda_prefix = os.environ[\"CONDA_PREFIX\"]\n",
    "current_environment = 'global/'+conda_prefix.split('/')[5]\n",
    "cluster = gateway.new_cluster(\n",
    "    profile='standard', \n",
    "    conda_environment = current_environment,\n",
    ")\n",
    "cluster"
   ]
  },
  {
   "cell_type": "code",
   "execution_count": 37,
   "id": "c3fcf660-b618-45aa-860e-a99aa3a865d8",
   "metadata": {},
   "outputs": [],
   "source": [
    "client=cluster.get_client()"
   ]
  },
  {
   "cell_type": "code",
   "execution_count": 38,
   "id": "6311c415-bbd9-4b32-8ef0-87c11afa668f",
   "metadata": {},
   "outputs": [],
   "source": [
    "cluster.scale(50)"
   ]
  },
  {
   "cell_type": "code",
   "execution_count": 16,
   "id": "eb8a3b61-c61e-43cf-9757-2f0afee85b71",
   "metadata": {},
   "outputs": [],
   "source": [
    "meta = compute_number_of_hets(meta, 'X', 'X')"
   ]
  },
  {
   "cell_type": "code",
   "execution_count": 29,
   "id": "a39107db-8fd7-41a7-b618-b3f098a44b29",
   "metadata": {},
   "outputs": [
    {
     "name": "stdout",
     "output_type": "stream",
     "text": [
      "read in genotypes on 3L\n",
      "computed number of hets on 3L\n",
      "computed number of called sites on 3L\n"
     ]
    }
   ],
   "source": [
    "meta = compute_number_of_hets(meta, '3RL', '3L', pos_min = 44_700_000, pos_max=64_700_000)"
   ]
  },
  {
   "cell_type": "code",
   "execution_count": 34,
   "id": "fc49e4ec-c278-4225-9361-87b628530a11",
   "metadata": {
    "tags": []
   },
   "outputs": [
    {
     "name": "stdout",
     "output_type": "stream",
     "text": [
      "read in genotypes on 3L\n",
      "computed number of hets on 3L\n",
      "computed number of called sites on 3L\n"
     ]
    }
   ],
   "source": [
    "meta = compute_number_of_hets_additional(meta, '3RL', '3L', pos_min = 64_700_001)"
   ]
  },
  {
   "cell_type": "code",
   "execution_count": 42,
   "id": "0a70aebc-2b98-4287-9930-7a763744d97c",
   "metadata": {
    "tags": []
   },
   "outputs": [
    {
     "name": "stdout",
     "output_type": "stream",
     "text": [
      "read in genotypes on 3R\n",
      "computed number of hets on 3R\n",
      "computed number of called sites on 3R\n"
     ]
    }
   ],
   "source": [
    "meta = compute_number_of_hets(meta, '3RL', '3R', pos_max=20_000_000)"
   ]
  },
  {
   "cell_type": "code",
   "execution_count": 45,
   "id": "3cede38d-dc22-4e07-98d3-4caf33b08bfe",
   "metadata": {},
   "outputs": [
    {
     "name": "stdout",
     "output_type": "stream",
     "text": [
      "read in genotypes on 3R\n",
      "computed number of hets on 3R\n",
      "computed number of called sites on 3R\n"
     ]
    }
   ],
   "source": [
    "meta = compute_number_of_hets_additional(meta, '3RL', '3R', pos_min=20_000_001, pos_max=44_700_000)"
   ]
  },
  {
   "cell_type": "code",
   "execution_count": 48,
   "id": "56053e2d-5440-4c1b-ae15-b436acd389e2",
   "metadata": {
    "tags": []
   },
   "outputs": [
    {
     "name": "stdout",
     "output_type": "stream",
     "text": [
      "read in genotypes on 2R\n",
      "computed number of hets on 2R\n",
      "computed number of called sites on 2R\n"
     ]
    }
   ],
   "source": [
    "meta = compute_number_of_hets(meta, '2RL', '2R', pos_max=20_000_000)"
   ]
  },
  {
   "cell_type": "code",
   "execution_count": 51,
   "id": "d5ec859d-5cf2-4b99-8d87-9cba5a9a2342",
   "metadata": {
    "tags": []
   },
   "outputs": [
    {
     "name": "stdout",
     "output_type": "stream",
     "text": [
      "read in genotypes on 2R\n",
      "computed number of hets on 2R\n",
      "computed number of called sites on 2R\n"
     ]
    }
   ],
   "source": [
    "meta = compute_number_of_hets_additional(meta, '2RL', '2R', pos_min=20_000_001, pos_max=40_000_000)"
   ]
  },
  {
   "cell_type": "code",
   "execution_count": 54,
   "id": "ecdfe56a-c0b0-4356-969e-d0839f8683cb",
   "metadata": {
    "tags": []
   },
   "outputs": [
    {
     "name": "stdout",
     "output_type": "stream",
     "text": [
      "read in genotypes on 2R\n",
      "computed number of hets on 2R\n",
      "computed number of called sites on 2R\n"
     ]
    }
   ],
   "source": [
    "meta = compute_number_of_hets_additional(meta, '2RL', '2R', pos_min=40_000_001, pos_max=57_350_000)"
   ]
  },
  {
   "cell_type": "code",
   "execution_count": 20,
   "id": "b3bd6dc7-01c7-4012-b4f1-24ad04db9dc2",
   "metadata": {
    "tags": []
   },
   "outputs": [
    {
     "name": "stdout",
     "output_type": "stream",
     "text": [
      "read in genotypes on 2L\n",
      "computed number of hets on 2L\n",
      "computed number of called sites on 2L\n"
     ]
    }
   ],
   "source": [
    "meta = compute_number_of_hets(meta, '2RL', '2L', pos_min = 57_350_000, pos_max = 78_000_000)"
   ]
  },
  {
   "cell_type": "code",
   "execution_count": 23,
   "id": "4fb70920-2827-4618-a8ad-54772670518d",
   "metadata": {
    "tags": []
   },
   "outputs": [
    {
     "name": "stdout",
     "output_type": "stream",
     "text": [
      "read in genotypes on 2L\n",
      "computed number of hets on 2L\n",
      "computed number of called sites on 2L\n"
     ]
    }
   ],
   "source": [
    "meta = compute_number_of_hets_additional(meta, '2RL', '2L', pos_min = 78_000_001)"
   ]
  },
  {
   "cell_type": "code",
   "execution_count": 50,
   "id": "5ee6c924-372b-4ba1-a0df-c64acc8d9a96",
   "metadata": {
    "tags": []
   },
   "outputs": [
    {
     "data": {
      "text/html": [
       "<div>\n",
       "<style scoped>\n",
       "    .dataframe tbody tr th:only-of-type {\n",
       "        vertical-align: middle;\n",
       "    }\n",
       "\n",
       "    .dataframe tbody tr th {\n",
       "        vertical-align: top;\n",
       "    }\n",
       "\n",
       "    .dataframe thead th {\n",
       "        text-align: right;\n",
       "    }\n",
       "</style>\n",
       "<table border=\"1\" class=\"dataframe\">\n",
       "  <thead>\n",
       "    <tr style=\"text-align: right;\">\n",
       "      <th></th>\n",
       "      <th>sample_id</th>\n",
       "      <th>geographic_cohort</th>\n",
       "      <th>geographic_cohort_colour</th>\n",
       "      <th>geographic_cohort_shape</th>\n",
       "      <th>PCA_cohort</th>\n",
       "      <th>PCA_cohort_colour</th>\n",
       "      <th>mitochondrial_id</th>\n",
       "      <th>karyotype_3La</th>\n",
       "      <th>karyotype_3Ra</th>\n",
       "      <th>karyotype_3Rb</th>\n",
       "      <th>...</th>\n",
       "      <th>n_het_2R</th>\n",
       "      <th>n_called_2R</th>\n",
       "      <th>n_het_2L</th>\n",
       "      <th>n_called_2L</th>\n",
       "      <th>n_het_3L_no_inv</th>\n",
       "      <th>n_called_3L_no_inv</th>\n",
       "      <th>n_het_3R_no_inv</th>\n",
       "      <th>n_called_3R_no_inv</th>\n",
       "      <th>n_het_2R_no_inv</th>\n",
       "      <th>n_called_2R_no_inv</th>\n",
       "    </tr>\n",
       "  </thead>\n",
       "  <tbody>\n",
       "    <tr>\n",
       "      <th>0</th>\n",
       "      <td>VBS24195</td>\n",
       "      <td>Ghana_Northern-Region</td>\n",
       "      <td>#2ca02c</td>\n",
       "      <td>triangle-up</td>\n",
       "      <td>N_Ghana</td>\n",
       "      <td>#2ca02c</td>\n",
       "      <td>funestus-lineageI-clusterB</td>\n",
       "      <td>NaN</td>\n",
       "      <td>NaN</td>\n",
       "      <td>NaN</td>\n",
       "      <td>...</td>\n",
       "      <td>645885</td>\n",
       "      <td>46919562</td>\n",
       "      <td>538040</td>\n",
       "      <td>36796424</td>\n",
       "      <td>173694</td>\n",
       "      <td>13546775</td>\n",
       "      <td>198527</td>\n",
       "      <td>17691045</td>\n",
       "      <td>508501</td>\n",
       "      <td>35625018</td>\n",
       "    </tr>\n",
       "    <tr>\n",
       "      <th>1</th>\n",
       "      <td>VBS24196</td>\n",
       "      <td>Ghana_Northern-Region</td>\n",
       "      <td>#2ca02c</td>\n",
       "      <td>triangle-up</td>\n",
       "      <td>N_Ghana</td>\n",
       "      <td>#2ca02c</td>\n",
       "      <td>funestus-lineageI-clusterB</td>\n",
       "      <td>NaN</td>\n",
       "      <td>NaN</td>\n",
       "      <td>NaN</td>\n",
       "      <td>...</td>\n",
       "      <td>651148</td>\n",
       "      <td>46917025</td>\n",
       "      <td>379214</td>\n",
       "      <td>36804494</td>\n",
       "      <td>129652</td>\n",
       "      <td>13546512</td>\n",
       "      <td>219283</td>\n",
       "      <td>17689422</td>\n",
       "      <td>515734</td>\n",
       "      <td>35621205</td>\n",
       "    </tr>\n",
       "    <tr>\n",
       "      <th>2</th>\n",
       "      <td>VBS24197</td>\n",
       "      <td>Ghana_Northern-Region</td>\n",
       "      <td>#2ca02c</td>\n",
       "      <td>triangle-up</td>\n",
       "      <td>N_Ghana</td>\n",
       "      <td>#2ca02c</td>\n",
       "      <td>funestus-lineageI-clusterB</td>\n",
       "      <td>NaN</td>\n",
       "      <td>NaN</td>\n",
       "      <td>NaN</td>\n",
       "      <td>...</td>\n",
       "      <td>640992</td>\n",
       "      <td>46920647</td>\n",
       "      <td>528886</td>\n",
       "      <td>36788937</td>\n",
       "      <td>159380</td>\n",
       "      <td>13547270</td>\n",
       "      <td>190204</td>\n",
       "      <td>17689654</td>\n",
       "      <td>497306</td>\n",
       "      <td>35625730</td>\n",
       "    </tr>\n",
       "    <tr>\n",
       "      <th>3</th>\n",
       "      <td>VBS24198</td>\n",
       "      <td>Ghana_Northern-Region</td>\n",
       "      <td>#2ca02c</td>\n",
       "      <td>triangle-up</td>\n",
       "      <td>N_Ghana</td>\n",
       "      <td>#2ca02c</td>\n",
       "      <td>funestus-lineageI-clusterB</td>\n",
       "      <td>NaN</td>\n",
       "      <td>NaN</td>\n",
       "      <td>NaN</td>\n",
       "      <td>...</td>\n",
       "      <td>668032</td>\n",
       "      <td>46904102</td>\n",
       "      <td>524003</td>\n",
       "      <td>36788738</td>\n",
       "      <td>154959</td>\n",
       "      <td>13547378</td>\n",
       "      <td>215783</td>\n",
       "      <td>17687489</td>\n",
       "      <td>519551</td>\n",
       "      <td>35616296</td>\n",
       "    </tr>\n",
       "    <tr>\n",
       "      <th>4</th>\n",
       "      <td>VBS24199</td>\n",
       "      <td>Ghana_Northern-Region</td>\n",
       "      <td>#2ca02c</td>\n",
       "      <td>triangle-up</td>\n",
       "      <td>N_Ghana</td>\n",
       "      <td>#2ca02c</td>\n",
       "      <td>funestus-lineageI-clusterB</td>\n",
       "      <td>NaN</td>\n",
       "      <td>NaN</td>\n",
       "      <td>NaN</td>\n",
       "      <td>...</td>\n",
       "      <td>588985</td>\n",
       "      <td>46923098</td>\n",
       "      <td>504157</td>\n",
       "      <td>36795961</td>\n",
       "      <td>169478</td>\n",
       "      <td>13548605</td>\n",
       "      <td>247618</td>\n",
       "      <td>17686009</td>\n",
       "      <td>462626</td>\n",
       "      <td>35630056</td>\n",
       "    </tr>\n",
       "    <tr>\n",
       "      <th>...</th>\n",
       "      <td>...</td>\n",
       "      <td>...</td>\n",
       "      <td>...</td>\n",
       "      <td>...</td>\n",
       "      <td>...</td>\n",
       "      <td>...</td>\n",
       "      <td>...</td>\n",
       "      <td>...</td>\n",
       "      <td>...</td>\n",
       "      <td>...</td>\n",
       "      <td>...</td>\n",
       "      <td>...</td>\n",
       "      <td>...</td>\n",
       "      <td>...</td>\n",
       "      <td>...</td>\n",
       "      <td>...</td>\n",
       "      <td>...</td>\n",
       "      <td>...</td>\n",
       "      <td>...</td>\n",
       "      <td>...</td>\n",
       "      <td>...</td>\n",
       "    </tr>\n",
       "    <tr>\n",
       "      <th>651</th>\n",
       "      <td>VBS24534</td>\n",
       "      <td>Mozambique_Cabo-Delgado</td>\n",
       "      <td>#17becf</td>\n",
       "      <td>triangle-up</td>\n",
       "      <td>S_east</td>\n",
       "      <td>#1f77b4</td>\n",
       "      <td>funestus-lineageI-clusterA</td>\n",
       "      <td>3L+/a</td>\n",
       "      <td>3R+/a</td>\n",
       "      <td>3R+/+</td>\n",
       "      <td>...</td>\n",
       "      <td>670076</td>\n",
       "      <td>46949773</td>\n",
       "      <td>541244</td>\n",
       "      <td>36822139</td>\n",
       "      <td>210628</td>\n",
       "      <td>13553174</td>\n",
       "      <td>239663</td>\n",
       "      <td>17698417</td>\n",
       "      <td>503302</td>\n",
       "      <td>35652723</td>\n",
       "    </tr>\n",
       "    <tr>\n",
       "      <th>652</th>\n",
       "      <td>VBS24535</td>\n",
       "      <td>Mozambique_Cabo-Delgado</td>\n",
       "      <td>#17becf</td>\n",
       "      <td>triangle-up</td>\n",
       "      <td>S_east</td>\n",
       "      <td>#1f77b4</td>\n",
       "      <td>funestus-lineageI-clusterA</td>\n",
       "      <td>3L+/a</td>\n",
       "      <td>3R+/a</td>\n",
       "      <td>3R+/+</td>\n",
       "      <td>...</td>\n",
       "      <td>680664</td>\n",
       "      <td>46947529</td>\n",
       "      <td>546042</td>\n",
       "      <td>36821316</td>\n",
       "      <td>214058</td>\n",
       "      <td>13553313</td>\n",
       "      <td>234819</td>\n",
       "      <td>17698081</td>\n",
       "      <td>515679</td>\n",
       "      <td>35649160</td>\n",
       "    </tr>\n",
       "    <tr>\n",
       "      <th>653</th>\n",
       "      <td>VBS24536</td>\n",
       "      <td>Mozambique_Cabo-Delgado</td>\n",
       "      <td>#17becf</td>\n",
       "      <td>triangle-up</td>\n",
       "      <td>S_east</td>\n",
       "      <td>#1f77b4</td>\n",
       "      <td>funestus-lineageI-clusterA</td>\n",
       "      <td>3La/a</td>\n",
       "      <td>3R+/+</td>\n",
       "      <td>3R+/b</td>\n",
       "      <td>...</td>\n",
       "      <td>680229</td>\n",
       "      <td>46947458</td>\n",
       "      <td>543600</td>\n",
       "      <td>36819421</td>\n",
       "      <td>209173</td>\n",
       "      <td>13553039</td>\n",
       "      <td>238014</td>\n",
       "      <td>17695443</td>\n",
       "      <td>516487</td>\n",
       "      <td>35650336</td>\n",
       "    </tr>\n",
       "    <tr>\n",
       "      <th>654</th>\n",
       "      <td>VBS24537</td>\n",
       "      <td>Mozambique_Cabo-Delgado</td>\n",
       "      <td>#17becf</td>\n",
       "      <td>triangle-up</td>\n",
       "      <td>S_east</td>\n",
       "      <td>#1f77b4</td>\n",
       "      <td>funestus-lineageI-clusterA</td>\n",
       "      <td>3L+/a</td>\n",
       "      <td>3R+/a</td>\n",
       "      <td>3R+/b</td>\n",
       "      <td>...</td>\n",
       "      <td>679783</td>\n",
       "      <td>46950525</td>\n",
       "      <td>548074</td>\n",
       "      <td>36820273</td>\n",
       "      <td>207177</td>\n",
       "      <td>13552448</td>\n",
       "      <td>238573</td>\n",
       "      <td>17696504</td>\n",
       "      <td>515754</td>\n",
       "      <td>35652323</td>\n",
       "    </tr>\n",
       "    <tr>\n",
       "      <th>655</th>\n",
       "      <td>VBS24539</td>\n",
       "      <td>Mozambique_Cabo-Delgado</td>\n",
       "      <td>#17becf</td>\n",
       "      <td>triangle-up</td>\n",
       "      <td>S_east</td>\n",
       "      <td>#1f77b4</td>\n",
       "      <td>funestus-lineageI-clusterA</td>\n",
       "      <td>3La/a</td>\n",
       "      <td>3R+/a</td>\n",
       "      <td>3R+/b</td>\n",
       "      <td>...</td>\n",
       "      <td>676338</td>\n",
       "      <td>46948781</td>\n",
       "      <td>547063</td>\n",
       "      <td>36819716</td>\n",
       "      <td>203345</td>\n",
       "      <td>13554403</td>\n",
       "      <td>239866</td>\n",
       "      <td>17698523</td>\n",
       "      <td>511618</td>\n",
       "      <td>35652317</td>\n",
       "    </tr>\n",
       "  </tbody>\n",
       "</table>\n",
       "<p>656 rows × 28 columns</p>\n",
       "</div>"
      ],
      "text/plain": [
       "    sample_id        geographic_cohort geographic_cohort_colour  \\\n",
       "0    VBS24195    Ghana_Northern-Region                  #2ca02c   \n",
       "1    VBS24196    Ghana_Northern-Region                  #2ca02c   \n",
       "2    VBS24197    Ghana_Northern-Region                  #2ca02c   \n",
       "3    VBS24198    Ghana_Northern-Region                  #2ca02c   \n",
       "4    VBS24199    Ghana_Northern-Region                  #2ca02c   \n",
       "..        ...                      ...                      ...   \n",
       "651  VBS24534  Mozambique_Cabo-Delgado                  #17becf   \n",
       "652  VBS24535  Mozambique_Cabo-Delgado                  #17becf   \n",
       "653  VBS24536  Mozambique_Cabo-Delgado                  #17becf   \n",
       "654  VBS24537  Mozambique_Cabo-Delgado                  #17becf   \n",
       "655  VBS24539  Mozambique_Cabo-Delgado                  #17becf   \n",
       "\n",
       "    geographic_cohort_shape PCA_cohort PCA_cohort_colour  \\\n",
       "0               triangle-up    N_Ghana           #2ca02c   \n",
       "1               triangle-up    N_Ghana           #2ca02c   \n",
       "2               triangle-up    N_Ghana           #2ca02c   \n",
       "3               triangle-up    N_Ghana           #2ca02c   \n",
       "4               triangle-up    N_Ghana           #2ca02c   \n",
       "..                      ...        ...               ...   \n",
       "651             triangle-up     S_east           #1f77b4   \n",
       "652             triangle-up     S_east           #1f77b4   \n",
       "653             triangle-up     S_east           #1f77b4   \n",
       "654             triangle-up     S_east           #1f77b4   \n",
       "655             triangle-up     S_east           #1f77b4   \n",
       "\n",
       "               mitochondrial_id karyotype_3La karyotype_3Ra karyotype_3Rb  \\\n",
       "0    funestus-lineageI-clusterB           NaN           NaN           NaN   \n",
       "1    funestus-lineageI-clusterB           NaN           NaN           NaN   \n",
       "2    funestus-lineageI-clusterB           NaN           NaN           NaN   \n",
       "3    funestus-lineageI-clusterB           NaN           NaN           NaN   \n",
       "4    funestus-lineageI-clusterB           NaN           NaN           NaN   \n",
       "..                          ...           ...           ...           ...   \n",
       "651  funestus-lineageI-clusterA         3L+/a         3R+/a         3R+/+   \n",
       "652  funestus-lineageI-clusterA         3L+/a         3R+/a         3R+/+   \n",
       "653  funestus-lineageI-clusterA         3La/a         3R+/+         3R+/b   \n",
       "654  funestus-lineageI-clusterA         3L+/a         3R+/a         3R+/b   \n",
       "655  funestus-lineageI-clusterA         3La/a         3R+/a         3R+/b   \n",
       "\n",
       "     ... n_het_2R n_called_2R  n_het_2L  n_called_2L  n_het_3L_no_inv  \\\n",
       "0    ...   645885    46919562    538040     36796424           173694   \n",
       "1    ...   651148    46917025    379214     36804494           129652   \n",
       "2    ...   640992    46920647    528886     36788937           159380   \n",
       "3    ...   668032    46904102    524003     36788738           154959   \n",
       "4    ...   588985    46923098    504157     36795961           169478   \n",
       "..   ...      ...         ...       ...          ...              ...   \n",
       "651  ...   670076    46949773    541244     36822139           210628   \n",
       "652  ...   680664    46947529    546042     36821316           214058   \n",
       "653  ...   680229    46947458    543600     36819421           209173   \n",
       "654  ...   679783    46950525    548074     36820273           207177   \n",
       "655  ...   676338    46948781    547063     36819716           203345   \n",
       "\n",
       "     n_called_3L_no_inv  n_het_3R_no_inv  n_called_3R_no_inv  n_het_2R_no_inv  \\\n",
       "0              13546775           198527            17691045           508501   \n",
       "1              13546512           219283            17689422           515734   \n",
       "2              13547270           190204            17689654           497306   \n",
       "3              13547378           215783            17687489           519551   \n",
       "4              13548605           247618            17686009           462626   \n",
       "..                  ...              ...                 ...              ...   \n",
       "651            13553174           239663            17698417           503302   \n",
       "652            13553313           234819            17698081           515679   \n",
       "653            13553039           238014            17695443           516487   \n",
       "654            13552448           238573            17696504           515754   \n",
       "655            13554403           239866            17698523           511618   \n",
       "\n",
       "     n_called_2R_no_inv  \n",
       "0              35625018  \n",
       "1              35621205  \n",
       "2              35625730  \n",
       "3              35616296  \n",
       "4              35630056  \n",
       "..                  ...  \n",
       "651            35652723  \n",
       "652            35649160  \n",
       "653            35650336  \n",
       "654            35652323  \n",
       "655            35652317  \n",
       "\n",
       "[656 rows x 28 columns]"
      ]
     },
     "execution_count": 50,
     "metadata": {},
     "output_type": "execute_result"
    }
   ],
   "source": [
    "meta"
   ]
  },
  {
   "cell_type": "code",
   "execution_count": 51,
   "id": "9f958b3e-4afd-44db-9b4b-b5c7da603dc7",
   "metadata": {},
   "outputs": [],
   "source": [
    "meta.to_csv(\"het_counts.csv\", index=False)"
   ]
  },
  {
   "cell_type": "markdown",
   "id": "88d71e5f-fb8d-4773-a1da-2ad681a177d0",
   "metadata": {},
   "source": [
    "### Repeat without inversions"
   ]
  },
  {
   "cell_type": "code",
   "execution_count": 18,
   "id": "6e6dc19f-85e0-423a-879e-d95af8888492",
   "metadata": {
    "tags": []
   },
   "outputs": [
    {
     "name": "stdout",
     "output_type": "stream",
     "text": [
      "read in genotypes on 3L_no_inv\n",
      "computed number of hets on 3L_no_inv\n",
      "computed number of called sites on 3L_no_inv\n"
     ]
    }
   ],
   "source": [
    "meta = compute_number_of_hets(meta, '3RL', '3L_no_inv', pos_min = 44_700_000, pos_max=57_224_763)"
   ]
  },
  {
   "cell_type": "code",
   "execution_count": 22,
   "id": "6038b0cf-1155-4151-89bc-5f53895a7d6c",
   "metadata": {
    "tags": []
   },
   "outputs": [
    {
     "name": "stdout",
     "output_type": "stream",
     "text": [
      "read in genotypes on 3L_no_inv\n",
      "computed number of hets on 3L_no_inv\n",
      "computed number of called sites on 3L_no_inv\n"
     ]
    }
   ],
   "source": [
    "meta = compute_number_of_hets_additional(meta, '3RL', '3L_no_inv', pos_min = 76_848_507)"
   ]
  },
  {
   "cell_type": "code",
   "execution_count": 25,
   "id": "20b378b2-2665-4e9b-a00a-78c30876a7b3",
   "metadata": {
    "tags": []
   },
   "outputs": [
    {
     "name": "stdout",
     "output_type": "stream",
     "text": [
      "read in genotypes on 3R_no_inv\n",
      "computed number of hets on 3R_no_inv\n",
      "computed number of called sites on 3R_no_inv\n"
     ]
    }
   ],
   "source": [
    "meta = compute_number_of_hets(meta, '3RL', '3R_no_inv', pos_max=2_428_547)"
   ]
  },
  {
   "cell_type": "code",
   "execution_count": 28,
   "id": "9af25e65-6967-4101-abce-d245d06bf233",
   "metadata": {
    "tags": []
   },
   "outputs": [
    {
     "name": "stdout",
     "output_type": "stream",
     "text": [
      "read in genotypes on 3R_no_inv\n",
      "computed number of hets on 3R_no_inv\n",
      "computed number of called sites on 3R_no_inv\n"
     ]
    }
   ],
   "source": [
    "meta = compute_number_of_hets_additional(meta, '3RL', '3R_no_inv', pos_min=12_234_590, pos_max = 21_361_107)"
   ]
  },
  {
   "cell_type": "code",
   "execution_count": 31,
   "id": "3d4ea9f8-b4e2-487b-b0b5-8ced434270c8",
   "metadata": {
    "tags": []
   },
   "outputs": [
    {
     "name": "stdout",
     "output_type": "stream",
     "text": [
      "read in genotypes on 3R_no_inv\n",
      "computed number of hets on 3R_no_inv\n",
      "computed number of called sites on 3R_no_inv\n"
     ]
    }
   ],
   "source": [
    "meta = compute_number_of_hets_additional(meta, '3RL', '3R_no_inv', pos_min=34_095_918, pos_max = 44_700_000)"
   ]
  },
  {
   "cell_type": "code",
   "execution_count": 43,
   "id": "d7089043-9ee5-4e23-8e33-7179908902e1",
   "metadata": {
    "tags": []
   },
   "outputs": [
    {
     "name": "stdout",
     "output_type": "stream",
     "text": [
      "read in genotypes on 2R_no_inv\n",
      "computed number of hets on 2R_no_inv\n",
      "computed number of called sites on 2R_no_inv\n"
     ]
    }
   ],
   "source": [
    "meta = compute_number_of_hets(meta, '2RL', '2R_no_inv', pos_max=15_459_000)"
   ]
  },
  {
   "cell_type": "code",
   "execution_count": 46,
   "id": "55dbb539-8fbe-4e3a-a1a4-93a373535aa8",
   "metadata": {
    "tags": []
   },
   "outputs": [
    {
     "name": "stdout",
     "output_type": "stream",
     "text": [
      "read in genotypes on 2R_no_inv\n",
      "computed number of hets on 2R_no_inv\n",
      "computed number of called sites on 2R_no_inv\n"
     ]
    }
   ],
   "source": [
    "meta = compute_number_of_hets_additional(meta, '2RL', '2R_no_inv', pos_min=15_459_001, pos_max=25_459_000)"
   ]
  },
  {
   "cell_type": "code",
   "execution_count": 49,
   "id": "5671a529-4c5c-4d37-9780-458fb9cde04b",
   "metadata": {
    "tags": []
   },
   "outputs": [
    {
     "name": "stdout",
     "output_type": "stream",
     "text": [
      "read in genotypes on 2R_no_inv\n",
      "computed number of hets on 2R_no_inv\n",
      "computed number of called sites on 2R_no_inv\n"
     ]
    }
   ],
   "source": [
    "meta = compute_number_of_hets_additional(meta, '2RL', '2R_no_inv', pos_min=39_360_000, pos_max=57_350_000)"
   ]
  },
  {
   "cell_type": "code",
   "execution_count": 52,
   "id": "75ebbf06-b2f7-4046-9372-3e1cae3050fb",
   "metadata": {},
   "outputs": [],
   "source": [
    "cluster.shutdown()"
   ]
  },
  {
   "cell_type": "code",
   "execution_count": 14,
   "id": "1fedc35f-dbe4-4a4c-b116-ee5eedd2e85f",
   "metadata": {
    "tags": []
   },
   "outputs": [],
   "source": [
    "gateway = Gateway()"
   ]
  },
  {
   "cell_type": "code",
   "execution_count": 15,
   "id": "2f7c28a1-9e06-4ba0-b644-8f2ef96f7526",
   "metadata": {},
   "outputs": [],
   "source": [
    "for report in gateway.list_clusters():\n",
    "    gateway.connect(report.name).shutdown()"
   ]
  },
  {
   "cell_type": "code",
   "execution_count": null,
   "id": "69e0418e-7626-4776-9f38-22b08f3e4336",
   "metadata": {},
   "outputs": [],
   "source": []
  }
 ],
 "metadata": {
  "kernelspec": {
   "display_name": "default *",
   "language": "python",
   "name": "conda-env-default-py"
  },
  "language_info": {
   "codemirror_mode": {
    "name": "ipython",
    "version": 3
   },
   "file_extension": ".py",
   "mimetype": "text/x-python",
   "name": "python",
   "nbconvert_exporter": "python",
   "pygments_lexer": "ipython3",
   "version": "3.10.11"
  }
 },
 "nbformat": 4,
 "nbformat_minor": 5
}
