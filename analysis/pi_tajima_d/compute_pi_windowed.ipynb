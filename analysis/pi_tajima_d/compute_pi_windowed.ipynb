{
 "cells": [
  {
   "cell_type": "code",
   "execution_count": 1,
   "id": "25e901eb-e1ab-4fc8-9ac3-3148a8167805",
   "metadata": {},
   "outputs": [],
   "source": [
    "#Load modules\n",
    "import zarr\n",
    "import os\n",
    "import pandas as pd\n",
    "import numpy as np\n",
    "import matplotlib.pyplot as plt\n",
    "%matplotlib inline\n",
    "import seaborn as sns\n",
    "import yaml\n",
    "from pathlib import Path\n",
    "import allel\n",
    "\n",
    "from dask.distributed import Client\n",
    "import dask\n",
    "dask.config.set(**{'array.slicing.split_large_chunks': False}) # Silence large chunk warnings\n",
    "import dask.array as da\n",
    "from dask import delayed, compute\n",
    "from dask_gateway import Gateway\n",
    "import functools\n",
    "import numcodecs\n",
    "from fsspec.implementations.zip import ZipFileSystem\n",
    "from collections.abc import Mapping\n",
    "import gcsfs\n",
    "import numba\n",
    "import psutil\n",
    "from humanize import naturalsize\n",
    "\n",
    "import pickle\n",
    "import platform\n",
    "\n",
    "import traceback\n",
    "import logging\n",
    "\n",
    "from pyprojroot import here\n",
    "from bokeh.plotting import *\n",
    "import plotly.express as px\n",
    "import plotly.graph_objects as go\n",
    "from plotly.validators.scatter.marker import SymbolValidator"
   ]
  },
  {
   "cell_type": "markdown",
   "id": "fd01f658-cc9d-4af9-ad17-e7256258ea9d",
   "metadata": {},
   "source": [
    "### Connect to gcs"
   ]
  },
  {
   "cell_type": "code",
   "execution_count": 2,
   "id": "5112507b-08d0-49a3-b46f-39b9d70e1368",
   "metadata": {},
   "outputs": [
    {
     "name": "stderr",
     "output_type": "stream",
     "text": [
      "/home/conda/global/60d1d102327c6b963c52da1c248570d56dc2ebf066625a421ba924078e5d2fa7-20230228-170115-620472-19-binder-4.3.0/lib/python3.10/site-packages/google/auth/_default.py:83: UserWarning: Your application has authenticated using end user credentials from Google Cloud SDK without a quota project. You might receive a \"quota exceeded\" or \"API not enabled\" error. We recommend you rerun `gcloud auth application-default login` and make sure a quota project is added. Or you can use service accounts instead. For more information about service accounts, see https://cloud.google.com/docs/authentication/\n",
      "  warnings.warn(_CLOUD_SDK_CREDENTIALS_WARNING)\n"
     ]
    }
   ],
   "source": [
    "gcs = gcsfs.GCSFileSystem()"
   ]
  },
  {
   "cell_type": "code",
   "execution_count": 3,
   "id": "5ded9b92-0084-4456-a3e2-0326f4cc6a81",
   "metadata": {},
   "outputs": [
    {
     "data": {
      "text/plain": [
       "['vo_afun_release/reference',\n",
       " 'vo_afun_release/v1.0',\n",
       " 'vo_afun_release/v1.0-config.json']"
      ]
     },
     "execution_count": 3,
     "metadata": {},
     "output_type": "execute_result"
    }
   ],
   "source": [
    "gcs.ls('vo_afun_release')[:3]"
   ]
  },
  {
   "cell_type": "markdown",
   "id": "0907e16c-1cdf-4d00-9bd9-e3b1af2f0a76",
   "metadata": {},
   "source": [
    "### Set up data access"
   ]
  },
  {
   "cell_type": "code",
   "execution_count": 4,
   "id": "a0d00d95-8fb0-4d58-8f5d-20fa741d493a",
   "metadata": {},
   "outputs": [],
   "source": [
    "production_root = Path('vo_afun_release')\n",
    "vo_afun_staging = Path(production_root, 'v1.0')\n",
    "sampleset_staging_dir = Path(vo_afun_staging, 'snp_genotypes', 'all')\n",
    "\n",
    "#Decision tree or static filters\n",
    "genomic_positions_site_filter_dt_data_cloud_zarr_dir = 'vo_afun_release/v1.0/site_filters/dt_20200416/funestus'\n",
    "genomic_positions_site_filter_sc_data_cloud_zarr_dir = 'vo_afun_release/v1.0/site_filters/sc_20220908/funestus'\n",
    "\n",
    "repo_clone_path = here()\n",
    "release_config_path = repo_clone_path / 'tracking' / 'release' / 'v1.0' / 'config.yml'\n",
    "\n",
    "with open(release_config_path) as fh:\n",
    "    config = yaml.load(fh, Loader=yaml.BaseLoader)\n",
    "    \n",
    "samplesets = config[\"sample_sets\"]\n",
    "#Remove the sample set with no sample\n",
    "samplesets.remove(\"1242-VO-KE-TCHOUASSI-VMF00082\")"
   ]
  },
  {
   "cell_type": "code",
   "execution_count": 5,
   "id": "938e6748-a8fc-4b4a-b5d4-72b118c25b45",
   "metadata": {},
   "outputs": [
    {
     "data": {
      "text/plain": [
       "Index(['sample_id', 'geographic_cohort', 'geographic_cohort_colour',\n",
       "       'geographic_cohort_shape', 'PCA_cohort', 'PCA_cohort_colour',\n",
       "       'mitochondrial_id', 'karyotype_3La', 'karyotype_3Ra', 'karyotype_3Rb',\n",
       "       'karyotype_2Ra', 'karyotype_2Rh', 'median_coverage'],\n",
       "      dtype='object')"
      ]
     },
     "execution_count": 5,
     "metadata": {},
     "output_type": "execute_result"
    }
   ],
   "source": [
    "meta = pd.read_csv(\"../../metadata/supp1.csv\")\n",
    "meta.columns"
   ]
  },
  {
   "cell_type": "markdown",
   "id": "b1d3e46c-3855-42e8-8155-95a02f51a28b",
   "metadata": {},
   "source": [
    "### Functions"
   ]
  },
  {
   "cell_type": "code",
   "execution_count": 6,
   "id": "ebd35940-21f0-4fe9-ab8f-403d169fed3c",
   "metadata": {},
   "outputs": [],
   "source": [
    "# load a single array from field/chrom/sampleset\n",
    "# internal path for calldata is chrom/calldata/field\n",
    "# sampleset_calldata = sampleset_staging_dir / sset\n",
    "# sampleset is needed to load species spec.\n",
    "def load_single_field(zarr_path, internal_path, sset, exclude_males=False, samples=None):\n",
    "      \n",
    "    inz = zarr.group(is_gcloud(zarr_path), overwrite=False)\n",
    "    \n",
    "    oo = da.from_zarr(inz[internal_path])  \n",
    "    \n",
    "    if oo.ndim == 1:\n",
    "        oo = oo.reshape((1, -1))\n",
    "           \n",
    "    return oo"
   ]
  },
  {
   "cell_type": "code",
   "execution_count": 7,
   "id": "8a2d87e7-e90f-4ecc-8975-f89686b5ace2",
   "metadata": {},
   "outputs": [],
   "source": [
    "## General function to concatenate data.\n",
    "## Selected chunk size may be more appropriate for some than others.\n",
    "def concatenate_along_axis(base_dir, internal_path, req_samplesets):\n",
    "    \n",
    "    # work out shape\n",
    "    data = [load_single_field(base_dir / ss, internal_path, ss) for ss in req_samplesets]\n",
    "    \n",
    "    return da.concatenate(data, axis=1)"
   ]
  },
  {
   "cell_type": "code",
   "execution_count": 8,
   "id": "4af0f368-c3e5-4b4e-9481-f42730b63708",
   "metadata": {},
   "outputs": [],
   "source": [
    "def is_gcloud(path):\n",
    "    \n",
    "    try: \n",
    "        return gcs.get_mapper(path.as_posix())\n",
    "    except NameError as e:\n",
    "        return path.as_posix()"
   ]
  },
  {
   "cell_type": "code",
   "execution_count": 9,
   "id": "ed9ffc83-6894-4577-9ca3-a6ed36553fb0",
   "metadata": {},
   "outputs": [],
   "source": [
    "def load_filter(chrom, filter_dir = genomic_positions_site_filter_sc_data_cloud_zarr_dir):\n",
    "    gcsmap = gcs.get_mapper(filter_dir)\n",
    "    genomic_positions_site_filter_data = zarr.Group(gcsmap, read_only=True)\n",
    "    filter_pass = da.from_zarr(\n",
    "            genomic_positions_site_filter_data[chrom]['variants/filter_pass'])\n",
    "    return filter_pass"
   ]
  },
  {
   "cell_type": "code",
   "execution_count": 10,
   "id": "e30bca2e-58e4-4d13-bb07-38a08b23706a",
   "metadata": {
    "tags": []
   },
   "outputs": [],
   "source": [
    "def load_position(chrom):\n",
    "    store = gcs.get_mapper(\n",
    "        f'gs://vo_afun_release/v1.0/snp_genotypes/all/sites')\n",
    "    root = zarr.open(store, mode='r')\n",
    "    pos = root[chrom]['variants/POS'][:]\n",
    "    return pos"
   ]
  },
  {
   "cell_type": "code",
   "execution_count": 11,
   "id": "102d82b6-f549-43e6-ba9b-392c3204a216",
   "metadata": {},
   "outputs": [],
   "source": [
    "def read_in_genotypes_positions(chrom, samples_idx, samplesets, posl, posu, \\\n",
    "                                filter_dir = genomic_positions_site_filter_sc_data_cloud_zarr_dir):\n",
    "\n",
    "    # load the genotypes and positions\n",
    "    gt_d = concatenate_along_axis(sampleset_staging_dir, f\"{chrom}/calldata/GT\", samplesets)\n",
    "    gt = allel.GenotypeDaskArray(gt_d)\n",
    "    pos = load_position(chrom)\n",
    "    \n",
    "    if posu==-1:\n",
    "        posu = pos.max()+1\n",
    "        \n",
    "    if posl==-1:\n",
    "        posl = pos.min()\n",
    "    \n",
    "    #load the filter\n",
    "    loc_filt = load_filter(chrom, filter_dir)\n",
    "    \n",
    "    #filter by positions\n",
    "    pos_filt = (pos>=posl) & (pos<posu)\n",
    "    \n",
    "    #apply the filter to positions and genotypes\n",
    "    gt = gt.compress((loc_filt) & (pos_filt), axis=0)\n",
    "    pos = pos[(loc_filt) & (pos_filt)]\n",
    "    \n",
    "    #subset to desired samples \n",
    "    gt = da.take(gt, samples_idx, axis=1)\n",
    "    \n",
    "    return gt, pos"
   ]
  },
  {
   "cell_type": "code",
   "execution_count": 12,
   "id": "4a5084c2-5f34-41ff-9119-5b0f296dfa72",
   "metadata": {
    "tags": []
   },
   "outputs": [],
   "source": [
    "def split_to_windows(values, window_size):\n",
    "    n_windows = len(values)//window_size\n",
    "    vals = np.zeros(n_windows)\n",
    "    for w in np.arange(n_windows):\n",
    "        vals[w] = np.nanmean(values[w*window_size:(w+1)*window_size])\n",
    "    return vals"
   ]
  },
  {
   "cell_type": "code",
   "execution_count": 13,
   "id": "0b724d82-980c-47c7-bd39-3ef525d16d2d",
   "metadata": {
    "tags": []
   },
   "outputs": [],
   "source": [
    "def compute_diversity(chrom, samples_idx, posl, posu, window_size, missing_frac,\\\n",
    "                     samplesets):\n",
    "    \n",
    "    #read in genotypes\n",
    "    gt, pos = read_in_genotypes_positions(chrom, samples_idx, samplesets, posl=posl, posu=posu)\n",
    "    \n",
    "    #count alleles \n",
    "    ac = gt.count_alleles(max_allele=3)\n",
    "    \n",
    "    #filters for missingness, biallelism and maf\n",
    "    missing_filter = ac.sum(axis=1) >= (1-missing_frac)*2*len(samples_idx)\n",
    "    \n",
    "    #get filtered allele counts\n",
    "    ac_f = ac.compress(missing_filter, axis=0)\n",
    "    pos_f = pos[missing_filter]\n",
    "    \n",
    "    #compute diversity\n",
    "    mpd = allel.mean_pairwise_difference(ac_f)\n",
    "    \n",
    "    #split to windows\n",
    "    windowed_mpd = split_to_windows(mpd, window_size)\n",
    "    window_centers = split_to_windows(pos_f, window_size)\n",
    "    \n",
    "    #get starting position new reading frame\n",
    "    end_pos = pos_f[len(windowed_mpd)*window_size]\n",
    "    \n",
    "    return windowed_mpd, window_centers, end_pos"
   ]
  },
  {
   "cell_type": "code",
   "execution_count": 14,
   "id": "22d67b3e-f33f-45ad-b7d4-7d9a91512ab1",
   "metadata": {},
   "outputs": [],
   "source": [
    "def loop_through_reading_frames(chrom, samples_idx, samplesets, outdir, cohortname,\\\n",
    "                                reading_frame_size, window_size, missing_frac):\n",
    "    \n",
    "    chrom_size = load_position(chrom).max()\n",
    "    \n",
    "    pi, window_centers, rf_start = compute_diversity(chrom, samples_idx, 0, reading_frame_size, window_size=window_size, \\\n",
    "                                    missing_frac=missing_frac, samplesets=samplesets)\n",
    "    rf_end = reading_frame_size\n",
    "    while rf_end < chrom_size:\n",
    "        rf_end = rf_start + reading_frame_size\n",
    "        pi_rf, window_rf, rf_start = compute_diversity(chrom, samples_idx, rf_start, rf_end, window_size=window_size, \\\n",
    "                                    missing_frac=missing_frac, samplesets=samplesets)\n",
    "        pi = np.concatenate((pi, pi_rf))\n",
    "        window_centers = np.concatenate((window_centers, window_rf))\n",
    "        np.save(f'{outdir}/{chrom}_{cohortname}_pi.npy', pi)\n",
    "        np.save(f'{outdir}/{chrom}_{cohortname}_windows.npy', window_centers)\n",
    "        "
   ]
  },
  {
   "cell_type": "code",
   "execution_count": 21,
   "id": "fdb929c0-14fe-48fa-8f67-b8150f76d21a",
   "metadata": {
    "tags": []
   },
   "outputs": [],
   "source": [
    "def compute_pi_all_cohorts(chrom, cohorts, meta, outdir, samplesets=samplesets, \\\n",
    "                          reading_frame_size=10_000_000, window_size=20_000, missing_frac=0.05):\n",
    "    \n",
    "    for cohort in cohorts:\n",
    "        samples_idx = meta.loc[(meta.geographic_cohort==cohort) & (meta.median_coverage>=20)].index\n",
    "        loop_through_reading_frames(chrom, samples_idx, samplesets, outdir, cohort,\n",
    "                                    reading_frame_size, window_size, missing_frac)\n",
    "        print(f\"On chromosome {chrom} cohort {cohort} done\")\n",
    "        \n",
    "    "
   ]
  },
  {
   "cell_type": "code",
   "execution_count": 20,
   "id": "8fbf678f-ea73-45ed-acef-9d086468808c",
   "metadata": {
    "tags": []
   },
   "outputs": [
    {
     "data": {
      "text/plain": [
       "Index(['sample_id', 'geographic_cohort', 'geographic_cohort_colour',\n",
       "       'geographic_cohort_shape', 'PCA_cohort', 'PCA_cohort_colour',\n",
       "       'mitochondrial_id', 'karyotype_3La', 'karyotype_3Ra', 'karyotype_3Rb',\n",
       "       'karyotype_2Ra', 'karyotype_2Rh', 'median_coverage'],\n",
       "      dtype='object')"
      ]
     },
     "execution_count": 20,
     "metadata": {},
     "output_type": "execute_result"
    }
   ],
   "source": [
    "meta.columns"
   ]
  },
  {
   "cell_type": "markdown",
   "id": "dcc340e6-d6aa-420f-bb9a-95edd822b36e",
   "metadata": {},
   "source": [
    "### Set up dask cluster"
   ]
  },
  {
   "cell_type": "code",
   "execution_count": 16,
   "id": "bd257b6f-e8a7-4ea0-ac86-875ab39750a2",
   "metadata": {},
   "outputs": [
    {
     "data": {
      "text/plain": [
       "[]"
      ]
     },
     "execution_count": 16,
     "metadata": {},
     "output_type": "execute_result"
    }
   ],
   "source": [
    "gateway = Gateway()\n",
    "gateway.list_clusters()"
   ]
  },
  {
   "cell_type": "code",
   "execution_count": 17,
   "id": "7a362ed1-654d-4cc2-90ad-992ccb18dbd9",
   "metadata": {},
   "outputs": [
    {
     "data": {
      "application/vnd.jupyter.widget-view+json": {
       "model_id": "666564b3ccff4860b0b11ac485cb60b9",
       "version_major": 2,
       "version_minor": 0
      },
      "text/plain": [
       "VBox(children=(HTML(value='<h2>GatewayCluster</h2>'), HBox(children=(HTML(value='\\n<div>\\n<style scoped>\\n    …"
      ]
     },
     "metadata": {},
     "output_type": "display_data"
    }
   ],
   "source": [
    "#gateway = Gateway()\n",
    "conda_prefix = os.environ[\"CONDA_PREFIX\"]\n",
    "current_environment = 'global/'+conda_prefix.split('/')[5]\n",
    "cluster = gateway.new_cluster(\n",
    "    profile='standard', \n",
    "    conda_environment = current_environment,\n",
    ")\n",
    "cluster"
   ]
  },
  {
   "cell_type": "code",
   "execution_count": 18,
   "id": "c3fcf660-b618-45aa-860e-a99aa3a865d8",
   "metadata": {},
   "outputs": [],
   "source": [
    "client=cluster.get_client()"
   ]
  },
  {
   "cell_type": "code",
   "execution_count": 19,
   "id": "6311c415-bbd9-4b32-8ef0-87c11afa668f",
   "metadata": {},
   "outputs": [],
   "source": [
    "cluster.scale(50)"
   ]
  },
  {
   "cell_type": "code",
   "execution_count": 23,
   "id": "52e7b4cc-56b3-4807-b822-ff7503e41a44",
   "metadata": {},
   "outputs": [
    {
     "data": {
      "text/plain": [
       "array(['Ghana_Northern-Region', 'Gabon_Haut-Ogooue', 'CAR_Ombella-MPoko',\n",
       "       'Cameroon_Adamawa', 'Ghana_Ashanti-Region',\n",
       "       'Malawi_Southern-Region', 'Mozambique_Maputo',\n",
       "       'Uganda_Eastern-Region', 'Benin_Atlantique-Dept', 'DRC_Kinshasa',\n",
       "       'Nigeria_Ogun-State', 'Zambia_Eastern-Prov', 'Kenya_Nyanza-Prov',\n",
       "       'Kenya_Western-Prov', 'Tanzania_Morogoro-Region', 'DRC_Haut-Uele',\n",
       "       'Mozambique_Cabo-Delgado'], dtype=object)"
      ]
     },
     "execution_count": 23,
     "metadata": {},
     "output_type": "execute_result"
    }
   ],
   "source": [
    "cohorts = meta.geographic_cohort.unique()\n",
    "cohorts"
   ]
  },
  {
   "cell_type": "code",
   "execution_count": 24,
   "id": "65ab6cbb-32dd-444c-acb2-f975a0fe2826",
   "metadata": {
    "tags": []
   },
   "outputs": [
    {
     "name": "stdout",
     "output_type": "stream",
     "text": [
      "On chromosome X cohort Ghana_Northern-Region done\n",
      "On chromosome X cohort Gabon_Haut-Ogooue done\n",
      "On chromosome X cohort CAR_Ombella-MPoko done\n",
      "On chromosome X cohort Cameroon_Adamawa done\n",
      "On chromosome X cohort Ghana_Ashanti-Region done\n",
      "On chromosome X cohort Malawi_Southern-Region done\n",
      "On chromosome X cohort Mozambique_Maputo done\n",
      "On chromosome X cohort Uganda_Eastern-Region done\n",
      "On chromosome X cohort Benin_Atlantique-Dept done\n",
      "On chromosome X cohort DRC_Kinshasa done\n",
      "On chromosome X cohort Nigeria_Ogun-State done\n",
      "On chromosome X cohort Zambia_Eastern-Prov done\n",
      "On chromosome X cohort Kenya_Nyanza-Prov done\n",
      "On chromosome X cohort Kenya_Western-Prov done\n",
      "On chromosome X cohort Tanzania_Morogoro-Region done\n",
      "On chromosome X cohort DRC_Haut-Uele done\n",
      "On chromosome X cohort Mozambique_Cabo-Delgado done\n"
     ]
    }
   ],
   "source": [
    "compute_pi_all_cohorts('X', cohorts, meta, 'diversity/20kb_hicov/')"
   ]
  },
  {
   "cell_type": "code",
   "execution_count": 25,
   "id": "b3438270-23ed-4db8-8fd9-5bef74ad10c0",
   "metadata": {
    "tags": []
   },
   "outputs": [
    {
     "name": "stdout",
     "output_type": "stream",
     "text": [
      "On chromosome 3RL cohort Ghana_Northern-Region done\n"
     ]
    },
    {
     "name": "stderr",
     "output_type": "stream",
     "text": [
      "2023-07-04 08:21:43,718 - distributed.client - WARNING - Couldn't gather 29 keys, rescheduling {\"('and_-24c94e141ddbb630636de3ee2714843f', 174)\": ('tls://10.97.176.10:33903',), \"('and_-24c94e141ddbb630636de3ee2714843f', 29)\": ('tls://10.97.176.2:34217',), \"('and_-24c94e141ddbb630636de3ee2714843f', 241)\": ('tls://10.97.176.10:33903',), \"('and_-24c94e141ddbb630636de3ee2714843f', 58)\": ('tls://10.97.176.7:38755',), \"('and_-24c94e141ddbb630636de3ee2714843f', 109)\": ('tls://10.97.176.10:33903',), \"('and_-24c94e141ddbb630636de3ee2714843f', 220)\": ('tls://10.97.176.7:38755',), \"('and_-24c94e141ddbb630636de3ee2714843f', 5)\": ('tls://10.97.176.7:38755',), \"('and_-24c94e141ddbb630636de3ee2714843f', 56)\": ('tls://10.97.176.7:38755',), \"('and_-24c94e141ddbb630636de3ee2714843f', 27)\": ('tls://10.97.176.2:34217',), \"('and_-24c94e141ddbb630636de3ee2714843f', 271)\": ('tls://10.97.176.10:33903',), \"('and_-24c94e141ddbb630636de3ee2714843f', 261)\": ('tls://10.97.176.7:38755',), \"('and_-24c94e141ddbb630636de3ee2714843f', 126)\": ('tls://10.97.176.7:38755',), \"('and_-24c94e141ddbb630636de3ee2714843f', 144)\": ('tls://10.97.176.2:34217',), \"('and_-24c94e141ddbb630636de3ee2714843f', 34)\": ('tls://10.97.176.10:33903',), \"('and_-24c94e141ddbb630636de3ee2714843f', 70)\": ('tls://10.97.176.10:33903',), \"('and_-24c94e141ddbb630636de3ee2714843f', 61)\": ('tls://10.97.176.2:34217',), \"('and_-24c94e141ddbb630636de3ee2714843f', 143)\": ('tls://10.97.176.10:33903',), \"('and_-24c94e141ddbb630636de3ee2714843f', 116)\": ('tls://10.97.176.10:33903',), \"('and_-24c94e141ddbb630636de3ee2714843f', 228)\": ('tls://10.97.176.2:34217',), \"('and_-24c94e141ddbb630636de3ee2714843f', 93)\": ('tls://10.97.176.10:33903',), \"('and_-24c94e141ddbb630636de3ee2714843f', 247)\": ('tls://10.97.176.10:33903',), \"('and_-24c94e141ddbb630636de3ee2714843f', 157)\": ('tls://10.97.176.7:38755',), \"('and_-24c94e141ddbb630636de3ee2714843f', 30)\": ('tls://10.97.176.2:34217',), \"('and_-24c94e141ddbb630636de3ee2714843f', 43)\": ('tls://10.97.176.10:33903',), \"('and_-24c94e141ddbb630636de3ee2714843f', 154)\": ('tls://10.97.176.10:33903',), \"('and_-24c94e141ddbb630636de3ee2714843f', 150)\": ('tls://10.97.176.10:33903',), \"('and_-24c94e141ddbb630636de3ee2714843f', 32)\": ('tls://10.97.176.10:33903',), \"('and_-24c94e141ddbb630636de3ee2714843f', 225)\": ('tls://10.97.176.7:38755',), \"('and_-24c94e141ddbb630636de3ee2714843f', 49)\": ('tls://10.97.176.2:34217',)}\n"
     ]
    },
    {
     "name": "stdout",
     "output_type": "stream",
     "text": [
      "On chromosome 3RL cohort Gabon_Haut-Ogooue done\n"
     ]
    },
    {
     "name": "stderr",
     "output_type": "stream",
     "text": [
      "2023-07-04 08:22:35,820 - distributed.client - WARNING - Couldn't gather 6 keys, rescheduling {\"('and_-ea046b94eeaba08ab4cf803d142727a7', 157)\": (), \"('and_-ea046b94eeaba08ab4cf803d142727a7', 171)\": (), \"('and_-ea046b94eeaba08ab4cf803d142727a7', 129)\": (), \"('and_-ea046b94eeaba08ab4cf803d142727a7', 114)\": (), \"('and_-ea046b94eeaba08ab4cf803d142727a7', 54)\": (), \"('and_-ea046b94eeaba08ab4cf803d142727a7', 52)\": ()}\n"
     ]
    },
    {
     "name": "stdout",
     "output_type": "stream",
     "text": [
      "On chromosome 3RL cohort CAR_Ombella-MPoko done\n",
      "On chromosome 3RL cohort Cameroon_Adamawa done\n",
      "On chromosome 3RL cohort Ghana_Ashanti-Region done\n",
      "On chromosome 3RL cohort Malawi_Southern-Region done\n",
      "On chromosome 3RL cohort Mozambique_Maputo done\n",
      "On chromosome 3RL cohort Uganda_Eastern-Region done\n",
      "On chromosome 3RL cohort Benin_Atlantique-Dept done\n",
      "On chromosome 3RL cohort DRC_Kinshasa done\n",
      "On chromosome 3RL cohort Nigeria_Ogun-State done\n",
      "On chromosome 3RL cohort Zambia_Eastern-Prov done\n",
      "On chromosome 3RL cohort Kenya_Nyanza-Prov done\n",
      "On chromosome 3RL cohort Kenya_Western-Prov done\n",
      "On chromosome 3RL cohort Tanzania_Morogoro-Region done\n",
      "On chromosome 3RL cohort DRC_Haut-Uele done\n",
      "On chromosome 3RL cohort Mozambique_Cabo-Delgado done\n"
     ]
    }
   ],
   "source": [
    "compute_pi_all_cohorts('3RL', cohorts, meta, 'diversity/20kb_hicov/')"
   ]
  },
  {
   "cell_type": "code",
   "execution_count": 26,
   "id": "b951f1a5-6fee-4ce9-b4ff-7293bd833596",
   "metadata": {},
   "outputs": [
    {
     "name": "stdout",
     "output_type": "stream",
     "text": [
      "On chromosome 2RL cohort Ghana_Northern-Region done\n",
      "On chromosome 2RL cohort Gabon_Haut-Ogooue done\n",
      "On chromosome 2RL cohort CAR_Ombella-MPoko done\n",
      "On chromosome 2RL cohort Cameroon_Adamawa done\n",
      "On chromosome 2RL cohort Ghana_Ashanti-Region done\n",
      "On chromosome 2RL cohort Malawi_Southern-Region done\n",
      "On chromosome 2RL cohort Mozambique_Maputo done\n",
      "On chromosome 2RL cohort Uganda_Eastern-Region done\n",
      "On chromosome 2RL cohort Benin_Atlantique-Dept done\n",
      "On chromosome 2RL cohort DRC_Kinshasa done\n",
      "On chromosome 2RL cohort Nigeria_Ogun-State done\n",
      "On chromosome 2RL cohort Zambia_Eastern-Prov done\n",
      "On chromosome 2RL cohort Kenya_Nyanza-Prov done\n",
      "On chromosome 2RL cohort Kenya_Western-Prov done\n",
      "On chromosome 2RL cohort Tanzania_Morogoro-Region done\n",
      "On chromosome 2RL cohort DRC_Haut-Uele done\n",
      "On chromosome 2RL cohort Mozambique_Cabo-Delgado done\n"
     ]
    }
   ],
   "source": [
    "compute_pi_all_cohorts('2RL', cohorts, meta, 'diversity/20kb_hicov/')"
   ]
  },
  {
   "cell_type": "markdown",
   "id": "13b5c595-45e0-499f-9b4d-696d80d1fd6c",
   "metadata": {},
   "source": []
  },
  {
   "cell_type": "code",
   "execution_count": 27,
   "id": "75ebbf06-b2f7-4046-9372-3e1cae3050fb",
   "metadata": {},
   "outputs": [],
   "source": [
    "cluster.shutdown()"
   ]
  },
  {
   "cell_type": "code",
   "execution_count": 16,
   "id": "2f7c28a1-9e06-4ba0-b644-8f2ef96f7526",
   "metadata": {},
   "outputs": [],
   "source": [
    "for report in gateway.list_clusters():\n",
    "    gateway.connect(report.name).shutdown()"
   ]
  },
  {
   "cell_type": "code",
   "execution_count": null,
   "id": "57d242d8-2cdc-4d41-b081-2a27db589d90",
   "metadata": {},
   "outputs": [],
   "source": []
  }
 ],
 "metadata": {
  "kernelspec": {
   "display_name": "global-global-binder-4.3.0",
   "language": "python",
   "name": "conda-env-global-global-binder-4.3.0-py"
  },
  "language_info": {
   "codemirror_mode": {
    "name": "ipython",
    "version": 3
   },
   "file_extension": ".py",
   "mimetype": "text/x-python",
   "name": "python",
   "nbconvert_exporter": "python",
   "pygments_lexer": "ipython3",
   "version": "3.10.8"
  }
 },
 "nbformat": 4,
 "nbformat_minor": 5
}
