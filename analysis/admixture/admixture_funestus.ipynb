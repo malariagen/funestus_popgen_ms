{
 "cells": [
  {
   "cell_type": "markdown",
   "metadata": {},
   "source": [
    "Run on google colab"
   ]
  },
  {
   "cell_type": "code",
   "execution_count": null,
   "metadata": {
    "colab": {
     "base_uri": "https://localhost:8080/"
    },
    "id": "RFmQETtrRNLS",
    "outputId": "f3cf2ca2-8003-4a8d-c334-250617eb8a7f"
   },
   "outputs": [
    {
     "name": "stdout",
     "output_type": "stream",
     "text": [
      "\u001b[2K     \u001b[90m━━━━━━━━━━━━━━━━━━━━━━━━━━━━━━━━━━━━━━━━\u001b[0m \u001b[32m4.0/4.0 MB\u001b[0m \u001b[31m26.6 MB/s\u001b[0m eta \u001b[36m0:00:00\u001b[0m00:01\u001b[0m00:01\u001b[0m\n",
      "\u001b[?25h  Preparing metadata (setup.py) ... \u001b[?25l\u001b[?25hdone\n",
      "  Preparing metadata (setup.py) ... \u001b[?25l\u001b[?25hdone\n",
      "\u001b[2K   \u001b[90m━━━━━━━━━━━━━━━━━━━━━━━━━━━━━━━━━━━━━━━━\u001b[0m \u001b[32m195.4/195.4 kB\u001b[0m \u001b[31m8.2 MB/s\u001b[0m eta \u001b[36m0:00:00\u001b[0m\n",
      "\u001b[2K   \u001b[90m━━━━━━━━━━━━━━━━━━━━━━━━━━━━━━━━━━━━━━━━\u001b[0m \u001b[32m6.3/6.3 MB\u001b[0m \u001b[31m76.7 MB/s\u001b[0m eta \u001b[36m0:00:00\u001b[0m\n",
      "\u001b[2K   \u001b[90m━━━━━━━━━━━━━━━━━━━━━━━━━━━━━━━━━━━━━━━━\u001b[0m \u001b[32m71.7/71.7 kB\u001b[0m \u001b[31m4.6 MB/s\u001b[0m eta \u001b[36m0:00:00\u001b[0m\n",
      "\u001b[2K   \u001b[90m━━━━━━━━━━━━━━━━━━━━━━━━━━━━━━━━━━━━━━━━\u001b[0m \u001b[32m775.9/775.9 kB\u001b[0m \u001b[31m25.1 MB/s\u001b[0m eta \u001b[36m0:00:00\u001b[0m\n",
      "\u001b[2K   \u001b[90m━━━━━━━━━━━━━━━━━━━━━━━━━━━━━━━━━━━━━━━━\u001b[0m \u001b[32m25.9/25.9 MB\u001b[0m \u001b[31m48.3 MB/s\u001b[0m eta \u001b[36m0:00:00\u001b[0m\n",
      "\u001b[2K   \u001b[90m━━━━━━━━━━━━━━━━━━━━━━━━━━━━━━━━━━━━━━━━\u001b[0m \u001b[32m8.7/8.7 MB\u001b[0m \u001b[31m63.7 MB/s\u001b[0m eta \u001b[36m0:00:00\u001b[0m\n",
      "\u001b[2K   \u001b[90m━━━━━━━━━━━━━━━━━━━━━━━━━━━━━━━━━━━━━━━━\u001b[0m \u001b[32m210.6/210.6 kB\u001b[0m \u001b[31m12.0 MB/s\u001b[0m eta \u001b[36m0:00:00\u001b[0m\n",
      "\u001b[2K   \u001b[90m━━━━━━━━━━━━━━━━━━━━━━━━━━━━━━━━━━━━━━━━\u001b[0m \u001b[32m3.3/3.3 MB\u001b[0m \u001b[31m55.8 MB/s\u001b[0m eta \u001b[36m0:00:00\u001b[0m\n",
      "\u001b[2K   \u001b[90m━━━━━━━━━━━━━━━━━━━━━━━━━━━━━━━━━━━━━━━━\u001b[0m \u001b[32m7.8/7.8 MB\u001b[0m \u001b[31m76.0 MB/s\u001b[0m eta \u001b[36m0:00:00\u001b[0m\n",
      "\u001b[2K   \u001b[90m━━━━━━━━━━━━━━━━━━━━━━━━━━━━━━━━━━━━━━━━\u001b[0m \u001b[32m78.3/78.3 kB\u001b[0m \u001b[31m5.7 MB/s\u001b[0m eta \u001b[36m0:00:00\u001b[0m\n",
      "\u001b[2K   \u001b[90m━━━━━━━━━━━━━━━━━━━━━━━━━━━━━━━━━━━━━━━━\u001b[0m \u001b[32m101.7/101.7 kB\u001b[0m \u001b[31m8.0 MB/s\u001b[0m eta \u001b[36m0:00:00\u001b[0m\n",
      "\u001b[2K   \u001b[90m━━━━━━━━━━━━━━━━━━━━━━━━━━━━━━━━━━━━━━━━\u001b[0m \u001b[32m8.9/8.9 MB\u001b[0m \u001b[31m75.0 MB/s\u001b[0m eta \u001b[36m0:00:00\u001b[0m\n",
      "\u001b[2K   \u001b[90m━━━━━━━━━━━━━━━━━━━━━━━━━━━━━━━━━━━━━━━━\u001b[0m \u001b[32m228.0/228.0 kB\u001b[0m \u001b[31m15.6 MB/s\u001b[0m eta \u001b[36m0:00:00\u001b[0m\n",
      "\u001b[2K   \u001b[90m━━━━━━━━━━━━━━━━━━━━━━━━━━━━━━━━━━━━━━━━\u001b[0m \u001b[32m13.4/13.4 MB\u001b[0m \u001b[31m27.0 MB/s\u001b[0m eta \u001b[36m0:00:00\u001b[0m\n",
      "\u001b[2K   \u001b[90m━━━━━━━━━━━━━━━━━━━━━━━━━━━━━━━━━━━━━━━━\u001b[0m \u001b[32m1.6/1.6 MB\u001b[0m \u001b[31m52.9 MB/s\u001b[0m eta \u001b[36m0:00:00\u001b[0m\n",
      "\u001b[?25h  Building wheel for dash-cytoscape (setup.py) ... \u001b[?25l\u001b[?25hdone\n",
      "  Building wheel for asciitree (setup.py) ... \u001b[?25l\u001b[?25hdone\n"
     ]
    }
   ],
   "source": [
    "!pip install -q malariagen_data bed_reader"
   ]
  },
  {
   "cell_type": "code",
   "execution_count": null,
   "metadata": {
    "id": "q_5GnamERTXm"
   },
   "outputs": [],
   "source": [
    "import malariagen_data\n",
    "import bed_reader\n",
    "import dask.array as da\n",
    "import allel\n",
    "import numpy as np\n",
    "import plotly.express as px\n",
    "import pandas as pd\n",
    "from dask.diagnostics import ProgressBar\n",
    "import google.colab\n",
    "import os"
   ]
  },
  {
   "cell_type": "code",
   "execution_count": null,
   "metadata": {
    "colab": {
     "base_uri": "https://localhost:8080/"
    },
    "id": "ZbkZuKQERgbX",
    "outputId": "775dbe81-f8a6-4a5f-afde-307827ddc985"
   },
   "outputs": [
    {
     "name": "stdout",
     "output_type": "stream",
     "text": [
      "Mounted at drive\n"
     ]
    }
   ],
   "source": [
    "google.colab.drive.mount(\"drive\")"
   ]
  },
  {
   "cell_type": "code",
   "execution_count": null,
   "metadata": {
    "id": "vDw9_sOwRipU"
   },
   "outputs": [],
   "source": [
    "results_dir = \"drive/MyDrive/admixture-funestus\"\n",
    "!mkdir -pv \"{results_dir}\""
   ]
  },
  {
   "cell_type": "code",
   "execution_count": null,
   "metadata": {
    "colab": {
     "base_uri": "https://localhost:8080/",
     "height": 211
    },
    "id": "7zoY9ahURwAa",
    "outputId": "945eeb08-eb2c-4eef-ba04-f50d333ad930"
   },
   "outputs": [
    {
     "data": {
      "text/html": [
       "\n",
       "            <table class=\"malariagen-af1\">\n",
       "                <thead>\n",
       "                    <tr>\n",
       "                        <th style=\"text-align: left\" colspan=\"2\">MalariaGEN Af1 API client</th>\n",
       "                    </tr>\n",
       "                    <tr><td colspan=\"2\" style=\"text-align: left\">\n",
       "                        Please note that data are subject to terms of use,\n",
       "                        for more information see <a href=\"https://www.malariagen.net/data\">\n",
       "                        the MalariaGEN website</a> or contact support@malariagen.net.\n",
       "                        See also the <a href=\"https://malariagen.github.io/malariagen-data-python/v15.0.1/Af1.html\">Af1 API docs</a>.\n",
       "                    </td></tr>\n",
       "                </thead>\n",
       "                <tbody>\n",
       "                    <tr>\n",
       "                        <th style=\"text-align: left\">\n",
       "                            Storage URL\n",
       "                        </th>\n",
       "                        <td>gs://vo_afun_release_master_us_central1/</td>\n",
       "                    </tr>\n",
       "                    <tr>\n",
       "                        <th style=\"text-align: left\">\n",
       "                            Data releases available\n",
       "                        </th>\n",
       "                        <td>1.0, 1.1, 1.2, 1.3, 1.4</td>\n",
       "                    </tr>\n",
       "                    <tr>\n",
       "                        <th style=\"text-align: left\">\n",
       "                            Results cache\n",
       "                        </th>\n",
       "                        <td>None</td>\n",
       "                    </tr>\n",
       "                    <tr>\n",
       "                        <th style=\"text-align: left\">\n",
       "                            Cohorts analysis\n",
       "                        </th>\n",
       "                        <td>20240515</td>\n",
       "                    </tr>\n",
       "                    <tr>\n",
       "                        <th style=\"text-align: left\">\n",
       "                            Site filters analysis\n",
       "                        </th>\n",
       "                        <td>dt_20200416</td>\n",
       "                    </tr>\n",
       "                    <tr>\n",
       "                        <th style=\"text-align: left\">\n",
       "                            Software version\n",
       "                        </th>\n",
       "                        <td>malariagen_data 15.0.1</td>\n",
       "                    </tr>\n",
       "                    <tr>\n",
       "                        <th style=\"text-align: left\">\n",
       "                            Client location\n",
       "                        </th>\n",
       "                        <td>Oregon, United States (Google Cloud us-west1)</td>\n",
       "                    </tr>\n",
       "                </tbody>\n",
       "            </table>\n",
       "        "
      ],
      "text/plain": [
       "<MalariaGEN Af1 API client>\n",
       "Storage URL             : gs://vo_afun_release_master_us_central1/\n",
       "Data releases available : 1.0, 1.1, 1.2, 1.3, 1.4\n",
       "Results cache           : None\n",
       "Cohorts analysis        : 20240515\n",
       "Site filters analysis   : dt_20200416\n",
       "Software version        : malariagen_data 15.0.1\n",
       "Client location         : Oregon, United States (Google Cloud us-west1)\n",
       "---\n",
       "Please note that data are subject to terms of use,\n",
       "for more information see https://www.malariagen.net/data\n",
       "or contact support@malariagen.net. For API documentation see \n",
       "https://malariagen.github.io/malariagen-data-python/v15.0.1/Af1.html"
      ]
     },
     "execution_count": 5,
     "metadata": {},
     "output_type": "execute_result"
    }
   ],
   "source": [
    "# do this just to check client location\n",
    "malariagen_data.Af1()"
   ]
  },
  {
   "cell_type": "code",
   "execution_count": null,
   "metadata": {
    "id": "pjuPEfcFSU49"
   },
   "outputs": [],
   "source": [
    "malariagen_data.Af1?"
   ]
  },
  {
   "cell_type": "code",
   "execution_count": null,
   "metadata": {
    "colab": {
     "base_uri": "https://localhost:8080/",
     "height": 211
    },
    "id": "wzZeHdoJRz1W",
    "outputId": "5351f135-d122-4342-985f-3465763a2d34"
   },
   "outputs": [
    {
     "data": {
      "text/html": [
       "\n",
       "            <table class=\"malariagen-af1\">\n",
       "                <thead>\n",
       "                    <tr>\n",
       "                        <th style=\"text-align: left\" colspan=\"2\">MalariaGEN Af1 API client</th>\n",
       "                    </tr>\n",
       "                    <tr><td colspan=\"2\" style=\"text-align: left\">\n",
       "                        Please note that data are subject to terms of use,\n",
       "                        for more information see <a href=\"https://www.malariagen.net/data\">\n",
       "                        the MalariaGEN website</a> or contact support@malariagen.net.\n",
       "                        See also the <a href=\"https://malariagen.github.io/malariagen-data-python/v15.0.1/Af1.html\">Af1 API docs</a>.\n",
       "                    </td></tr>\n",
       "                </thead>\n",
       "                <tbody>\n",
       "                    <tr>\n",
       "                        <th style=\"text-align: left\">\n",
       "                            Storage URL\n",
       "                        </th>\n",
       "                        <td>simplecache::gs://vo_afun_release_master_us_central1</td>\n",
       "                    </tr>\n",
       "                    <tr>\n",
       "                        <th style=\"text-align: left\">\n",
       "                            Data releases available\n",
       "                        </th>\n",
       "                        <td>1.0, 1.1, 1.2, 1.3, 1.4</td>\n",
       "                    </tr>\n",
       "                    <tr>\n",
       "                        <th style=\"text-align: left\">\n",
       "                            Results cache\n",
       "                        </th>\n",
       "                        <td>None</td>\n",
       "                    </tr>\n",
       "                    <tr>\n",
       "                        <th style=\"text-align: left\">\n",
       "                            Cohorts analysis\n",
       "                        </th>\n",
       "                        <td>20240515</td>\n",
       "                    </tr>\n",
       "                    <tr>\n",
       "                        <th style=\"text-align: left\">\n",
       "                            Site filters analysis\n",
       "                        </th>\n",
       "                        <td>sc_20220908</td>\n",
       "                    </tr>\n",
       "                    <tr>\n",
       "                        <th style=\"text-align: left\">\n",
       "                            Software version\n",
       "                        </th>\n",
       "                        <td>malariagen_data 15.0.1</td>\n",
       "                    </tr>\n",
       "                    <tr>\n",
       "                        <th style=\"text-align: left\">\n",
       "                            Client location\n",
       "                        </th>\n",
       "                        <td>Oregon, United States (Google Cloud us-west1)</td>\n",
       "                    </tr>\n",
       "                </tbody>\n",
       "            </table>\n",
       "        "
      ],
      "text/plain": [
       "<MalariaGEN Af1 API client>\n",
       "Storage URL             : simplecache::gs://vo_afun_release_master_us_central1\n",
       "Data releases available : 1.0, 1.1, 1.2, 1.3, 1.4\n",
       "Results cache           : None\n",
       "Cohorts analysis        : 20240515\n",
       "Site filters analysis   : sc_20220908\n",
       "Software version        : malariagen_data 15.0.1\n",
       "Client location         : Oregon, United States (Google Cloud us-west1)\n",
       "---\n",
       "Please note that data are subject to terms of use,\n",
       "for more information see https://www.malariagen.net/data\n",
       "or contact support@malariagen.net. For API documentation see \n",
       "https://malariagen.github.io/malariagen-data-python/v15.0.1/Af1.html"
      ]
     },
     "execution_count": 7,
     "metadata": {},
     "output_type": "execute_result"
    }
   ],
   "source": [
    "# set up access to funetus data\n",
    "af1 = malariagen_data.Af1(\n",
    "    \"simplecache::gs://vo_afun_release_master_us_central1\",\n",
    "    simplecache=dict(cache_storage=\"gcs_cache\"),\n",
    "    site_filters_analysis='sc_20220908',\n",
    "    release=[1.0,1.2]\n",
    ")\n",
    "af1"
   ]
  },
  {
   "cell_type": "code",
   "execution_count": null,
   "metadata": {
    "colab": {
     "base_uri": "https://localhost:8080/"
    },
    "id": "MnLsN27KT7hf",
    "outputId": "00d7f517-fac9-4bd0-ba8e-a2bbb18eda7e"
   },
   "outputs": [
    {
     "name": "stdout",
     "output_type": "stream",
     "text": []
    }
   ],
   "source": [
    "df_samples = af1.sample_metadata(sample_sets = ['1.0','small-2023'])"
   ]
  },
  {
   "cell_type": "code",
   "execution_count": null,
   "metadata": {
    "id": "JNQO4_96V7q-"
   },
   "outputs": [],
   "source": [
    "af1.snp_calls?"
   ]
  },
  {
   "cell_type": "code",
   "execution_count": null,
   "metadata": {
    "colab": {
     "base_uri": "https://localhost:8080/"
    },
    "id": "x1LDl0m5WU2q",
    "outputId": "6f4d6c35-add9-4ea4-e12d-73aec4aa32d1"
   },
   "outputs": [
    {
     "data": {
      "text/plain": [
       "('funestus',)"
      ]
     },
     "execution_count": 10,
     "metadata": {},
     "output_type": "execute_result"
    }
   ],
   "source": [
    "af1.site_mask_ids"
   ]
  },
  {
   "cell_type": "code",
   "execution_count": null,
   "metadata": {
    "colab": {
     "base_uri": "https://localhost:8080/",
     "height": 680
    },
    "id": "oVL3DvRZUJGT",
    "outputId": "9043d491-22b2-49f7-d5dc-ed9e428fbbfc"
   },
   "outputs": [
    {
     "data": {
      "text/html": [
       "<div>\n",
       "<style scoped>\n",
       "    .dataframe tbody tr th:only-of-type {\n",
       "        vertical-align: middle;\n",
       "    }\n",
       "\n",
       "    .dataframe tbody tr th {\n",
       "        vertical-align: top;\n",
       "    }\n",
       "\n",
       "    .dataframe thead th {\n",
       "        text-align: right;\n",
       "    }\n",
       "</style>\n",
       "<table border=\"1\" class=\"dataframe\">\n",
       "  <thead>\n",
       "    <tr style=\"text-align: right;\">\n",
       "      <th></th>\n",
       "      <th></th>\n",
       "      <th></th>\n",
       "      <th>0</th>\n",
       "    </tr>\n",
       "    <tr>\n",
       "      <th>release</th>\n",
       "      <th>sample_set</th>\n",
       "      <th>country</th>\n",
       "      <th></th>\n",
       "    </tr>\n",
       "  </thead>\n",
       "  <tbody>\n",
       "    <tr>\n",
       "      <th rowspan=\"17\" valign=\"top\">1.0</th>\n",
       "      <th>1229-VO-GH-DADZIE-VMF00095</th>\n",
       "      <th>Ghana</th>\n",
       "      <td>36</td>\n",
       "    </tr>\n",
       "    <tr>\n",
       "      <th rowspan=\"2\" valign=\"top\">1230-VO-GA-CF-AYALA-VMF00045</th>\n",
       "      <th>Central African Republic</th>\n",
       "      <td>10</td>\n",
       "    </tr>\n",
       "    <tr>\n",
       "      <th>Gabon</th>\n",
       "      <td>40</td>\n",
       "    </tr>\n",
       "    <tr>\n",
       "      <th rowspan=\"9\" valign=\"top\">1231-VO-MULTI-WONDJI-VMF00043</th>\n",
       "      <th>Benin</th>\n",
       "      <td>37</td>\n",
       "    </tr>\n",
       "    <tr>\n",
       "      <th>Cameroon</th>\n",
       "      <td>45</td>\n",
       "    </tr>\n",
       "    <tr>\n",
       "      <th>Democratic Republic of the Congo</th>\n",
       "      <td>34</td>\n",
       "    </tr>\n",
       "    <tr>\n",
       "      <th>Ghana</th>\n",
       "      <td>31</td>\n",
       "    </tr>\n",
       "    <tr>\n",
       "      <th>Malawi</th>\n",
       "      <td>18</td>\n",
       "    </tr>\n",
       "    <tr>\n",
       "      <th>Mozambique</th>\n",
       "      <td>22</td>\n",
       "    </tr>\n",
       "    <tr>\n",
       "      <th>Nigeria</th>\n",
       "      <td>41</td>\n",
       "    </tr>\n",
       "    <tr>\n",
       "      <th>Uganda</th>\n",
       "      <td>49</td>\n",
       "    </tr>\n",
       "    <tr>\n",
       "      <th>Zambia</th>\n",
       "      <td>43</td>\n",
       "    </tr>\n",
       "    <tr>\n",
       "      <th>1232-VO-KE-OCHOMO-VMF00044</th>\n",
       "      <th>Kenya</th>\n",
       "      <td>81</td>\n",
       "    </tr>\n",
       "    <tr>\n",
       "      <th>1235-VO-MZ-PAAIJMANS-VMF00094</th>\n",
       "      <th>Mozambique</th>\n",
       "      <td>76</td>\n",
       "    </tr>\n",
       "    <tr>\n",
       "      <th>1236-VO-TZ-OKUMU-VMF00090</th>\n",
       "      <th>Tanzania</th>\n",
       "      <td>10</td>\n",
       "    </tr>\n",
       "    <tr>\n",
       "      <th>1240-VO-CD-KOEKEMOER-VMF00099</th>\n",
       "      <th>Democratic Republic of the Congo</th>\n",
       "      <td>43</td>\n",
       "    </tr>\n",
       "    <tr>\n",
       "      <th>1240-VO-MZ-KOEKEMOER-VMF00101</th>\n",
       "      <th>Mozambique</th>\n",
       "      <td>40</td>\n",
       "    </tr>\n",
       "    <tr>\n",
       "      <th>1.2</th>\n",
       "      <th>small-2023</th>\n",
       "      <th>Burkina Faso</th>\n",
       "      <td>177</td>\n",
       "    </tr>\n",
       "  </tbody>\n",
       "</table>\n",
       "</div><br><label><b>dtype:</b> int64</label>"
      ],
      "text/plain": [
       "release  sample_set                     country                         \n",
       "1.0      1229-VO-GH-DADZIE-VMF00095     Ghana                                36\n",
       "         1230-VO-GA-CF-AYALA-VMF00045   Central African Republic             10\n",
       "                                        Gabon                                40\n",
       "         1231-VO-MULTI-WONDJI-VMF00043  Benin                                37\n",
       "                                        Cameroon                             45\n",
       "                                        Democratic Republic of the Congo     34\n",
       "                                        Ghana                                31\n",
       "                                        Malawi                               18\n",
       "                                        Mozambique                           22\n",
       "                                        Nigeria                              41\n",
       "                                        Uganda                               49\n",
       "                                        Zambia                               43\n",
       "         1232-VO-KE-OCHOMO-VMF00044     Kenya                                81\n",
       "         1235-VO-MZ-PAAIJMANS-VMF00094  Mozambique                           76\n",
       "         1236-VO-TZ-OKUMU-VMF00090      Tanzania                             10\n",
       "         1240-VO-CD-KOEKEMOER-VMF00099  Democratic Republic of the Congo     43\n",
       "         1240-VO-MZ-KOEKEMOER-VMF00101  Mozambique                           40\n",
       "1.2      small-2023                     Burkina Faso                        177\n",
       "dtype: int64"
      ]
     },
     "execution_count": 11,
     "metadata": {},
     "output_type": "execute_result"
    }
   ],
   "source": [
    "df_samples.groupby(['release', 'sample_set', 'country']).size()"
   ]
  },
  {
   "cell_type": "code",
   "execution_count": null,
   "metadata": {
    "colab": {
     "base_uri": "https://localhost:8080/",
     "height": 837
    },
    "id": "3lkUF0rqXM8G",
    "outputId": "bd85bcee-13e0-48ab-b20e-4c5ada35a6a6"
   },
   "outputs": [
    {
     "data": {
      "text/html": [
       "<div>\n",
       "<style scoped>\n",
       "    .dataframe tbody tr th:only-of-type {\n",
       "        vertical-align: middle;\n",
       "    }\n",
       "\n",
       "    .dataframe tbody tr th {\n",
       "        vertical-align: top;\n",
       "    }\n",
       "\n",
       "    .dataframe thead th {\n",
       "        text-align: right;\n",
       "    }\n",
       "</style>\n",
       "<table border=\"1\" class=\"dataframe\">\n",
       "  <thead>\n",
       "    <tr style=\"text-align: right;\">\n",
       "      <th></th>\n",
       "      <th>0</th>\n",
       "    </tr>\n",
       "    <tr>\n",
       "      <th>admin1_iso</th>\n",
       "      <th></th>\n",
       "    </tr>\n",
       "  </thead>\n",
       "  <tbody>\n",
       "    <tr>\n",
       "      <th>BF-01</th>\n",
       "      <td>20</td>\n",
       "    </tr>\n",
       "    <tr>\n",
       "      <th>BF-03</th>\n",
       "      <td>91</td>\n",
       "    </tr>\n",
       "    <tr>\n",
       "      <th>BF-04</th>\n",
       "      <td>30</td>\n",
       "    </tr>\n",
       "    <tr>\n",
       "      <th>BF-06</th>\n",
       "      <td>23</td>\n",
       "    </tr>\n",
       "    <tr>\n",
       "      <th>BF-07</th>\n",
       "      <td>13</td>\n",
       "    </tr>\n",
       "    <tr>\n",
       "      <th>BJ-AQ</th>\n",
       "      <td>37</td>\n",
       "    </tr>\n",
       "    <tr>\n",
       "      <th>CD-HU</th>\n",
       "      <td>43</td>\n",
       "    </tr>\n",
       "    <tr>\n",
       "      <th>CD-KN</th>\n",
       "      <td>34</td>\n",
       "    </tr>\n",
       "    <tr>\n",
       "      <th>CF-BGF</th>\n",
       "      <td>10</td>\n",
       "    </tr>\n",
       "    <tr>\n",
       "      <th>CM-AD</th>\n",
       "      <td>45</td>\n",
       "    </tr>\n",
       "    <tr>\n",
       "      <th>GA-2</th>\n",
       "      <td>40</td>\n",
       "    </tr>\n",
       "    <tr>\n",
       "      <th>GH-AH</th>\n",
       "      <td>31</td>\n",
       "    </tr>\n",
       "    <tr>\n",
       "      <th>GH-NP</th>\n",
       "      <td>36</td>\n",
       "    </tr>\n",
       "    <tr>\n",
       "      <th>KE-03</th>\n",
       "      <td>21</td>\n",
       "    </tr>\n",
       "    <tr>\n",
       "      <th>KE-17</th>\n",
       "      <td>37</td>\n",
       "    </tr>\n",
       "    <tr>\n",
       "      <th>KE-27</th>\n",
       "      <td>23</td>\n",
       "    </tr>\n",
       "    <tr>\n",
       "      <th>MW-S</th>\n",
       "      <td>18</td>\n",
       "    </tr>\n",
       "    <tr>\n",
       "      <th>MZ-L</th>\n",
       "      <td>98</td>\n",
       "    </tr>\n",
       "    <tr>\n",
       "      <th>MZ-P</th>\n",
       "      <td>40</td>\n",
       "    </tr>\n",
       "    <tr>\n",
       "      <th>NG-OG</th>\n",
       "      <td>41</td>\n",
       "    </tr>\n",
       "    <tr>\n",
       "      <th>TZ-16</th>\n",
       "      <td>10</td>\n",
       "    </tr>\n",
       "    <tr>\n",
       "      <th>UG-E</th>\n",
       "      <td>49</td>\n",
       "    </tr>\n",
       "    <tr>\n",
       "      <th>ZM-03</th>\n",
       "      <td>43</td>\n",
       "    </tr>\n",
       "  </tbody>\n",
       "</table>\n",
       "</div><br><label><b>dtype:</b> int64</label>"
      ],
      "text/plain": [
       "admin1_iso\n",
       "BF-01     20\n",
       "BF-03     91\n",
       "BF-04     30\n",
       "BF-06     23\n",
       "BF-07     13\n",
       "BJ-AQ     37\n",
       "CD-HU     43\n",
       "CD-KN     34\n",
       "CF-BGF    10\n",
       "CM-AD     45\n",
       "GA-2      40\n",
       "GH-AH     31\n",
       "GH-NP     36\n",
       "KE-03     21\n",
       "KE-17     37\n",
       "KE-27     23\n",
       "MW-S      18\n",
       "MZ-L      98\n",
       "MZ-P      40\n",
       "NG-OG     41\n",
       "TZ-16     10\n",
       "UG-E      49\n",
       "ZM-03     43\n",
       "dtype: int64"
      ]
     },
     "execution_count": 12,
     "metadata": {},
     "output_type": "execute_result"
    }
   ],
   "source": [
    "df_samples.groupby('admin1_iso').size()"
   ]
  },
  {
   "cell_type": "code",
   "execution_count": null,
   "metadata": {
    "id": "mjqe5M_OUN8Q"
   },
   "outputs": [],
   "source": [
    "def get_plink_file_path(\n",
    "    arm,\n",
    "    n_snps,\n",
    "    min_minor_ac,\n",
    "    thin_offset,\n",
    "    max_missing_an,\n",
    "):\n",
    "    return f\"{results_dir}/{arm}.{n_snps}.{min_minor_ac}.{thin_offset}.{max_missing_an}\""
   ]
  },
  {
   "cell_type": "code",
   "execution_count": null,
   "metadata": {
    "id": "NNk_gOLqVO-y"
   },
   "outputs": [],
   "source": [
    "def snp_calls_to_plink(\n",
    "    sample_sets,\n",
    "    arm,\n",
    "    region,\n",
    "    n_snps,\n",
    "    min_minor_ac,\n",
    "    thin_offset,\n",
    "    max_missing_an=0,\n",
    "):\n",
    "\n",
    "    plink_file_path = get_plink_file_path(\n",
    "        arm=arm,\n",
    "        n_snps=n_snps,\n",
    "        thin_offset=thin_offset,\n",
    "        min_minor_ac=min_minor_ac,\n",
    "        max_missing_an=max_missing_an,\n",
    "    )\n",
    "    bed_file_path = f\"{plink_file_path}.bed\"\n",
    "    if os.path.exists(bed_file_path):\n",
    "        return plink_file_path\n",
    "\n",
    "    print(f\">>> building {plink_file_path}\")\n",
    "\n",
    "    print(\"access SNP calls\")\n",
    "    ds_snps = af1.snp_calls(\n",
    "        region=region,\n",
    "        sample_sets=sample_sets,\n",
    "        site_mask='funestus',\n",
    "    )\n",
    "\n",
    "    print(\"count alleles\")\n",
    "    gt = allel.GenotypeDaskArray(ds_snps[\"call_genotype\"].data)\n",
    "    with ProgressBar():\n",
    "        ac = gt.count_alleles(max_allele=3).compute()\n",
    "\n",
    "    print(\"ascertain segregating biallelic sites\")\n",
    "    n_chroms = ds_snps.dims[\"samples\"] * 2\n",
    "    an_called = ac.sum(axis=1)\n",
    "    an_missing = n_chroms - an_called\n",
    "    min_ref_ac = min_minor_ac\n",
    "    max_ref_ac = n_chroms - min_minor_ac\n",
    "    # here we choose biallelic sites involving the reference allele\n",
    "    loc_sites = (\n",
    "        ac.is_biallelic()\n",
    "        & (ac[:, 0] >= min_ref_ac)\n",
    "        & (ac[:, 0] <= max_ref_ac)\n",
    "        & (an_missing <= max_missing_an)\n",
    "    )\n",
    "    print(f\"ascertained {np.count_nonzero(loc_sites):,} sites\")\n",
    "\n",
    "    print(\"thin sites\")\n",
    "    ix_sites = np.nonzero(loc_sites)[0]\n",
    "    thin_step = max(ix_sites.shape[0] // n_snps, 1)\n",
    "    ix_sites_thinned = ix_sites[thin_offset::thin_step]\n",
    "    print(f\"thinned to {np.count_nonzero(ix_sites_thinned):,} sites\")\n",
    "\n",
    "    print(\"set up dataset\")\n",
    "    #here isel doesn't matter, because missing data is encoded as -1,-1 genotype\n",
    "    #but the allele at pos 1 is not necessary the alternate allele at a biallelic site\n",
    "    ds_snps_asc = (\n",
    "        ds_snps\n",
    "        [[\"variant_contig\", \"variant_position\", \"variant_allele\", \"sample_id\", \"call_genotype\"]]\n",
    "        .isel(alleles=slice(0, 2))\n",
    "        .sel(variants=ix_sites_thinned)\n",
    "    )\n",
    "\n",
    "    print(\"compute genotype ref counts\")\n",
    "    gt = ds_snps_asc[\"call_genotype\"].data\n",
    "    gn_ref = allel.GenotypeDaskArray(gt).to_n_ref(fill=-127)\n",
    "    with ProgressBar():\n",
    "        gn_ref = gn_ref.compute()\n",
    "\n",
    "    print(\"ensure genotypes vary\")\n",
    "    loc_var = np.any(gn_ref != gn_ref[:, 0, np.newaxis], axis=1)\n",
    "    print(f\"final no. variants {np.count_nonzero(loc_var)}\")\n",
    "\n",
    "    print(\"load final data\")\n",
    "    with ProgressBar():\n",
    "        ds_snps_final = (\n",
    "            ds_snps_asc\n",
    "            [[\"variant_contig\", \"variant_position\", \"variant_allele\", \"sample_id\"]]\n",
    "            .isel(variants=loc_var)\n",
    "        )\n",
    "    gn_ref_final = gn_ref[loc_var]\n",
    "    val = gn_ref_final.T\n",
    "    alleles = ds_snps_final[\"variant_allele\"].values\n",
    "    properties = {\n",
    "        \"iid\": ds_snps_final[\"sample_id\"].values,\n",
    "        \"chromosome\": ds_snps_final[\"variant_contig\"].values,\n",
    "        \"bp_position\": ds_snps_final[\"variant_position\"].values,\n",
    "        \"allele_1\": alleles[:, 0],\n",
    "        \"allele_2\": alleles[:, 1],\n",
    "    }\n",
    "\n",
    "    print(\"write plink files\")\n",
    "    bed_reader.to_bed(\n",
    "        filepath=bed_file_path,\n",
    "        val=val,\n",
    "        properties=properties,\n",
    "        count_A1=True,\n",
    "    )\n",
    "    return plink_file_path"
   ]
  },
  {
   "cell_type": "code",
   "execution_count": null,
   "metadata": {
    "colab": {
     "base_uri": "https://localhost:8080/"
    },
    "id": "ts8sjv3ueni7",
    "outputId": "81b4d4a8-1529-4015-c92f-a527767866d0"
   },
   "outputs": [
    {
     "name": "stdout",
     "output_type": "stream",
     "text": [
      "total 278M\n",
      "drwx------ 2 root root 4.0K Feb 27 08:47  2L.100000.17.0.17.admixture\n",
      "-rw------- 1 root root  21M Feb 27 08:47  2L.100000.17.0.17.bed\n",
      "-rw------- 1 root root 2.8M Feb 27 08:47  2L.100000.17.0.17.bim\n",
      "-rw------- 1 root root  17K Feb 27 08:47  2L.100000.17.0.17.fam\n",
      "drwx------ 2 root root 4.0K Mar  3 07:28  2L.100000.17.0.2.admixture\n",
      "-rw------- 1 root root  22M Mar  3 07:28  2L.100000.17.0.2.bed\n",
      "-rw------- 1 root root 2.9M Mar  3 07:28  2L.100000.17.0.2.bim\n",
      "-rw------- 1 root root  17K Mar  3 07:28  2L.100000.17.0.2.fam\n",
      "drwx------ 2 root root 4.0K Feb 27 11:57  2L.100000.17.1.17.admixture\n",
      "-rw------- 1 root root  21M Feb 27 11:57  2L.100000.17.1.17.bed\n",
      "-rw------- 1 root root 2.8M Feb 27 11:57  2L.100000.17.1.17.bim\n",
      "-rw------- 1 root root  17K Feb 27 11:57  2L.100000.17.1.17.fam\n",
      "drwx------ 2 root root 4.0K Mar  3 09:43  2L.100000.34.0.17.admixture\n",
      "-rw------- 1 root root  22M Mar  3 09:43  2L.100000.34.0.17.bed\n",
      "-rw------- 1 root root 2.9M Mar  3 09:43  2L.100000.34.0.17.bim\n",
      "-rw------- 1 root root  17K Mar  3 09:43  2L.100000.34.0.17.fam\n",
      "drwx------ 2 root root 4.0K Mar  3 09:09  2L.100000.34.0.2.admixture\n",
      "-rw------- 1 root root  21M Mar  3 09:09  2L.100000.34.0.2.bed\n",
      "-rw------- 1 root root 2.9M Mar  3 09:09  2L.100000.34.0.2.bim\n",
      "-rw------- 1 root root  17K Mar  3 09:09  2L.100000.34.0.2.fam\n",
      "drwx------ 2 root root 4.0K Mar  3 08:37  2L.100000.84.0.17.admixture\n",
      "-rw------- 1 root root  21M Mar  3 08:37  2L.100000.84.0.17.bed\n",
      "-rw------- 1 root root 2.7M Mar  3 08:37  2L.100000.84.0.17.bim\n",
      "-rw------- 1 root root  17K Mar  3 08:37  2L.100000.84.0.17.fam\n",
      "drwx------ 2 root root 4.0K Mar  3 08:00  2L.100000.84.0.2.admixture\n",
      "-rw------- 1 root root  26M Mar  3 08:00  2L.100000.84.0.2.bed\n",
      "-rw------- 1 root root 3.5M Mar  3 08:00  2L.100000.84.0.2.bim\n",
      "-rw------- 1 root root  17K Mar  3 08:00  2L.100000.84.0.2.fam\n",
      "drwx------ 2 root root 4.0K Mar  3 07:48  2L.50000.17.0.17.admixture\n",
      "-rw------- 1 root root  10M Mar  3 07:48  2L.50000.17.0.17.bed\n",
      "-rw------- 1 root root 1.4M Mar  3 07:48  2L.50000.17.0.17.bim\n",
      "-rw------- 1 root root  17K Mar  3 07:48  2L.50000.17.0.17.fam\n",
      "drwx------ 2 root root 4.0K Feb 28 13:13  2L.50000.17.0.2.admixture\n",
      "-rw------- 1 root root  11M Feb 28 13:13  2L.50000.17.0.2.bed\n",
      "-rw------- 1 root root 1.4M Feb 28 13:13  2L.50000.17.0.2.bim\n",
      "-rw------- 1 root root  17K Feb 28 13:13  2L.50000.17.0.2.fam\n",
      "drwx------ 2 root root 4.0K Mar  1 11:39  2L.50000.17.1.2.admixture\n",
      "-rw------- 1 root root  11M Mar  1 11:39  2L.50000.17.1.2.bed\n",
      "-rw------- 1 root root 1.4M Mar  1 11:39  2L.50000.17.1.2.bim\n",
      "-rw------- 1 root root  17K Mar  1 11:39  2L.50000.17.1.2.fam\n",
      "drwx------ 2 root root 4.0K Mar  4 11:27  2L.50000.17.2.2.admixture\n",
      "-rw------- 1 root root  11M Mar  4 11:27  2L.50000.17.2.2.bed\n",
      "-rw------- 1 root root 1.4M Mar  4 11:27  2L.50000.17.2.2.bim\n",
      "-rw------- 1 root root  17K Mar  4 11:27  2L.50000.17.2.2.fam\n",
      "drwx------ 2 root root 4.0K Mar  3 09:31  2L.50000.34.0.17.admixture\n",
      "-rw------- 1 root root  11M Mar  3 09:31  2L.50000.34.0.17.bed\n",
      "-rw------- 1 root root 1.4M Mar  3 09:31  2L.50000.34.0.17.bim\n",
      "-rw------- 1 root root  17K Mar  3 09:31  2L.50000.34.0.17.fam\n",
      "drwx------ 2 root root 4.0K Mar  3 08:56  2L.50000.34.0.2.admixture\n",
      "-rw------- 1 root root  11M Mar  3 08:56  2L.50000.34.0.2.bed\n",
      "-rw------- 1 root root 1.4M Mar  3 08:56  2L.50000.34.0.2.bim\n",
      "-rw------- 1 root root  17K Mar  3 08:56  2L.50000.34.0.2.fam\n",
      "drwx------ 2 root root 4.0K Mar  3 08:24  2L.50000.84.0.17.admixture\n",
      "-rw------- 1 root root  11M Mar  3 08:24  2L.50000.84.0.17.bed\n",
      "-rw------- 1 root root 1.4M Mar  3 08:24  2L.50000.84.0.17.bim\n",
      "-rw------- 1 root root  17K Mar  3 08:24  2L.50000.84.0.17.fam\n",
      "drwx------ 2 root root 4.0K Mar  1 16:25  2L.50000.84.0.2.admixture\n",
      "-rw------- 1 root root  12M Mar  1 16:25  2L.50000.84.0.2.bed\n",
      "-rw------- 1 root root 1.5M Mar  1 16:25  2L.50000.84.0.2.bim\n",
      "-rw------- 1 root root  17K Mar  1 16:25  2L.50000.84.0.2.fam\n",
      "drwx------ 2 root root 4.0K Mar  3 07:14  2L.50000.84.1.2.admixture\n",
      "-rw------- 1 root root  12M Mar  3 07:14  2L.50000.84.1.2.bed\n",
      "-rw------- 1 root root 1.5M Mar  3 07:14  2L.50000.84.1.2.bim\n",
      "-rw------- 1 root root  17K Mar  3 07:14  2L.50000.84.1.2.fam\n",
      "-rw------- 1 root root  12K Feb 27 13:55  cohort_info.tsv\n",
      "-rw------- 1 root root 426K Mar  3 14:00  meta_incl_BF.tsv\n",
      "-rw------- 1 root root  172 Mar  4 13:00 'Revision analysis.gslides'\n"
     ]
    }
   ],
   "source": [
    "!ls -lh {results_dir}"
   ]
  },
  {
   "cell_type": "code",
   "execution_count": null,
   "metadata": {
    "colab": {
     "base_uri": "https://localhost:8080/"
    },
    "id": "WrvImmeEfvuW",
    "outputId": "2a73febe-5f82-4cb3-9d6a-21c07de4f8de"
   },
   "outputs": [
    {
     "name": "stdout",
     "output_type": "stream",
     "text": [
      "737M\tdrive/MyDrive/admixture-funestus\n"
     ]
    }
   ],
   "source": [
    "!du -hs {results_dir}"
   ]
  },
  {
   "cell_type": "code",
   "execution_count": null,
   "metadata": {
    "colab": {
     "base_uri": "https://localhost:8080/"
    },
    "id": "bG_mh7sLf0nt",
    "outputId": "0a7bc9ae-4672-4a4e-e1af-6cc880477309"
   },
   "outputs": [
    {
     "name": "stdout",
     "output_type": "stream",
     "text": [
      "du: cannot access '/tmp/gcs_cache': No such file or directory\n"
     ]
    }
   ],
   "source": [
    "!du -hs /tmp/gcs_cache"
   ]
  },
  {
   "cell_type": "code",
   "execution_count": null,
   "metadata": {
    "colab": {
     "base_uri": "https://localhost:8080/"
    },
    "id": "RgYXXmmuf2nL",
    "outputId": "134b5038-d209-4a45-f6f2-f72507c40948"
   },
   "outputs": [
    {
     "name": "stdout",
     "output_type": "stream",
     "text": [
      "--2025-03-05 09:04:00--  https://dalexander.github.io/admixture/binaries/admixture_linux-1.3.0.tar.gz\n",
      "Resolving dalexander.github.io (dalexander.github.io)... 185.199.108.153, 185.199.109.153, 185.199.110.153, ...\n",
      "Connecting to dalexander.github.io (dalexander.github.io)|185.199.108.153|:443... connected.\n",
      "HTTP request sent, awaiting response... 200 OK\n",
      "Length: 1916705 (1.8M) [application/gzip]\n",
      "Saving to: ‘admixture_linux-1.3.0.tar.gz’\n",
      "\n",
      "admixture_linux-1.3 100%[===================>]   1.83M  --.-KB/s    in 0.05s   \n",
      "\n",
      "2025-03-05 09:04:01 (35.5 MB/s) - ‘admixture_linux-1.3.0.tar.gz’ saved [1916705/1916705]\n",
      "\n"
     ]
    }
   ],
   "source": [
    "!wget --no-clobber https://dalexander.github.io/admixture/binaries/admixture_linux-1.3.0.tar.gz"
   ]
  },
  {
   "cell_type": "code",
   "execution_count": null,
   "metadata": {
    "colab": {
     "base_uri": "https://localhost:8080/"
    },
    "id": "NtJrYVDof6Np",
    "outputId": "b40a04ef-756d-4322-9674-d2303b764cfa"
   },
   "outputs": [
    {
     "name": "stdout",
     "output_type": "stream",
     "text": [
      "dist/admixture_linux-1.3.0/\n",
      "dist/admixture_linux-1.3.0/README.32.txt\n",
      "dist/admixture_linux-1.3.0/admixture\n",
      "dist/admixture_linux-1.3.0/admixture32\n",
      "dist/admixture_linux-1.3.0/admixture-manual.pdf\n"
     ]
    }
   ],
   "source": [
    "!tar zxvf admixture_linux-1.3.0.tar.gz"
   ]
  },
  {
   "cell_type": "code",
   "execution_count": null,
   "metadata": {
    "id": "1_oyy18Jf8pP"
   },
   "outputs": [],
   "source": [
    "!ln -s dist/admixture_linux-1.3.0/admixture"
   ]
  },
  {
   "cell_type": "code",
   "execution_count": null,
   "metadata": {
    "colab": {
     "base_uri": "https://localhost:8080/"
    },
    "id": "EHJDuDSif_Qm",
    "outputId": "a926acfb-ccea-47ae-91f7-00536cdfc2a5"
   },
   "outputs": [
    {
     "name": "stdout",
     "output_type": "stream",
     "text": [
      "****                   ADMIXTURE Version 1.3.0                  ****\n",
      "****                    Copyright 2008-2015                     ****\n",
      "****           David Alexander, Suyash Shringarpure,            ****\n",
      "****                John  Novembre, Ken Lange                   ****\n",
      "****                                                            ****\n",
      "****                 Please cite our paper!                     ****\n",
      "****   Information at www.genetics.ucla.edu/software/admixture  ****\n",
      "\n",
      "Usage: admixture <input file> <K>\n",
      "See --help or manual for more advanced usage.\n"
     ]
    }
   ],
   "source": [
    "!./admixture"
   ]
  },
  {
   "cell_type": "code",
   "execution_count": null,
   "metadata": {
    "colab": {
     "base_uri": "https://localhost:8080/"
    },
    "id": "5rhSBYZggB9k",
    "outputId": "2e721b16-adce-4421-e0e7-5e98f72baf06"
   },
   "outputs": [
    {
     "name": "stdout",
     "output_type": "stream",
     "text": [
      "****                   ADMIXTURE Version 1.3.0                  ****\n",
      "****                    Copyright 2008-2015                     ****\n",
      "****           David Alexander, Suyash Shringarpure,            ****\n",
      "****                John  Novembre, Ken Lange                   ****\n",
      "****                                                            ****\n",
      "****                 Please cite our paper!                     ****\n",
      "****   Information at www.genetics.ucla.edu/software/admixture  ****\n",
      "\n",
      "                                                                              \n",
      "  ADMIXTURE basic usage:  (see manual for complete reference)                 \n",
      "    % admixture [options] inputFile K                                         \n",
      "                                                                              \n",
      "  where:                                                                      \n",
      "    K is the number of populations; and                                       \n",
      "    inputFile may be:                                                         \n",
      "      - a PLINK .bed file                                                     \n",
      "      - a PLINK \"12\" coded .ped file                                        \n",
      "                                                                              \n",
      "  Output will be in files inputBasename.K.Q, inputBasename.K.P                \n",
      "                                                                              \n",
      "  General options:                                                            \n",
      "    -jX          : do computation on X threads                                \n",
      "    --seed=X     : use random seed X for initialization                       \n",
      "                                                                              \n",
      "  Algorithm options:                                                          \n",
      "     -m=                                                                      \n",
      "    --method=[em|block]     : set method.  block is default                   \n",
      "                                                                              \n",
      "     -a=                                                                      \n",
      "    --acceleration=none   |                                                   \n",
      "                   sqs<X> |                                                   \n",
      "                   qn<X>      : set acceleration                              \n",
      "                                                                              \n",
      "  Convergence criteria:                                                       \n",
      "    -C=X : set major convergence criterion (for point estimation)             \n",
      "    -c=x : set minor convergence criterion (for bootstrap and CV reestimates) \n",
      "                                                                              \n",
      "  Bootstrap standard errors:                                                  \n",
      "    -B[X]      : do bootstrapping [with X replicates]                         \n",
      "                                                                              \n",
      "                                                                              \n"
     ]
    }
   ],
   "source": [
    "!./admixture --help"
   ]
  },
  {
   "cell_type": "code",
   "execution_count": null,
   "metadata": {
    "id": "Kuv1HTtqgD5y"
   },
   "outputs": [],
   "source": [
    "def run_admixture(\n",
    "    sample_sets,\n",
    "    arm,\n",
    "    region,\n",
    "    n_snps,\n",
    "    thin_offset,\n",
    "    min_minor_ac,\n",
    "    max_missing_an,\n",
    "    K,\n",
    "    seed=42,\n",
    "):\n",
    "\n",
    "    plink_file_path = snp_calls_to_plink(\n",
    "        sample_sets=sample_sets, arm=arm, region=region, n_snps=n_snps,\n",
    "        min_minor_ac=min_minor_ac, thin_offset=thin_offset, max_missing_an=max_missing_an\n",
    "    )\n",
    "\n",
    "    bed_file_path = f\"{plink_file_path}.bed\"\n",
    "    fam_file_path = f\"{plink_file_path}.fam\"\n",
    "    admixture_dir = f\"{plink_file_path}.admixture/{seed}\"\n",
    "    !mkdir -pv {admixture_dir}\n",
    "    Q_file_path = f\"{admixture_dir}/{K}.Q\"\n",
    "    P_file_path = f\"{admixture_dir}/{K}.P\"\n",
    "    log_file_path = f\"{admixture_dir}/{K}.log\"\n",
    "\n",
    "    # run admixture if needed\n",
    "    if not os.path.exists(Q_file_path):\n",
    "        print(f\"building {admixture_dir} K={K}\")\n",
    "        !./admixture -j2 --cv --seed={seed} {bed_file_path} {K} > {log_file_path}\n",
    "        # move files to correct location\n",
    "        stem = plink_file_path.split(\"/\")[-1]\n",
    "        !mv -v {stem}.{K}.Q {Q_file_path}\n",
    "        !mv -v {stem}.{K}.P {P_file_path}\n",
    "\n",
    "    # load results - sample IDs\n",
    "    df_fam = pd.read_csv(\n",
    "        fam_file_path,\n",
    "        sep=\" \",\n",
    "        header=None,\n",
    "        names=[\"family_id\", \"sample_id\", \"father\", \"mother\", \"sex\", \"phenotype\"],\n",
    "        index_col=False,\n",
    "    )\n",
    "    samples = df_fam[\"sample_id\"]\n",
    "    df_samples = af1.sample_metadata(sample_sets=sample_sets)\n",
    "    df_samples = (\n",
    "        df_samples\n",
    "        .set_index(\"sample_id\")\n",
    "        .loc[samples]\n",
    "    )\n",
    "\n",
    "    # load results - ancestry fractions\n",
    "    df_q = pd.read_csv(\n",
    "        Q_file_path,\n",
    "        sep=\" \",\n",
    "        header=None,\n",
    "        names=[f\"pop{i}\" for i in range(K)],\n",
    "        index_col=False,\n",
    "    )\n",
    "    df_q[\"popmax\"] = df_q.idxmax(axis=\"columns\")\n",
    "    df_q[\"popmax_frac\"] = df_q.apply(lambda row: row[row[\"popmax\"]], axis=\"columns\")\n",
    "    df_q.set_index(samples, inplace=True)\n",
    "\n",
    "    df_out = df_q.join(df_samples).reset_index()\n",
    "    df_out.attrs[\"K\"] = K\n",
    "    return df_out"
   ]
  },
  {
   "cell_type": "code",
   "execution_count": null,
   "metadata": {
    "colab": {
     "base_uri": "https://localhost:8080/"
    },
    "id": "-JiaDfUoUnte",
    "outputId": "b3b90ff9-75b8-416b-9a55-329b52df6fdd"
   },
   "outputs": [
    {
     "name": "stdout",
     "output_type": "stream",
     "text": [
      "building drive/MyDrive/admixture-funestus/2L.50000.17.2.2.admixture/2323 K=7\n",
      "copied '2L.50000.17.2.2.7.Q' -> 'drive/MyDrive/admixture-funestus/2L.50000.17.2.2.admixture/2323/7.Q'\n",
      "removed '2L.50000.17.2.2.7.Q'\n",
      "copied '2L.50000.17.2.2.7.P' -> 'drive/MyDrive/admixture-funestus/2L.50000.17.2.2.admixture/2323/7.P'\n",
      "removed '2L.50000.17.2.2.7.P'\n",
      "building drive/MyDrive/admixture-funestus/2L.50000.17.2.2.admixture/2323 K=8\n",
      "copied '2L.50000.17.2.2.8.Q' -> 'drive/MyDrive/admixture-funestus/2L.50000.17.2.2.admixture/2323/8.Q'\n",
      "removed '2L.50000.17.2.2.8.Q'\n",
      "copied '2L.50000.17.2.2.8.P' -> 'drive/MyDrive/admixture-funestus/2L.50000.17.2.2.admixture/2323/8.P'\n",
      "removed '2L.50000.17.2.2.8.P'\n",
      "building drive/MyDrive/admixture-funestus/2L.50000.17.2.2.admixture/2323 K=9\n",
      "copied '2L.50000.17.2.2.9.Q' -> 'drive/MyDrive/admixture-funestus/2L.50000.17.2.2.admixture/2323/9.Q'\n",
      "removed '2L.50000.17.2.2.9.Q'\n",
      "copied '2L.50000.17.2.2.9.P' -> 'drive/MyDrive/admixture-funestus/2L.50000.17.2.2.admixture/2323/9.P'\n",
      "removed '2L.50000.17.2.2.9.P'\n",
      "building drive/MyDrive/admixture-funestus/2L.50000.17.2.2.admixture/2323 K=10\n"
     ]
    }
   ],
   "source": [
    "for thin_offset in [0,1,2]:\n",
    "  for seed in [42,64000,2323]:\n",
    "    for i in range(2,11):\n",
    "      run_admixture(\n",
    "                  sample_sets=['1.0', 'small-2023'],\n",
    "                  arm='2L',\n",
    "                  region='2RL:57,604,655-102,000,000',\n",
    "                  n_snps=50_000,\n",
    "                  thin_offset=thin_offset,\n",
    "                  min_minor_ac=17,\n",
    "                  max_missing_an=2,\n",
    "                  K=i,\n",
    "                  seed=seed)"
   ]
  }
 ],
 "metadata": {
  "colab": {
   "provenance": []
  },
  "kernelspec": {
   "display_name": "Python 3 (ipykernel)",
   "language": "python",
   "name": "python3"
  },
  "language_info": {
   "codemirror_mode": {
    "name": "ipython",
    "version": 3
   },
   "file_extension": ".py",
   "mimetype": "text/x-python",
   "name": "python",
   "nbconvert_exporter": "python",
   "pygments_lexer": "ipython3",
   "version": "3.10.11"
  }
 },
 "nbformat": 4,
 "nbformat_minor": 4
}
